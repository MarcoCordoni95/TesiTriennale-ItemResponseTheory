{
 "cells": [
  {
   "cell_type": "code",
   "execution_count": 1,
   "metadata": {
    "collapsed": true
   },
   "outputs": [],
   "source": [
    "# Questi comandi permettono di usare in Jupyter le librerie di R presenti nel CRAN (Comprehensive R Archive Network)\n",
    "country.code <- 'it'\n",
    "url.pattern <- 'https://'  \n",
    "repo.data.frame <- subset(getCRANmirrors(), CountryCode == country.code & grepl(url.pattern, URL))\n",
    "options(repos = repo.data.frame$URL)"
   ]
  },
  {
   "cell_type": "code",
   "execution_count": 2,
   "metadata": {},
   "outputs": [
    {
     "name": "stdout",
     "output_type": "stream",
     "text": [
      "package 'readxl' successfully unpacked and MD5 sums checked\n",
      "\n",
      "The downloaded binary packages are in\n",
      "\tC:\\Users\\Marco\\AppData\\Local\\Temp\\RtmpK6Vk4i\\downloaded_packages\n",
      "package 'ltm' successfully unpacked and MD5 sums checked\n",
      "\n",
      "The downloaded binary packages are in\n",
      "\tC:\\Users\\Marco\\AppData\\Local\\Temp\\RtmpK6Vk4i\\downloaded_packages\n"
     ]
    }
   ],
   "source": [
    "# Package utili: ltm per le funzioni di stima dei parametri e readxl per poter leggere file excel\n",
    "install.packages(\"readxl\")\n",
    "install.packages(\"ltm\")"
   ]
  },
  {
   "cell_type": "code",
   "execution_count": 3,
   "metadata": {},
   "outputs": [
    {
     "name": "stderr",
     "output_type": "stream",
     "text": [
      "Warning message:\n",
      "\"package 'readxl' was built under R version 3.4.2\"Warning message:\n",
      "\"package 'ltm' was built under R version 3.4.2\"Loading required package: MASS\n",
      "Loading required package: msm\n",
      "Loading required package: polycor\n"
     ]
    }
   ],
   "source": [
    "# Importo i package\n",
    "library(\"readxl\")\n",
    "library(\"ltm\")"
   ]
  },
  {
   "cell_type": "code",
   "execution_count": 4,
   "metadata": {
    "collapsed": true
   },
   "outputs": [],
   "source": [
    "#' Legge un file csv e imposta la prima colonna con i nomi degli studenti come indici della tabella \n",
    "#'\n",
    "#' @param path Percorso del file\n",
    "#' @return data frame corrispondente al file csv indicato\n",
    "#' @examples\n",
    "#' readCSV(\"file.csv\")\n",
    "#'\n",
    "#' readCSV(\"C:/Users/file.csv\")\n",
    "readCSV <- function(path) {\n",
    "  read.csv(path, row.names = 1)\n",
    "}\n",
    "\n",
    "#' Legge un file excel e imposta la prima colonna con i nomi degli studenti come indici della tabella \n",
    "#'\n",
    "#' @param path Percorso del file\n",
    "#' @return data frame corrispondente al file excel indicato\n",
    "#' @examples\n",
    "#' readEXCEl(\"file.xlsx\")\n",
    "#'\n",
    "#' readEXCEl(\"C:/Users/file.xlsx\")\n",
    "readEXCEl <- function(path) {\n",
    "    items <- read_excel(path)\n",
    "    items <- as.data.frame(items)\n",
    "    rownames(items) <- items[,1]\n",
    "    items <- items[,-1]\n",
    "    items\n",
    "}"
   ]
  },
  {
   "cell_type": "code",
   "execution_count": 5,
   "metadata": {},
   "outputs": [
    {
     "data": {
      "text/html": [
       "<table>\n",
       "<thead><tr><th></th><th scope=col>e1</th><th scope=col>e2</th><th scope=col>e3</th><th scope=col>e4</th><th scope=col>e5</th><th scope=col>e6</th><th scope=col>e7</th><th scope=col>e8</th><th scope=col>e9</th><th scope=col>e10</th></tr></thead>\n",
       "<tbody>\n",
       "\t<tr><th scope=row>S1</th><td>0</td><td>0</td><td>0</td><td>0</td><td>0</td><td>0</td><td>0</td><td>0</td><td>0</td><td>0</td></tr>\n",
       "\t<tr><th scope=row>S2</th><td>1</td><td>1</td><td>1</td><td>1</td><td>1</td><td>1</td><td>1</td><td>1</td><td>1</td><td>1</td></tr>\n",
       "\t<tr><th scope=row>S3</th><td>1</td><td>1</td><td>1</td><td>1</td><td>0</td><td>1</td><td>1</td><td>1</td><td>1</td><td>0</td></tr>\n",
       "\t<tr><th scope=row>S4</th><td>1</td><td>1</td><td>1</td><td>1</td><td>1</td><td>1</td><td>1</td><td>1</td><td>1</td><td>0</td></tr>\n",
       "\t<tr><th scope=row>S5</th><td>1</td><td>0</td><td>1</td><td>1</td><td>1</td><td>1</td><td>1</td><td>0</td><td>0</td><td>1</td></tr>\n",
       "\t<tr><th scope=row>S6</th><td>0</td><td>1</td><td>1</td><td>1</td><td>1</td><td>0</td><td>0</td><td>1</td><td>1</td><td>0</td></tr>\n",
       "\t<tr><th scope=row>S7</th><td>1</td><td>1</td><td>0</td><td>0</td><td>1</td><td>1</td><td>1</td><td>0</td><td>0</td><td>0</td></tr>\n",
       "\t<tr><th scope=row>S8</th><td>1</td><td>1</td><td>1</td><td>1</td><td>0</td><td>1</td><td>1</td><td>1</td><td>1</td><td>1</td></tr>\n",
       "\t<tr><th scope=row>S9</th><td>1</td><td>1</td><td>1</td><td>1</td><td>1</td><td>0</td><td>1</td><td>1</td><td>1</td><td>0</td></tr>\n",
       "\t<tr><th scope=row>S10</th><td>0</td><td>0</td><td>1</td><td>1</td><td>1</td><td>0</td><td>0</td><td>1</td><td>0</td><td>1</td></tr>\n",
       "\t<tr><th scope=row>S11</th><td>1</td><td>1</td><td>1</td><td>1</td><td>0</td><td>1</td><td>1</td><td>0</td><td>1</td><td>0</td></tr>\n",
       "\t<tr><th scope=row>S12</th><td>1</td><td>1</td><td>0</td><td>0</td><td>1</td><td>1</td><td>1</td><td>0</td><td>0</td><td>0</td></tr>\n",
       "\t<tr><th scope=row>S13</th><td>0</td><td>1</td><td>0</td><td>1</td><td>1</td><td>0</td><td>0</td><td>0</td><td>1</td><td>1</td></tr>\n",
       "\t<tr><th scope=row>S14</th><td>1</td><td>1</td><td>1</td><td>1</td><td>1</td><td>1</td><td>1</td><td>1</td><td>0</td><td>0</td></tr>\n",
       "\t<tr><th scope=row>S15</th><td>1</td><td>1</td><td>1</td><td>1</td><td>0</td><td>0</td><td>1</td><td>1</td><td>1</td><td>1</td></tr>\n",
       "\t<tr><th scope=row>S16</th><td>1</td><td>0</td><td>1</td><td>1</td><td>1</td><td>0</td><td>1</td><td>0</td><td>1</td><td>0</td></tr>\n",
       "\t<tr><th scope=row>S17</th><td>1</td><td>1</td><td>1</td><td>1</td><td>0</td><td>1</td><td>1</td><td>1</td><td>0</td><td>1</td></tr>\n",
       "\t<tr><th scope=row>S18</th><td>1</td><td>1</td><td>1</td><td>1</td><td>1</td><td>1</td><td>1</td><td>0</td><td>1</td><td>0</td></tr>\n",
       "\t<tr><th scope=row>S19</th><td>0</td><td>1</td><td>1</td><td>1</td><td>1</td><td>0</td><td>0</td><td>0</td><td>0</td><td>0</td></tr>\n",
       "\t<tr><th scope=row>S20</th><td>1</td><td>1</td><td>0</td><td>1</td><td>1</td><td>1</td><td>1</td><td>1</td><td>1</td><td>1</td></tr>\n",
       "\t<tr><th scope=row>S21</th><td>1</td><td>1</td><td>1</td><td>1</td><td>1</td><td>1</td><td>1</td><td>1</td><td>1</td><td>0</td></tr>\n",
       "\t<tr><th scope=row>S22</th><td>1</td><td>1</td><td>1</td><td>0</td><td>1</td><td>0</td><td>1</td><td>0</td><td>0</td><td>1</td></tr>\n",
       "\t<tr><th scope=row>S23</th><td>1</td><td>0</td><td>1</td><td>1</td><td>1</td><td>1</td><td>1</td><td>1</td><td>0</td><td>0</td></tr>\n",
       "\t<tr><th scope=row>S24</th><td>1</td><td>1</td><td>1</td><td>1</td><td>0</td><td>1</td><td>1</td><td>1</td><td>1</td><td>0</td></tr>\n",
       "\t<tr><th scope=row>S25</th><td>1</td><td>1</td><td>1</td><td>1</td><td>1</td><td>1</td><td>1</td><td>1</td><td>1</td><td>0</td></tr>\n",
       "</tbody>\n",
       "</table>\n"
      ],
      "text/latex": [
       "\\begin{tabular}{r|llllllllll}\n",
       "  & e1 & e2 & e3 & e4 & e5 & e6 & e7 & e8 & e9 & e10\\\\\n",
       "\\hline\n",
       "\tS1 & 0 & 0 & 0 & 0 & 0 & 0 & 0 & 0 & 0 & 0\\\\\n",
       "\tS2 & 1 & 1 & 1 & 1 & 1 & 1 & 1 & 1 & 1 & 1\\\\\n",
       "\tS3 & 1 & 1 & 1 & 1 & 0 & 1 & 1 & 1 & 1 & 0\\\\\n",
       "\tS4 & 1 & 1 & 1 & 1 & 1 & 1 & 1 & 1 & 1 & 0\\\\\n",
       "\tS5 & 1 & 0 & 1 & 1 & 1 & 1 & 1 & 0 & 0 & 1\\\\\n",
       "\tS6 & 0 & 1 & 1 & 1 & 1 & 0 & 0 & 1 & 1 & 0\\\\\n",
       "\tS7 & 1 & 1 & 0 & 0 & 1 & 1 & 1 & 0 & 0 & 0\\\\\n",
       "\tS8 & 1 & 1 & 1 & 1 & 0 & 1 & 1 & 1 & 1 & 1\\\\\n",
       "\tS9 & 1 & 1 & 1 & 1 & 1 & 0 & 1 & 1 & 1 & 0\\\\\n",
       "\tS10 & 0 & 0 & 1 & 1 & 1 & 0 & 0 & 1 & 0 & 1\\\\\n",
       "\tS11 & 1 & 1 & 1 & 1 & 0 & 1 & 1 & 0 & 1 & 0\\\\\n",
       "\tS12 & 1 & 1 & 0 & 0 & 1 & 1 & 1 & 0 & 0 & 0\\\\\n",
       "\tS13 & 0 & 1 & 0 & 1 & 1 & 0 & 0 & 0 & 1 & 1\\\\\n",
       "\tS14 & 1 & 1 & 1 & 1 & 1 & 1 & 1 & 1 & 0 & 0\\\\\n",
       "\tS15 & 1 & 1 & 1 & 1 & 0 & 0 & 1 & 1 & 1 & 1\\\\\n",
       "\tS16 & 1 & 0 & 1 & 1 & 1 & 0 & 1 & 0 & 1 & 0\\\\\n",
       "\tS17 & 1 & 1 & 1 & 1 & 0 & 1 & 1 & 1 & 0 & 1\\\\\n",
       "\tS18 & 1 & 1 & 1 & 1 & 1 & 1 & 1 & 0 & 1 & 0\\\\\n",
       "\tS19 & 0 & 1 & 1 & 1 & 1 & 0 & 0 & 0 & 0 & 0\\\\\n",
       "\tS20 & 1 & 1 & 0 & 1 & 1 & 1 & 1 & 1 & 1 & 1\\\\\n",
       "\tS21 & 1 & 1 & 1 & 1 & 1 & 1 & 1 & 1 & 1 & 0\\\\\n",
       "\tS22 & 1 & 1 & 1 & 0 & 1 & 0 & 1 & 0 & 0 & 1\\\\\n",
       "\tS23 & 1 & 0 & 1 & 1 & 1 & 1 & 1 & 1 & 0 & 0\\\\\n",
       "\tS24 & 1 & 1 & 1 & 1 & 0 & 1 & 1 & 1 & 1 & 0\\\\\n",
       "\tS25 & 1 & 1 & 1 & 1 & 1 & 1 & 1 & 1 & 1 & 0\\\\\n",
       "\\end{tabular}\n"
      ],
      "text/markdown": [
       "\n",
       "| <!--/--> | e1 | e2 | e3 | e4 | e5 | e6 | e7 | e8 | e9 | e10 | \n",
       "|---|---|---|---|---|---|---|---|---|---|---|---|---|---|---|---|---|---|---|---|---|---|---|---|---|\n",
       "| S1 | 0 | 0 | 0 | 0 | 0 | 0 | 0 | 0 | 0 | 0 | \n",
       "| S2 | 1 | 1 | 1 | 1 | 1 | 1 | 1 | 1 | 1 | 1 | \n",
       "| S3 | 1 | 1 | 1 | 1 | 0 | 1 | 1 | 1 | 1 | 0 | \n",
       "| S4 | 1 | 1 | 1 | 1 | 1 | 1 | 1 | 1 | 1 | 0 | \n",
       "| S5 | 1 | 0 | 1 | 1 | 1 | 1 | 1 | 0 | 0 | 1 | \n",
       "| S6 | 0 | 1 | 1 | 1 | 1 | 0 | 0 | 1 | 1 | 0 | \n",
       "| S7 | 1 | 1 | 0 | 0 | 1 | 1 | 1 | 0 | 0 | 0 | \n",
       "| S8 | 1 | 1 | 1 | 1 | 0 | 1 | 1 | 1 | 1 | 1 | \n",
       "| S9 | 1 | 1 | 1 | 1 | 1 | 0 | 1 | 1 | 1 | 0 | \n",
       "| S10 | 0 | 0 | 1 | 1 | 1 | 0 | 0 | 1 | 0 | 1 | \n",
       "| S11 | 1 | 1 | 1 | 1 | 0 | 1 | 1 | 0 | 1 | 0 | \n",
       "| S12 | 1 | 1 | 0 | 0 | 1 | 1 | 1 | 0 | 0 | 0 | \n",
       "| S13 | 0 | 1 | 0 | 1 | 1 | 0 | 0 | 0 | 1 | 1 | \n",
       "| S14 | 1 | 1 | 1 | 1 | 1 | 1 | 1 | 1 | 0 | 0 | \n",
       "| S15 | 1 | 1 | 1 | 1 | 0 | 0 | 1 | 1 | 1 | 1 | \n",
       "| S16 | 1 | 0 | 1 | 1 | 1 | 0 | 1 | 0 | 1 | 0 | \n",
       "| S17 | 1 | 1 | 1 | 1 | 0 | 1 | 1 | 1 | 0 | 1 | \n",
       "| S18 | 1 | 1 | 1 | 1 | 1 | 1 | 1 | 0 | 1 | 0 | \n",
       "| S19 | 0 | 1 | 1 | 1 | 1 | 0 | 0 | 0 | 0 | 0 | \n",
       "| S20 | 1 | 1 | 0 | 1 | 1 | 1 | 1 | 1 | 1 | 1 | \n",
       "| S21 | 1 | 1 | 1 | 1 | 1 | 1 | 1 | 1 | 1 | 0 | \n",
       "| S22 | 1 | 1 | 1 | 0 | 1 | 0 | 1 | 0 | 0 | 1 | \n",
       "| S23 | 1 | 0 | 1 | 1 | 1 | 1 | 1 | 1 | 0 | 0 | \n",
       "| S24 | 1 | 1 | 1 | 1 | 0 | 1 | 1 | 1 | 1 | 0 | \n",
       "| S25 | 1 | 1 | 1 | 1 | 1 | 1 | 1 | 1 | 1 | 0 | \n",
       "\n",
       "\n"
      ],
      "text/plain": [
       "    e1 e2 e3 e4 e5 e6 e7 e8 e9 e10\n",
       "S1  0  0  0  0  0  0  0  0  0  0  \n",
       "S2  1  1  1  1  1  1  1  1  1  1  \n",
       "S3  1  1  1  1  0  1  1  1  1  0  \n",
       "S4  1  1  1  1  1  1  1  1  1  0  \n",
       "S5  1  0  1  1  1  1  1  0  0  1  \n",
       "S6  0  1  1  1  1  0  0  1  1  0  \n",
       "S7  1  1  0  0  1  1  1  0  0  0  \n",
       "S8  1  1  1  1  0  1  1  1  1  1  \n",
       "S9  1  1  1  1  1  0  1  1  1  0  \n",
       "S10 0  0  1  1  1  0  0  1  0  1  \n",
       "S11 1  1  1  1  0  1  1  0  1  0  \n",
       "S12 1  1  0  0  1  1  1  0  0  0  \n",
       "S13 0  1  0  1  1  0  0  0  1  1  \n",
       "S14 1  1  1  1  1  1  1  1  0  0  \n",
       "S15 1  1  1  1  0  0  1  1  1  1  \n",
       "S16 1  0  1  1  1  0  1  0  1  0  \n",
       "S17 1  1  1  1  0  1  1  1  0  1  \n",
       "S18 1  1  1  1  1  1  1  0  1  0  \n",
       "S19 0  1  1  1  1  0  0  0  0  0  \n",
       "S20 1  1  0  1  1  1  1  1  1  1  \n",
       "S21 1  1  1  1  1  1  1  1  1  0  \n",
       "S22 1  1  1  0  1  0  1  0  0  1  \n",
       "S23 1  0  1  1  1  1  1  1  0  0  \n",
       "S24 1  1  1  1  0  1  1  1  1  0  \n",
       "S25 1  1  1  1  1  1  1  1  1  0  "
      ]
     },
     "metadata": {},
     "output_type": "display_data"
    }
   ],
   "source": [
    "# Importo la tabella dicotomica\n",
    "datiDichot <- readEXCEl(\"EsameDic.xlsx\")\n",
    "datiDichot"
   ]
  },
  {
   "cell_type": "code",
   "execution_count": 6,
   "metadata": {
    "collapsed": true
   },
   "outputs": [],
   "source": [
    "#' Modifica la dimensione dei grafici\n",
    "#'\n",
    "#' @param width Larghezza dei grafici\n",
    "#' @param height Altezza dei grafici\n",
    "#' @examples\n",
    "#' width <- 7\n",
    "#' height <- 5\n",
    "#' sizePlot(width, height)\n",
    "sizePlot <- function(width, height) {\n",
    "    options(repr.plot.width = width, repr.plot.height = height)\n",
    "}\n",
    "\n",
    "#' Rimpiazza i valori NA presenti nella tabella passata con 0\n",
    "#'\n",
    "#' @param items Tabella dicotomica avente una riga per studente e una colonna per esercizio\n",
    "#' @return Tabella dicotomica avente una riga per studente e una colonna per esercizio a cui sono stati sostituiti i NA con 0\n",
    "#' @examples\n",
    "#' items <- readEXCEl(\"file.xlsx\")\n",
    "#' replaceNaWithZero(items)\n",
    "replaceNaWithZero <- function(items) {\n",
    "    aux <- items\n",
    "    aux[is.na(aux)] <- 0\n",
    "    aux\n",
    "}\n",
    "\n",
    "#' Stima le difficoltà degli esercizi senza porre vincoli sul valore del discriminante\n",
    "#'\n",
    "#' @param items Tabella dicotomica avente una riga per studente e una colonna per esercizio\n",
    "#' @param forNA Definisce il comportamento in caso di NA, di default è NULL quindi vengono rimossi prima della computazione, \n",
    "#' se si usasse forNA = na.exclude la stima verrebbe effettuata eliminando le righe in cui è presente almeno un NA\n",
    "#' @return Vettore di difficoltà stimate\n",
    "#' @examples\n",
    "#' items <- readEXCEl(\"file.xlsx\")\n",
    "#' estimateDifficultiesDichotFreeDiscrim(items)\n",
    "estimateDifficultiesDichotFreeDiscrim <- function(items, forNA = NULL) {\n",
    "    param <- rasch(items, na.action = forNA)\n",
    "    tab <- coef(param)\n",
    "    array(tab[,\"Dffclt\"])\n",
    "}\n",
    "\n",
    "#' Stima le difficoltà degli esercizi ponendo il discriminante ad 1\n",
    "#'\n",
    "#' @param items Tabella dicotomica avente una riga per studente e una colonna per esercizio\n",
    "#' @param forNA Definisce il comportamento in caso di NA, di default è NULL quindi vengono rimossi prima della computazione, \n",
    "#' se si usasse forNA = na.exclude la stima verrebbe effettuata eliminando le righe in cui è presente almeno un NA\n",
    "#' @return Vettore di difficoltà stimate\n",
    "#' @examples\n",
    "#' items <- readEXCEl(\"file.xlsx\")\n",
    "#' estimateDifficultiesDichotOneDiscrim(items)\n",
    "estimateDifficultiesDichotOneDiscrim <- function(items,  forNA = NULL) {\n",
    "    param <- rasch(items, constraint = cbind(ncol(items) + 1, 1), na.action = forNA)\n",
    "    tab <- coef(param)\n",
    "    array(tab[,\"Dffclt\"])\n",
    "}\n",
    "\n",
    "#' Genera un grafico per mostrare il livello di difficoltà di ciascun esercizio \n",
    "#'\n",
    "#' @param items Tabella dicotomica avente una riga per studente e una colonna per esercizio\n",
    "#' @param diff Vettore di difficoltà\n",
    "#' @param color Colore del grafico, di default è rosso\n",
    "#' @examples\n",
    "#' items <- readEXCEl(\"file.xlsx\")\n",
    "#' diff <- estimateDifficultiesDichotOneDiscrim(items)\n",
    "#' plotDifficultiesDichot(items, diff)\n",
    "plotDifficultiesDichot <- function(items, diff, color = \"red\", name = \"Difficulties plot\") {\n",
    "    nItems <- length(diff)\n",
    "    plot(diff,xlim=c(1,nItems),ylim=c(-5,5),type=\"b\",main=name,xlab=\"Items\",ylab=\"Difficulty\",xaxt=\"n\",col=color,pch=16,lwd=2)\n",
    "    axis(1, at=1:nItems, labels=names(items))\n",
    "    par(new = TRUE)\n",
    "    plot(diff + 4.7, type = \"h\", xlim = c(1,nItems),ylim = c(0,10), xaxt='n', yaxt = \"n\", xlab = \"\", ylab = \"\", lty = 2)\n",
    "}\n",
    "\n",
    "#' Stima le abilità degli studenti\n",
    "#'\n",
    "#' @param items Tabella dicotomica avente una riga per studente e una colonna per esercizio\n",
    "#' @return Vettore di abilità stimate\n",
    "#' @examples\n",
    "#' items <- readEXCEl(\"file.xlsx\")\n",
    "#' estimateAbilitiesDichot(items)\n",
    "estimateAbilitiesDichot <- function(items) {\n",
    "    fit <- rasch(items)\n",
    "    fs <- factor.scores(fit, resp.patterns = items)\n",
    "    array(unlist(fs$score.dat[\"z1\"]))\n",
    "}\n",
    "\n",
    "#' Genera un istogramma per mostrare il livello di abilità degli studenti e la relativa quantità\n",
    "#'\n",
    "#' @param abil Vettore di abilità\n",
    "#' @param start Primo valore sull'asse x\n",
    "#' @param end Ultimo valore sull'asse x\n",
    "#' @param by Intervallo tra le celle dell'istogramma \n",
    "#' @examples\n",
    "#' items <- readEXCEl(\"file.xlsx\")\n",
    "#' abil <- estimateAbilitiesDichot(items)\n",
    "#' plotDifficultiesDichot(abil)\n",
    "plotAbilitiesDichot <- function(abil, start, end, by) {\n",
    "    hist(abil,main=\"Ability histogram\",xlab=\"Ability\",ylab=\"Students\",breaks=seq(start,end,by),xlim=c(start,end),col=\"royalblue3\")\n",
    "    axis(1, at=seq(start, end, by), labels=seq(start, end, by))        \n",
    "}"
   ]
  },
  {
   "cell_type": "code",
   "execution_count": 7,
   "metadata": {
    "collapsed": true
   },
   "outputs": [],
   "source": [
    "#' Attraverso la tecnica di bootstrapping seleziona randomicamente n righe dalla matrice dicotomica, questa funzione è utlile \n",
    "#' se si dispone di pochi soggetti perchè in caso di una scarsa quantità di osservazioni lo stimatore potrebbe non covergere\n",
    "#'\n",
    "#' @param items Tabella dicotomica avente una riga per studente e una colonna per esercizio\n",
    "#' @param n Numero di estrazioni\n",
    "#' @return Data frame di difficoltà stimate dalla tabella generata dalle estrazioni casuali\n",
    "#' @examples\n",
    "#' items <- readEXCEl(\"file.xlsx\")\n",
    "#' bootstrapping(items)\n",
    "bootstrapping <- function(items, n = 500) {\n",
    "    idxs <- sample(1:nrow(items), n, replace = TRUE)\n",
    "    items[idxs,]\n",
    "}"
   ]
  },
  {
   "cell_type": "code",
   "execution_count": 8,
   "metadata": {
    "scrolled": false
   },
   "outputs": [
    {
     "data": {
      "image/png": "[encoded data removed]",
      "text/plain": [
       "Plot with title \"Difficulties plot\""
      ]
     },
     "metadata": {},
     "output_type": "display_data"
    },
    {
     "data": {
      "image/png": "[encoded data removed]",
      "text/plain": [
       "Plot with title \"Ability histogram\""
      ]
     },
     "metadata": {},
     "output_type": "display_data"
    }
   ],
   "source": [
    "# Modifico la dimensione dei grafici\n",
    "width <- 7\n",
    "height <- 5\n",
    "sizePlot(width, height)\n",
    "\n",
    "# Bootstrapping\n",
    "numExtractions <- 300\n",
    "bottDatiDichot <- bootstrapping(datiDichot, numExtractions)\n",
    "\n",
    "# Stimo le difficoltà con entrambi i metodi\n",
    "difficDichotF <- estimateDifficultiesDichotFreeDiscrim(bottDatiDichot)\n",
    "difficDichotO <- estimateDifficultiesDichotOneDiscrim(bottDatiDichot)\n",
    "\n",
    "# Visualizzo e confronto i grafici relativi alle difficoltà stimate con entrambi i metodi\n",
    "plotDifficultiesDichot(datiDichot, difficDichotF)\n",
    "par(new = TRUE)\n",
    "plotDifficultiesDichot(datiDichot, difficDichotO, color = \"blue\")\n",
    "legend(1, 10, legend=c(\"Difficoltà con discriminante non vincolato\", \"Difficoltà con discriminante vincolato ad 1\"), col=c(\"red\", \"blue\"), lty=1, cex=1, lwd=2, pch=16)\n",
    "\n",
    "# Stimo le abilità e visualizzo il relativo grafico\n",
    "abil <- estimateAbilitiesDichot(datiDichot)\n",
    "plotAbilitiesDichot(abil, start = -3, end = 2, by = 0.5)"
   ]
  },
  {
   "cell_type": "code",
   "execution_count": 9,
   "metadata": {
    "collapsed": true
   },
   "outputs": [],
   "source": [
    "#' Calcola la probabilità che uno studente risolva correttamente un esercizio\n",
    "#'\n",
    "#' @param ability Abilità dello studente\n",
    "#' @param difficulty Difficoltà dell'esercizio\n",
    "#' @return Probabilità di rispondere correttamente, compresa tra 0 e 1\n",
    "#' @examples\n",
    "#' ability <- 2\n",
    "#' difficulty <- 1\n",
    "#' pl1(ability, difficulty)\n",
    "pl1 <- function(ability, difficulty) {\n",
    "    exp(ability - difficulty) / (1 + exp(ability - difficulty))\n",
    "}\n",
    "\n",
    "#' Determina la probabilità per ogni studente di risolvere correttamente ogni esercizio\n",
    "#'\n",
    "#' @param items Tabella dicotomica avente una riga per studente e una colonna per esercizio\n",
    "#' @param diff Vettore di difficoltà\n",
    "#' @param abil Vettore di abilità\n",
    "#' @return Data frame di probabilità\n",
    "#' @examples\n",
    "#' items <- readEXCEl(\"file.xlsx\")\n",
    "#' diff <- estimateDifficultiesDichotFreeDiscrim(items)\n",
    "#' abil <- estimateAbilitiesDichot(items)\n",
    "#' calcProbabilites(items, diff, abil)\n",
    "calcProbabilites <- function(items, diff, abil) {   \n",
    "    probDf <- items\n",
    "    namesCol <- names(probDf)\n",
    "    namesRow <- row.names(probDf)\n",
    "    j <- 1\n",
    "    for (row in namesRow) {\n",
    "        i <- 1\n",
    "        for (col in namesCol) {\n",
    "            prob <- pl1(abil[j],diff[i])\n",
    "            probDf[row,col] <- prob          \n",
    "            i <- i + 1\n",
    "        }\n",
    "        j <- j + 1\n",
    "    }\n",
    "    probDf\n",
    "}\n",
    "\n",
    "\n",
    "#' Migliora la lettura della tabella delle probabilità per l'utente\n",
    "#'\n",
    "#' @param df Data frame di probabilità, output della funzione calcProbabilites\n",
    "#' @return Data frame di probabilità da 0 a 100\n",
    "#' @examples\n",
    "#' items <- readEXCEl(\"file.xlsx\")\n",
    "#' diff <- estimateDifficultiesDichotFreeDiscrim(items)\n",
    "#' abil <- estimateAbilitiesDichot(items)\n",
    "#' dfProb <- calcProbabilites(items, diff, abil)\n",
    "#' showProbabilities(dfProb)\n",
    "showProbabilities <- function(df){\n",
    "    aux <- trunc(df*100)\n",
    "    aux <- data.frame(lapply(aux, function(p) paste(p, \"%\")))\n",
    "    row.names(aux) <- row.names(df)\n",
    "    aux\n",
    "}"
   ]
  },
  {
   "cell_type": "code",
   "execution_count": 10,
   "metadata": {},
   "outputs": [
    {
     "data": {
      "text/html": [
       "<table>\n",
       "<thead><tr><th></th><th scope=col>e1</th><th scope=col>e2</th><th scope=col>e3</th><th scope=col>e4</th><th scope=col>e5</th><th scope=col>e6</th><th scope=col>e7</th><th scope=col>e8</th><th scope=col>e9</th><th scope=col>e10</th></tr></thead>\n",
       "<tbody>\n",
       "\t<tr><th scope=row>S1</th><td>27 %</td><td>36 %</td><td>28 %</td><td>35 %</td><td>18 %</td><td>12 %</td><td>27 %</td><td>12 %</td><td>12 %</td><td>5 % </td></tr>\n",
       "\t<tr><th scope=row>S2</th><td>93 %</td><td>95 %</td><td>93 %</td><td>95 %</td><td>88 %</td><td>83 %</td><td>93 %</td><td>83 %</td><td>83 %</td><td>67 %</td></tr>\n",
       "\t<tr><th scope=row>S3</th><td>84 %</td><td>89 %</td><td>85 %</td><td>88 %</td><td>76 %</td><td>67 %</td><td>84 %</td><td>68 %</td><td>67 %</td><td>45 %</td></tr>\n",
       "\t<tr><th scope=row>S4</th><td>89 %</td><td>92 %</td><td>89 %</td><td>92 %</td><td>83 %</td><td>76 %</td><td>89 %</td><td>76 %</td><td>75 %</td><td>55 %</td></tr>\n",
       "\t<tr><th scope=row>S5</th><td>79 %</td><td>85 %</td><td>80 %</td><td>84 %</td><td>68 %</td><td>59 %</td><td>79 %</td><td>59 %</td><td>58 %</td><td>36 %</td></tr>\n",
       "\t<tr><th scope=row>S6</th><td>73 %</td><td>80 %</td><td>74 %</td><td>79 %</td><td>61 %</td><td>50 %</td><td>73 %</td><td>51 %</td><td>50 %</td><td>28 %</td></tr>\n",
       "\t<tr><th scope=row>S7</th><td>66 %</td><td>74 %</td><td>67 %</td><td>73 %</td><td>53 %</td><td>42 %</td><td>66 %</td><td>42 %</td><td>42 %</td><td>22 %</td></tr>\n",
       "\t<tr><th scope=row>S8</th><td>89 %</td><td>92 %</td><td>89 %</td><td>92 %</td><td>83 %</td><td>76 %</td><td>89 %</td><td>76 %</td><td>75 %</td><td>55 %</td></tr>\n",
       "\t<tr><th scope=row>S9</th><td>84 %</td><td>89 %</td><td>85 %</td><td>88 %</td><td>76 %</td><td>67 %</td><td>84 %</td><td>68 %</td><td>67 %</td><td>45 %</td></tr>\n",
       "\t<tr><th scope=row>S10</th><td>66 %</td><td>74 %</td><td>67 %</td><td>73 %</td><td>53 %</td><td>42 %</td><td>66 %</td><td>42 %</td><td>42 %</td><td>22 %</td></tr>\n",
       "\t<tr><th scope=row>S11</th><td>79 %</td><td>85 %</td><td>80 %</td><td>84 %</td><td>68 %</td><td>59 %</td><td>79 %</td><td>59 %</td><td>58 %</td><td>36 %</td></tr>\n",
       "\t<tr><th scope=row>S12</th><td>66 %</td><td>74 %</td><td>67 %</td><td>73 %</td><td>53 %</td><td>42 %</td><td>66 %</td><td>42 %</td><td>42 %</td><td>22 %</td></tr>\n",
       "\t<tr><th scope=row>S13</th><td>66 %</td><td>74 %</td><td>67 %</td><td>73 %</td><td>53 %</td><td>42 %</td><td>66 %</td><td>42 %</td><td>42 %</td><td>22 %</td></tr>\n",
       "\t<tr><th scope=row>S14</th><td>84 %</td><td>89 %</td><td>85 %</td><td>88 %</td><td>76 %</td><td>67 %</td><td>84 %</td><td>68 %</td><td>67 %</td><td>45 %</td></tr>\n",
       "\t<tr><th scope=row>S15</th><td>84 %</td><td>89 %</td><td>85 %</td><td>88 %</td><td>76 %</td><td>67 %</td><td>84 %</td><td>68 %</td><td>67 %</td><td>45 %</td></tr>\n",
       "\t<tr><th scope=row>S16</th><td>73 %</td><td>80 %</td><td>74 %</td><td>79 %</td><td>61 %</td><td>50 %</td><td>73 %</td><td>51 %</td><td>50 %</td><td>28 %</td></tr>\n",
       "\t<tr><th scope=row>S17</th><td>84 %</td><td>89 %</td><td>85 %</td><td>88 %</td><td>76 %</td><td>67 %</td><td>84 %</td><td>68 %</td><td>67 %</td><td>45 %</td></tr>\n",
       "\t<tr><th scope=row>S18</th><td>84 %</td><td>89 %</td><td>85 %</td><td>88 %</td><td>76 %</td><td>67 %</td><td>84 %</td><td>68 %</td><td>67 %</td><td>45 %</td></tr>\n",
       "\t<tr><th scope=row>S19</th><td>59 %</td><td>67 %</td><td>60 %</td><td>67 %</td><td>45 %</td><td>35 %</td><td>59 %</td><td>35 %</td><td>34 %</td><td>17 %</td></tr>\n",
       "\t<tr><th scope=row>S20</th><td>89 %</td><td>92 %</td><td>89 %</td><td>92 %</td><td>83 %</td><td>76 %</td><td>89 %</td><td>76 %</td><td>75 %</td><td>55 %</td></tr>\n",
       "\t<tr><th scope=row>S21</th><td>89 %</td><td>92 %</td><td>89 %</td><td>92 %</td><td>83 %</td><td>76 %</td><td>89 %</td><td>76 %</td><td>75 %</td><td>55 %</td></tr>\n",
       "\t<tr><th scope=row>S22</th><td>73 %</td><td>80 %</td><td>74 %</td><td>79 %</td><td>61 %</td><td>50 %</td><td>73 %</td><td>51 %</td><td>50 %</td><td>28 %</td></tr>\n",
       "\t<tr><th scope=row>S23</th><td>79 %</td><td>85 %</td><td>80 %</td><td>84 %</td><td>68 %</td><td>59 %</td><td>79 %</td><td>59 %</td><td>58 %</td><td>36 %</td></tr>\n",
       "\t<tr><th scope=row>S24</th><td>84 %</td><td>89 %</td><td>85 %</td><td>88 %</td><td>76 %</td><td>67 %</td><td>84 %</td><td>68 %</td><td>67 %</td><td>45 %</td></tr>\n",
       "\t<tr><th scope=row>S25</th><td>89 %</td><td>92 %</td><td>89 %</td><td>92 %</td><td>83 %</td><td>76 %</td><td>89 %</td><td>76 %</td><td>75 %</td><td>55 %</td></tr>\n",
       "</tbody>\n",
       "</table>\n"
      ],
      "text/latex": [
       "\\begin{tabular}{r|llllllllll}\n",
       "  & e1 & e2 & e3 & e4 & e5 & e6 & e7 & e8 & e9 & e10\\\\\n",
       "\\hline\n",
       "\tS1 & 27 \\% & 36 \\% & 28 \\% & 35 \\% & 18 \\% & 12 \\% & 27 \\% & 12 \\% & 12 \\% & 5 \\% \\\\\n",
       "\tS2 & 93 \\% & 95 \\% & 93 \\% & 95 \\% & 88 \\% & 83 \\% & 93 \\% & 83 \\% & 83 \\% & 67 \\%\\\\\n",
       "\tS3 & 84 \\% & 89 \\% & 85 \\% & 88 \\% & 76 \\% & 67 \\% & 84 \\% & 68 \\% & 67 \\% & 45 \\%\\\\\n",
       "\tS4 & 89 \\% & 92 \\% & 89 \\% & 92 \\% & 83 \\% & 76 \\% & 89 \\% & 76 \\% & 75 \\% & 55 \\%\\\\\n",
       "\tS5 & 79 \\% & 85 \\% & 80 \\% & 84 \\% & 68 \\% & 59 \\% & 79 \\% & 59 \\% & 58 \\% & 36 \\%\\\\\n",
       "\tS6 & 73 \\% & 80 \\% & 74 \\% & 79 \\% & 61 \\% & 50 \\% & 73 \\% & 51 \\% & 50 \\% & 28 \\%\\\\\n",
       "\tS7 & 66 \\% & 74 \\% & 67 \\% & 73 \\% & 53 \\% & 42 \\% & 66 \\% & 42 \\% & 42 \\% & 22 \\%\\\\\n",
       "\tS8 & 89 \\% & 92 \\% & 89 \\% & 92 \\% & 83 \\% & 76 \\% & 89 \\% & 76 \\% & 75 \\% & 55 \\%\\\\\n",
       "\tS9 & 84 \\% & 89 \\% & 85 \\% & 88 \\% & 76 \\% & 67 \\% & 84 \\% & 68 \\% & 67 \\% & 45 \\%\\\\\n",
       "\tS10 & 66 \\% & 74 \\% & 67 \\% & 73 \\% & 53 \\% & 42 \\% & 66 \\% & 42 \\% & 42 \\% & 22 \\%\\\\\n",
       "\tS11 & 79 \\% & 85 \\% & 80 \\% & 84 \\% & 68 \\% & 59 \\% & 79 \\% & 59 \\% & 58 \\% & 36 \\%\\\\\n",
       "\tS12 & 66 \\% & 74 \\% & 67 \\% & 73 \\% & 53 \\% & 42 \\% & 66 \\% & 42 \\% & 42 \\% & 22 \\%\\\\\n",
       "\tS13 & 66 \\% & 74 \\% & 67 \\% & 73 \\% & 53 \\% & 42 \\% & 66 \\% & 42 \\% & 42 \\% & 22 \\%\\\\\n",
       "\tS14 & 84 \\% & 89 \\% & 85 \\% & 88 \\% & 76 \\% & 67 \\% & 84 \\% & 68 \\% & 67 \\% & 45 \\%\\\\\n",
       "\tS15 & 84 \\% & 89 \\% & 85 \\% & 88 \\% & 76 \\% & 67 \\% & 84 \\% & 68 \\% & 67 \\% & 45 \\%\\\\\n",
       "\tS16 & 73 \\% & 80 \\% & 74 \\% & 79 \\% & 61 \\% & 50 \\% & 73 \\% & 51 \\% & 50 \\% & 28 \\%\\\\\n",
       "\tS17 & 84 \\% & 89 \\% & 85 \\% & 88 \\% & 76 \\% & 67 \\% & 84 \\% & 68 \\% & 67 \\% & 45 \\%\\\\\n",
       "\tS18 & 84 \\% & 89 \\% & 85 \\% & 88 \\% & 76 \\% & 67 \\% & 84 \\% & 68 \\% & 67 \\% & 45 \\%\\\\\n",
       "\tS19 & 59 \\% & 67 \\% & 60 \\% & 67 \\% & 45 \\% & 35 \\% & 59 \\% & 35 \\% & 34 \\% & 17 \\%\\\\\n",
       "\tS20 & 89 \\% & 92 \\% & 89 \\% & 92 \\% & 83 \\% & 76 \\% & 89 \\% & 76 \\% & 75 \\% & 55 \\%\\\\\n",
       "\tS21 & 89 \\% & 92 \\% & 89 \\% & 92 \\% & 83 \\% & 76 \\% & 89 \\% & 76 \\% & 75 \\% & 55 \\%\\\\\n",
       "\tS22 & 73 \\% & 80 \\% & 74 \\% & 79 \\% & 61 \\% & 50 \\% & 73 \\% & 51 \\% & 50 \\% & 28 \\%\\\\\n",
       "\tS23 & 79 \\% & 85 \\% & 80 \\% & 84 \\% & 68 \\% & 59 \\% & 79 \\% & 59 \\% & 58 \\% & 36 \\%\\\\\n",
       "\tS24 & 84 \\% & 89 \\% & 85 \\% & 88 \\% & 76 \\% & 67 \\% & 84 \\% & 68 \\% & 67 \\% & 45 \\%\\\\\n",
       "\tS25 & 89 \\% & 92 \\% & 89 \\% & 92 \\% & 83 \\% & 76 \\% & 89 \\% & 76 \\% & 75 \\% & 55 \\%\\\\\n",
       "\\end{tabular}\n"
      ],
      "text/markdown": [
       "\n",
       "| <!--/--> | e1 | e2 | e3 | e4 | e5 | e6 | e7 | e8 | e9 | e10 | \n",
       "|---|---|---|---|---|---|---|---|---|---|---|---|---|---|---|---|---|---|---|---|---|---|---|---|---|\n",
       "| S1 | 27 % | 36 % | 28 % | 35 % | 18 % | 12 % | 27 % | 12 % | 12 % | 5 %  | \n",
       "| S2 | 93 % | 95 % | 93 % | 95 % | 88 % | 83 % | 93 % | 83 % | 83 % | 67 % | \n",
       "| S3 | 84 % | 89 % | 85 % | 88 % | 76 % | 67 % | 84 % | 68 % | 67 % | 45 % | \n",
       "| S4 | 89 % | 92 % | 89 % | 92 % | 83 % | 76 % | 89 % | 76 % | 75 % | 55 % | \n",
       "| S5 | 79 % | 85 % | 80 % | 84 % | 68 % | 59 % | 79 % | 59 % | 58 % | 36 % | \n",
       "| S6 | 73 % | 80 % | 74 % | 79 % | 61 % | 50 % | 73 % | 51 % | 50 % | 28 % | \n",
       "| S7 | 66 % | 74 % | 67 % | 73 % | 53 % | 42 % | 66 % | 42 % | 42 % | 22 % | \n",
       "| S8 | 89 % | 92 % | 89 % | 92 % | 83 % | 76 % | 89 % | 76 % | 75 % | 55 % | \n",
       "| S9 | 84 % | 89 % | 85 % | 88 % | 76 % | 67 % | 84 % | 68 % | 67 % | 45 % | \n",
       "| S10 | 66 % | 74 % | 67 % | 73 % | 53 % | 42 % | 66 % | 42 % | 42 % | 22 % | \n",
       "| S11 | 79 % | 85 % | 80 % | 84 % | 68 % | 59 % | 79 % | 59 % | 58 % | 36 % | \n",
       "| S12 | 66 % | 74 % | 67 % | 73 % | 53 % | 42 % | 66 % | 42 % | 42 % | 22 % | \n",
       "| S13 | 66 % | 74 % | 67 % | 73 % | 53 % | 42 % | 66 % | 42 % | 42 % | 22 % | \n",
       "| S14 | 84 % | 89 % | 85 % | 88 % | 76 % | 67 % | 84 % | 68 % | 67 % | 45 % | \n",
       "| S15 | 84 % | 89 % | 85 % | 88 % | 76 % | 67 % | 84 % | 68 % | 67 % | 45 % | \n",
       "| S16 | 73 % | 80 % | 74 % | 79 % | 61 % | 50 % | 73 % | 51 % | 50 % | 28 % | \n",
       "| S17 | 84 % | 89 % | 85 % | 88 % | 76 % | 67 % | 84 % | 68 % | 67 % | 45 % | \n",
       "| S18 | 84 % | 89 % | 85 % | 88 % | 76 % | 67 % | 84 % | 68 % | 67 % | 45 % | \n",
       "| S19 | 59 % | 67 % | 60 % | 67 % | 45 % | 35 % | 59 % | 35 % | 34 % | 17 % | \n",
       "| S20 | 89 % | 92 % | 89 % | 92 % | 83 % | 76 % | 89 % | 76 % | 75 % | 55 % | \n",
       "| S21 | 89 % | 92 % | 89 % | 92 % | 83 % | 76 % | 89 % | 76 % | 75 % | 55 % | \n",
       "| S22 | 73 % | 80 % | 74 % | 79 % | 61 % | 50 % | 73 % | 51 % | 50 % | 28 % | \n",
       "| S23 | 79 % | 85 % | 80 % | 84 % | 68 % | 59 % | 79 % | 59 % | 58 % | 36 % | \n",
       "| S24 | 84 % | 89 % | 85 % | 88 % | 76 % | 67 % | 84 % | 68 % | 67 % | 45 % | \n",
       "| S25 | 89 % | 92 % | 89 % | 92 % | 83 % | 76 % | 89 % | 76 % | 75 % | 55 % | \n",
       "\n",
       "\n"
      ],
      "text/plain": [
       "    e1   e2   e3   e4   e5   e6   e7   e8   e9   e10 \n",
       "S1  27 % 36 % 28 % 35 % 18 % 12 % 27 % 12 % 12 % 5 % \n",
       "S2  93 % 95 % 93 % 95 % 88 % 83 % 93 % 83 % 83 % 67 %\n",
       "S3  84 % 89 % 85 % 88 % 76 % 67 % 84 % 68 % 67 % 45 %\n",
       "S4  89 % 92 % 89 % 92 % 83 % 76 % 89 % 76 % 75 % 55 %\n",
       "S5  79 % 85 % 80 % 84 % 68 % 59 % 79 % 59 % 58 % 36 %\n",
       "S6  73 % 80 % 74 % 79 % 61 % 50 % 73 % 51 % 50 % 28 %\n",
       "S7  66 % 74 % 67 % 73 % 53 % 42 % 66 % 42 % 42 % 22 %\n",
       "S8  89 % 92 % 89 % 92 % 83 % 76 % 89 % 76 % 75 % 55 %\n",
       "S9  84 % 89 % 85 % 88 % 76 % 67 % 84 % 68 % 67 % 45 %\n",
       "S10 66 % 74 % 67 % 73 % 53 % 42 % 66 % 42 % 42 % 22 %\n",
       "S11 79 % 85 % 80 % 84 % 68 % 59 % 79 % 59 % 58 % 36 %\n",
       "S12 66 % 74 % 67 % 73 % 53 % 42 % 66 % 42 % 42 % 22 %\n",
       "S13 66 % 74 % 67 % 73 % 53 % 42 % 66 % 42 % 42 % 22 %\n",
       "S14 84 % 89 % 85 % 88 % 76 % 67 % 84 % 68 % 67 % 45 %\n",
       "S15 84 % 89 % 85 % 88 % 76 % 67 % 84 % 68 % 67 % 45 %\n",
       "S16 73 % 80 % 74 % 79 % 61 % 50 % 73 % 51 % 50 % 28 %\n",
       "S17 84 % 89 % 85 % 88 % 76 % 67 % 84 % 68 % 67 % 45 %\n",
       "S18 84 % 89 % 85 % 88 % 76 % 67 % 84 % 68 % 67 % 45 %\n",
       "S19 59 % 67 % 60 % 67 % 45 % 35 % 59 % 35 % 34 % 17 %\n",
       "S20 89 % 92 % 89 % 92 % 83 % 76 % 89 % 76 % 75 % 55 %\n",
       "S21 89 % 92 % 89 % 92 % 83 % 76 % 89 % 76 % 75 % 55 %\n",
       "S22 73 % 80 % 74 % 79 % 61 % 50 % 73 % 51 % 50 % 28 %\n",
       "S23 79 % 85 % 80 % 84 % 68 % 59 % 79 % 59 % 58 % 36 %\n",
       "S24 84 % 89 % 85 % 88 % 76 % 67 % 84 % 68 % 67 % 45 %\n",
       "S25 89 % 92 % 89 % 92 % 83 % 76 % 89 % 76 % 75 % 55 %"
      ]
     },
     "metadata": {},
     "output_type": "display_data"
    }
   ],
   "source": [
    "# Calcolo la tabella di probabilità che ogni studente risponda correttamente ad ogni test usando il discriminante non vincolato\n",
    "dfProbF <- calcProbabilites(datiDichot, difficDichotF, abil)\n",
    "\n",
    "# Visualizzo la tabella più semplicemente\n",
    "showProbabilities(dfProbF)"
   ]
  },
  {
   "cell_type": "code",
   "execution_count": 11,
   "metadata": {
    "collapsed": true
   },
   "outputs": [],
   "source": [
    "#' Genera una tabella dicotomica\n",
    "#'\n",
    "#' @param diff vettore di difficoltà scelte\n",
    "#' @param abil vettore di abilità scelte\n",
    "#' @return La tabella dicotomica generata\n",
    "#' @examples\n",
    "#' numItems <- 10\n",
    "#' numStudents <- 30\n",
    "#' diffInit <- rnorm(numItems)\n",
    "#' abil <- rnorm(numStudents)\n",
    "#' generateDichot(diffInit, abil)\n",
    "generateDichot <- function(diff, abil) {\n",
    "    items <- data.frame(matrix(0, ncol = length(diff), nrow = length(abil)))\n",
    "    prob <- calcProbabilites(items, diff, abil)\n",
    "    namesCol  <- names(items)\n",
    "    namesRow  <- row.names(items)\n",
    "    for (row in namesRow) {\n",
    "        for (col in namesCol) {\n",
    "            items[row,col] <- rbinom(1, 1, prob[row,col])         \n",
    "        }\n",
    "    }    \n",
    "    items\n",
    "}\n",
    "\n",
    "#' Valuta la bontà del mio stimatore misurando lo scostamento tra le difficoltà o le abilità passate per argomento\n",
    "#'\n",
    "#' @param vect1 vettore di difficoltà o abilità\n",
    "#' @param vect2 vettore di difficoltà o abilità\n",
    "#' @return Data frame con le difficoltà o abilità passate per argomento e lo scostamento rilevato\n",
    "#' @examples\n",
    "#' numItems <- 10\n",
    "#' numStudents <- 30\n",
    "#' bootStrapVal <- 10\n",
    "#' diffInit <- rnorm(numItems)\n",
    "#' abil <- rnorm(numStudents)\n",
    "#' genDic <- generateDichot(diffInit, abil)\n",
    "#' genDicBoot <- bootstrapping(genDic, numStudents * bootStrapVal)\n",
    "#' diffEstim <- estimateDifficultiesDichotFreeDiscrim(genDicBoot)\n",
    "#' validationWithDifference(diffInit, diffEstim)\n",
    "validationWithDifference <- function(vect1, vect2) { \n",
    "    scost <- abs(unlist(lapply(vect1 - vect2 , round, 2)))\n",
    "    compare <- data.frame(vect1, vect2, scost)   \n",
    "    colnames(compare) <- c(\"Vettore 1\",\"Vettore 2\", \"Scostamento\")\n",
    "    compare\n",
    "}\n",
    "\n",
    "#' Valuta la bontà del mio stimatore confrontando graficamente le difficoltà o le abilità passate per argomento\n",
    "#'\n",
    "#' @param vect1 Vettore di difficoltà o abilità\n",
    "#' @param vect2 Vettore di difficoltà o abilità\n",
    "#' @param label1 Descrizione del vettore 1\n",
    "#' @param label2 Descrizione del vettore 2\n",
    "#' @examples\n",
    "#' numItems <- 10\n",
    "#' numStudents <- 30\n",
    "#' bootStrapVal <- 10\n",
    "#' diffInit <- rnorm(numItems)\n",
    "#' abil <- rnorm(numStudents)\n",
    "#' genDic <- generateDichot(diff, abil)\n",
    "#' genDicBoot <- bootstrapping(genDic, numStudents * bootStrapVal)\n",
    "#' diffEstim <- estimateDifficultiesDichotFreeDiscrim(genDicBoot)\n",
    "#' validationWithPlot(diffInit, diffEstim)\n",
    "validationWithPlot <- function(vect1, vect2, label1 = \"Vettore 1\", label2 = \"Vettore 2\") {\n",
    "    plot(vect1,xlim=c(1,length(vect1)),ylim=c(-4,4),type=\"b\",main=\"Comparison plot\",xlab=\"Observations\",ylab=\"Values\",xaxt=\"n\",col=\"red\",pch=16,lwd=2)\n",
    "    axis(1, at = 1:length(vect1), labels = 1:length(vect1))\n",
    "    par(new = TRUE)\n",
    "    plot(vect2, type = \"b\", xlim = c(1,length(vect2)),ylim = c(-4,4), xaxt='n', yaxt = \"n\", xlab = \"\", ylab = \"\", col = \"blue\", pch=16, lwd=2)\n",
    "    legend(1, 4, legend=c(label1, label2), col=c(\"red\", \"blue\"), lty=1, cex=1, lwd=2, pch=16)\n",
    "    NULL\n",
    "}\n",
    "\n",
    "#' Valuta la bontà del mio stimatore calcolando il coefficiente di correlazione lineare\n",
    "#'\n",
    "#' @param vect1 vettore di difficoltà o abilità\n",
    "#' @param vect2 vettore di difficoltà o abilità\n",
    "#' @return Valore numerico compreso tra -1 e 1: se si avvicina a -1 i dati sono correlati negativamente, se si avvicina ad 1 \n",
    "#' i dati sono correlati positivamente e se è un valore vicino a 0 allora non vi è alcun tipo di correlazione lineare\n",
    "#' @examples\n",
    "#' numItems <- 10\n",
    "#' numStudents <- 30\n",
    "#' bootStrapVal <- 10\n",
    "#' diffInit <- rnorm(numItems)\n",
    "#' abil <- rnorm(numStudents)\n",
    "#' genDic <- generateDichot(diff, abil)\n",
    "#' genDicBoot <- bootstrapping(genDic, numStudents * bootStrapVal)\n",
    "#' diffEstim <- estimateDifficultiesDichotFreeDiscrim(genDicBoot)\n",
    "#' validationWithCor(diffInit, diffEstim)\n",
    "validationWithCor <- function(vect1, vect2) {\n",
    "    cor(vect1, vect2)\n",
    "}\n",
    "\n",
    "\n",
    "#' Funzione che permette di generare, stimare, validare e, se richiesto, estendere la tabella generata dagli input\n",
    "#'\n",
    "#' @param diff Vettore di difficoltà \n",
    "#' @param abil Vettore di abilità \n",
    "#' @param generator Funzione generatrice della tabella\n",
    "#' @param estimator Funzione di stima della difficoltà o abilità della tabella generata\n",
    "#' @param validator Funzione per fornire un indicatore della bontà dello stimatore\n",
    "#' @param increaseTable Funzione opzionale di incremento della tabella su cui applicare lo stimatore\n",
    "#' @param valid Indica se il validatore deve essere applicato sulla difficoltà o l'abilità\n",
    "#' @return Lista contenente la tabella generata, le difficoltà o abilità stimate e output del validatore \n",
    "#' @examples\n",
    "#' numItems <- 10\n",
    "#' numStudents <- 30\n",
    "#' bootStrapVal <- 10\n",
    "#' diffInit <- rnorm(numItems)\n",
    "#' abil <- rnorm(numStudents)\n",
    "#' simulate(diffInit, abil, generateDichot, estimateDifficultiesDichotOneDiscrim, validationWithPlot, bootstrapping)\n",
    "#' simulate(diffInit, abil, generateDichot, estimateAbilitiesDichot, validationWithPlot, diffOrAb = \"abil\")\n",
    "simulate <- function(diff, abil, generator, estimator, validator, increaseTable = function(df) df, diffOrAb = \"diff\") {\n",
    "    tabDichot <- generator(diff, abil)\n",
    "    tabDichotBoot <- increaseTable(tabDichot)  \n",
    "    estim <- estimator(tabDichotBoot)\n",
    "    \n",
    "    if(diffOrAb == \"diff\"){        \n",
    "        valid <- validator(diff, estim)\n",
    "    }\n",
    "    else if(diffOrAb == \"abil\"){        \n",
    "        valid <- validator(abil, estim)\n",
    "    }\n",
    "    \n",
    "    list(tabDichot, estim, valid)\n",
    "}"
   ]
  },
  {
   "cell_type": "code",
   "execution_count": 12,
   "metadata": {
    "collapsed": true
   },
   "outputs": [],
   "source": [
    "# Definisco il numero di items, il numero di studenti ed quante estrazioni effettuare rispetto al numero di studenti\n",
    "numItems <- 10\n",
    "numStudents <- 30 \n",
    "bootStrapVal <- 15\n",
    "\n",
    "# Genero randomicamente difficolà e abilità\n",
    "diff <- rnorm(numItems)\n",
    "abil <- rnorm(numStudents)\n",
    "\n",
    "# Genero la tabella dicotomica e vi applico il bootstrapping\n",
    "genDic <- generateDichot(diff, abil)\n",
    "genDicBoot <- bootstrapping(genDic, numStudents * bootStrapVal)\n",
    "\n",
    "# Stimo le difficoltà con entrambi i metodi\n",
    "esDiffO <- estimateDifficultiesDichotOneDiscrim(genDicBoot)\n",
    "esDiffF <- estimateDifficultiesDichotFreeDiscrim(genDicBoot)\n",
    "esAbil <- estimateAbilitiesDichot(genDicBoot)"
   ]
  },
  {
   "cell_type": "code",
   "execution_count": 13,
   "metadata": {
    "scrolled": false
   },
   "outputs": [
    {
     "data": {
      "text/plain": [
       "NULL"
      ]
     },
     "metadata": {},
     "output_type": "display_data"
    },
    {
     "data": {
      "image/png": "[encoded data removed]",
      "text/plain": [
       "Plot with title \"Comparison plot\""
      ]
     },
     "metadata": {},
     "output_type": "display_data"
    },
    {
     "data": {
      "text/plain": [
       "NULL"
      ]
     },
     "metadata": {},
     "output_type": "display_data"
    },
    {
     "data": {
      "image/png": "[encoded data removed]",
      "text/plain": [
       "Plot with title \"Comparison plot\""
      ]
     },
     "metadata": {},
     "output_type": "display_data"
    },
    {
     "data": {
      "text/plain": [
       "NULL"
      ]
     },
     "metadata": {},
     "output_type": "display_data"
    },
    {
     "data": {
      "image/png": "[encoded data removed]",
      "text/plain": [
       "Plot with title \"Comparison plot\""
      ]
     },
     "metadata": {},
     "output_type": "display_data"
    }
   ],
   "source": [
    "# Confronto le difficoltà iniziali e quelle stimate fissando il discriminante ad 1\n",
    "validationWithPlot(diff, esDiffO, \"Difficoltà originali\", \"Diffcoltà stimate con discriminante ad 1\")\n",
    "\n",
    "# Confronto le difficoltà iniziali e quelle stimate senza fissare il discriminante\n",
    "validationWithPlot(diff, esDiffF, \"Difficoltà originali\", \"Diffcoltà stimate con discriminante libero\")\n",
    "\n",
    "# Confronto le difficoltà stimate fissando il discriminante ad 1 con quelle stimate senza fissarlo\n",
    "validationWithPlot(esDiffO, esDiffF, \"Diffcoltà stimate con discriminante ad 1\", \"Diffcoltà stimate con discriminante libero\")"
   ]
  },
  {
   "cell_type": "code",
   "execution_count": 14,
   "metadata": {
    "collapsed": true
   },
   "outputs": [],
   "source": [
    "#' Sostituisce alcuni 0 con NA nella tabella passata simulando che alcuni studenti invece di consegnare un esercizio sicuramente\n",
    "#' errato hanno invece deciso di astenersi\n",
    "#'\n",
    "#' @param items Tabella dicotomica avente una riga per studente e una colonna per esercizio\n",
    "#' @param prob Probabilità con cui decidere se sostituire uno 0 in NA, se è 0 nessuno verrà sostituito e se è 1 tutti verranno\n",
    "#' sostituiti, di default è il 30%\n",
    "#' @return Data frame nella quale sono avvenute le sostituizioni \n",
    "#' @examples\n",
    "#' p <- 0.3\n",
    "#' items <- readEXCEl(\"file.xlsx\")\n",
    "#' replaceRandomZeroWithNA(items, p)\n",
    "replaceRandomZeroWithNA <- function(items, prob = 0.3) {   \n",
    "    df <- items\n",
    "    namesCol <- names(df)\n",
    "    namesRow <- row.names(df)\n",
    "    for (row in namesRow) {\n",
    "        for (col in namesCol) {\n",
    "            if(df[row,col] == 0){\n",
    "                p <- runif(1)\n",
    "                if(prob > p){\n",
    "                    df[row,col] = NA\n",
    "                }\n",
    "            }                \n",
    "        }\n",
    "    }\n",
    "    df\n",
    "}"
   ]
  },
  {
   "cell_type": "code",
   "execution_count": 15,
   "metadata": {
    "collapsed": true
   },
   "outputs": [],
   "source": [
    "# Definisco il numero di items, numero di studenti, quante estrazioni effettuare e la probabilità di rimpiazzare gli 0 con NA\n",
    "numItems <- 10\n",
    "numStudents <- 30\n",
    "bootStrapVal <- 30\n",
    "prob <- 0.2\n",
    "\n",
    "# Genero randomicamente difficolà e abilità\n",
    "diff <- rnorm(numItems)\n",
    "abil <- rnorm(numStudents)\n",
    "\n",
    "# Genero la tabella dicotomica e vi appli il bootstrapping\n",
    "gd <- generateDichot(diff, abil)\n",
    "gdNA <- replaceRandomZeroWithNA(gd, prob)\n",
    "gdNA <- bootstrapping(gdNA, numStudents * bootStrapVal)"
   ]
  },
  {
   "cell_type": "code",
   "execution_count": 16,
   "metadata": {},
   "outputs": [
    {
     "data": {
      "image/png": "[encoded data removed]",
      "text/plain": [
       "Plot with title \"Difficulties plot\""
      ]
     },
     "metadata": {},
     "output_type": "display_data"
    }
   ],
   "source": [
    "estDiffNULL <- estimateDifficultiesDichotOneDiscrim(gdNA)\n",
    "estDiffZero <- estimateDifficultiesDichotOneDiscrim(replaceNaWithZero(gdNA))\n",
    "\n",
    "# Visualizzo e confronto i grafici relativi alle difficoltà stimate nei 2 modi: mantenendo i NA e ignorandoli e sostituendoli con 0\n",
    "plotDifficultiesDichot(gdNA, estDiffNULL)\n",
    "par(new = TRUE)\n",
    "plotDifficultiesDichot(gdNA, estDiffZero, color = \"blue\")\n",
    "par(new = TRUE)\n",
    "plotDifficultiesDichot(gdNA, diff, color = \"green\")\n",
    "legend(1, 10, legend=c(\"Difficoltà stimate ignorando la presenza di NA\", \"Difficoltà stimate sostituendo i NA con 0\", \"Difficoltà originali\"), col=c(\"red\", \"blue\", \"green\"), lty=1, cex=1, lwd=2, pch=16)"
   ]
  },
  {
   "cell_type": "code",
   "execution_count": 17,
   "metadata": {
    "collapsed": true
   },
   "outputs": [],
   "source": [
    "#' Produce una matrice dicotomica definendo la condizione per cui un esercizio viene definito come passato(1) oppure no(0)\n",
    "#' @param session Sessione considerata\n",
    "#' @param vote Stringa che indica come valutare gli esercizi\n",
    "#' @param maxError Se scelto il criterio \"errors\", questo campo indica il massimo numero di errori commettibili\n",
    "#' @param percTestCaseOk Se scelto il criterio \"testCase\", questo campo indica la percentuale di test case che devono \n",
    "#' essere corretti rispetto al totale\n",
    "#' @param keepNA Paramatreo booleano per indicare se indicare con NA i voti in cui gli studenti non hanno raggiunto la votazione\n",
    "#' precedente al paramentro di valutazione indicato (es. evaluateSource(session, vote = \"compiles\", keepNA = TRUE), i voti\n",
    "#' NA riguarderanno gli studenti che non hanno raggiunto lo step precedente, cioè l'upload)\n",
    "#' @return Data frame dicotomico, possiede una riga per studente e una colonna per esercizio, nelle intersezioni vi sono i \n",
    "#' risultati delle valutazioni sulla base delle specifiche inserite\n",
    "#' @examples\n",
    "#' sourceData <- \"data.R\"      \n",
    "#' source(sourceData)\n",
    "#' numSessions <- 5\n",
    "#' session <- sessions[numSessions]\n",
    "#' vote <- \"testCase\"\n",
    "#' p <- 0.5\n",
    "#' evaluateSource(session, vote, percTestCaseOk = p)             \n",
    "evaluateSource <- function(session, vote, maxError, percTestCaseOk, keepNA = FALSE) {  \n",
    "    \n",
    "    results <- get(paste(\"results_\", session, sep = \"\"))\n",
    "    \n",
    "    if(vote == \"uploaded\")\n",
    "        results[,,vote]\n",
    "    else if(vote == \"compiles\"){\n",
    "        dfC <- results[,,vote]\n",
    "        dfU <- results[,,\"uploaded\"]\n",
    "        \n",
    "        if(keepNA)\n",
    "            dfC[dfU == 0] <- NA   \n",
    "        dfC\n",
    "    }\n",
    "    else if(vote == \"errors\"){\n",
    "        df <- results[,,vote]\n",
    "        df[df <= maxError] <- 1 \n",
    "        df[df > maxError] <- 0\n",
    "        \n",
    "        if(!keepNA)\n",
    "            df[is.na(df)] <- 0            \n",
    "        df\n",
    "    }\n",
    "    else if(vote == \"testCase\"){\n",
    "        cases <- get(paste(\"cases_\", session, sep = \"\"))\n",
    "        df <- results[,,\"oks\"]\n",
    "        df <- t((t(df)) / c(cases)) \n",
    "        df[df >= percTestCaseOk] <- 1\n",
    "        df[df < percTestCaseOk] <- 0\n",
    "        \n",
    "        if(!keepNA)\n",
    "            df[is.na(df)] <- 0     \n",
    "        df\n",
    "    }        \n",
    "}"
   ]
  },
  {
   "cell_type": "code",
   "execution_count": 18,
   "metadata": {
    "collapsed": true
   },
   "outputs": [],
   "source": [
    "sourceData <- \"data.R\"\n",
    "source(sourceData)\n",
    "bootstrapVal <- 10"
   ]
  },
  {
   "cell_type": "code",
   "execution_count": 19,
   "metadata": {},
   "outputs": [
    {
     "data": {
      "image/png": "[encoded data removed]",
      "text/plain": [
       "Plot with title \"\""
      ]
     },
     "metadata": {},
     "output_type": "display_data"
    }
   ],
   "source": [
    "numSessions <- 6 \n",
    "session <- sessions[numSessions]\n",
    "\n",
    "evalWithUpload   <- evaluateSource(session, vote = \"uploaded\")\n",
    "evalWithCompiles <- evaluateSource(session, vote = \"compiles\")\n",
    "evalWithErrors   <- evaluateSource(session, vote = \"errors\", maxError = 2)\n",
    "evalWithTestCase <- evaluateSource(session, vote = \"testCase\", percTestCaseOk = 0.5)\n",
    "\n",
    "nStud <- nrow(evalWithTestCase)\n",
    "\n",
    "diffUpload   <- estimateDifficultiesDichotOneDiscrim(bootstrapping(evalWithUpload,   n = bootstrapVal * nStud))\n",
    "diffCompiles <- estimateDifficultiesDichotOneDiscrim(bootstrapping(evalWithCompiles, n = bootstrapVal * nStud))\n",
    "diffErrors   <- estimateDifficultiesDichotOneDiscrim(bootstrapping(evalWithErrors,   n = bootstrapVal * nStud))\n",
    "diffTestCase <- estimateDifficultiesDichotOneDiscrim(bootstrapping(evalWithTestCase, n = bootstrapVal * nStud))\n",
    "\n",
    "# Visualizzo e confronto i grafici relativi alle difficoltà stimate tenendo conto: solo se è stato effettuato l'upload,\n",
    "# solo se compila, solo se sono stati commessi meno di 2 errori di esecuzione e solo se almeno il 50% dei test case sono corretti\n",
    "plotDifficultiesDichot(evalWithUpload, diffUpload, color = \"red\", name = session)\n",
    "par(new = TRUE)\n",
    "plotDifficultiesDichot(evalWithCompiles, diffCompiles, color = \"blue\", name = \"\")\n",
    "par(new = TRUE)\n",
    "plotDifficultiesDichot(evalWithErrors, diffErrors, color = \"green\", name = \"\")\n",
    "par(new = TRUE)\n",
    "plotDifficultiesDichot(evalWithTestCase, diffTestCase, color = \"black\", name = \"\")\n",
    "legend(1, 10, legend=c(\"Upload\", \"Compilazione\", \"Meno di 2 errori di esecuzione\", \"50% di test case corretti\"), col=c(\"red\", \"blue\", \"green\", \"black\"), lty=1, cex=1, lwd=2, pch=16)\n",
    "\n",
    "# Dal grafico si possono trarre diverse conclusioni: \n",
    "#    - le stime legate all'upload, compilazione ed errori in esecuzione coincidono quasi sempre, da ciò deduciamo che gli \n",
    "#      studenti che consegnano gli esercizi lo fanno solo nel caso compilino e abbiano pochi errori di esecuzione o nessuno \n",
    "#    - le difficoltà hanno un andamento crescente, quindi il professore potrebbe aver assegnato gli esercizi considerando\n",
    "#      che gli studenti avrebbero dovuto impegnarsi maggiormente negli ultimi\n",
    "#    - Nella fase iniziale la stima per test case si discosta abbastanza dalle altre, sovrapponendosi ad essi successivamente,\n",
    "#      questo potrebbe essere indicativo del fatto che gli studenti all'inizio erano meno abili, forse a causa di spiegazioni \n",
    "#      poco chiare da parte del professore"
   ]
  },
  {
   "cell_type": "code",
   "execution_count": 20,
   "metadata": {},
   "outputs": [
    {
     "data": {
      "image/png": "[encoded data removed]",
      "text/plain": [
       "Plot with title \"\""
      ]
     },
     "metadata": {},
     "output_type": "display_data"
    }
   ],
   "source": [
    "numSessions <- 7\n",
    "session <- sessions[numSessions]\n",
    "\n",
    "evalWithErrors   <- evaluateSource(session, vote = \"errors\", maxError = 2)\n",
    "evalWithTestCase <- evaluateSource(session, vote = \"testCase\", percTestCaseOk = 0.5)\n",
    "\n",
    "nStud <- nrow(evalWithTestCase)\n",
    "\n",
    "diffErrors   <- estimateDifficultiesDichotOneDiscrim(bootstrapping(evalWithErrors,   n = bootstrapVal * nStud))\n",
    "diffTestCase <- estimateDifficultiesDichotOneDiscrim(bootstrapping(evalWithTestCase, n = bootstrapVal * nStud))\n",
    "\n",
    "plotDifficultiesDichot(evalWithErrors, diffErrors, color = \"green\", name = session)\n",
    "par(new = TRUE)\n",
    "plotDifficultiesDichot(evalWithTestCase, diffTestCase, color = \"black\", name = \"\")\n",
    "legend(1, 10, legend=c(\"Meno di 2 errori di esecuzione\", \"50% di test case corretti\"), col=c(\"green\", \"black\"), lty=1, cex=1, lwd=2, pch=16)"
   ]
  },
  {
   "cell_type": "code",
   "execution_count": null,
   "metadata": {
    "collapsed": true
   },
   "outputs": [],
   "source": []
  },
  {
   "cell_type": "code",
   "execution_count": null,
   "metadata": {
    "collapsed": true
   },
   "outputs": [],
   "source": []
  },
  {
   "cell_type": "code",
   "execution_count": null,
   "metadata": {
    "collapsed": true
   },
   "outputs": [],
   "source": []
  },
  {
   "cell_type": "code",
   "execution_count": 22,
   "metadata": {},
   "outputs": [
    {
     "name": "stderr",
     "output_type": "stream",
     "text": [
      "Warning message:\n",
      "\"glm.fit: algorithm did not converge\"Warning message:\n",
      "\"glm.fit: algorithm did not converge\"Warning message:\n",
      "\"glm.fit: fitted probabilities numerically 0 or 1 occurred\"Warning message:\n",
      "\"glm.fit: algorithm did not converge\"Warning message:\n",
      "\"glm.fit: fitted probabilities numerically 0 or 1 occurred\"Warning message:\n",
      "\"glm.fit: algorithm did not converge\"Warning message:\n",
      "\"glm.fit: fitted probabilities numerically 0 or 1 occurred\"Warning message:\n",
      "\"glm.fit: fitted probabilities numerically 0 or 1 occurred\""
     ]
    },
    {
     "data": {
      "text/html": [
       "<ol class=list-inline>\n",
       "\t<li>-26.5660662095919</li>\n",
       "\t<li>-0.416894276548072</li>\n",
       "\t<li>0.0655488674370198</li>\n",
       "\t<li>0.237207276867674</li>\n",
       "\t<li>0.375815877265546</li>\n",
       "\t<li>1.2625913989645</li>\n",
       "</ol>\n"
      ],
      "text/latex": [
       "\\begin{enumerate*}\n",
       "\\item -26.5660662095919\n",
       "\\item -0.416894276548072\n",
       "\\item 0.0655488674370198\n",
       "\\item 0.237207276867674\n",
       "\\item 0.375815877265546\n",
       "\\item 1.2625913989645\n",
       "\\end{enumerate*}\n"
      ],
      "text/markdown": [
       "1. -26.5660662095919\n",
       "2. -0.416894276548072\n",
       "3. 0.0655488674370198\n",
       "4. 0.237207276867674\n",
       "5. 0.375815877265546\n",
       "6. 1.2625913989645\n",
       "\n",
       "\n"
      ],
      "text/plain": [
       "[1] -26.56606621  -0.41689428   0.06554887   0.23720728   0.37581588\n",
       "[6]   1.26259140"
      ]
     },
     "metadata": {},
     "output_type": "display_data"
    },
    {
     "name": "stderr",
     "output_type": "stream",
     "text": [
      "Warning message:\n",
      "\"glm.fit: algorithm did not converge\"Warning message:\n",
      "\"glm.fit: fitted probabilities numerically 0 or 1 occurred\"Warning message:\n",
      "\"glm.fit: algorithm did not converge\"Warning message:\n",
      "\"glm.fit: fitted probabilities numerically 0 or 1 occurred\"Warning message:\n",
      "\"glm.fit: algorithm did not converge\"Warning message:\n",
      "\"glm.fit: fitted probabilities numerically 0 or 1 occurred\"Warning message:\n",
      "\"glm.fit: fitted probabilities numerically 0 or 1 occurred\"Warning message:\n",
      "\"glm.fit: algorithm did not converge\"Warning message:\n",
      "\"glm.fit: fitted probabilities numerically 0 or 1 occurred\""
     ]
    },
    {
     "data": {
      "text/html": [
       "<ol class=list-inline>\n",
       "\t<li>-2.52749468972978</li>\n",
       "\t<li>-0.245075829722783</li>\n",
       "\t<li>0.703681876337251</li>\n",
       "\t<li>0.52853973010107</li>\n",
       "\t<li>0.884128828291562</li>\n",
       "\t<li>3.60756687727059</li>\n",
       "</ol>\n"
      ],
      "text/latex": [
       "\\begin{enumerate*}\n",
       "\\item -2.52749468972978\n",
       "\\item -0.245075829722783\n",
       "\\item 0.703681876337251\n",
       "\\item 0.52853973010107\n",
       "\\item 0.884128828291562\n",
       "\\item 3.60756687727059\n",
       "\\end{enumerate*}\n"
      ],
      "text/markdown": [
       "1. -2.52749468972978\n",
       "2. -0.245075829722783\n",
       "3. 0.703681876337251\n",
       "4. 0.52853973010107\n",
       "5. 0.884128828291562\n",
       "6. 3.60756687727059\n",
       "\n",
       "\n"
      ],
      "text/plain": [
       "[1] -2.5274947 -0.2450758  0.7036819  0.5285397  0.8841288  3.6075669"
      ]
     },
     "metadata": {},
     "output_type": "display_data"
    },
    {
     "name": "stderr",
     "output_type": "stream",
     "text": [
      "Warning message:\n",
      "\"glm.fit: algorithm did not converge\"Warning message:\n",
      "\"glm.fit: fitted probabilities numerically 0 or 1 occurred\"Warning message:\n",
      "\"glm.fit: algorithm did not converge\"Warning message:\n",
      "\"glm.fit: fitted probabilities numerically 0 or 1 occurred\"Warning message:\n",
      "\"glm.fit: algorithm did not converge\"Warning message:\n",
      "\"glm.fit: fitted probabilities numerically 0 or 1 occurred\"Warning message:\n",
      "\"glm.fit: algorithm did not converge\"Warning message:\n",
      "\"glm.fit: fitted probabilities numerically 0 or 1 occurred\"Warning message:\n",
      "\"glm.fit: algorithm did not converge\"Warning message:\n",
      "\"glm.fit: fitted probabilities numerically 0 or 1 occurred\"Warning message:\n",
      "\"glm.fit: algorithm did not converge\"Warning message:\n",
      "\"glm.fit: fitted probabilities numerically 0 or 1 occurred\""
     ]
    },
    {
     "data": {
      "text/html": [
       "<ol class=list-inline>\n",
       "\t<li>-1.42377434198505</li>\n",
       "\t<li>-0.246239131068243</li>\n",
       "\t<li>0.473493692643637</li>\n",
       "\t<li>0.0605180270555848</li>\n",
       "\t<li>1.2138103574428</li>\n",
       "\t<li>3.38340814367252</li>\n",
       "</ol>\n"
      ],
      "text/latex": [
       "\\begin{enumerate*}\n",
       "\\item -1.42377434198505\n",
       "\\item -0.246239131068243\n",
       "\\item 0.473493692643637\n",
       "\\item 0.0605180270555848\n",
       "\\item 1.2138103574428\n",
       "\\item 3.38340814367252\n",
       "\\end{enumerate*}\n"
      ],
      "text/markdown": [
       "1. -1.42377434198505\n",
       "2. -0.246239131068243\n",
       "3. 0.473493692643637\n",
       "4. 0.0605180270555848\n",
       "5. 1.2138103574428\n",
       "6. 3.38340814367252\n",
       "\n",
       "\n"
      ],
      "text/plain": [
       "[1] -1.42377434 -0.24623913  0.47349369  0.06051803  1.21381036  3.38340814"
      ]
     },
     "metadata": {},
     "output_type": "display_data"
    },
    {
     "name": "stderr",
     "output_type": "stream",
     "text": [
      "Warning message:\n",
      "\"glm.fit: algorithm did not converge\"Warning message:\n",
      "\"glm.fit: fitted probabilities numerically 0 or 1 occurred\"Warning message:\n",
      "\"glm.fit: algorithm did not converge\"Warning message:\n",
      "\"glm.fit: fitted probabilities numerically 0 or 1 occurred\"Warning message:\n",
      "\"glm.fit: fitted probabilities numerically 0 or 1 occurred\"Warning message:\n",
      "\"glm.fit: algorithm did not converge\"Warning message:\n",
      "\"glm.fit: fitted probabilities numerically 0 or 1 occurred\"Warning message:\n",
      "\"glm.fit: algorithm did not converge\""
     ]
    },
    {
     "data": {
      "text/html": [
       "<ol class=list-inline>\n",
       "\t<li>-1.17211139367171</li>\n",
       "\t<li>0.865610802748874</li>\n",
       "\t<li>0.689264413379247</li>\n",
       "\t<li>0.219213245779268</li>\n",
       "\t<li>3.41919942614704</li>\n",
       "\t<li>26.5660685436006</li>\n",
       "</ol>\n"
      ],
      "text/latex": [
       "\\begin{enumerate*}\n",
       "\\item -1.17211139367171\n",
       "\\item 0.865610802748874\n",
       "\\item 0.689264413379247\n",
       "\\item 0.219213245779268\n",
       "\\item 3.41919942614704\n",
       "\\item 26.5660685436006\n",
       "\\end{enumerate*}\n"
      ],
      "text/markdown": [
       "1. -1.17211139367171\n",
       "2. 0.865610802748874\n",
       "3. 0.689264413379247\n",
       "4. 0.219213245779268\n",
       "5. 3.41919942614704\n",
       "6. 26.5660685436006\n",
       "\n",
       "\n"
      ],
      "text/plain": [
       "[1] -1.1721114  0.8656108  0.6892644  0.2192132  3.4191994 26.5660685"
      ]
     },
     "metadata": {},
     "output_type": "display_data"
    }
   ],
   "source": [
    "numSessions <- 1\n",
    "session <- sessions[numSessions]\n",
    "\n",
    "evalWithUpload   <- evaluateSource(session, vote = \"uploaded\")\n",
    "evalWithCompiles <- evaluateSource(session, vote = \"compiles\")\n",
    "evalWithErrors   <- evaluateSource(session, vote = \"errors\", maxError = 2)\n",
    "evalWithTestCase <- evaluateSource(session, vote = \"testCase\", percTestCaseOk = 0.5)\n",
    "\n",
    "nStud <- nrow(evalWithTestCase)\n",
    "\n",
    "estimateDifficultiesDichotOneDiscrim(bootstrapping(evalWithUpload,   n = bootstrapVal * nStud))\n",
    "estimateDifficultiesDichotOneDiscrim(bootstrapping(evalWithCompiles, n = bootstrapVal * nStud))\n",
    "estimateDifficultiesDichotOneDiscrim(bootstrapping(evalWithErrors,   n = bootstrapVal * nStud))\n",
    "estimateDifficultiesDichotOneDiscrim(bootstrapping(evalWithTestCase, n = bootstrapVal * nStud))"
   ]
  },
  {
   "cell_type": "code",
   "execution_count": null,
   "metadata": {
    "collapsed": true
   },
   "outputs": [],
   "source": []
  },
  {
   "cell_type": "code",
   "execution_count": null,
   "metadata": {
    "collapsed": true
   },
   "outputs": [],
   "source": []
  },
  {
   "cell_type": "code",
   "execution_count": null,
   "metadata": {
    "collapsed": true
   },
   "outputs": [],
   "source": []
  },
  {
   "cell_type": "code",
   "execution_count": null,
   "metadata": {
    "collapsed": true
   },
   "outputs": [],
   "source": []
  },
  {
   "cell_type": "code",
   "execution_count": null,
   "metadata": {
    "collapsed": true
   },
   "outputs": [],
   "source": []
  },
  {
   "cell_type": "code",
   "execution_count": 24,
   "metadata": {},
   "outputs": [
    {
     "name": "stdout",
     "output_type": "stream",
     "text": [
      "package 'logistf' successfully unpacked and MD5 sums checked\n",
      "\n",
      "The downloaded binary packages are in\n",
      "\tC:\\Users\\Marco\\AppData\\Local\\Temp\\RtmpK6Vk4i\\downloaded_packages\n"
     ]
    }
   ],
   "source": [
    "install.packages(\"logistf\")"
   ]
  },
  {
   "cell_type": "code",
   "execution_count": 25,
   "metadata": {},
   "outputs": [
    {
     "name": "stderr",
     "output_type": "stream",
     "text": [
      "Warning message:\n",
      "\"package 'logistf' was built under R version 3.4.2\""
     ]
    }
   ],
   "source": [
    "library(\"logistf\")"
   ]
  },
  {
   "cell_type": "code",
   "execution_count": 60,
   "metadata": {
    "scrolled": false
   },
   "outputs": [
    {
     "data": {
      "text/html": [
       "239"
      ],
      "text/latex": [
       "239"
      ],
      "text/markdown": [
       "239"
      ],
      "text/plain": [
       "[1] 239"
      ]
     },
     "metadata": {},
     "output_type": "display_data"
    },
    {
     "data": {
      "text/html": [
       "130"
      ],
      "text/latex": [
       "130"
      ],
      "text/markdown": [
       "130"
      ],
      "text/plain": [
       "[1] 130"
      ]
     },
     "metadata": {},
     "output_type": "display_data"
    },
    {
     "data": {
      "text/html": [
       "38"
      ],
      "text/latex": [
       "38"
      ],
      "text/markdown": [
       "38"
      ],
      "text/plain": [
       "[1] 38"
      ]
     },
     "metadata": {},
     "output_type": "display_data"
    },
    {
     "data": {
      "text/html": [
       "156"
      ],
      "text/latex": [
       "156"
      ],
      "text/markdown": [
       "156"
      ],
      "text/plain": [
       "[1] 156"
      ]
     },
     "metadata": {},
     "output_type": "display_data"
    },
    {
     "data": {
      "text/html": [
       "127"
      ],
      "text/latex": [
       "127"
      ],
      "text/markdown": [
       "127"
      ],
      "text/plain": [
       "[1] 127"
      ]
     },
     "metadata": {},
     "output_type": "display_data"
    },
    {
     "data": {
      "text/html": [
       "80"
      ],
      "text/latex": [
       "80"
      ],
      "text/markdown": [
       "80"
      ],
      "text/plain": [
       "[1] 80"
      ]
     },
     "metadata": {},
     "output_type": "display_data"
    },
    {
     "data": {
      "text/html": [
       "59"
      ],
      "text/latex": [
       "59"
      ],
      "text/markdown": [
       "59"
      ],
      "text/plain": [
       "[1] 59"
      ]
     },
     "metadata": {},
     "output_type": "display_data"
    },
    {
     "data": {
      "text/html": [
       "7"
      ],
      "text/latex": [
       "7"
      ],
      "text/markdown": [
       "7"
      ],
      "text/plain": [
       "[1] 7"
      ]
     },
     "metadata": {},
     "output_type": "display_data"
    }
   ],
   "source": [
    "data(sex2)\n",
    "nrow(sex2)\n",
    "sum(sex2[,\"case\"])\n",
    "sum(sex2[,\"age\"])\n",
    "sum(sex2[,\"oc\"])\n",
    "sum(sex2[,\"vic\"])\n",
    "sum(sex2[,\"vicl\"])\n",
    "sum(sex2[,\"vis\"])\n",
    "sum(sex2[,\"dia\"])"
   ]
  },
  {
   "cell_type": "code",
   "execution_count": 51,
   "metadata": {},
   "outputs": [
    {
     "data": {
      "text/html": [
       "<dl class=dl-horizontal>\n",
       "\t<dt>(Intercept)</dt>\n",
       "\t\t<dd>0.12025404480579</dd>\n",
       "\t<dt>age</dt>\n",
       "\t\t<dd>-1.10598129728647</dd>\n",
       "\t<dt>oc</dt>\n",
       "\t\t<dd>-0.0688167326276005</dd>\n",
       "\t<dt>vic</dt>\n",
       "\t\t<dd>2.26887463847525</dd>\n",
       "\t<dt>vicl</dt>\n",
       "\t\t<dd>-2.11140816102716</dd>\n",
       "\t<dt>vis</dt>\n",
       "\t\t<dd>-0.788316944784959</dd>\n",
       "\t<dt>dia</dt>\n",
       "\t\t<dd>3.09601263318625</dd>\n",
       "</dl>\n"
      ],
      "text/latex": [
       "\\begin{description*}\n",
       "\\item[(Intercept)] 0.12025404480579\n",
       "\\item[age] -1.10598129728647\n",
       "\\item[oc] -0.0688167326276005\n",
       "\\item[vic] 2.26887463847525\n",
       "\\item[vicl] -2.11140816102716\n",
       "\\item[vis] -0.788316944784959\n",
       "\\item[dia] 3.09601263318625\n",
       "\\end{description*}\n"
      ],
      "text/markdown": [
       "(Intercept)\n",
       ":   0.12025404480579age\n",
       ":   -1.10598129728647oc\n",
       ":   -0.0688167326276005vic\n",
       ":   2.26887463847525vicl\n",
       ":   -2.11140816102716vis\n",
       ":   -0.788316944784959dia\n",
       ":   3.09601263318625\n",
       "\n"
      ],
      "text/plain": [
       "(Intercept)         age          oc         vic        vicl         vis \n",
       " 0.12025404 -1.10598130 -0.06881673  2.26887464 -2.11140816 -0.78831694 \n",
       "        dia \n",
       " 3.09601263 "
      ]
     },
     "metadata": {},
     "output_type": "display_data"
    }
   ],
   "source": [
    "fit<-logistf(case ~ age+oc+vic+vicl+vis+dia, data=sex2)\n",
    "coef(fit)"
   ]
  },
  {
   "cell_type": "code",
   "execution_count": 275,
   "metadata": {},
   "outputs": [
    {
     "name": "stdout",
     "output_type": "stream",
     "text": [
      "logistf(formula = case ~ age + oc + vic + vicl + vis + dia, data = sex2)\n",
      "\n",
      "Model fitted by Penalized ML\n",
      "Confidence intervals and p-values by Profile Likelihood Profile Likelihood Profile Likelihood Profile Likelihood Profile Likelihood Profile Likelihood Profile Likelihood \n",
      "\n",
      "                   coef  se(coef) lower 0.95  upper 0.95       Chisq\n",
      "(Intercept)  0.12025404 0.4855415 -0.8185574  1.07315110  0.06286298\n",
      "age         -1.10598130 0.4236601 -1.9737884 -0.30742514  7.50773092\n",
      "oc          -0.06881673 0.4437934 -0.9414360  0.78920042  0.02467044\n",
      "vic          2.26887464 0.5484160  1.2730233  3.43543174 22.93139022\n",
      "vicl        -2.11140816 0.5430824 -3.2608608 -1.11773667 19.10407252\n",
      "vis         -0.78831694 0.4173676 -1.6080879  0.01518319  3.69740975\n",
      "dia          3.09601263 1.6750089  0.7745730  8.03028804  7.89693139\n",
      "                       p\n",
      "(Intercept) 8.020268e-01\n",
      "age         6.143472e-03\n",
      "oc          8.751911e-01\n",
      "vic         1.678877e-06\n",
      "vicl        1.237805e-05\n",
      "vis         5.449701e-02\n",
      "dia         4.951873e-03\n",
      "\n",
      "Likelihood ratio test=49.09064 on 6 df, p=7.15089e-09, n=239\n",
      "Wald test = 30.64066 on 6 df, p = 2.968387e-05\n",
      "\n",
      "Covariance-Matrix:\n",
      "            [,1]          [,2]         [,3]        [,4]         [,5]\n",
      "[1,]  0.23575055 -0.0274268365 -0.195208806 -0.12109972 -0.028931309\n",
      "[2,] -0.02742684  0.1794879046  0.001817983 -0.02316594  0.034595748\n",
      "[3,] -0.19520881  0.0018179831  0.196952622  0.08788776  0.025843013\n",
      "[4,] -0.12109972 -0.0231659369  0.087887763  0.30076006 -0.195031761\n",
      "[5,] -0.02893131  0.0345957476  0.025843013 -0.19503176  0.294938443\n",
      "[6,] -0.04648041  0.0007176955  0.042053108 -0.01532464 -0.047269900\n",
      "[7,] -0.02697950 -0.0655714670  0.025480404  0.02521145 -0.008037389\n",
      "              [,6]         [,7]\n",
      "[1,] -0.0464804061 -0.026979496\n",
      "[2,]  0.0007176955 -0.065571467\n",
      "[3,]  0.0420531076  0.025480404\n",
      "[4,] -0.0153246406  0.025211447\n",
      "[5,] -0.0472699002 -0.008037389\n",
      "[6,]  0.1741956847 -0.045265534\n",
      "[7,] -0.0452655336  2.805654973\n"
     ]
    }
   ],
   "source": [
    "summary(fit)"
   ]
  },
  {
   "cell_type": "code",
   "execution_count": 276,
   "metadata": {},
   "outputs": [
    {
     "data": {
      "text/html": [
       "239"
      ],
      "text/latex": [
       "239"
      ],
      "text/markdown": [
       "239"
      ],
      "text/plain": [
       "[1] 239"
      ]
     },
     "metadata": {},
     "output_type": "display_data"
    }
   ],
   "source": [
    "nobs(fit)"
   ]
  },
  {
   "cell_type": "code",
   "execution_count": 277,
   "metadata": {},
   "outputs": [
    {
     "data": {
      "text/html": [
       "<table>\n",
       "<thead><tr><th></th><th scope=col>ChiSq</th><th scope=col>df</th><th scope=col>P-value</th></tr></thead>\n",
       "<tbody>\n",
       "\t<tr><th scope=row>age</th><td> 7.50773092 </td><td>1           </td><td>6.143472e-03</td></tr>\n",
       "\t<tr><th scope=row>oc</th><td> 0.02467044 </td><td>1           </td><td>8.751911e-01</td></tr>\n",
       "\t<tr><th scope=row>vic</th><td>22.93139022 </td><td>1           </td><td>1.678877e-06</td></tr>\n",
       "\t<tr><th scope=row>vicl</th><td>19.10407252 </td><td>1           </td><td>1.237805e-05</td></tr>\n",
       "\t<tr><th scope=row>vis</th><td> 3.69740975 </td><td>1           </td><td>5.449701e-02</td></tr>\n",
       "\t<tr><th scope=row>dia</th><td> 7.89693139 </td><td>1           </td><td>4.951873e-03</td></tr>\n",
       "</tbody>\n",
       "</table>\n"
      ],
      "text/latex": [
       "\\begin{tabular}{r|lll}\n",
       "  & ChiSq & df & P-value\\\\\n",
       "\\hline\n",
       "\tage &  7.50773092  & 1            & 6.143472e-03\\\\\n",
       "\toc &  0.02467044  & 1            & 8.751911e-01\\\\\n",
       "\tvic & 22.93139022  & 1            & 1.678877e-06\\\\\n",
       "\tvicl & 19.10407252  & 1            & 1.237805e-05\\\\\n",
       "\tvis &  3.69740975  & 1            & 5.449701e-02\\\\\n",
       "\tdia &  7.89693139  & 1            & 4.951873e-03\\\\\n",
       "\\end{tabular}\n"
      ],
      "text/markdown": [
       "\n",
       "| <!--/--> | ChiSq | df | P-value | \n",
       "|---|---|---|---|---|---|\n",
       "| age |  7.50773092  | 1            | 6.143472e-03 | \n",
       "| oc |  0.02467044  | 1            | 8.751911e-01 | \n",
       "| vic | 22.93139022  | 1            | 1.678877e-06 | \n",
       "| vicl | 19.10407252  | 1            | 1.237805e-05 | \n",
       "| vis |  3.69740975  | 1            | 5.449701e-02 | \n",
       "| dia |  7.89693139  | 1            | 4.951873e-03 | \n",
       "\n",
       "\n"
      ],
      "text/plain": [
       "     ChiSq       df P-value     \n",
       "age   7.50773092 1  6.143472e-03\n",
       "oc    0.02467044 1  8.751911e-01\n",
       "vic  22.93139022 1  1.678877e-06\n",
       "vicl 19.10407252 1  1.237805e-05\n",
       "vis   3.69740975 1  5.449701e-02\n",
       "dia   7.89693139 1  4.951873e-03"
      ]
     },
     "metadata": {},
     "output_type": "display_data"
    }
   ],
   "source": [
    "drop1(fit)"
   ]
  },
  {
   "cell_type": "code",
   "execution_count": 280,
   "metadata": {},
   "outputs": [
    {
     "data": {
      "image/png": "[encoded data removed]",
      "text/plain": [
       "plot without title"
      ]
     },
     "metadata": {},
     "output_type": "display_data"
    }
   ],
   "source": [
    "plot(profile(fit,variable=\"dia\"))"
   ]
  },
  {
   "cell_type": "code",
   "execution_count": 281,
   "metadata": {},
   "outputs": [
    {
     "data": {
      "text/html": [
       "<ol class=list-inline>\n",
       "\t<li>6</li>\n",
       "\t<li>-37.0906427920355</li>\n",
       "</ol>\n"
      ],
      "text/latex": [
       "\\begin{enumerate*}\n",
       "\\item 6\n",
       "\\item -37.0906427920355\n",
       "\\end{enumerate*}\n"
      ],
      "text/markdown": [
       "1. 6\n",
       "2. -37.0906427920355\n",
       "\n",
       "\n"
      ],
      "text/plain": [
       "[1]   6.00000 -37.09064"
      ]
     },
     "metadata": {},
     "output_type": "display_data"
    }
   ],
   "source": [
    "extractAIC(fit)"
   ]
  },
  {
   "cell_type": "code",
   "execution_count": 283,
   "metadata": {},
   "outputs": [
    {
     "data": {
      "text/plain": [
       "logistf(formula = case ~ age + oc + vic + vicl + vis, data = sex2)\n",
       "Model fitted by Penalized ML\n",
       "Confidence intervals and p-values by Profile Likelihood \n",
       "\n",
       "                  coef  se(coef) lower 0.95 upper 0.95       Chisq            p\n",
       "(Intercept)  0.2156303 0.4819625 -0.7146947  1.1623534  0.20567276 6.501804e-01\n",
       "age         -0.9983797 0.4082718 -1.8240918 -0.2287152  6.53924530 1.055201e-02\n",
       "oc          -0.1298787 0.4406796 -0.9966601  0.7205575  0.08937046 7.649790e-01\n",
       "vic          2.2380693 0.5455393  1.2504040  3.3990033 22.76392381 1.831722e-06\n",
       "vicl        -2.1563699 0.5408146 -3.2990480 -1.1711540 20.44843509 6.125963e-06\n",
       "vis         -0.6763622 0.4110335 -1.4810659  0.1149734  2.80606423 9.390851e-02\n",
       "\n",
       "Likelihood ratio test=41.37839 on 5 df, p=7.868061e-08, n=239\n"
      ]
     },
     "metadata": {},
     "output_type": "display_data"
    }
   ],
   "source": [
    "fit1<-update(fit, case ~ age+oc+vic+vicl+vis)\n",
    "fit1"
   ]
  },
  {
   "cell_type": "code",
   "execution_count": 284,
   "metadata": {},
   "outputs": [
    {
     "data": {
      "text/html": [
       "<ol class=list-inline>\n",
       "\t<li>5</li>\n",
       "\t<li>-31.3783856725634</li>\n",
       "</ol>\n"
      ],
      "text/latex": [
       "\\begin{enumerate*}\n",
       "\\item 5\n",
       "\\item -31.3783856725634\n",
       "\\end{enumerate*}\n"
      ],
      "text/markdown": [
       "1. 5\n",
       "2. -31.3783856725634\n",
       "\n",
       "\n"
      ],
      "text/plain": [
       "[1]   5.00000 -31.37839"
      ]
     },
     "metadata": {},
     "output_type": "display_data"
    }
   ],
   "source": [
    "extractAIC(fit1)"
   ]
  },
  {
   "cell_type": "code",
   "execution_count": 286,
   "metadata": {},
   "outputs": [
    {
     "data": {
      "text/plain": [
       "Comparison of logistf models:\n",
       "                                   Formula ChiSquared \n",
       "1 case ~ age + oc + vic + vicl + vis + dia   49.09064 \n",
       "2                            - [ dia - 1 ]   41.19371 \n",
       "\n",
       "Method:  nested \n",
       "Chi-Squared:  7.896931   df= 1   P= 0.004951873 "
      ]
     },
     "metadata": {},
     "output_type": "display_data"
    }
   ],
   "source": [
    "anova(fit,fit1)"
   ]
  },
  {
   "cell_type": "code",
   "execution_count": 287,
   "metadata": {},
   "outputs": [
    {
     "name": "stdout",
     "output_type": "stream",
     "text": [
      "logistf(formula = case ~ age + oc + vic + vicl + vis + dia, data = sexagg, \n",
      "    weights = COUNT)\n",
      "\n",
      "Model fitted by Penalized ML\n",
      "Confidence intervals and p-values by Profile Likelihood Profile Likelihood Profile Likelihood Profile Likelihood Profile Likelihood Profile Likelihood Profile Likelihood \n",
      "\n",
      "                   coef  se(coef) lower 0.95  upper 0.95       Chisq\n",
      "(Intercept)  0.12025404 0.4855415 -0.8185574  1.07315110  0.06286298\n",
      "age         -1.10598130 0.4236601 -1.9737884 -0.30742658  7.50773092\n",
      "oc          -0.06881673 0.4437934 -0.9414360  0.78920042  0.02467044\n",
      "vic          2.26887464 0.5484160  1.2730233  3.43543174 22.93139022\n",
      "vicl        -2.11140816 0.5430824 -3.2608608 -1.11773667 19.10407252\n",
      "vis         -0.78831694 0.4173676 -1.6080879  0.01518319  3.69740975\n",
      "dia          3.09601263 1.6750089  0.7745730  8.03028804  7.89693139\n",
      "                       p\n",
      "(Intercept) 8.020268e-01\n",
      "age         6.143472e-03\n",
      "oc          8.751911e-01\n",
      "vic         1.678877e-06\n",
      "vicl        1.237805e-05\n",
      "vis         5.449701e-02\n",
      "dia         4.951873e-03\n",
      "\n",
      "Likelihood ratio test=49.09064 on 6 df, p=7.15089e-09, n=239\n",
      "Wald test = 30.64066 on 6 df, p = 2.968387e-05\n",
      "\n",
      "Covariance-Matrix:\n",
      "            [,1]          [,2]         [,3]        [,4]         [,5]\n",
      "[1,]  0.23575055 -0.0274268365 -0.195208806 -0.12109972 -0.028931309\n",
      "[2,] -0.02742684  0.1794879046  0.001817983 -0.02316594  0.034595748\n",
      "[3,] -0.19520881  0.0018179831  0.196952622  0.08788776  0.025843013\n",
      "[4,] -0.12109972 -0.0231659369  0.087887763  0.30076006 -0.195031761\n",
      "[5,] -0.02893131  0.0345957476  0.025843013 -0.19503176  0.294938443\n",
      "[6,] -0.04648041  0.0007176955  0.042053108 -0.01532464 -0.047269900\n",
      "[7,] -0.02697950 -0.0655714670  0.025480404  0.02521145 -0.008037389\n",
      "              [,6]         [,7]\n",
      "[1,] -0.0464804061 -0.026979496\n",
      "[2,]  0.0007176955 -0.065571467\n",
      "[3,]  0.0420531076  0.025480404\n",
      "[4,] -0.0153246406  0.025211447\n",
      "[5,] -0.0472699002 -0.008037389\n",
      "[6,]  0.1741956847 -0.045265534\n",
      "[7,] -0.0452655336  2.805654973\n"
     ]
    }
   ],
   "source": [
    "data(sexagg)\n",
    "fit2<-logistf(case ~ age+oc+vic+vicl+vis+dia, data=sexagg, weights=COUNT)\n",
    "summary(fit2)"
   ]
  },
  {
   "cell_type": "code",
   "execution_count": null,
   "metadata": {
    "collapsed": true
   },
   "outputs": [],
   "source": []
  },
  {
   "cell_type": "code",
   "execution_count": null,
   "metadata": {
    "collapsed": true
   },
   "outputs": [],
   "source": []
  },
  {
   "cell_type": "code",
   "execution_count": null,
   "metadata": {
    "collapsed": true
   },
   "outputs": [],
   "source": []
  }
 ],
 "metadata": {
  "kernelspec": {
   "display_name": "R",
   "language": "R",
   "name": "ir"
  },
  "language_info": {
   "codemirror_mode": "r",
   "file_extension": ".r",
   "mimetype": "text/x-r-source",
   "name": "R",
   "pygments_lexer": "r",
   "version": "3.4.1"
  }
 },
 "nbformat": 4,
 "nbformat_minor": 2
}
