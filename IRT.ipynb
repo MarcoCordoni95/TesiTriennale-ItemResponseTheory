{
 "cells": [
  {
   "cell_type": "code",
   "execution_count": 1,
   "metadata": {
    "collapsed": true
   },
   "outputs": [],
   "source": [
    "# Questi comandi permettono di usare in Jupyter le librerie di R presenti nel CRAN (Comprehensive R Archive Network)\n",
    "country.code <- 'it'\n",
    "url.pattern <- 'https://'  \n",
    "repo.data.frame <- subset(getCRANmirrors(), CountryCode == country.code & grepl(url.pattern, URL))\n",
    "options(repos = repo.data.frame$URL)"
   ]
  },
  {
   "cell_type": "code",
   "execution_count": 2,
   "metadata": {},
   "outputs": [
    {
     "name": "stdout",
     "output_type": "stream",
     "text": [
      "package 'psych' successfully unpacked and MD5 sums checked\n",
      "\n",
      "The downloaded binary packages are in\n",
      "\tC:\\Users\\Marco\\AppData\\Local\\Temp\\RtmpmQqZgs\\downloaded_packages\n",
      "package 'readxl' successfully unpacked and MD5 sums checked\n",
      "\n",
      "The downloaded binary packages are in\n",
      "\tC:\\Users\\Marco\\AppData\\Local\\Temp\\RtmpmQqZgs\\downloaded_packages\n"
     ]
    }
   ],
   "source": [
    "# Package utili: psych per le funzioni di stima dei parametri e readxl per poter leggere file excel\n",
    "install.packages(\"psych\")\n",
    "install.packages(\"readxl\")\n",
    "library(psych)\n",
    "library(\"readxl\")"
   ]
  },
  {
   "cell_type": "code",
   "execution_count": 3,
   "metadata": {},
   "outputs": [
    {
     "data": {
      "text/html": [
       "'getDiff'"
      ],
      "text/latex": [
       "'getDiff'"
      ],
      "text/markdown": [
       "'getDiff'"
      ],
      "text/plain": [
       "[1] \"getDiff\""
      ]
     },
     "metadata": {},
     "output_type": "display_data"
    },
    {
     "data": {
      "text/html": [
       "'getAbil'"
      ],
      "text/latex": [
       "'getAbil'"
      ],
      "text/markdown": [
       "'getAbil'"
      ],
      "text/plain": [
       "[1] \"getAbil\""
      ]
     },
     "metadata": {},
     "output_type": "display_data"
    },
    {
     "data": {
      "text/html": [
       "'getDiff'"
      ],
      "text/latex": [
       "'getDiff'"
      ],
      "text/markdown": [
       "'getDiff'"
      ],
      "text/plain": [
       "[1] \"getDiff\""
      ]
     },
     "metadata": {},
     "output_type": "display_data"
    },
    {
     "data": {
      "text/html": [
       "'getAbil'"
      ],
      "text/latex": [
       "'getAbil'"
      ],
      "text/markdown": [
       "'getAbil'"
      ],
      "text/plain": [
       "[1] \"getAbil\""
      ]
     },
     "metadata": {},
     "output_type": "display_data"
    }
   ],
   "source": [
    "# Classe per un oggetto di 2 campi: lista di difficoltà e lista di abilità\n",
    "setClass(\n",
    "  \"IrtParameters\",\n",
    "  representation(difficulties=\"array\", abilities=\"numeric\"),\n",
    ")\n",
    "\n",
    "setGeneric(\"getDiff\", \n",
    "    function(object) { \n",
    "        standardGeneric(\"getDiff\") \n",
    "    } \n",
    ")\n",
    "\n",
    "setGeneric(\"getAbil\", \n",
    "    function(object) { \n",
    "        standardGeneric(\"getAbil\") \n",
    "    } \n",
    ")\n",
    "\n",
    "setMethod(\"getDiff\", signature(\"IrtParameters\"),\n",
    "  function(object) {\n",
    "    object@difficulties\n",
    "  }\n",
    ")\n",
    "\n",
    "setMethod(\"getAbil\", signature(\"IrtParameters\"),\n",
    "  function(object) {\n",
    "    object@abilities\n",
    "  }\n",
    ")"
   ]
  },
  {
   "cell_type": "code",
   "execution_count": 8,
   "metadata": {
    "collapsed": true
   },
   "outputs": [],
   "source": [
    "# Funzioni per leggere dati da csv ed excel e impostare la prima colonna degli studenti come indici\n",
    "readCSV <- function(path) {\n",
    "  read.csv(path, row.names = 1)\n",
    "}\n",
    "\n",
    "readEXCEl <- function(path) {\n",
    "    items <- read_excel(path)\n",
    "    items <- as.data.frame(items)\n",
    "    rownames(items) <- items[,1]\n",
    "    items <- items[,-1]\n",
    "    items\n",
    "}"
   ]
  },
  {
   "cell_type": "code",
   "execution_count": 9,
   "metadata": {
    "collapsed": true
   },
   "outputs": [],
   "source": [
    "# Funzione per stimare le difficoltà e creare il grafico\n",
    "estimateDifficulties <- function(items, plot = TRUE) {\n",
    "  diff <- irt.item.diff.rasch(items)\n",
    "  diff[which(!is.finite(diff))] <- -4\n",
    "  \n",
    "  if (plot) {\n",
    "    nItems = length(items)\n",
    "    plot(diff,xlim=c(1,nItems),ylim=c(-4,4),type=\"b\",main=\"Difficulties plot\",xlab=\"Items\",ylab=\"Difficulty\",xaxt=\"n\",col=\"red\",pch=16,lwd=2)\n",
    "    axis(1, at=1:nItems, labels=names(items))\n",
    "    par(new = TRUE)\n",
    "    plot(diff + 3.7, type = \"h\", xlim = c(1,nItems),ylim = c(0,8), xaxt='n', yaxt = \"n\", xlab = \"\", ylab = \"\", lty = 2)          \n",
    "  }\n",
    "  array(diff)\n",
    "}\n",
    "\n",
    "# Funzione per stimare le abilità e creare l'istogramma\n",
    "estimateAbilities <- function(items, plot = TRUE) {\n",
    "    info <- irt.0p(items)\n",
    "    info <- data.frame(info)\n",
    "    theta <- info$theta0\n",
    "    if (plot) {\n",
    "        hist(theta,main=\"Ability histogram\",xlab=\"Ability\",ylab=\"Students\",breaks=seq(-3,3,by=0.5),xlim=c(-3,3),col=\"royalblue3\")\n",
    "        axis(1, at=seq(-3, 3, by=0.5), labels=seq(-3, 3, by=0.5))        \n",
    "    } \n",
    "    theta\n",
    "}\n",
    "\n",
    "estimateParameters<- function(items, plotDifficulties = TRUE, plotAbilities = TRUE) {\n",
    "    options(repr.plot.width=12, repr.plot.height=6) # ridimensiono plot\n",
    "    par(mfrow=c(1,2)) # 2 plot sulla stessa riga\n",
    "    diff <- estimateDifficulties(items, plotDifficulties)\n",
    "    abilities <- estimateAbilities(items, plotAbilities)\n",
    "    new(\"IrtParameters\", difficulties=diff, abilities=abilities)\n",
    "}\n",
    "\n",
    "# Funzione per il calcolo della probabilità che uno studente con una certa abilità passi un esercizio con una certa difficoltà\n",
    "pl1 <- function(ability, difficulty) {\n",
    "    exp(ability - difficulty) / (1 + exp(ability - difficulty))\n",
    "}\n",
    "\n",
    "# Funzione per generare una matrice di probabilità date difficoltà e abilità\n",
    "correctProbabilites <- function(items, diff, abil) {\n",
    "    probDf <- items\n",
    "    namesCol <- names(probDf)\n",
    "    namesRow <- row.names(probDf)\n",
    "    j <- 1\n",
    "    for (row in namesRow) {\n",
    "        i <- 1\n",
    "        for (col in namesCol) {\n",
    "            prob <- pl1(abil[j],diff[i])\n",
    "            perc <- round(prob * 100, digits = 0)\n",
    "            probDf[row,col] <- paste(perc,\"%\")\n",
    "            i <- i + 1\n",
    "        }\n",
    "        j <- j + 1\n",
    "    }\n",
    "    probDf\n",
    "}"
   ]
  },
  {
   "cell_type": "code",
   "execution_count": 10,
   "metadata": {},
   "outputs": [
    {
     "data": {
      "text/html": [
       "<table>\n",
       "<thead><tr><th></th><th scope=col>e1</th><th scope=col>e2</th><th scope=col>e3</th><th scope=col>e4</th><th scope=col>e5</th><th scope=col>e6</th><th scope=col>e7</th><th scope=col>e8</th><th scope=col>e9</th><th scope=col>e10</th></tr></thead>\n",
       "<tbody>\n",
       "\t<tr><th scope=row>S1</th><td>1</td><td>1</td><td>1</td><td>1</td><td>1</td><td>1</td><td>1</td><td>1</td><td>1</td><td>0</td></tr>\n",
       "\t<tr><th scope=row>S2</th><td>1</td><td>0</td><td>0</td><td>0</td><td>0</td><td>0</td><td>0</td><td>0</td><td>0</td><td>0</td></tr>\n",
       "\t<tr><th scope=row>S3</th><td>1</td><td>1</td><td>1</td><td>1</td><td>0</td><td>1</td><td>1</td><td>1</td><td>1</td><td>0</td></tr>\n",
       "\t<tr><th scope=row>S4</th><td>1</td><td>1</td><td>1</td><td>1</td><td>1</td><td>1</td><td>1</td><td>1</td><td>1</td><td>0</td></tr>\n",
       "\t<tr><th scope=row>S5</th><td>1</td><td>1</td><td>1</td><td>1</td><td>1</td><td>1</td><td>0</td><td>0</td><td>0</td><td>0</td></tr>\n",
       "\t<tr><th scope=row>S6</th><td>1</td><td>1</td><td>1</td><td>1</td><td>1</td><td>0</td><td>1</td><td>1</td><td>1</td><td>0</td></tr>\n",
       "\t<tr><th scope=row>S7</th><td>1</td><td>1</td><td>0</td><td>1</td><td>1</td><td>1</td><td>1</td><td>0</td><td>0</td><td>0</td></tr>\n",
       "\t<tr><th scope=row>S8</th><td>1</td><td>1</td><td>1</td><td>1</td><td>0</td><td>1</td><td>0</td><td>1</td><td>1</td><td>0</td></tr>\n",
       "\t<tr><th scope=row>S9</th><td>1</td><td>1</td><td>1</td><td>1</td><td>1</td><td>0</td><td>1</td><td>1</td><td>1</td><td>0</td></tr>\n",
       "\t<tr><th scope=row>S10</th><td>1</td><td>1</td><td>1</td><td>1</td><td>1</td><td>0</td><td>1</td><td>1</td><td>0</td><td>0</td></tr>\n",
       "\t<tr><th scope=row>S11</th><td>1</td><td>1</td><td>1</td><td>1</td><td>0</td><td>1</td><td>1</td><td>0</td><td>1</td><td>0</td></tr>\n",
       "\t<tr><th scope=row>S12</th><td>1</td><td>1</td><td>0</td><td>0</td><td>1</td><td>1</td><td>1</td><td>0</td><td>0</td><td>0</td></tr>\n",
       "\t<tr><th scope=row>S13</th><td>1</td><td>1</td><td>0</td><td>1</td><td>1</td><td>0</td><td>1</td><td>0</td><td>1</td><td>0</td></tr>\n",
       "\t<tr><th scope=row>S14</th><td>1</td><td>1</td><td>1</td><td>1</td><td>1</td><td>1</td><td>1</td><td>1</td><td>0</td><td>0</td></tr>\n",
       "\t<tr><th scope=row>S15</th><td>1</td><td>1</td><td>1</td><td>1</td><td>0</td><td>0</td><td>1</td><td>1</td><td>1</td><td>0</td></tr>\n",
       "\t<tr><th scope=row>S16</th><td>1</td><td>0</td><td>1</td><td>1</td><td>1</td><td>0</td><td>0</td><td>0</td><td>1</td><td>0</td></tr>\n",
       "\t<tr><th scope=row>S17</th><td>1</td><td>1</td><td>1</td><td>1</td><td>0</td><td>1</td><td>0</td><td>1</td><td>0</td><td>0</td></tr>\n",
       "\t<tr><th scope=row>S18</th><td>1</td><td>1</td><td>1</td><td>1</td><td>1</td><td>1</td><td>1</td><td>0</td><td>1</td><td>0</td></tr>\n",
       "\t<tr><th scope=row>S19</th><td>1</td><td>1</td><td>1</td><td>1</td><td>1</td><td>0</td><td>1</td><td>0</td><td>0</td><td>0</td></tr>\n",
       "\t<tr><th scope=row>S20</th><td>1</td><td>1</td><td>0</td><td>1</td><td>1</td><td>1</td><td>0</td><td>1</td><td>1</td><td>0</td></tr>\n",
       "\t<tr><th scope=row>S21</th><td>1</td><td>1</td><td>1</td><td>1</td><td>1</td><td>1</td><td>0</td><td>1</td><td>1</td><td>0</td></tr>\n",
       "\t<tr><th scope=row>S22</th><td>1</td><td>1</td><td>1</td><td>0</td><td>1</td><td>0</td><td>0</td><td>0</td><td>0</td><td>0</td></tr>\n",
       "\t<tr><th scope=row>S23</th><td>1</td><td>1</td><td>1</td><td>1</td><td>1</td><td>1</td><td>1</td><td>1</td><td>0</td><td>0</td></tr>\n",
       "\t<tr><th scope=row>S24</th><td>1</td><td>1</td><td>1</td><td>1</td><td>0</td><td>1</td><td>1</td><td>1</td><td>1</td><td>0</td></tr>\n",
       "\t<tr><th scope=row>S25</th><td>1</td><td>1</td><td>1</td><td>1</td><td>1</td><td>1</td><td>1</td><td>1</td><td>1</td><td>0</td></tr>\n",
       "</tbody>\n",
       "</table>\n"
      ],
      "text/latex": [
       "\\begin{tabular}{r|llllllllll}\n",
       "  & e1 & e2 & e3 & e4 & e5 & e6 & e7 & e8 & e9 & e10\\\\\n",
       "\\hline\n",
       "\tS1 & 1 & 1 & 1 & 1 & 1 & 1 & 1 & 1 & 1 & 0\\\\\n",
       "\tS2 & 1 & 0 & 0 & 0 & 0 & 0 & 0 & 0 & 0 & 0\\\\\n",
       "\tS3 & 1 & 1 & 1 & 1 & 0 & 1 & 1 & 1 & 1 & 0\\\\\n",
       "\tS4 & 1 & 1 & 1 & 1 & 1 & 1 & 1 & 1 & 1 & 0\\\\\n",
       "\tS5 & 1 & 1 & 1 & 1 & 1 & 1 & 0 & 0 & 0 & 0\\\\\n",
       "\tS6 & 1 & 1 & 1 & 1 & 1 & 0 & 1 & 1 & 1 & 0\\\\\n",
       "\tS7 & 1 & 1 & 0 & 1 & 1 & 1 & 1 & 0 & 0 & 0\\\\\n",
       "\tS8 & 1 & 1 & 1 & 1 & 0 & 1 & 0 & 1 & 1 & 0\\\\\n",
       "\tS9 & 1 & 1 & 1 & 1 & 1 & 0 & 1 & 1 & 1 & 0\\\\\n",
       "\tS10 & 1 & 1 & 1 & 1 & 1 & 0 & 1 & 1 & 0 & 0\\\\\n",
       "\tS11 & 1 & 1 & 1 & 1 & 0 & 1 & 1 & 0 & 1 & 0\\\\\n",
       "\tS12 & 1 & 1 & 0 & 0 & 1 & 1 & 1 & 0 & 0 & 0\\\\\n",
       "\tS13 & 1 & 1 & 0 & 1 & 1 & 0 & 1 & 0 & 1 & 0\\\\\n",
       "\tS14 & 1 & 1 & 1 & 1 & 1 & 1 & 1 & 1 & 0 & 0\\\\\n",
       "\tS15 & 1 & 1 & 1 & 1 & 0 & 0 & 1 & 1 & 1 & 0\\\\\n",
       "\tS16 & 1 & 0 & 1 & 1 & 1 & 0 & 0 & 0 & 1 & 0\\\\\n",
       "\tS17 & 1 & 1 & 1 & 1 & 0 & 1 & 0 & 1 & 0 & 0\\\\\n",
       "\tS18 & 1 & 1 & 1 & 1 & 1 & 1 & 1 & 0 & 1 & 0\\\\\n",
       "\tS19 & 1 & 1 & 1 & 1 & 1 & 0 & 1 & 0 & 0 & 0\\\\\n",
       "\tS20 & 1 & 1 & 0 & 1 & 1 & 1 & 0 & 1 & 1 & 0\\\\\n",
       "\tS21 & 1 & 1 & 1 & 1 & 1 & 1 & 0 & 1 & 1 & 0\\\\\n",
       "\tS22 & 1 & 1 & 1 & 0 & 1 & 0 & 0 & 0 & 0 & 0\\\\\n",
       "\tS23 & 1 & 1 & 1 & 1 & 1 & 1 & 1 & 1 & 0 & 0\\\\\n",
       "\tS24 & 1 & 1 & 1 & 1 & 0 & 1 & 1 & 1 & 1 & 0\\\\\n",
       "\tS25 & 1 & 1 & 1 & 1 & 1 & 1 & 1 & 1 & 1 & 0\\\\\n",
       "\\end{tabular}\n"
      ],
      "text/markdown": [
       "\n",
       "| <!--/--> | e1 | e2 | e3 | e4 | e5 | e6 | e7 | e8 | e9 | e10 | \n",
       "|---|---|---|---|---|---|---|---|---|---|---|---|---|---|---|---|---|---|---|---|---|---|---|---|---|\n",
       "| S1 | 1 | 1 | 1 | 1 | 1 | 1 | 1 | 1 | 1 | 0 | \n",
       "| S2 | 1 | 0 | 0 | 0 | 0 | 0 | 0 | 0 | 0 | 0 | \n",
       "| S3 | 1 | 1 | 1 | 1 | 0 | 1 | 1 | 1 | 1 | 0 | \n",
       "| S4 | 1 | 1 | 1 | 1 | 1 | 1 | 1 | 1 | 1 | 0 | \n",
       "| S5 | 1 | 1 | 1 | 1 | 1 | 1 | 0 | 0 | 0 | 0 | \n",
       "| S6 | 1 | 1 | 1 | 1 | 1 | 0 | 1 | 1 | 1 | 0 | \n",
       "| S7 | 1 | 1 | 0 | 1 | 1 | 1 | 1 | 0 | 0 | 0 | \n",
       "| S8 | 1 | 1 | 1 | 1 | 0 | 1 | 0 | 1 | 1 | 0 | \n",
       "| S9 | 1 | 1 | 1 | 1 | 1 | 0 | 1 | 1 | 1 | 0 | \n",
       "| S10 | 1 | 1 | 1 | 1 | 1 | 0 | 1 | 1 | 0 | 0 | \n",
       "| S11 | 1 | 1 | 1 | 1 | 0 | 1 | 1 | 0 | 1 | 0 | \n",
       "| S12 | 1 | 1 | 0 | 0 | 1 | 1 | 1 | 0 | 0 | 0 | \n",
       "| S13 | 1 | 1 | 0 | 1 | 1 | 0 | 1 | 0 | 1 | 0 | \n",
       "| S14 | 1 | 1 | 1 | 1 | 1 | 1 | 1 | 1 | 0 | 0 | \n",
       "| S15 | 1 | 1 | 1 | 1 | 0 | 0 | 1 | 1 | 1 | 0 | \n",
       "| S16 | 1 | 0 | 1 | 1 | 1 | 0 | 0 | 0 | 1 | 0 | \n",
       "| S17 | 1 | 1 | 1 | 1 | 0 | 1 | 0 | 1 | 0 | 0 | \n",
       "| S18 | 1 | 1 | 1 | 1 | 1 | 1 | 1 | 0 | 1 | 0 | \n",
       "| S19 | 1 | 1 | 1 | 1 | 1 | 0 | 1 | 0 | 0 | 0 | \n",
       "| S20 | 1 | 1 | 0 | 1 | 1 | 1 | 0 | 1 | 1 | 0 | \n",
       "| S21 | 1 | 1 | 1 | 1 | 1 | 1 | 0 | 1 | 1 | 0 | \n",
       "| S22 | 1 | 1 | 1 | 0 | 1 | 0 | 0 | 0 | 0 | 0 | \n",
       "| S23 | 1 | 1 | 1 | 1 | 1 | 1 | 1 | 1 | 0 | 0 | \n",
       "| S24 | 1 | 1 | 1 | 1 | 0 | 1 | 1 | 1 | 1 | 0 | \n",
       "| S25 | 1 | 1 | 1 | 1 | 1 | 1 | 1 | 1 | 1 | 0 | \n",
       "\n",
       "\n"
      ],
      "text/plain": [
       "    e1 e2 e3 e4 e5 e6 e7 e8 e9 e10\n",
       "S1  1  1  1  1  1  1  1  1  1  0  \n",
       "S2  1  0  0  0  0  0  0  0  0  0  \n",
       "S3  1  1  1  1  0  1  1  1  1  0  \n",
       "S4  1  1  1  1  1  1  1  1  1  0  \n",
       "S5  1  1  1  1  1  1  0  0  0  0  \n",
       "S6  1  1  1  1  1  0  1  1  1  0  \n",
       "S7  1  1  0  1  1  1  1  0  0  0  \n",
       "S8  1  1  1  1  0  1  0  1  1  0  \n",
       "S9  1  1  1  1  1  0  1  1  1  0  \n",
       "S10 1  1  1  1  1  0  1  1  0  0  \n",
       "S11 1  1  1  1  0  1  1  0  1  0  \n",
       "S12 1  1  0  0  1  1  1  0  0  0  \n",
       "S13 1  1  0  1  1  0  1  0  1  0  \n",
       "S14 1  1  1  1  1  1  1  1  0  0  \n",
       "S15 1  1  1  1  0  0  1  1  1  0  \n",
       "S16 1  0  1  1  1  0  0  0  1  0  \n",
       "S17 1  1  1  1  0  1  0  1  0  0  \n",
       "S18 1  1  1  1  1  1  1  0  1  0  \n",
       "S19 1  1  1  1  1  0  1  0  0  0  \n",
       "S20 1  1  0  1  1  1  0  1  1  0  \n",
       "S21 1  1  1  1  1  1  0  1  1  0  \n",
       "S22 1  1  1  0  1  0  0  0  0  0  \n",
       "S23 1  1  1  1  1  1  1  1  0  0  \n",
       "S24 1  1  1  1  0  1  1  1  1  0  \n",
       "S25 1  1  1  1  1  1  1  1  1  0  "
      ]
     },
     "metadata": {},
     "output_type": "display_data"
    }
   ],
   "source": [
    "# Esempio con tabella dicotomica, 1 = SN ha passato l'esercizio en, 0 altrimenti\n",
    "#items <- readCSV(\"EsameCSV.csv\")\n",
    "items <- readEXCEl(\"EsameEXCEL.xlsx\")\n",
    "items"
   ]
  },
  {
   "cell_type": "code",
   "execution_count": 11,
   "metadata": {},
   "outputs": [
    {
     "data": {
      "text/plain": [
       "An object of class \"IrtParameters\"\n",
       "Slot \"difficulties\":\n",
       " [1] -4.0000000 -2.4423470 -1.3862944 -1.9924302 -0.9444616 -0.5753641\n",
       " [7] -0.7537718 -0.4054651 -0.4054651  3.1780538\n",
       "\n",
       "Slot \"abilities\":\n",
       " [1]  2.1972246 -2.1972246  1.3862944  2.1972246  0.4054651  1.3862944\n",
       " [7]  0.4054651  0.8472979  1.3862944  0.8472979  0.8472979  0.0000000\n",
       "[13]  0.4054651  1.3862944  0.8472979  0.0000000  0.4054651  1.3862944\n",
       "[19]  0.4054651  0.8472979  1.3862944 -0.4054651  1.3862944  1.3862944\n",
       "[25]  2.1972246\n"
      ]
     },
     "metadata": {},
     "output_type": "display_data"
    },
    {
     "data": {
      "image/png": "[encoded data removed]",
      "text/plain": [
       "Plot with title \"Ability histogram\""
      ]
     },
     "metadata": {},
     "output_type": "display_data"
    }
   ],
   "source": [
    "# la funzione estimateParameters prende in input la tabella dicotomica, restituisce un oggetto di tipo IrtParameters con 2 \n",
    "# campi, uno per le difficoltà stimate e uno per le abilità stimate, se non si specifica altrimenti verranno anche visualizzati\n",
    "# i relativi grafici\n",
    "param <- estimateParameters(items)\n",
    "param"
   ]
  },
  {
   "cell_type": "code",
   "execution_count": 12,
   "metadata": {},
   "outputs": [
    {
     "data": {
      "text/html": [
       "<table>\n",
       "<thead><tr><th></th><th scope=col>e1</th><th scope=col>e2</th><th scope=col>e3</th><th scope=col>e4</th><th scope=col>e5</th><th scope=col>e6</th><th scope=col>e7</th><th scope=col>e8</th><th scope=col>e9</th><th scope=col>e10</th></tr></thead>\n",
       "<tbody>\n",
       "\t<tr><th scope=row>S1</th><td>100 %</td><td>99 % </td><td>97 % </td><td>99 % </td><td>96 % </td><td>94 % </td><td>95 % </td><td>93 % </td><td>93 % </td><td>27 % </td></tr>\n",
       "\t<tr><th scope=row>S2</th><td>86 % </td><td>56 % </td><td>31 % </td><td>45 % </td><td>22 % </td><td>16 % </td><td>19 % </td><td>14 % </td><td>14 % </td><td>0 %  </td></tr>\n",
       "\t<tr><th scope=row>S3</th><td>100 %</td><td>98 % </td><td>94 % </td><td>97 % </td><td>91 % </td><td>88 % </td><td>89 % </td><td>86 % </td><td>86 % </td><td>14 % </td></tr>\n",
       "\t<tr><th scope=row>S4</th><td>100 %</td><td>99 % </td><td>97 % </td><td>99 % </td><td>96 % </td><td>94 % </td><td>95 % </td><td>93 % </td><td>93 % </td><td>27 % </td></tr>\n",
       "\t<tr><th scope=row>S5</th><td>99 % </td><td>95 % </td><td>86 % </td><td>92 % </td><td>79 % </td><td>73 % </td><td>76 % </td><td>69 % </td><td>69 % </td><td>6 %  </td></tr>\n",
       "\t<tr><th scope=row>S6</th><td>100 %</td><td>98 % </td><td>94 % </td><td>97 % </td><td>91 % </td><td>88 % </td><td>89 % </td><td>86 % </td><td>86 % </td><td>14 % </td></tr>\n",
       "\t<tr><th scope=row>S7</th><td>99 % </td><td>95 % </td><td>86 % </td><td>92 % </td><td>79 % </td><td>73 % </td><td>76 % </td><td>69 % </td><td>69 % </td><td>6 %  </td></tr>\n",
       "\t<tr><th scope=row>S8</th><td>99 % </td><td>96 % </td><td>90 % </td><td>94 % </td><td>86 % </td><td>81 % </td><td>83 % </td><td>78 % </td><td>78 % </td><td>9 %  </td></tr>\n",
       "\t<tr><th scope=row>S9</th><td>100 %</td><td>98 % </td><td>94 % </td><td>97 % </td><td>91 % </td><td>88 % </td><td>89 % </td><td>86 % </td><td>86 % </td><td>14 % </td></tr>\n",
       "\t<tr><th scope=row>S10</th><td>99 % </td><td>96 % </td><td>90 % </td><td>94 % </td><td>86 % </td><td>81 % </td><td>83 % </td><td>78 % </td><td>78 % </td><td>9 %  </td></tr>\n",
       "\t<tr><th scope=row>S11</th><td>99 % </td><td>96 % </td><td>90 % </td><td>94 % </td><td>86 % </td><td>81 % </td><td>83 % </td><td>78 % </td><td>78 % </td><td>9 %  </td></tr>\n",
       "\t<tr><th scope=row>S12</th><td>98 % </td><td>92 % </td><td>80 % </td><td>88 % </td><td>72 % </td><td>64 % </td><td>68 % </td><td>60 % </td><td>60 % </td><td>4 %  </td></tr>\n",
       "\t<tr><th scope=row>S13</th><td>99 % </td><td>95 % </td><td>86 % </td><td>92 % </td><td>79 % </td><td>73 % </td><td>76 % </td><td>69 % </td><td>69 % </td><td>6 %  </td></tr>\n",
       "\t<tr><th scope=row>S14</th><td>100 %</td><td>98 % </td><td>94 % </td><td>97 % </td><td>91 % </td><td>88 % </td><td>89 % </td><td>86 % </td><td>86 % </td><td>14 % </td></tr>\n",
       "\t<tr><th scope=row>S15</th><td>99 % </td><td>96 % </td><td>90 % </td><td>94 % </td><td>86 % </td><td>81 % </td><td>83 % </td><td>78 % </td><td>78 % </td><td>9 %  </td></tr>\n",
       "\t<tr><th scope=row>S16</th><td>98 % </td><td>92 % </td><td>80 % </td><td>88 % </td><td>72 % </td><td>64 % </td><td>68 % </td><td>60 % </td><td>60 % </td><td>4 %  </td></tr>\n",
       "\t<tr><th scope=row>S17</th><td>99 % </td><td>95 % </td><td>86 % </td><td>92 % </td><td>79 % </td><td>73 % </td><td>76 % </td><td>69 % </td><td>69 % </td><td>6 %  </td></tr>\n",
       "\t<tr><th scope=row>S18</th><td>100 %</td><td>98 % </td><td>94 % </td><td>97 % </td><td>91 % </td><td>88 % </td><td>89 % </td><td>86 % </td><td>86 % </td><td>14 % </td></tr>\n",
       "\t<tr><th scope=row>S19</th><td>99 % </td><td>95 % </td><td>86 % </td><td>92 % </td><td>79 % </td><td>73 % </td><td>76 % </td><td>69 % </td><td>69 % </td><td>6 %  </td></tr>\n",
       "\t<tr><th scope=row>S20</th><td>99 % </td><td>96 % </td><td>90 % </td><td>94 % </td><td>86 % </td><td>81 % </td><td>83 % </td><td>78 % </td><td>78 % </td><td>9 %  </td></tr>\n",
       "\t<tr><th scope=row>S21</th><td>100 %</td><td>98 % </td><td>94 % </td><td>97 % </td><td>91 % </td><td>88 % </td><td>89 % </td><td>86 % </td><td>86 % </td><td>14 % </td></tr>\n",
       "\t<tr><th scope=row>S22</th><td>97 % </td><td>88 % </td><td>73 % </td><td>83 % </td><td>63 % </td><td>54 % </td><td>59 % </td><td>50 % </td><td>50 % </td><td>3 %  </td></tr>\n",
       "\t<tr><th scope=row>S23</th><td>100 %</td><td>98 % </td><td>94 % </td><td>97 % </td><td>91 % </td><td>88 % </td><td>89 % </td><td>86 % </td><td>86 % </td><td>14 % </td></tr>\n",
       "\t<tr><th scope=row>S24</th><td>100 %</td><td>98 % </td><td>94 % </td><td>97 % </td><td>91 % </td><td>88 % </td><td>89 % </td><td>86 % </td><td>86 % </td><td>14 % </td></tr>\n",
       "\t<tr><th scope=row>S25</th><td>100 %</td><td>99 % </td><td>97 % </td><td>99 % </td><td>96 % </td><td>94 % </td><td>95 % </td><td>93 % </td><td>93 % </td><td>27 % </td></tr>\n",
       "</tbody>\n",
       "</table>\n"
      ],
      "text/latex": [
       "\\begin{tabular}{r|llllllllll}\n",
       "  & e1 & e2 & e3 & e4 & e5 & e6 & e7 & e8 & e9 & e10\\\\\n",
       "\\hline\n",
       "\tS1 & 100 \\% & 99 \\%  & 97 \\%  & 99 \\%  & 96 \\%  & 94 \\%  & 95 \\%  & 93 \\%  & 93 \\%  & 27 \\% \\\\\n",
       "\tS2 & 86 \\%  & 56 \\%  & 31 \\%  & 45 \\%  & 22 \\%  & 16 \\%  & 19 \\%  & 14 \\%  & 14 \\%  & 0 \\%  \\\\\n",
       "\tS3 & 100 \\% & 98 \\%  & 94 \\%  & 97 \\%  & 91 \\%  & 88 \\%  & 89 \\%  & 86 \\%  & 86 \\%  & 14 \\% \\\\\n",
       "\tS4 & 100 \\% & 99 \\%  & 97 \\%  & 99 \\%  & 96 \\%  & 94 \\%  & 95 \\%  & 93 \\%  & 93 \\%  & 27 \\% \\\\\n",
       "\tS5 & 99 \\%  & 95 \\%  & 86 \\%  & 92 \\%  & 79 \\%  & 73 \\%  & 76 \\%  & 69 \\%  & 69 \\%  & 6 \\%  \\\\\n",
       "\tS6 & 100 \\% & 98 \\%  & 94 \\%  & 97 \\%  & 91 \\%  & 88 \\%  & 89 \\%  & 86 \\%  & 86 \\%  & 14 \\% \\\\\n",
       "\tS7 & 99 \\%  & 95 \\%  & 86 \\%  & 92 \\%  & 79 \\%  & 73 \\%  & 76 \\%  & 69 \\%  & 69 \\%  & 6 \\%  \\\\\n",
       "\tS8 & 99 \\%  & 96 \\%  & 90 \\%  & 94 \\%  & 86 \\%  & 81 \\%  & 83 \\%  & 78 \\%  & 78 \\%  & 9 \\%  \\\\\n",
       "\tS9 & 100 \\% & 98 \\%  & 94 \\%  & 97 \\%  & 91 \\%  & 88 \\%  & 89 \\%  & 86 \\%  & 86 \\%  & 14 \\% \\\\\n",
       "\tS10 & 99 \\%  & 96 \\%  & 90 \\%  & 94 \\%  & 86 \\%  & 81 \\%  & 83 \\%  & 78 \\%  & 78 \\%  & 9 \\%  \\\\\n",
       "\tS11 & 99 \\%  & 96 \\%  & 90 \\%  & 94 \\%  & 86 \\%  & 81 \\%  & 83 \\%  & 78 \\%  & 78 \\%  & 9 \\%  \\\\\n",
       "\tS12 & 98 \\%  & 92 \\%  & 80 \\%  & 88 \\%  & 72 \\%  & 64 \\%  & 68 \\%  & 60 \\%  & 60 \\%  & 4 \\%  \\\\\n",
       "\tS13 & 99 \\%  & 95 \\%  & 86 \\%  & 92 \\%  & 79 \\%  & 73 \\%  & 76 \\%  & 69 \\%  & 69 \\%  & 6 \\%  \\\\\n",
       "\tS14 & 100 \\% & 98 \\%  & 94 \\%  & 97 \\%  & 91 \\%  & 88 \\%  & 89 \\%  & 86 \\%  & 86 \\%  & 14 \\% \\\\\n",
       "\tS15 & 99 \\%  & 96 \\%  & 90 \\%  & 94 \\%  & 86 \\%  & 81 \\%  & 83 \\%  & 78 \\%  & 78 \\%  & 9 \\%  \\\\\n",
       "\tS16 & 98 \\%  & 92 \\%  & 80 \\%  & 88 \\%  & 72 \\%  & 64 \\%  & 68 \\%  & 60 \\%  & 60 \\%  & 4 \\%  \\\\\n",
       "\tS17 & 99 \\%  & 95 \\%  & 86 \\%  & 92 \\%  & 79 \\%  & 73 \\%  & 76 \\%  & 69 \\%  & 69 \\%  & 6 \\%  \\\\\n",
       "\tS18 & 100 \\% & 98 \\%  & 94 \\%  & 97 \\%  & 91 \\%  & 88 \\%  & 89 \\%  & 86 \\%  & 86 \\%  & 14 \\% \\\\\n",
       "\tS19 & 99 \\%  & 95 \\%  & 86 \\%  & 92 \\%  & 79 \\%  & 73 \\%  & 76 \\%  & 69 \\%  & 69 \\%  & 6 \\%  \\\\\n",
       "\tS20 & 99 \\%  & 96 \\%  & 90 \\%  & 94 \\%  & 86 \\%  & 81 \\%  & 83 \\%  & 78 \\%  & 78 \\%  & 9 \\%  \\\\\n",
       "\tS21 & 100 \\% & 98 \\%  & 94 \\%  & 97 \\%  & 91 \\%  & 88 \\%  & 89 \\%  & 86 \\%  & 86 \\%  & 14 \\% \\\\\n",
       "\tS22 & 97 \\%  & 88 \\%  & 73 \\%  & 83 \\%  & 63 \\%  & 54 \\%  & 59 \\%  & 50 \\%  & 50 \\%  & 3 \\%  \\\\\n",
       "\tS23 & 100 \\% & 98 \\%  & 94 \\%  & 97 \\%  & 91 \\%  & 88 \\%  & 89 \\%  & 86 \\%  & 86 \\%  & 14 \\% \\\\\n",
       "\tS24 & 100 \\% & 98 \\%  & 94 \\%  & 97 \\%  & 91 \\%  & 88 \\%  & 89 \\%  & 86 \\%  & 86 \\%  & 14 \\% \\\\\n",
       "\tS25 & 100 \\% & 99 \\%  & 97 \\%  & 99 \\%  & 96 \\%  & 94 \\%  & 95 \\%  & 93 \\%  & 93 \\%  & 27 \\% \\\\\n",
       "\\end{tabular}\n"
      ],
      "text/markdown": [
       "\n",
       "| <!--/--> | e1 | e2 | e3 | e4 | e5 | e6 | e7 | e8 | e9 | e10 | \n",
       "|---|---|---|---|---|---|---|---|---|---|---|---|---|---|---|---|---|---|---|---|---|---|---|---|---|\n",
       "| S1 | 100 % | 99 %  | 97 %  | 99 %  | 96 %  | 94 %  | 95 %  | 93 %  | 93 %  | 27 %  | \n",
       "| S2 | 86 %  | 56 %  | 31 %  | 45 %  | 22 %  | 16 %  | 19 %  | 14 %  | 14 %  | 0 %   | \n",
       "| S3 | 100 % | 98 %  | 94 %  | 97 %  | 91 %  | 88 %  | 89 %  | 86 %  | 86 %  | 14 %  | \n",
       "| S4 | 100 % | 99 %  | 97 %  | 99 %  | 96 %  | 94 %  | 95 %  | 93 %  | 93 %  | 27 %  | \n",
       "| S5 | 99 %  | 95 %  | 86 %  | 92 %  | 79 %  | 73 %  | 76 %  | 69 %  | 69 %  | 6 %   | \n",
       "| S6 | 100 % | 98 %  | 94 %  | 97 %  | 91 %  | 88 %  | 89 %  | 86 %  | 86 %  | 14 %  | \n",
       "| S7 | 99 %  | 95 %  | 86 %  | 92 %  | 79 %  | 73 %  | 76 %  | 69 %  | 69 %  | 6 %   | \n",
       "| S8 | 99 %  | 96 %  | 90 %  | 94 %  | 86 %  | 81 %  | 83 %  | 78 %  | 78 %  | 9 %   | \n",
       "| S9 | 100 % | 98 %  | 94 %  | 97 %  | 91 %  | 88 %  | 89 %  | 86 %  | 86 %  | 14 %  | \n",
       "| S10 | 99 %  | 96 %  | 90 %  | 94 %  | 86 %  | 81 %  | 83 %  | 78 %  | 78 %  | 9 %   | \n",
       "| S11 | 99 %  | 96 %  | 90 %  | 94 %  | 86 %  | 81 %  | 83 %  | 78 %  | 78 %  | 9 %   | \n",
       "| S12 | 98 %  | 92 %  | 80 %  | 88 %  | 72 %  | 64 %  | 68 %  | 60 %  | 60 %  | 4 %   | \n",
       "| S13 | 99 %  | 95 %  | 86 %  | 92 %  | 79 %  | 73 %  | 76 %  | 69 %  | 69 %  | 6 %   | \n",
       "| S14 | 100 % | 98 %  | 94 %  | 97 %  | 91 %  | 88 %  | 89 %  | 86 %  | 86 %  | 14 %  | \n",
       "| S15 | 99 %  | 96 %  | 90 %  | 94 %  | 86 %  | 81 %  | 83 %  | 78 %  | 78 %  | 9 %   | \n",
       "| S16 | 98 %  | 92 %  | 80 %  | 88 %  | 72 %  | 64 %  | 68 %  | 60 %  | 60 %  | 4 %   | \n",
       "| S17 | 99 %  | 95 %  | 86 %  | 92 %  | 79 %  | 73 %  | 76 %  | 69 %  | 69 %  | 6 %   | \n",
       "| S18 | 100 % | 98 %  | 94 %  | 97 %  | 91 %  | 88 %  | 89 %  | 86 %  | 86 %  | 14 %  | \n",
       "| S19 | 99 %  | 95 %  | 86 %  | 92 %  | 79 %  | 73 %  | 76 %  | 69 %  | 69 %  | 6 %   | \n",
       "| S20 | 99 %  | 96 %  | 90 %  | 94 %  | 86 %  | 81 %  | 83 %  | 78 %  | 78 %  | 9 %   | \n",
       "| S21 | 100 % | 98 %  | 94 %  | 97 %  | 91 %  | 88 %  | 89 %  | 86 %  | 86 %  | 14 %  | \n",
       "| S22 | 97 %  | 88 %  | 73 %  | 83 %  | 63 %  | 54 %  | 59 %  | 50 %  | 50 %  | 3 %   | \n",
       "| S23 | 100 % | 98 %  | 94 %  | 97 %  | 91 %  | 88 %  | 89 %  | 86 %  | 86 %  | 14 %  | \n",
       "| S24 | 100 % | 98 %  | 94 %  | 97 %  | 91 %  | 88 %  | 89 %  | 86 %  | 86 %  | 14 %  | \n",
       "| S25 | 100 % | 99 %  | 97 %  | 99 %  | 96 %  | 94 %  | 95 %  | 93 %  | 93 %  | 27 %  | \n",
       "\n",
       "\n"
      ],
      "text/plain": [
       "    e1    e2   e3   e4   e5   e6   e7   e8   e9   e10 \n",
       "S1  100 % 99 % 97 % 99 % 96 % 94 % 95 % 93 % 93 % 27 %\n",
       "S2  86 %  56 % 31 % 45 % 22 % 16 % 19 % 14 % 14 % 0 % \n",
       "S3  100 % 98 % 94 % 97 % 91 % 88 % 89 % 86 % 86 % 14 %\n",
       "S4  100 % 99 % 97 % 99 % 96 % 94 % 95 % 93 % 93 % 27 %\n",
       "S5  99 %  95 % 86 % 92 % 79 % 73 % 76 % 69 % 69 % 6 % \n",
       "S6  100 % 98 % 94 % 97 % 91 % 88 % 89 % 86 % 86 % 14 %\n",
       "S7  99 %  95 % 86 % 92 % 79 % 73 % 76 % 69 % 69 % 6 % \n",
       "S8  99 %  96 % 90 % 94 % 86 % 81 % 83 % 78 % 78 % 9 % \n",
       "S9  100 % 98 % 94 % 97 % 91 % 88 % 89 % 86 % 86 % 14 %\n",
       "S10 99 %  96 % 90 % 94 % 86 % 81 % 83 % 78 % 78 % 9 % \n",
       "S11 99 %  96 % 90 % 94 % 86 % 81 % 83 % 78 % 78 % 9 % \n",
       "S12 98 %  92 % 80 % 88 % 72 % 64 % 68 % 60 % 60 % 4 % \n",
       "S13 99 %  95 % 86 % 92 % 79 % 73 % 76 % 69 % 69 % 6 % \n",
       "S14 100 % 98 % 94 % 97 % 91 % 88 % 89 % 86 % 86 % 14 %\n",
       "S15 99 %  96 % 90 % 94 % 86 % 81 % 83 % 78 % 78 % 9 % \n",
       "S16 98 %  92 % 80 % 88 % 72 % 64 % 68 % 60 % 60 % 4 % \n",
       "S17 99 %  95 % 86 % 92 % 79 % 73 % 76 % 69 % 69 % 6 % \n",
       "S18 100 % 98 % 94 % 97 % 91 % 88 % 89 % 86 % 86 % 14 %\n",
       "S19 99 %  95 % 86 % 92 % 79 % 73 % 76 % 69 % 69 % 6 % \n",
       "S20 99 %  96 % 90 % 94 % 86 % 81 % 83 % 78 % 78 % 9 % \n",
       "S21 100 % 98 % 94 % 97 % 91 % 88 % 89 % 86 % 86 % 14 %\n",
       "S22 97 %  88 % 73 % 83 % 63 % 54 % 59 % 50 % 50 % 3 % \n",
       "S23 100 % 98 % 94 % 97 % 91 % 88 % 89 % 86 % 86 % 14 %\n",
       "S24 100 % 98 % 94 % 97 % 91 % 88 % 89 % 86 % 86 % 14 %\n",
       "S25 100 % 99 % 97 % 99 % 96 % 94 % 95 % 93 % 93 % 27 %"
      ]
     },
     "metadata": {},
     "output_type": "display_data"
    }
   ],
   "source": [
    "# La funzione correctProbabilites prende in input la tabella dicotomica, le difficoltà e le abilità per generare una tabella\n",
    "# nelle cui intersezioni vi sono le probabilità che SN superi l'esercizio en\n",
    "correctProbabilites(items, getDiff(param), getAbil(param))"
   ]
  }
 ],
 "metadata": {
  "kernelspec": {
   "display_name": "R",
   "language": "R",
   "name": "ir"
  },
  "language_info": {
   "codemirror_mode": "r",
   "file_extension": ".r",
   "mimetype": "text/x-r-source",
   "name": "R",
   "pygments_lexer": "r",
   "version": "3.4.1"
  }
 },
 "nbformat": 4,
 "nbformat_minor": 2
}
