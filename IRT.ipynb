{
 "cells": [
  {
   "cell_type": "code",
   "execution_count": 1,
   "metadata": {
    "collapsed": true
   },
   "outputs": [],
   "source": [
    "# Questi comandi permettono di usare in Jupyter le librerie di R presenti nel CRAN (Comprehensive R Archive Network)\n",
    "country.code <- 'it'\n",
    "url.pattern <- 'https://'  \n",
    "repo.data.frame <- subset(getCRANmirrors(), CountryCode == country.code & grepl(url.pattern, URL))\n",
    "options(repos = repo.data.frame$URL)"
   ]
  },
  {
   "cell_type": "code",
   "execution_count": 2,
   "metadata": {},
   "outputs": [
    {
     "name": "stdout",
     "output_type": "stream",
     "text": [
      "package 'readxl' successfully unpacked and MD5 sums checked\n",
      "\n",
      "The downloaded binary packages are in\n",
      "\tC:\\Users\\Marco\\AppData\\Local\\Temp\\Rtmpsr7V0k\\downloaded_packages\n",
      "package 'ltm' successfully unpacked and MD5 sums checked\n",
      "\n",
      "The downloaded binary packages are in\n",
      "\tC:\\Users\\Marco\\AppData\\Local\\Temp\\Rtmpsr7V0k\\downloaded_packages\n"
     ]
    }
   ],
   "source": [
    "# Package utili: ltm per le funzioni di stima dei parametri e readxl per poter leggere file excel\n",
    "install.packages(\"readxl\")\n",
    "install.packages(\"ltm\")"
   ]
  },
  {
   "cell_type": "code",
   "execution_count": 3,
   "metadata": {},
   "outputs": [
    {
     "name": "stderr",
     "output_type": "stream",
     "text": [
      "Warning message:\n",
      "\"package 'readxl' was built under R version 3.4.2\"Warning message:\n",
      "\"package 'ltm' was built under R version 3.4.2\"Loading required package: MASS\n",
      "Loading required package: msm\n",
      "Loading required package: polycor\n"
     ]
    }
   ],
   "source": [
    "# Importo i package\n",
    "library(\"readxl\")\n",
    "library(\"ltm\")"
   ]
  },
  {
   "cell_type": "code",
   "execution_count": 4,
   "metadata": {
    "collapsed": true
   },
   "outputs": [],
   "source": [
    "#' Legge un file csv e imposta la prima colonna con i nomi degli studenti come indici della tabella \n",
    "#'\n",
    "#' @param path Percorso del file\n",
    "#' @return data frame corrispondente al file csv indicato\n",
    "#' @examples\n",
    "#' readCSV(\"file.csv\")\n",
    "#'\n",
    "#' readCSV(\"C:/Users/file.csv\")\n",
    "readCSV <- function(path) {\n",
    "  read.csv(path, row.names = 1)\n",
    "}\n",
    "\n",
    "#' Legge un file excel e imposta la prima colonna con i nomi degli studenti come indici della tabella \n",
    "#'\n",
    "#' @param path Percorso del file\n",
    "#' @return data frame corrispondente al file excel indicato\n",
    "#' @examples\n",
    "#' readEXCEl(\"file.xlsx\")\n",
    "#'\n",
    "#' readEXCEl(\"C:/Users/file.xlsx\")\n",
    "readEXCEl <- function(path) {\n",
    "    items <- read_excel(path)\n",
    "    items <- as.data.frame(items)\n",
    "    rownames(items) <- items[,1]\n",
    "    items <- items[,-1]\n",
    "    items\n",
    "}"
   ]
  },
  {
   "cell_type": "code",
   "execution_count": 5,
   "metadata": {},
   "outputs": [
    {
     "data": {
      "text/html": [
       "<table>\n",
       "<thead><tr><th></th><th scope=col>e1</th><th scope=col>e2</th><th scope=col>e3</th><th scope=col>e4</th><th scope=col>e5</th><th scope=col>e6</th><th scope=col>e7</th><th scope=col>e8</th><th scope=col>e9</th><th scope=col>e10</th></tr></thead>\n",
       "<tbody>\n",
       "\t<tr><th scope=row>S1</th><td>0</td><td>0</td><td>0</td><td>0</td><td>0</td><td>0</td><td>0</td><td>0</td><td>0</td><td>0</td></tr>\n",
       "\t<tr><th scope=row>S2</th><td>1</td><td>1</td><td>1</td><td>1</td><td>1</td><td>1</td><td>1</td><td>1</td><td>1</td><td>1</td></tr>\n",
       "\t<tr><th scope=row>S3</th><td>1</td><td>1</td><td>1</td><td>1</td><td>0</td><td>1</td><td>1</td><td>1</td><td>1</td><td>0</td></tr>\n",
       "\t<tr><th scope=row>S4</th><td>1</td><td>1</td><td>1</td><td>1</td><td>1</td><td>1</td><td>1</td><td>1</td><td>1</td><td>0</td></tr>\n",
       "\t<tr><th scope=row>S5</th><td>1</td><td>0</td><td>1</td><td>1</td><td>1</td><td>1</td><td>1</td><td>0</td><td>0</td><td>1</td></tr>\n",
       "\t<tr><th scope=row>S6</th><td>0</td><td>1</td><td>1</td><td>1</td><td>1</td><td>0</td><td>0</td><td>1</td><td>1</td><td>0</td></tr>\n",
       "\t<tr><th scope=row>S7</th><td>1</td><td>1</td><td>0</td><td>0</td><td>1</td><td>1</td><td>1</td><td>0</td><td>0</td><td>0</td></tr>\n",
       "\t<tr><th scope=row>S8</th><td>1</td><td>1</td><td>1</td><td>1</td><td>0</td><td>1</td><td>1</td><td>1</td><td>1</td><td>1</td></tr>\n",
       "\t<tr><th scope=row>S9</th><td>1</td><td>1</td><td>1</td><td>1</td><td>1</td><td>0</td><td>1</td><td>1</td><td>1</td><td>0</td></tr>\n",
       "\t<tr><th scope=row>S10</th><td>0</td><td>0</td><td>1</td><td>1</td><td>1</td><td>0</td><td>0</td><td>1</td><td>0</td><td>1</td></tr>\n",
       "\t<tr><th scope=row>S11</th><td>1</td><td>1</td><td>1</td><td>1</td><td>0</td><td>1</td><td>1</td><td>0</td><td>1</td><td>0</td></tr>\n",
       "\t<tr><th scope=row>S12</th><td>1</td><td>1</td><td>0</td><td>0</td><td>1</td><td>1</td><td>1</td><td>0</td><td>0</td><td>0</td></tr>\n",
       "\t<tr><th scope=row>S13</th><td>0</td><td>1</td><td>0</td><td>1</td><td>1</td><td>0</td><td>0</td><td>0</td><td>1</td><td>1</td></tr>\n",
       "\t<tr><th scope=row>S14</th><td>1</td><td>1</td><td>1</td><td>1</td><td>1</td><td>1</td><td>1</td><td>1</td><td>0</td><td>0</td></tr>\n",
       "\t<tr><th scope=row>S15</th><td>1</td><td>1</td><td>1</td><td>1</td><td>0</td><td>0</td><td>1</td><td>1</td><td>1</td><td>1</td></tr>\n",
       "\t<tr><th scope=row>S16</th><td>1</td><td>0</td><td>1</td><td>1</td><td>1</td><td>0</td><td>1</td><td>0</td><td>1</td><td>0</td></tr>\n",
       "\t<tr><th scope=row>S17</th><td>1</td><td>1</td><td>1</td><td>1</td><td>0</td><td>1</td><td>1</td><td>1</td><td>0</td><td>1</td></tr>\n",
       "\t<tr><th scope=row>S18</th><td>1</td><td>1</td><td>1</td><td>1</td><td>1</td><td>1</td><td>1</td><td>0</td><td>1</td><td>0</td></tr>\n",
       "\t<tr><th scope=row>S19</th><td>0</td><td>1</td><td>1</td><td>1</td><td>1</td><td>0</td><td>0</td><td>0</td><td>0</td><td>0</td></tr>\n",
       "\t<tr><th scope=row>S20</th><td>1</td><td>1</td><td>0</td><td>1</td><td>1</td><td>1</td><td>1</td><td>1</td><td>1</td><td>1</td></tr>\n",
       "\t<tr><th scope=row>S21</th><td>1</td><td>1</td><td>1</td><td>1</td><td>1</td><td>1</td><td>1</td><td>1</td><td>1</td><td>0</td></tr>\n",
       "\t<tr><th scope=row>S22</th><td>1</td><td>1</td><td>1</td><td>0</td><td>1</td><td>0</td><td>1</td><td>0</td><td>0</td><td>1</td></tr>\n",
       "\t<tr><th scope=row>S23</th><td>1</td><td>0</td><td>1</td><td>1</td><td>1</td><td>1</td><td>1</td><td>1</td><td>0</td><td>0</td></tr>\n",
       "\t<tr><th scope=row>S24</th><td>1</td><td>1</td><td>1</td><td>1</td><td>0</td><td>1</td><td>1</td><td>1</td><td>1</td><td>0</td></tr>\n",
       "\t<tr><th scope=row>S25</th><td>1</td><td>1</td><td>1</td><td>1</td><td>1</td><td>1</td><td>1</td><td>1</td><td>1</td><td>0</td></tr>\n",
       "</tbody>\n",
       "</table>\n"
      ],
      "text/latex": [
       "\\begin{tabular}{r|llllllllll}\n",
       "  & e1 & e2 & e3 & e4 & e5 & e6 & e7 & e8 & e9 & e10\\\\\n",
       "\\hline\n",
       "\tS1 & 0 & 0 & 0 & 0 & 0 & 0 & 0 & 0 & 0 & 0\\\\\n",
       "\tS2 & 1 & 1 & 1 & 1 & 1 & 1 & 1 & 1 & 1 & 1\\\\\n",
       "\tS3 & 1 & 1 & 1 & 1 & 0 & 1 & 1 & 1 & 1 & 0\\\\\n",
       "\tS4 & 1 & 1 & 1 & 1 & 1 & 1 & 1 & 1 & 1 & 0\\\\\n",
       "\tS5 & 1 & 0 & 1 & 1 & 1 & 1 & 1 & 0 & 0 & 1\\\\\n",
       "\tS6 & 0 & 1 & 1 & 1 & 1 & 0 & 0 & 1 & 1 & 0\\\\\n",
       "\tS7 & 1 & 1 & 0 & 0 & 1 & 1 & 1 & 0 & 0 & 0\\\\\n",
       "\tS8 & 1 & 1 & 1 & 1 & 0 & 1 & 1 & 1 & 1 & 1\\\\\n",
       "\tS9 & 1 & 1 & 1 & 1 & 1 & 0 & 1 & 1 & 1 & 0\\\\\n",
       "\tS10 & 0 & 0 & 1 & 1 & 1 & 0 & 0 & 1 & 0 & 1\\\\\n",
       "\tS11 & 1 & 1 & 1 & 1 & 0 & 1 & 1 & 0 & 1 & 0\\\\\n",
       "\tS12 & 1 & 1 & 0 & 0 & 1 & 1 & 1 & 0 & 0 & 0\\\\\n",
       "\tS13 & 0 & 1 & 0 & 1 & 1 & 0 & 0 & 0 & 1 & 1\\\\\n",
       "\tS14 & 1 & 1 & 1 & 1 & 1 & 1 & 1 & 1 & 0 & 0\\\\\n",
       "\tS15 & 1 & 1 & 1 & 1 & 0 & 0 & 1 & 1 & 1 & 1\\\\\n",
       "\tS16 & 1 & 0 & 1 & 1 & 1 & 0 & 1 & 0 & 1 & 0\\\\\n",
       "\tS17 & 1 & 1 & 1 & 1 & 0 & 1 & 1 & 1 & 0 & 1\\\\\n",
       "\tS18 & 1 & 1 & 1 & 1 & 1 & 1 & 1 & 0 & 1 & 0\\\\\n",
       "\tS19 & 0 & 1 & 1 & 1 & 1 & 0 & 0 & 0 & 0 & 0\\\\\n",
       "\tS20 & 1 & 1 & 0 & 1 & 1 & 1 & 1 & 1 & 1 & 1\\\\\n",
       "\tS21 & 1 & 1 & 1 & 1 & 1 & 1 & 1 & 1 & 1 & 0\\\\\n",
       "\tS22 & 1 & 1 & 1 & 0 & 1 & 0 & 1 & 0 & 0 & 1\\\\\n",
       "\tS23 & 1 & 0 & 1 & 1 & 1 & 1 & 1 & 1 & 0 & 0\\\\\n",
       "\tS24 & 1 & 1 & 1 & 1 & 0 & 1 & 1 & 1 & 1 & 0\\\\\n",
       "\tS25 & 1 & 1 & 1 & 1 & 1 & 1 & 1 & 1 & 1 & 0\\\\\n",
       "\\end{tabular}\n"
      ],
      "text/markdown": [
       "\n",
       "| <!--/--> | e1 | e2 | e3 | e4 | e5 | e6 | e7 | e8 | e9 | e10 | \n",
       "|---|---|---|---|---|---|---|---|---|---|---|---|---|---|---|---|---|---|---|---|---|---|---|---|---|\n",
       "| S1 | 0 | 0 | 0 | 0 | 0 | 0 | 0 | 0 | 0 | 0 | \n",
       "| S2 | 1 | 1 | 1 | 1 | 1 | 1 | 1 | 1 | 1 | 1 | \n",
       "| S3 | 1 | 1 | 1 | 1 | 0 | 1 | 1 | 1 | 1 | 0 | \n",
       "| S4 | 1 | 1 | 1 | 1 | 1 | 1 | 1 | 1 | 1 | 0 | \n",
       "| S5 | 1 | 0 | 1 | 1 | 1 | 1 | 1 | 0 | 0 | 1 | \n",
       "| S6 | 0 | 1 | 1 | 1 | 1 | 0 | 0 | 1 | 1 | 0 | \n",
       "| S7 | 1 | 1 | 0 | 0 | 1 | 1 | 1 | 0 | 0 | 0 | \n",
       "| S8 | 1 | 1 | 1 | 1 | 0 | 1 | 1 | 1 | 1 | 1 | \n",
       "| S9 | 1 | 1 | 1 | 1 | 1 | 0 | 1 | 1 | 1 | 0 | \n",
       "| S10 | 0 | 0 | 1 | 1 | 1 | 0 | 0 | 1 | 0 | 1 | \n",
       "| S11 | 1 | 1 | 1 | 1 | 0 | 1 | 1 | 0 | 1 | 0 | \n",
       "| S12 | 1 | 1 | 0 | 0 | 1 | 1 | 1 | 0 | 0 | 0 | \n",
       "| S13 | 0 | 1 | 0 | 1 | 1 | 0 | 0 | 0 | 1 | 1 | \n",
       "| S14 | 1 | 1 | 1 | 1 | 1 | 1 | 1 | 1 | 0 | 0 | \n",
       "| S15 | 1 | 1 | 1 | 1 | 0 | 0 | 1 | 1 | 1 | 1 | \n",
       "| S16 | 1 | 0 | 1 | 1 | 1 | 0 | 1 | 0 | 1 | 0 | \n",
       "| S17 | 1 | 1 | 1 | 1 | 0 | 1 | 1 | 1 | 0 | 1 | \n",
       "| S18 | 1 | 1 | 1 | 1 | 1 | 1 | 1 | 0 | 1 | 0 | \n",
       "| S19 | 0 | 1 | 1 | 1 | 1 | 0 | 0 | 0 | 0 | 0 | \n",
       "| S20 | 1 | 1 | 0 | 1 | 1 | 1 | 1 | 1 | 1 | 1 | \n",
       "| S21 | 1 | 1 | 1 | 1 | 1 | 1 | 1 | 1 | 1 | 0 | \n",
       "| S22 | 1 | 1 | 1 | 0 | 1 | 0 | 1 | 0 | 0 | 1 | \n",
       "| S23 | 1 | 0 | 1 | 1 | 1 | 1 | 1 | 1 | 0 | 0 | \n",
       "| S24 | 1 | 1 | 1 | 1 | 0 | 1 | 1 | 1 | 1 | 0 | \n",
       "| S25 | 1 | 1 | 1 | 1 | 1 | 1 | 1 | 1 | 1 | 0 | \n",
       "\n",
       "\n"
      ],
      "text/plain": [
       "    e1 e2 e3 e4 e5 e6 e7 e8 e9 e10\n",
       "S1  0  0  0  0  0  0  0  0  0  0  \n",
       "S2  1  1  1  1  1  1  1  1  1  1  \n",
       "S3  1  1  1  1  0  1  1  1  1  0  \n",
       "S4  1  1  1  1  1  1  1  1  1  0  \n",
       "S5  1  0  1  1  1  1  1  0  0  1  \n",
       "S6  0  1  1  1  1  0  0  1  1  0  \n",
       "S7  1  1  0  0  1  1  1  0  0  0  \n",
       "S8  1  1  1  1  0  1  1  1  1  1  \n",
       "S9  1  1  1  1  1  0  1  1  1  0  \n",
       "S10 0  0  1  1  1  0  0  1  0  1  \n",
       "S11 1  1  1  1  0  1  1  0  1  0  \n",
       "S12 1  1  0  0  1  1  1  0  0  0  \n",
       "S13 0  1  0  1  1  0  0  0  1  1  \n",
       "S14 1  1  1  1  1  1  1  1  0  0  \n",
       "S15 1  1  1  1  0  0  1  1  1  1  \n",
       "S16 1  0  1  1  1  0  1  0  1  0  \n",
       "S17 1  1  1  1  0  1  1  1  0  1  \n",
       "S18 1  1  1  1  1  1  1  0  1  0  \n",
       "S19 0  1  1  1  1  0  0  0  0  0  \n",
       "S20 1  1  0  1  1  1  1  1  1  1  \n",
       "S21 1  1  1  1  1  1  1  1  1  0  \n",
       "S22 1  1  1  0  1  0  1  0  0  1  \n",
       "S23 1  0  1  1  1  1  1  1  0  0  \n",
       "S24 1  1  1  1  0  1  1  1  1  0  \n",
       "S25 1  1  1  1  1  1  1  1  1  0  "
      ]
     },
     "metadata": {},
     "output_type": "display_data"
    }
   ],
   "source": [
    "# Importo la tabella dicotomica\n",
    "datiDichot <- readEXCEl(\"EsameDic.xlsx\")\n",
    "datiDichot"
   ]
  },
  {
   "cell_type": "code",
   "execution_count": 6,
   "metadata": {
    "collapsed": true
   },
   "outputs": [],
   "source": [
    "#' Modifica la dimensione dei grafici\n",
    "#'\n",
    "#' @param width Larghezza dei grafici\n",
    "#' @param height Altezza dei grafici\n",
    "#' @examples\n",
    "#' width <- 7\n",
    "#' height <- 5\n",
    "#' sizePlot(width, height)\n",
    "sizePlot <- function(width, height) {\n",
    "    options(repr.plot.width = width, repr.plot.height = height)\n",
    "}\n",
    "\n",
    "#' Rimpiazza i valori NA presenti nella tabella passata con 0\n",
    "#'\n",
    "#' @param items Tabella dicotomica avente una riga per studente e una colonna per esercizio\n",
    "#' @return Tabella dicotomica avente una riga per studente e una colonna per esercizio a cui sono stati sostituiti i NA con 0\n",
    "#' @examples\n",
    "#' items <- readEXCEl(\"file.xlsx\")\n",
    "#' replaceNaWithZero(items)\n",
    "replaceNaWithZero <- function(items) {\n",
    "    aux <- items\n",
    "    aux[is.na(aux)] <- 0\n",
    "    aux\n",
    "}\n",
    "\n",
    "#' Stima le difficoltà degli esercizi senza porre vincoli sul valore del discriminante\n",
    "#'\n",
    "#' @param items Tabella dicotomica avente una riga per studente e una colonna per esercizio\n",
    "#' @param forNA Definisce il comportamento in caso di NA, di default è NULL quindi vengono rimossi prima della computazione, \n",
    "#' se si usasse forNA = na.exclude la stima verrebbe effettuata eliminando le righe in cui è presente almeno un NA\n",
    "#' @return Vettore di difficoltà stimate\n",
    "#' @examples\n",
    "#' items <- readEXCEl(\"file.xlsx\")\n",
    "#' estimateDifficultiesDichotFreeDiscrim(items)\n",
    "estimateDifficultiesDichotFreeDiscrim <- function(items, forNA = NULL) {\n",
    "    param <- rasch(items, na.action = forNA)\n",
    "    tab <- coef(param)\n",
    "    array(tab[,\"Dffclt\"])\n",
    "}\n",
    "\n",
    "#' Stima le difficoltà degli esercizi ponendo il discriminante ad 1\n",
    "#'\n",
    "#' @param items Tabella dicotomica avente una riga per studente e una colonna per esercizio\n",
    "#' @param forNA Definisce il comportamento in caso di NA, di default è NULL quindi vengono rimossi prima della computazione, \n",
    "#' se si usasse forNA = na.exclude la stima verrebbe effettuata eliminando le righe in cui è presente almeno un NA\n",
    "#' @return Vettore di difficoltà stimate\n",
    "#' @examples\n",
    "#' items <- readEXCEl(\"file.xlsx\")\n",
    "#' estimateDifficultiesDichotOneDiscrim(items)\n",
    "estimateDifficultiesDichotOneDiscrim <- function(items,  forNA = NULL) {\n",
    "    param <- rasch(items, constraint = cbind(ncol(items) + 1, 1), na.action = forNA)\n",
    "    tab <- coef(param)\n",
    "    array(tab[,\"Dffclt\"])\n",
    "}\n",
    "\n",
    "#' Genera un grafico per mostrare il livello di difficoltà di ciascun esercizio \n",
    "#'\n",
    "#' @param items Tabella dicotomica avente una riga per studente e una colonna per esercizio\n",
    "#' @param diff Vettore di difficoltà\n",
    "#' @param color Colore del grafico, di default è rosso\n",
    "#' @examples\n",
    "#' items <- readEXCEl(\"file.xlsx\")\n",
    "#' diff <- estimateDifficultiesDichotOneDiscrim(items)\n",
    "#' plotDifficultiesDichot(items, diff)\n",
    "plotDifficultiesDichot <- function(items, diff, color = \"red\", name = \"Difficulties plot\") {\n",
    "    nItems <- length(diff)\n",
    "    plot(diff,xlim=c(1,nItems),ylim=c(-5,5),type=\"b\",main=name,xlab=\"Items\",ylab=\"Difficulty\",xaxt=\"n\",col=color,pch=16,lwd=2)\n",
    "    axis(1, at=1:nItems, labels=names(items))\n",
    "    par(new = TRUE)\n",
    "    plot(diff + 4.7, type = \"h\", xlim = c(1,nItems),ylim = c(0,10), xaxt='n', yaxt = \"n\", xlab = \"\", ylab = \"\", lty = 2)\n",
    "}\n",
    "\n",
    "#' Stima le abilità degli studenti\n",
    "#'\n",
    "#' @param items Tabella dicotomica avente una riga per studente e una colonna per esercizio\n",
    "#' @return Vettore di abilità stimate\n",
    "#' @examples\n",
    "#' items <- readEXCEl(\"file.xlsx\")\n",
    "#' estimateAbilitiesDichot(items)\n",
    "estimateAbilitiesDichot <- function(items) {\n",
    "    fit <- rasch(items)\n",
    "    fs <- factor.scores(fit, resp.patterns = items)\n",
    "    array(unlist(fs$score.dat[\"z1\"]))\n",
    "}\n",
    "\n",
    "#' Genera un istogramma per mostrare il livello di abilità degli studenti e la relativa quantità\n",
    "#'\n",
    "#' @param abil Vettore di abilità\n",
    "#' @param start Primo valore sull'asse x\n",
    "#' @param end Ultimo valore sull'asse x\n",
    "#' @param by Intervallo tra le celle dell'istogramma \n",
    "#' @examples\n",
    "#' items <- readEXCEl(\"file.xlsx\")\n",
    "#' abil <- estimateAbilitiesDichot(items)\n",
    "#' plotDifficultiesDichot(abil)\n",
    "plotAbilitiesDichot <- function(abil, start, end, by) {\n",
    "    hist(abil,main=\"Ability histogram\",xlab=\"Ability\",ylab=\"Students\",breaks=seq(start,end,by),xlim=c(start,end),col=\"royalblue3\")\n",
    "    axis(1, at=seq(start, end, by), labels=seq(start, end, by))        \n",
    "}"
   ]
  },
  {
   "cell_type": "code",
   "execution_count": 7,
   "metadata": {
    "collapsed": true
   },
   "outputs": [],
   "source": [
    "#' Attraverso la tecnica di bootstrapping seleziona randomicamente n righe dalla matrice dicotomica, questa funzione è utlile \n",
    "#' se si dispone di pochi soggetti perchè in caso di una scarsa quantità di osservazioni lo stimatore potrebbe non covergere\n",
    "#'\n",
    "#' @param items Tabella dicotomica avente una riga per studente e una colonna per esercizio\n",
    "#' @param n Numero di estrazioni\n",
    "#' @return Data frame di difficoltà stimate dalla tabella generata dalle estrazioni casuali\n",
    "#' @examples\n",
    "#' items <- readEXCEl(\"file.xlsx\")\n",
    "#' bootstrapping(items)\n",
    "bootstrapping <- function(items, n = 500) {\n",
    "    idxs <- sample(1:nrow(items), n, replace = TRUE)\n",
    "    items[idxs,]\n",
    "}"
   ]
  },
  {
   "cell_type": "code",
   "execution_count": 8,
   "metadata": {
    "scrolled": false
   },
   "outputs": [
    {
     "data": {
      "image/png": "[encoded data removed]",
      "text/plain": [
       "Plot with title \"Difficulties plot\""
      ]
     },
     "metadata": {},
     "output_type": "display_data"
    },
    {
     "data": {
      "image/png": "[encoded data removed]",
      "text/plain": [
       "Plot with title \"Ability histogram\""
      ]
     },
     "metadata": {},
     "output_type": "display_data"
    }
   ],
   "source": [
    "# Modifico la dimensione dei grafici\n",
    "width <- 7\n",
    "height <- 5\n",
    "sizePlot(width, height)\n",
    "\n",
    "# Bootstrapping\n",
    "numExtractions <- 300\n",
    "bottDatiDichot <- bootstrapping(datiDichot, numExtractions)\n",
    "\n",
    "# Stimo le difficoltà con entrambi i metodi\n",
    "difficDichotF <- estimateDifficultiesDichotFreeDiscrim(bottDatiDichot)\n",
    "difficDichotO <- estimateDifficultiesDichotOneDiscrim(bottDatiDichot)\n",
    "\n",
    "# Visualizzo e confronto i grafici relativi alle difficoltà stimate con entrambi i metodi\n",
    "plotDifficultiesDichot(datiDichot, difficDichotF)\n",
    "par(new = TRUE)\n",
    "plotDifficultiesDichot(datiDichot, difficDichotO, color = \"blue\")\n",
    "legend(1, 10, legend=c(\"Difficoltà con discriminante non vincolato\", \"Difficoltà con discriminante vincolato ad 1\"), col=c(\"red\", \"blue\"), lty=1, cex=1, lwd=2, pch=16)\n",
    "\n",
    "# Stimo le abilità e visualizzo il relativo grafico\n",
    "abil <- estimateAbilitiesDichot(datiDichot)\n",
    "plotAbilitiesDichot(abil, start = -3, end = 2, by = 0.5)"
   ]
  },
  {
   "cell_type": "code",
   "execution_count": 9,
   "metadata": {
    "collapsed": true
   },
   "outputs": [],
   "source": [
    "#' Calcola la probabilità che uno studente risolva correttamente un esercizio\n",
    "#'\n",
    "#' @param ability Abilità dello studente\n",
    "#' @param difficulty Difficoltà dell'esercizio\n",
    "#' @return Probabilità di rispondere correttamente, compresa tra 0 e 1\n",
    "#' @examples\n",
    "#' ability <- 2\n",
    "#' difficulty <- 1\n",
    "#' pl1(ability, difficulty)\n",
    "pl1 <- function(ability, difficulty) {\n",
    "    exp(ability - difficulty) / (1 + exp(ability - difficulty))\n",
    "}\n",
    "\n",
    "#' Determina la probabilità per ogni studente di risolvere correttamente ogni esercizio\n",
    "#'\n",
    "#' @param items Tabella dicotomica avente una riga per studente e una colonna per esercizio\n",
    "#' @param diff Vettore di difficoltà\n",
    "#' @param abil Vettore di abilità\n",
    "#' @return Data frame di probabilità\n",
    "#' @examples\n",
    "#' items <- readEXCEl(\"file.xlsx\")\n",
    "#' diff <- estimateDifficultiesDichotFreeDiscrim(items)\n",
    "#' abil <- estimateAbilitiesDichot(items)\n",
    "#' calcProbabilites(items, diff, abil)\n",
    "calcProbabilites <- function(items, diff, abil) {   \n",
    "    probDf <- items\n",
    "    namesCol <- names(probDf)\n",
    "    namesRow <- row.names(probDf)\n",
    "    j <- 1\n",
    "    for (row in namesRow) {\n",
    "        i <- 1\n",
    "        for (col in namesCol) {\n",
    "            prob <- pl1(abil[j],diff[i])\n",
    "            probDf[row,col] <- prob          \n",
    "            i <- i + 1\n",
    "        }\n",
    "        j <- j + 1\n",
    "    }\n",
    "    probDf\n",
    "}\n",
    "\n",
    "\n",
    "#' Migliora la lettura della tabella delle probabilità per l'utente\n",
    "#'\n",
    "#' @param df Data frame di probabilità, output della funzione calcProbabilites\n",
    "#' @return Data frame di probabilità da 0 a 100\n",
    "#' @examples\n",
    "#' items <- readEXCEl(\"file.xlsx\")\n",
    "#' diff <- estimateDifficultiesDichotFreeDiscrim(items)\n",
    "#' abil <- estimateAbilitiesDichot(items)\n",
    "#' dfProb <- calcProbabilites(items, diff, abil)\n",
    "#' showProbabilities(dfProb)\n",
    "showProbabilities <- function(df){\n",
    "    aux <- trunc(df*100)\n",
    "    aux <- data.frame(lapply(aux, function(p) paste(p, \"%\")))\n",
    "    row.names(aux) <- row.names(df)\n",
    "    aux\n",
    "}"
   ]
  },
  {
   "cell_type": "code",
   "execution_count": 10,
   "metadata": {},
   "outputs": [
    {
     "data": {
      "text/html": [
       "<table>\n",
       "<thead><tr><th></th><th scope=col>e1</th><th scope=col>e2</th><th scope=col>e3</th><th scope=col>e4</th><th scope=col>e5</th><th scope=col>e6</th><th scope=col>e7</th><th scope=col>e8</th><th scope=col>e9</th><th scope=col>e10</th></tr></thead>\n",
       "<tbody>\n",
       "\t<tr><th scope=row>S1</th><td>42 %</td><td>33 %</td><td>37 %</td><td>43 %</td><td>23 %</td><td>17 %</td><td>42 %</td><td>15 %</td><td>15 %</td><td>4 % </td></tr>\n",
       "\t<tr><th scope=row>S2</th><td>96 %</td><td>94 %</td><td>95 %</td><td>96 %</td><td>91 %</td><td>88 %</td><td>96 %</td><td>86 %</td><td>86 %</td><td>60 %</td></tr>\n",
       "\t<tr><th scope=row>S3</th><td>91 %</td><td>88 %</td><td>89 %</td><td>91 %</td><td>81 %</td><td>75 %</td><td>91 %</td><td>72 %</td><td>71 %</td><td>38 %</td></tr>\n",
       "\t<tr><th scope=row>S4</th><td>94 %</td><td>91 %</td><td>92 %</td><td>94 %</td><td>86 %</td><td>82 %</td><td>94 %</td><td>79 %</td><td>79 %</td><td>48 %</td></tr>\n",
       "\t<tr><th scope=row>S5</th><td>87 %</td><td>83 %</td><td>85 %</td><td>88 %</td><td>75 %</td><td>68 %</td><td>87 %</td><td>64 %</td><td>63 %</td><td>30 %</td></tr>\n",
       "\t<tr><th scope=row>S6</th><td>83 %</td><td>78 %</td><td>80 %</td><td>84 %</td><td>68 %</td><td>60 %</td><td>83 %</td><td>56 %</td><td>55 %</td><td>23 %</td></tr>\n",
       "\t<tr><th scope=row>S7</th><td>78 %</td><td>72 %</td><td>75 %</td><td>79 %</td><td>60 %</td><td>52 %</td><td>78 %</td><td>47 %</td><td>47 %</td><td>18 %</td></tr>\n",
       "\t<tr><th scope=row>S8</th><td>94 %</td><td>91 %</td><td>92 %</td><td>94 %</td><td>86 %</td><td>82 %</td><td>94 %</td><td>79 %</td><td>79 %</td><td>48 %</td></tr>\n",
       "\t<tr><th scope=row>S9</th><td>91 %</td><td>88 %</td><td>89 %</td><td>91 %</td><td>81 %</td><td>75 %</td><td>91 %</td><td>72 %</td><td>71 %</td><td>38 %</td></tr>\n",
       "\t<tr><th scope=row>S10</th><td>78 %</td><td>72 %</td><td>75 %</td><td>79 %</td><td>60 %</td><td>52 %</td><td>78 %</td><td>47 %</td><td>47 %</td><td>18 %</td></tr>\n",
       "\t<tr><th scope=row>S11</th><td>87 %</td><td>83 %</td><td>85 %</td><td>88 %</td><td>75 %</td><td>68 %</td><td>87 %</td><td>64 %</td><td>63 %</td><td>30 %</td></tr>\n",
       "\t<tr><th scope=row>S12</th><td>78 %</td><td>72 %</td><td>75 %</td><td>79 %</td><td>60 %</td><td>52 %</td><td>78 %</td><td>47 %</td><td>47 %</td><td>18 %</td></tr>\n",
       "\t<tr><th scope=row>S13</th><td>78 %</td><td>72 %</td><td>75 %</td><td>79 %</td><td>60 %</td><td>52 %</td><td>78 %</td><td>47 %</td><td>47 %</td><td>18 %</td></tr>\n",
       "\t<tr><th scope=row>S14</th><td>91 %</td><td>88 %</td><td>89 %</td><td>91 %</td><td>81 %</td><td>75 %</td><td>91 %</td><td>72 %</td><td>71 %</td><td>38 %</td></tr>\n",
       "\t<tr><th scope=row>S15</th><td>91 %</td><td>88 %</td><td>89 %</td><td>91 %</td><td>81 %</td><td>75 %</td><td>91 %</td><td>72 %</td><td>71 %</td><td>38 %</td></tr>\n",
       "\t<tr><th scope=row>S16</th><td>83 %</td><td>78 %</td><td>80 %</td><td>84 %</td><td>68 %</td><td>60 %</td><td>83 %</td><td>56 %</td><td>55 %</td><td>23 %</td></tr>\n",
       "\t<tr><th scope=row>S17</th><td>91 %</td><td>88 %</td><td>89 %</td><td>91 %</td><td>81 %</td><td>75 %</td><td>91 %</td><td>72 %</td><td>71 %</td><td>38 %</td></tr>\n",
       "\t<tr><th scope=row>S18</th><td>91 %</td><td>88 %</td><td>89 %</td><td>91 %</td><td>81 %</td><td>75 %</td><td>91 %</td><td>72 %</td><td>71 %</td><td>38 %</td></tr>\n",
       "\t<tr><th scope=row>S19</th><td>73 %</td><td>65 %</td><td>69 %</td><td>74 %</td><td>52 %</td><td>44 %</td><td>73 %</td><td>40 %</td><td>39 %</td><td>13 %</td></tr>\n",
       "\t<tr><th scope=row>S20</th><td>94 %</td><td>91 %</td><td>92 %</td><td>94 %</td><td>86 %</td><td>82 %</td><td>94 %</td><td>79 %</td><td>79 %</td><td>48 %</td></tr>\n",
       "\t<tr><th scope=row>S21</th><td>94 %</td><td>91 %</td><td>92 %</td><td>94 %</td><td>86 %</td><td>82 %</td><td>94 %</td><td>79 %</td><td>79 %</td><td>48 %</td></tr>\n",
       "\t<tr><th scope=row>S22</th><td>83 %</td><td>78 %</td><td>80 %</td><td>84 %</td><td>68 %</td><td>60 %</td><td>83 %</td><td>56 %</td><td>55 %</td><td>23 %</td></tr>\n",
       "\t<tr><th scope=row>S23</th><td>87 %</td><td>83 %</td><td>85 %</td><td>88 %</td><td>75 %</td><td>68 %</td><td>87 %</td><td>64 %</td><td>63 %</td><td>30 %</td></tr>\n",
       "\t<tr><th scope=row>S24</th><td>91 %</td><td>88 %</td><td>89 %</td><td>91 %</td><td>81 %</td><td>75 %</td><td>91 %</td><td>72 %</td><td>71 %</td><td>38 %</td></tr>\n",
       "\t<tr><th scope=row>S25</th><td>94 %</td><td>91 %</td><td>92 %</td><td>94 %</td><td>86 %</td><td>82 %</td><td>94 %</td><td>79 %</td><td>79 %</td><td>48 %</td></tr>\n",
       "</tbody>\n",
       "</table>\n"
      ],
      "text/latex": [
       "\\begin{tabular}{r|llllllllll}\n",
       "  & e1 & e2 & e3 & e4 & e5 & e6 & e7 & e8 & e9 & e10\\\\\n",
       "\\hline\n",
       "\tS1 & 42 \\% & 33 \\% & 37 \\% & 43 \\% & 23 \\% & 17 \\% & 42 \\% & 15 \\% & 15 \\% & 4 \\% \\\\\n",
       "\tS2 & 96 \\% & 94 \\% & 95 \\% & 96 \\% & 91 \\% & 88 \\% & 96 \\% & 86 \\% & 86 \\% & 60 \\%\\\\\n",
       "\tS3 & 91 \\% & 88 \\% & 89 \\% & 91 \\% & 81 \\% & 75 \\% & 91 \\% & 72 \\% & 71 \\% & 38 \\%\\\\\n",
       "\tS4 & 94 \\% & 91 \\% & 92 \\% & 94 \\% & 86 \\% & 82 \\% & 94 \\% & 79 \\% & 79 \\% & 48 \\%\\\\\n",
       "\tS5 & 87 \\% & 83 \\% & 85 \\% & 88 \\% & 75 \\% & 68 \\% & 87 \\% & 64 \\% & 63 \\% & 30 \\%\\\\\n",
       "\tS6 & 83 \\% & 78 \\% & 80 \\% & 84 \\% & 68 \\% & 60 \\% & 83 \\% & 56 \\% & 55 \\% & 23 \\%\\\\\n",
       "\tS7 & 78 \\% & 72 \\% & 75 \\% & 79 \\% & 60 \\% & 52 \\% & 78 \\% & 47 \\% & 47 \\% & 18 \\%\\\\\n",
       "\tS8 & 94 \\% & 91 \\% & 92 \\% & 94 \\% & 86 \\% & 82 \\% & 94 \\% & 79 \\% & 79 \\% & 48 \\%\\\\\n",
       "\tS9 & 91 \\% & 88 \\% & 89 \\% & 91 \\% & 81 \\% & 75 \\% & 91 \\% & 72 \\% & 71 \\% & 38 \\%\\\\\n",
       "\tS10 & 78 \\% & 72 \\% & 75 \\% & 79 \\% & 60 \\% & 52 \\% & 78 \\% & 47 \\% & 47 \\% & 18 \\%\\\\\n",
       "\tS11 & 87 \\% & 83 \\% & 85 \\% & 88 \\% & 75 \\% & 68 \\% & 87 \\% & 64 \\% & 63 \\% & 30 \\%\\\\\n",
       "\tS12 & 78 \\% & 72 \\% & 75 \\% & 79 \\% & 60 \\% & 52 \\% & 78 \\% & 47 \\% & 47 \\% & 18 \\%\\\\\n",
       "\tS13 & 78 \\% & 72 \\% & 75 \\% & 79 \\% & 60 \\% & 52 \\% & 78 \\% & 47 \\% & 47 \\% & 18 \\%\\\\\n",
       "\tS14 & 91 \\% & 88 \\% & 89 \\% & 91 \\% & 81 \\% & 75 \\% & 91 \\% & 72 \\% & 71 \\% & 38 \\%\\\\\n",
       "\tS15 & 91 \\% & 88 \\% & 89 \\% & 91 \\% & 81 \\% & 75 \\% & 91 \\% & 72 \\% & 71 \\% & 38 \\%\\\\\n",
       "\tS16 & 83 \\% & 78 \\% & 80 \\% & 84 \\% & 68 \\% & 60 \\% & 83 \\% & 56 \\% & 55 \\% & 23 \\%\\\\\n",
       "\tS17 & 91 \\% & 88 \\% & 89 \\% & 91 \\% & 81 \\% & 75 \\% & 91 \\% & 72 \\% & 71 \\% & 38 \\%\\\\\n",
       "\tS18 & 91 \\% & 88 \\% & 89 \\% & 91 \\% & 81 \\% & 75 \\% & 91 \\% & 72 \\% & 71 \\% & 38 \\%\\\\\n",
       "\tS19 & 73 \\% & 65 \\% & 69 \\% & 74 \\% & 52 \\% & 44 \\% & 73 \\% & 40 \\% & 39 \\% & 13 \\%\\\\\n",
       "\tS20 & 94 \\% & 91 \\% & 92 \\% & 94 \\% & 86 \\% & 82 \\% & 94 \\% & 79 \\% & 79 \\% & 48 \\%\\\\\n",
       "\tS21 & 94 \\% & 91 \\% & 92 \\% & 94 \\% & 86 \\% & 82 \\% & 94 \\% & 79 \\% & 79 \\% & 48 \\%\\\\\n",
       "\tS22 & 83 \\% & 78 \\% & 80 \\% & 84 \\% & 68 \\% & 60 \\% & 83 \\% & 56 \\% & 55 \\% & 23 \\%\\\\\n",
       "\tS23 & 87 \\% & 83 \\% & 85 \\% & 88 \\% & 75 \\% & 68 \\% & 87 \\% & 64 \\% & 63 \\% & 30 \\%\\\\\n",
       "\tS24 & 91 \\% & 88 \\% & 89 \\% & 91 \\% & 81 \\% & 75 \\% & 91 \\% & 72 \\% & 71 \\% & 38 \\%\\\\\n",
       "\tS25 & 94 \\% & 91 \\% & 92 \\% & 94 \\% & 86 \\% & 82 \\% & 94 \\% & 79 \\% & 79 \\% & 48 \\%\\\\\n",
       "\\end{tabular}\n"
      ],
      "text/markdown": [
       "\n",
       "| <!--/--> | e1 | e2 | e3 | e4 | e5 | e6 | e7 | e8 | e9 | e10 | \n",
       "|---|---|---|---|---|---|---|---|---|---|---|---|---|---|---|---|---|---|---|---|---|---|---|---|---|\n",
       "| S1 | 42 % | 33 % | 37 % | 43 % | 23 % | 17 % | 42 % | 15 % | 15 % | 4 %  | \n",
       "| S2 | 96 % | 94 % | 95 % | 96 % | 91 % | 88 % | 96 % | 86 % | 86 % | 60 % | \n",
       "| S3 | 91 % | 88 % | 89 % | 91 % | 81 % | 75 % | 91 % | 72 % | 71 % | 38 % | \n",
       "| S4 | 94 % | 91 % | 92 % | 94 % | 86 % | 82 % | 94 % | 79 % | 79 % | 48 % | \n",
       "| S5 | 87 % | 83 % | 85 % | 88 % | 75 % | 68 % | 87 % | 64 % | 63 % | 30 % | \n",
       "| S6 | 83 % | 78 % | 80 % | 84 % | 68 % | 60 % | 83 % | 56 % | 55 % | 23 % | \n",
       "| S7 | 78 % | 72 % | 75 % | 79 % | 60 % | 52 % | 78 % | 47 % | 47 % | 18 % | \n",
       "| S8 | 94 % | 91 % | 92 % | 94 % | 86 % | 82 % | 94 % | 79 % | 79 % | 48 % | \n",
       "| S9 | 91 % | 88 % | 89 % | 91 % | 81 % | 75 % | 91 % | 72 % | 71 % | 38 % | \n",
       "| S10 | 78 % | 72 % | 75 % | 79 % | 60 % | 52 % | 78 % | 47 % | 47 % | 18 % | \n",
       "| S11 | 87 % | 83 % | 85 % | 88 % | 75 % | 68 % | 87 % | 64 % | 63 % | 30 % | \n",
       "| S12 | 78 % | 72 % | 75 % | 79 % | 60 % | 52 % | 78 % | 47 % | 47 % | 18 % | \n",
       "| S13 | 78 % | 72 % | 75 % | 79 % | 60 % | 52 % | 78 % | 47 % | 47 % | 18 % | \n",
       "| S14 | 91 % | 88 % | 89 % | 91 % | 81 % | 75 % | 91 % | 72 % | 71 % | 38 % | \n",
       "| S15 | 91 % | 88 % | 89 % | 91 % | 81 % | 75 % | 91 % | 72 % | 71 % | 38 % | \n",
       "| S16 | 83 % | 78 % | 80 % | 84 % | 68 % | 60 % | 83 % | 56 % | 55 % | 23 % | \n",
       "| S17 | 91 % | 88 % | 89 % | 91 % | 81 % | 75 % | 91 % | 72 % | 71 % | 38 % | \n",
       "| S18 | 91 % | 88 % | 89 % | 91 % | 81 % | 75 % | 91 % | 72 % | 71 % | 38 % | \n",
       "| S19 | 73 % | 65 % | 69 % | 74 % | 52 % | 44 % | 73 % | 40 % | 39 % | 13 % | \n",
       "| S20 | 94 % | 91 % | 92 % | 94 % | 86 % | 82 % | 94 % | 79 % | 79 % | 48 % | \n",
       "| S21 | 94 % | 91 % | 92 % | 94 % | 86 % | 82 % | 94 % | 79 % | 79 % | 48 % | \n",
       "| S22 | 83 % | 78 % | 80 % | 84 % | 68 % | 60 % | 83 % | 56 % | 55 % | 23 % | \n",
       "| S23 | 87 % | 83 % | 85 % | 88 % | 75 % | 68 % | 87 % | 64 % | 63 % | 30 % | \n",
       "| S24 | 91 % | 88 % | 89 % | 91 % | 81 % | 75 % | 91 % | 72 % | 71 % | 38 % | \n",
       "| S25 | 94 % | 91 % | 92 % | 94 % | 86 % | 82 % | 94 % | 79 % | 79 % | 48 % | \n",
       "\n",
       "\n"
      ],
      "text/plain": [
       "    e1   e2   e3   e4   e5   e6   e7   e8   e9   e10 \n",
       "S1  42 % 33 % 37 % 43 % 23 % 17 % 42 % 15 % 15 % 4 % \n",
       "S2  96 % 94 % 95 % 96 % 91 % 88 % 96 % 86 % 86 % 60 %\n",
       "S3  91 % 88 % 89 % 91 % 81 % 75 % 91 % 72 % 71 % 38 %\n",
       "S4  94 % 91 % 92 % 94 % 86 % 82 % 94 % 79 % 79 % 48 %\n",
       "S5  87 % 83 % 85 % 88 % 75 % 68 % 87 % 64 % 63 % 30 %\n",
       "S6  83 % 78 % 80 % 84 % 68 % 60 % 83 % 56 % 55 % 23 %\n",
       "S7  78 % 72 % 75 % 79 % 60 % 52 % 78 % 47 % 47 % 18 %\n",
       "S8  94 % 91 % 92 % 94 % 86 % 82 % 94 % 79 % 79 % 48 %\n",
       "S9  91 % 88 % 89 % 91 % 81 % 75 % 91 % 72 % 71 % 38 %\n",
       "S10 78 % 72 % 75 % 79 % 60 % 52 % 78 % 47 % 47 % 18 %\n",
       "S11 87 % 83 % 85 % 88 % 75 % 68 % 87 % 64 % 63 % 30 %\n",
       "S12 78 % 72 % 75 % 79 % 60 % 52 % 78 % 47 % 47 % 18 %\n",
       "S13 78 % 72 % 75 % 79 % 60 % 52 % 78 % 47 % 47 % 18 %\n",
       "S14 91 % 88 % 89 % 91 % 81 % 75 % 91 % 72 % 71 % 38 %\n",
       "S15 91 % 88 % 89 % 91 % 81 % 75 % 91 % 72 % 71 % 38 %\n",
       "S16 83 % 78 % 80 % 84 % 68 % 60 % 83 % 56 % 55 % 23 %\n",
       "S17 91 % 88 % 89 % 91 % 81 % 75 % 91 % 72 % 71 % 38 %\n",
       "S18 91 % 88 % 89 % 91 % 81 % 75 % 91 % 72 % 71 % 38 %\n",
       "S19 73 % 65 % 69 % 74 % 52 % 44 % 73 % 40 % 39 % 13 %\n",
       "S20 94 % 91 % 92 % 94 % 86 % 82 % 94 % 79 % 79 % 48 %\n",
       "S21 94 % 91 % 92 % 94 % 86 % 82 % 94 % 79 % 79 % 48 %\n",
       "S22 83 % 78 % 80 % 84 % 68 % 60 % 83 % 56 % 55 % 23 %\n",
       "S23 87 % 83 % 85 % 88 % 75 % 68 % 87 % 64 % 63 % 30 %\n",
       "S24 91 % 88 % 89 % 91 % 81 % 75 % 91 % 72 % 71 % 38 %\n",
       "S25 94 % 91 % 92 % 94 % 86 % 82 % 94 % 79 % 79 % 48 %"
      ]
     },
     "metadata": {},
     "output_type": "display_data"
    }
   ],
   "source": [
    "# Calcolo la tabella di probabilità che ogni studente risponda correttamente ad ogni test usando il discriminante non vincolato\n",
    "dfProbF <- calcProbabilites(datiDichot, difficDichotF, abil)\n",
    "\n",
    "# Visualizzo la tabella più semplicemente\n",
    "showProbabilities(dfProbF)"
   ]
  },
  {
   "cell_type": "code",
   "execution_count": 11,
   "metadata": {
    "collapsed": true
   },
   "outputs": [],
   "source": [
    "#' Genera una tabella dicotomica\n",
    "#'\n",
    "#' @param diff vettore di difficoltà scelte\n",
    "#' @param abil vettore di abilità scelte\n",
    "#' @return La tabella dicotomica generata\n",
    "#' @examples\n",
    "#' numItems <- 10\n",
    "#' numStudents <- 30\n",
    "#' diffInit <- rnorm(numItems)\n",
    "#' abil <- rnorm(numStudents)\n",
    "#' generateDichot(diffInit, abil)\n",
    "generateDichot <- function(diff, abil) {\n",
    "    items <- data.frame(matrix(0, ncol = length(diff), nrow = length(abil)))\n",
    "    prob <- calcProbabilites(items, diff, abil)\n",
    "    namesCol  <- names(items)\n",
    "    namesRow  <- row.names(items)\n",
    "    for (row in namesRow) {\n",
    "        for (col in namesCol) {\n",
    "            items[row,col] <- rbinom(1, 1, prob[row,col])         \n",
    "        }\n",
    "    }    \n",
    "    items\n",
    "}\n",
    "\n",
    "#' Valuta la bontà del mio stimatore misurando lo scostamento tra le difficoltà o le abilità passate per argomento\n",
    "#'\n",
    "#' @param vect1 vettore di difficoltà o abilità\n",
    "#' @param vect2 vettore di difficoltà o abilità\n",
    "#' @return Data frame con le difficoltà o abilità passate per argomento e lo scostamento rilevato\n",
    "#' @examples\n",
    "#' numItems <- 10\n",
    "#' numStudents <- 30\n",
    "#' bootStrapVal <- 10\n",
    "#' diffInit <- rnorm(numItems)\n",
    "#' abil <- rnorm(numStudents)\n",
    "#' genDic <- generateDichot(diffInit, abil)\n",
    "#' genDicBoot <- bootstrapping(genDic, numStudents * bootStrapVal)\n",
    "#' diffEstim <- estimateDifficultiesDichotFreeDiscrim(genDicBoot)\n",
    "#' validationWithDifference(diffInit, diffEstim)\n",
    "validationWithDifference <- function(vect1, vect2) { \n",
    "    scost <- abs(unlist(lapply(vect1 - vect2 , round, 2)))\n",
    "    compare <- data.frame(vect1, vect2, scost)   \n",
    "    colnames(compare) <- c(\"Vettore 1\",\"Vettore 2\", \"Scostamento\")\n",
    "    compare\n",
    "}\n",
    "\n",
    "#' Valuta la bontà del mio stimatore confrontando graficamente le difficoltà o le abilità passate per argomento\n",
    "#'\n",
    "#' @param vect1 Vettore di difficoltà o abilità\n",
    "#' @param vect2 Vettore di difficoltà o abilità\n",
    "#' @param label1 Descrizione del vettore 1\n",
    "#' @param label2 Descrizione del vettore 2\n",
    "#' @examples\n",
    "#' numItems <- 10\n",
    "#' numStudents <- 30\n",
    "#' bootStrapVal <- 10\n",
    "#' diffInit <- rnorm(numItems)\n",
    "#' abil <- rnorm(numStudents)\n",
    "#' genDic <- generateDichot(diff, abil)\n",
    "#' genDicBoot <- bootstrapping(genDic, numStudents * bootStrapVal)\n",
    "#' diffEstim <- estimateDifficultiesDichotFreeDiscrim(genDicBoot)\n",
    "#' validationWithPlot(diffInit, diffEstim)\n",
    "validationWithPlot <- function(vect1, vect2, label1 = \"Vettore 1\", label2 = \"Vettore 2\") {\n",
    "    plot(vect1,xlim=c(1,length(vect1)),ylim=c(-4,4),type=\"b\",main=\"Comparison plot\",xlab=\"Observations\",ylab=\"Values\",xaxt=\"n\",col=\"red\",pch=16,lwd=2)\n",
    "    axis(1, at = 1:length(vect1), labels = 1:length(vect1))\n",
    "    par(new = TRUE)\n",
    "    plot(vect2, type = \"b\", xlim = c(1,length(vect2)),ylim = c(-4,4), xaxt='n', yaxt = \"n\", xlab = \"\", ylab = \"\", col = \"blue\", pch=16, lwd=2)\n",
    "    legend(1, 4, legend=c(label1, label2), col=c(\"red\", \"blue\"), lty=1, cex=1, lwd=2, pch=16)\n",
    "    NULL\n",
    "}\n",
    "\n",
    "#' Valuta la bontà del mio stimatore calcolando il coefficiente di correlazione lineare\n",
    "#'\n",
    "#' @param vect1 vettore di difficoltà o abilità\n",
    "#' @param vect2 vettore di difficoltà o abilità\n",
    "#' @return Valore numerico compreso tra -1 e 1: se si avvicina a -1 i dati sono correlati negativamente, se si avvicina ad 1 \n",
    "#' i dati sono correlati positivamente e se è un valore vicino a 0 allora non vi è alcun tipo di correlazione lineare\n",
    "#' @examples\n",
    "#' numItems <- 10\n",
    "#' numStudents <- 30\n",
    "#' bootStrapVal <- 10\n",
    "#' diffInit <- rnorm(numItems)\n",
    "#' abil <- rnorm(numStudents)\n",
    "#' genDic <- generateDichot(diff, abil)\n",
    "#' genDicBoot <- bootstrapping(genDic, numStudents * bootStrapVal)\n",
    "#' diffEstim <- estimateDifficultiesDichotFreeDiscrim(genDicBoot)\n",
    "#' validationWithCor(diffInit, diffEstim)\n",
    "validationWithCor <- function(vect1, vect2) {\n",
    "    cor(vect1, vect2)\n",
    "}\n",
    "\n",
    "\n",
    "#' Funzione che permette di generare, stimare, validare e, se richiesto, estendere la tabella generata dagli input\n",
    "#'\n",
    "#' @param diff Vettore di difficoltà \n",
    "#' @param abil Vettore di abilità \n",
    "#' @param generator Funzione generatrice della tabella\n",
    "#' @param estimator Funzione di stima della difficoltà o abilità della tabella generata\n",
    "#' @param validator Funzione per fornire un indicatore della bontà dello stimatore\n",
    "#' @param increaseTable Funzione opzionale di incremento della tabella su cui applicare lo stimatore\n",
    "#' @param valid Indica se il validatore deve essere applicato sulla difficoltà o l'abilità\n",
    "#' @return Lista contenente la tabella generata, le difficoltà o abilità stimate e output del validatore \n",
    "#' @examples\n",
    "#' numItems <- 10\n",
    "#' numStudents <- 30\n",
    "#' bootStrapVal <- 10\n",
    "#' diffInit <- rnorm(numItems)\n",
    "#' abil <- rnorm(numStudents)\n",
    "#' simulate(diffInit, abil, generateDichot, estimateDifficultiesDichotOneDiscrim, validationWithPlot, bootstrapping)\n",
    "#' simulate(diffInit, abil, generateDichot, estimateAbilitiesDichot, validationWithPlot, diffOrAb = \"abil\")\n",
    "simulate <- function(diff, abil, generator, estimator, validator, increaseTable = function(df) df, diffOrAb = \"diff\") {\n",
    "    tabDichot <- generator(diff, abil)\n",
    "    tabDichotBoot <- increaseTable(tabDichot)  \n",
    "    estim <- estimator(tabDichotBoot)\n",
    "    \n",
    "    if(diffOrAb == \"diff\"){        \n",
    "        valid <- validator(diff, estim)\n",
    "    }\n",
    "    else if(diffOrAb == \"abil\"){        \n",
    "        valid <- validator(abil, estim)\n",
    "    }\n",
    "    \n",
    "    list(tabDichot, estim, valid)\n",
    "}"
   ]
  },
  {
   "cell_type": "code",
   "execution_count": 12,
   "metadata": {
    "collapsed": true
   },
   "outputs": [],
   "source": [
    "# Definisco il numero di items, il numero di studenti ed quante estrazioni effettuare rispetto al numero di studenti\n",
    "numItems <- 10\n",
    "numStudents <- 30 \n",
    "bootStrapVal <- 15\n",
    "\n",
    "# Genero randomicamente difficolà e abilità\n",
    "diff <- rnorm(numItems)\n",
    "abil <- rnorm(numStudents)\n",
    "\n",
    "# Genero la tabella dicotomica e vi applico il bootstrapping\n",
    "genDic <- generateDichot(diff, abil)\n",
    "genDicBoot <- bootstrapping(genDic, numStudents * bootStrapVal)\n",
    "\n",
    "# Stimo le difficoltà con entrambi i metodi\n",
    "esDiffO <- estimateDifficultiesDichotOneDiscrim(genDicBoot)\n",
    "esDiffF <- estimateDifficultiesDichotFreeDiscrim(genDicBoot)\n",
    "esAbil <- estimateAbilitiesDichot(genDicBoot)"
   ]
  },
  {
   "cell_type": "code",
   "execution_count": 13,
   "metadata": {
    "scrolled": false
   },
   "outputs": [
    {
     "data": {
      "text/plain": [
       "NULL"
      ]
     },
     "metadata": {},
     "output_type": "display_data"
    },
    {
     "data": {
      "image/png": "[encoded data removed]",
      "text/plain": [
       "Plot with title \"Comparison plot\""
      ]
     },
     "metadata": {},
     "output_type": "display_data"
    },
    {
     "data": {
      "text/plain": [
       "NULL"
      ]
     },
     "metadata": {},
     "output_type": "display_data"
    },
    {
     "data": {
      "image/png": "[encoded data removed]",
      "text/plain": [
       "Plot with title \"Comparison plot\""
      ]
     },
     "metadata": {},
     "output_type": "display_data"
    },
    {
     "data": {
      "text/plain": [
       "NULL"
      ]
     },
     "metadata": {},
     "output_type": "display_data"
    },
    {
     "data": {
      "image/png": "[encoded data removed]",
      "text/plain": [
       "Plot with title \"Comparison plot\""
      ]
     },
     "metadata": {},
     "output_type": "display_data"
    }
   ],
   "source": [
    "# Confronto le difficoltà iniziali e quelle stimate fissando il discriminante ad 1\n",
    "validationWithPlot(diff, esDiffO, \"Difficoltà originali\", \"Diffcoltà stimate con discriminante ad 1\")\n",
    "\n",
    "# Confronto le difficoltà iniziali e quelle stimate senza fissare il discriminante\n",
    "validationWithPlot(diff, esDiffF, \"Difficoltà originali\", \"Diffcoltà stimate con discriminante libero\")\n",
    "\n",
    "# Confronto le difficoltà stimate fissando il discriminante ad 1 con quelle stimate senza fissarlo\n",
    "validationWithPlot(esDiffO, esDiffF, \"Diffcoltà stimate con discriminante ad 1\", \"Diffcoltà stimate con discriminante libero\")"
   ]
  },
  {
   "cell_type": "code",
   "execution_count": 14,
   "metadata": {
    "collapsed": true
   },
   "outputs": [],
   "source": [
    "#' Sostituisce alcuni 0 con NA nella tabella passata simulando che alcuni studenti invece di consegnare un esercizio sicuramente\n",
    "#' errato hanno invece deciso di astenersi\n",
    "#'\n",
    "#' @param items Tabella dicotomica avente una riga per studente e una colonna per esercizio\n",
    "#' @param prob Probabilità con cui decidere se sostituire uno 0 in NA, se è 0 nessuno verrà sostituito e se è 1 tutti verranno\n",
    "#' sostituiti, di default è il 30%\n",
    "#' @return Data frame nella quale sono avvenute le sostituizioni \n",
    "#' @examples\n",
    "#' p <- 0.3\n",
    "#' items <- readEXCEl(\"file.xlsx\")\n",
    "#' replaceRandomZeroWithNA(items, p)\n",
    "replaceRandomZeroWithNA <- function(items, prob = 0.3) {   \n",
    "    df <- items\n",
    "    namesCol <- names(df)\n",
    "    namesRow <- row.names(df)\n",
    "    for (row in namesRow) {\n",
    "        for (col in namesCol) {\n",
    "            if(df[row,col] == 0){\n",
    "                p <- runif(1)\n",
    "                if(prob > p){\n",
    "                    df[row,col] = NA\n",
    "                }\n",
    "            }                \n",
    "        }\n",
    "    }\n",
    "    df\n",
    "}"
   ]
  },
  {
   "cell_type": "code",
   "execution_count": 15,
   "metadata": {
    "collapsed": true
   },
   "outputs": [],
   "source": [
    "# Definisco il numero di items, numero di studenti, quante estrazioni effettuare e la probabilità di rimpiazzare gli 0 con NA\n",
    "numItems <- 10\n",
    "numStudents <- 30\n",
    "bootStrapVal <- 30\n",
    "prob <- 0.2\n",
    "\n",
    "# Genero randomicamente difficolà e abilità\n",
    "diff <- rnorm(numItems)\n",
    "abil <- rnorm(numStudents)\n",
    "\n",
    "# Genero la tabella dicotomica e vi appli il bootstrapping\n",
    "gd <- generateDichot(diff, abil)\n",
    "gdNA <- replaceRandomZeroWithNA(gd, prob)\n",
    "gdNA <- bootstrapping(gdNA, numStudents * bootStrapVal)"
   ]
  },
  {
   "cell_type": "code",
   "execution_count": 16,
   "metadata": {},
   "outputs": [
    {
     "name": "stderr",
     "output_type": "stream",
     "text": [
      "Warning message:\n",
      "\"glm.fit: fitted probabilities numerically 0 or 1 occurred\""
     ]
    },
    {
     "data": {
      "image/png": "[encoded data removed]",
      "text/plain": [
       "Plot with title \"Difficulties plot\""
      ]
     },
     "metadata": {},
     "output_type": "display_data"
    }
   ],
   "source": [
    "estDiffNULL <- estimateDifficultiesDichotOneDiscrim(gdNA)\n",
    "estDiffZero <- estimateDifficultiesDichotOneDiscrim(replaceNaWithZero(gdNA))\n",
    "\n",
    "# Visualizzo e confronto i grafici relativi alle difficoltà stimate nei 2 modi: mantenendo i NA e ignorandoli e sostituendoli con 0\n",
    "plotDifficultiesDichot(gdNA, estDiffNULL)\n",
    "par(new = TRUE)\n",
    "plotDifficultiesDichot(gdNA, estDiffZero, color = \"blue\")\n",
    "par(new = TRUE)\n",
    "plotDifficultiesDichot(gdNA, diff, color = \"green\")\n",
    "legend(1, 10, legend=c(\"Difficoltà stimate ignorando la presenza di NA\", \"Difficoltà stimate sostituendo i NA con 0\", \"Difficoltà originali\"), col=c(\"red\", \"blue\", \"green\"), lty=1, cex=1, lwd=2, pch=16)"
   ]
  },
  {
   "cell_type": "code",
   "execution_count": 17,
   "metadata": {
    "collapsed": true
   },
   "outputs": [],
   "source": [
    "#' Produce una matrice dicotomica definendo la condizione per cui un esercizio viene definito come passato(1) oppure no(0)\n",
    "#' @param session Sessione considerata\n",
    "#' @param vote Stringa che indica come valutare gli esercizi\n",
    "#' @param maxError Se scelto il criterio \"errors\", questo campo indica il massimo numero di errori commettibili\n",
    "#' @param percTestCaseOk Se scelto il criterio \"testCase\", questo campo indica la percentuale di test case che devono \n",
    "#' essere corretti rispetto al totale\n",
    "#' @param keepNA Paramatreo booleano per indicare se indicare con NA i voti in cui gli studenti non hanno raggiunto la votazione\n",
    "#' precedente al paramentro di valutazione indicato (es. evaluateSource(session, vote = \"compiles\", keepNA = TRUE), i voti\n",
    "#' NA riguarderanno gli studenti che non hanno raggiunto lo step precedente, cioè l'upload)\n",
    "#' @return Data frame dicotomico, possiede una riga per studente e una colonna per esercizio, nelle intersezioni vi sono i \n",
    "#' risultati delle valutazioni sulla base delle specifiche inserite\n",
    "#' @examples\n",
    "#' sourceData <- \"data.R\"      \n",
    "#' source(sourceData)\n",
    "#' numSessions <- 5\n",
    "#' session <- sessions[numSessions]\n",
    "#' vote <- \"testCase\"\n",
    "#' p <- 0.5\n",
    "#' evaluateSource(session, vote, percTestCaseOk = p)             \n",
    "evaluateSource <- function(session, vote, maxError, percTestCaseOk, keepNA = FALSE) {  \n",
    "    \n",
    "    results <- get(paste(\"results_\", session, sep = \"\"))\n",
    "    \n",
    "    if(vote == \"uploaded\")\n",
    "        results[,,vote]\n",
    "    else if(vote == \"compiles\"){\n",
    "        dfC <- results[,,vote]\n",
    "        dfU <- results[,,\"uploaded\"]\n",
    "        \n",
    "        if(keepNA)\n",
    "            dfC[dfU == 0] <- NA   \n",
    "        dfC\n",
    "    }\n",
    "    else if(vote == \"errors\"){\n",
    "        df <- results[,,vote]\n",
    "        df[df <= maxError] <- 1 \n",
    "        df[df > maxError] <- 0\n",
    "        \n",
    "        if(!keepNA)\n",
    "            df[is.na(df)] <- 0            \n",
    "        df\n",
    "    }\n",
    "    else if(vote == \"testCase\"){\n",
    "        cases <- get(paste(\"cases_\", session, sep = \"\"))\n",
    "        df <- results[,,\"oks\"]\n",
    "        df <- t((t(df)) / c(cases)) \n",
    "        df[df >= percTestCaseOk] <- 1\n",
    "        df[df < percTestCaseOk] <- 0\n",
    "        \n",
    "        if(!keepNA)\n",
    "            df[is.na(df)] <- 0     \n",
    "        df\n",
    "    }        \n",
    "}"
   ]
  },
  {
   "cell_type": "code",
   "execution_count": 18,
   "metadata": {
    "collapsed": true
   },
   "outputs": [],
   "source": [
    "sourceData <- \"data.R\"\n",
    "source(sourceData)\n",
    "bootstrapVal <- 10"
   ]
  },
  {
   "cell_type": "code",
   "execution_count": 225,
   "metadata": {},
   "outputs": [
    {
     "name": "stdout",
     "output_type": "stream",
     "text": [
      "[1] \"Numero di studenti:  46\"\n"
     ]
    },
    {
     "data": {
      "image/png": "[encoded data removed]",
      "text/plain": [
       "Plot with title \"\""
      ]
     },
     "metadata": {},
     "output_type": "display_data"
    }
   ],
   "source": [
    "numSessions <- 6 \n",
    "session <- sessions[numSessions]\n",
    "\n",
    "evalWithUpload   <- evaluateSource(session, vote = \"uploaded\")\n",
    "evalWithCompiles <- evaluateSource(session, vote = \"compiles\")\n",
    "evalWithErrors   <- evaluateSource(session, vote = \"errors\", maxError = 2)\n",
    "evalWithTestCase <- evaluateSource(session, vote = \"testCase\", percTestCaseOk = 0.5)\n",
    "\n",
    "nStud <- nrow(evalWithTestCase)\n",
    "\n",
    "diffUpload   <- estimateDifficultiesDichotOneDiscrim(bootstrapping(evalWithUpload,   n = bootstrapVal * nStud))\n",
    "diffCompiles <- estimateDifficultiesDichotOneDiscrim(bootstrapping(evalWithCompiles, n = bootstrapVal * nStud))\n",
    "diffErrors   <- estimateDifficultiesDichotOneDiscrim(bootstrapping(evalWithErrors,   n = bootstrapVal * nStud))\n",
    "diffTestCase <- estimateDifficultiesDichotOneDiscrim(bootstrapping(evalWithTestCase, n = bootstrapVal * nStud))\n",
    "\n",
    "# Visualizzo e confronto i grafici relativi alle difficoltà stimate tenendo conto: solo se è stato effettuato l'upload,\n",
    "# solo se compila, solo se sono stati commessi meno di 2 errori di esecuzione e solo se almeno il 50% dei test case sono corretti\n",
    "plotDifficultiesDichot(evalWithUpload, diffUpload, color = \"red\", name = session)\n",
    "par(new = TRUE)\n",
    "plotDifficultiesDichot(evalWithCompiles, diffCompiles, color = \"blue\", name = \"\")\n",
    "par(new = TRUE)\n",
    "plotDifficultiesDichot(evalWithErrors, diffErrors, color = \"green\", name = \"\")\n",
    "par(new = TRUE)\n",
    "plotDifficultiesDichot(evalWithTestCase, diffTestCase, color = \"black\", name = \"\")\n",
    "legend(1, 10, legend=c(\"Upload\", \"Compilazione\", \"Meno di 2 errori di esecuzione\", \"50% di test case corretti\"), col=c(\"red\", \"blue\", \"green\", \"black\"), lty=1, cex=1, lwd=2, pch=16)\n",
    "\n",
    "# Dal grafico si possono trarre diverse conclusioni: \n",
    "#    - le stime legate all'upload, compilazione ed errori in esecuzione coincidono quasi sempre, da ciò deduciamo che gli \n",
    "#      studenti che consegnano gli esercizi lo fanno solo nel caso compilino e abbiano pochi errori di esecuzione o nessuno \n",
    "#    - le difficoltà hanno un andamento crescente, quindi il professore potrebbe aver assegnato gli esercizi considerando\n",
    "#      che gli studenti avrebbero dovuto impegnarsi maggiormente negli ultimi\n",
    "#    - Nella fase iniziale la stima per test case si discosta abbastanza dalle altre, sovrapponendosi ad essi successivamente,\n",
    "#      questo potrebbe essere indicativo del fatto che gli studenti all'inizio erano meno abili, forse a causa di spiegazioni \n",
    "#      poco chiare da parte del professore\n",
    "\n",
    "print(paste(\"Numero di studenti: \",nrow(evalWithTestCase)))\n",
    "\n",
    "# L'elevato numero di studenti (46) permette di avere una buona fiducia nei dati ottenuti"
   ]
  },
  {
   "cell_type": "code",
   "execution_count": 220,
   "metadata": {},
   "outputs": [
    {
     "data": {
      "image/png": "[encoded data removed]",
      "text/plain": [
       "Plot with title \"\""
      ]
     },
     "metadata": {},
     "output_type": "display_data"
    }
   ],
   "source": [
    "numSessions <- 7\n",
    "session <- sessions[numSessions]\n",
    "\n",
    "evalWithErrors   <- evaluateSource(session, vote = \"errors\", maxError = 2)\n",
    "evalWithTestCase <- evaluateSource(session, vote = \"testCase\", percTestCaseOk = 0.5)\n",
    "\n",
    "nStud <- nrow(evalWithTestCase)\n",
    "\n",
    "diffErrors   <- estimateDifficultiesDichotOneDiscrim(bootstrapping(evalWithErrors,   n = bootstrapVal * nStud))\n",
    "diffTestCase <- estimateDifficultiesDichotOneDiscrim(bootstrapping(evalWithTestCase, n = bootstrapVal * nStud))\n",
    "\n",
    "plotDifficultiesDichot(evalWithErrors, diffErrors, color = \"green\", name = session)\n",
    "par(new = TRUE)\n",
    "plotDifficultiesDichot(evalWithTestCase, diffTestCase, color = \"black\", name = \"\")\n",
    "legend(1, 10, legend=c(\"Meno di 2 errori di esecuzione\", \"50% di test case corretti\"), col=c(\"green\", \"black\"), lty=1, cex=1, lwd=2, pch=16)\n",
    "\n",
    "# Anche nel laboratorio 2 si può notare una sovrapposizione tra le stime considerando la presenza di meno di 2 errori di \n",
    "# esecuzione e il raggiungimento di almeno il 50% di test case corretti ma a differenza del precedente grafico questo\n",
    "# non ha un andamento particolarmente crescente, anzi, è quasi sempre fisso su una difficoltà medio-alta, da ciò possiamo\n",
    "# dedurre che gli studenti hanno avuto particolari difficoltà in tutto gli esercizi, scontrandoci con l'ipotesi formulata al \n",
    "# punto precedente sul crescente livello di difficoltà pensato dal professore"
   ]
  },
  {
   "cell_type": "code",
   "execution_count": 222,
   "metadata": {},
   "outputs": [
    {
     "name": "stderr",
     "output_type": "stream",
     "text": [
      "Warning message:\n",
      "\"glm.fit: algorithm did not converge\"Warning message:\n",
      "\"glm.fit: fitted probabilities numerically 0 or 1 occurred\""
     ]
    },
    {
     "data": {
      "image/png": "[encoded data removed]",
      "text/plain": [
       "Plot with title \"laboratorio_03\""
      ]
     },
     "metadata": {},
     "output_type": "display_data"
    }
   ],
   "source": [
    "numSessions <- 8\n",
    "session <- sessions[numSessions]\n",
    "\n",
    "# Consideriamo il 50% dei test case corretti come soglia per passare gli esercizi\n",
    "evalWithTestCase <- evaluateSource(session, vote = \"testCase\", percTestCaseOk = 0.5)\n",
    "\n",
    "nStud <- nrow(evalWithTestCase)\n",
    "diffTestCase <- estimateDifficultiesDichotOneDiscrim(bootstrapping(evalWithTestCase, n = bootstrapVal * nStud))\n",
    "\n",
    "plotDifficultiesDichot(evalWithTestCase, diffTestCase, color = \"black\", name = session)\n",
    "legend(1, 10, legend=c(\"50% di test case corretti\"), col=c(\"black\"), lty=1, cex=1, lwd=2, pch=16)\n",
    "\n",
    "# Nel laboratorio 3 notiamo che la difficoltà stimata si assesta per tutti gli esercizi su un livello medio-basso \n",
    "# con una leggere crescita verso gli ultimi"
   ]
  },
  {
   "cell_type": "code",
   "execution_count": 239,
   "metadata": {},
   "outputs": [
    {
     "name": "stderr",
     "output_type": "stream",
     "text": [
      "Warning message:\n",
      "\"glm.fit: fitted probabilities numerically 0 or 1 occurred\""
     ]
    },
    {
     "data": {
      "image/png": "[encoded data removed]",
      "text/plain": [
       "Plot with title \"laboratorio_04\""
      ]
     },
     "metadata": {},
     "output_type": "display_data"
    }
   ],
   "source": [
    "numSessions <- 9\n",
    "session <- sessions[numSessions]\n",
    "\n",
    "# Consideriamo il 50% dei test case corretti come soglia per passare gli esercizi\n",
    "evalWithTestCase <- evaluateSource(session, vote = \"testCase\", percTestCaseOk = 0.5)\n",
    "\n",
    "nStud <- nrow(evalWithTestCase)\n",
    "diffTestCase <- estimateDifficultiesDichotOneDiscrim(bootstrapping(evalWithTestCase, n = bootstrapVal * nStud))\n",
    "\n",
    "plotDifficultiesDichot(evalWithTestCase, diffTestCase, color = \"black\", name = session)\n",
    "legend(1, 10, legend=c(\"50% di test case corretti\"), col=c(\"black\"), lty=1, cex=1, lwd=2, pch=16)\n",
    "\n",
    "# Nel laboratorio 4 notiamo che la difficoltà stimata ottiene un andamento molto crescente, con un primo eserzio \n",
    "# di difficoltà minima, quasi impossibili da fallire, e un picco sul penultimo eserczio di difficoltà molto elevata"
   ]
  },
  {
   "cell_type": "code",
   "execution_count": 256,
   "metadata": {},
   "outputs": [
    {
     "name": "stderr",
     "output_type": "stream",
     "text": [
      "Warning message:\n",
      "\"glm.fit: fitted probabilities numerically 0 or 1 occurred\""
     ]
    },
    {
     "data": {
      "image/png": "[encoded data removed]",
      "text/plain": [
       "Plot with title \"laboratorio_05\""
      ]
     },
     "metadata": {},
     "output_type": "display_data"
    }
   ],
   "source": [
    "numSessions <- 10\n",
    "session <- sessions[numSessions]\n",
    "\n",
    "# Consideriamo il 50% dei test case corretti come soglia per passare gli esercizi\n",
    "evalWithTestCase <- evaluateSource(session, vote = \"testCase\", percTestCaseOk = 0.5)\n",
    "\n",
    "nStud <- nrow(evalWithTestCase)\n",
    "diffTestCase <- estimateDifficultiesDichotOneDiscrim(bootstrapping(evalWithTestCase, n = bootstrapVal * nStud))\n",
    "\n",
    "plotDifficultiesDichot(evalWithTestCase, diffTestCase, color = \"black\", name = session)\n",
    "legend(1, 10, legend=c(\"50% di test case corretti\"), col=c(\"black\"), lty=1, cex=1, lwd=2, pch=16)\n",
    "\n",
    "# Nel laboratorio 5 notiamo che la difficoltà stimata ha un andamento costante per quasi tutti gli esercizi, con un \n",
    "# leggero incremento sull'ultimo"
   ]
  },
  {
   "cell_type": "code",
   "execution_count": 259,
   "metadata": {},
   "outputs": [
    {
     "name": "stderr",
     "output_type": "stream",
     "text": [
      "Warning message:\n",
      "\"glm.fit: algorithm did not converge\"Warning message:\n",
      "\"glm.fit: fitted probabilities numerically 0 or 1 occurred\""
     ]
    },
    {
     "data": {
      "image/png": "[encoded data removed]",
      "text/plain": [
       "Plot with title \"laboratorio_06\""
      ]
     },
     "metadata": {},
     "output_type": "display_data"
    }
   ],
   "source": [
    "numSessions <- 11\n",
    "session <- sessions[numSessions]\n",
    "\n",
    "# Consideriamo il 50% dei test case corretti come soglia per passare gli esercizi\n",
    "evalWithTestCase <- evaluateSource(session, vote = \"testCase\", percTestCaseOk = 0.5)\n",
    "\n",
    "nStud <- nrow(evalWithTestCase)\n",
    "diffTestCase <- estimateDifficultiesDichotOneDiscrim(bootstrapping(evalWithTestCase, n = bootstrapVal * nStud))\n",
    "\n",
    "plotDifficultiesDichot(evalWithTestCase, diffTestCase, color = \"black\", name = session)\n",
    "legend(1, 10, legend=c(\"50% di test case corretti\"), col=c(\"black\"), lty=1, cex=1, lwd=2, pch=16)\n",
    "\n",
    "# Nel laboratorio 6 notiamo che la difficoltà stimata ha un andamento crescente con qualche diminuzione ma non abbastanza\n",
    "# significativa da negare l'esistenza di un aumento di difficoltà in relazione al numero dell'esercizio"
   ]
  },
  {
   "cell_type": "code",
   "execution_count": 316,
   "metadata": {
    "scrolled": false
   },
   "outputs": [
    {
     "name": "stderr",
     "output_type": "stream",
     "text": [
      "Warning message:\n",
      "\"glm.fit: algorithm did not converge\"Warning message:\n",
      "\"glm.fit: fitted probabilities numerically 0 or 1 occurred\"Warning message:\n",
      "\"glm.fit: algorithm did not converge\"Warning message:\n",
      "\"glm.fit: fitted probabilities numerically 0 or 1 occurred\"Warning message:\n",
      "\"glm.fit: algorithm did not converge\"Warning message:\n",
      "\"glm.fit: fitted probabilities numerically 0 or 1 occurred\"Warning message:\n",
      "\"glm.fit: fitted probabilities numerically 0 or 1 occurred\"Warning message:\n",
      "\"glm.fit: fitted probabilities numerically 0 or 1 occurred\""
     ]
    },
    {
     "data": {
      "text/html": [
       "'Numero di studenti: 35 ; Numero di esercizi passati: 2 ; Percentuale di passati: 5.71 %'"
      ],
      "text/latex": [
       "'Numero di studenti: 35 ; Numero di esercizi passati: 2 ; Percentuale di passati: 5.71 \\%'"
      ],
      "text/markdown": [
       "'Numero di studenti: 35 ; Numero di esercizi passati: 2 ; Percentuale di passati: 5.71 %'"
      ],
      "text/plain": [
       "[1] \"Numero di studenti: 35 ; Numero di esercizi passati: 2 ; Percentuale di passati: 5.71 %\""
      ]
     },
     "metadata": {},
     "output_type": "display_data"
    },
    {
     "data": {
      "text/html": [
       "'Numero di studenti: 35 ; Numero di esercizi passati: 2 ; Percentuale di passati: 5.71 %'"
      ],
      "text/latex": [
       "'Numero di studenti: 35 ; Numero di esercizi passati: 2 ; Percentuale di passati: 5.71 \\%'"
      ],
      "text/markdown": [
       "'Numero di studenti: 35 ; Numero di esercizi passati: 2 ; Percentuale di passati: 5.71 %'"
      ],
      "text/plain": [
       "[1] \"Numero di studenti: 35 ; Numero di esercizi passati: 2 ; Percentuale di passati: 5.71 %\""
      ]
     },
     "metadata": {},
     "output_type": "display_data"
    },
    {
     "data": {
      "text/html": [
       "'Numero di studenti: 35 ; Numero di esercizi passati: 3 ; Percentuale di passati: 8.57 %'"
      ],
      "text/latex": [
       "'Numero di studenti: 35 ; Numero di esercizi passati: 3 ; Percentuale di passati: 8.57 \\%'"
      ],
      "text/markdown": [
       "'Numero di studenti: 35 ; Numero di esercizi passati: 3 ; Percentuale di passati: 8.57 %'"
      ],
      "text/plain": [
       "[1] \"Numero di studenti: 35 ; Numero di esercizi passati: 3 ; Percentuale di passati: 8.57 %\""
      ]
     },
     "metadata": {},
     "output_type": "display_data"
    },
    {
     "data": {
      "text/html": [
       "'Numero di studenti: 35 ; Numero di esercizi passati: 2 ; Percentuale di passati: 5.71 %'"
      ],
      "text/latex": [
       "'Numero di studenti: 35 ; Numero di esercizi passati: 2 ; Percentuale di passati: 5.71 \\%'"
      ],
      "text/markdown": [
       "'Numero di studenti: 35 ; Numero di esercizi passati: 2 ; Percentuale di passati: 5.71 %'"
      ],
      "text/plain": [
       "[1] \"Numero di studenti: 35 ; Numero di esercizi passati: 2 ; Percentuale di passati: 5.71 %\""
      ]
     },
     "metadata": {},
     "output_type": "display_data"
    },
    {
     "data": {
      "image/png": "[encoded data removed]",
      "text/plain": [
       "Plot with title \"laboratorio_07\""
      ]
     },
     "metadata": {},
     "output_type": "display_data"
    }
   ],
   "source": [
    "numSessions <- 12\n",
    "session <- sessions[numSessions]\n",
    "\n",
    "# Consideriamo il 50% dei test case corretti come soglia per passare gli esercizi\n",
    "evalWithTestCase <- evaluateSource(session, vote = \"testCase\", percTestCaseOk = 0.5)\n",
    "\n",
    "nStud <- nrow(evalWithTestCase)\n",
    "diffTestCase <- estimateDifficultiesDichotOneDiscrim(bootstrapping(evalWithTestCase, n = bootstrapVal * nStud))\n",
    "\n",
    "plotDifficultiesDichot(evalWithTestCase, diffTestCase, color = \"black\", name = session)\n",
    "legend(1, 10, legend=c(\"50% di test case corretti\"), col=c(\"black\"), lty=1, cex=1, lwd=2, pch=16)\n",
    "\n",
    "# Nel laboratorio 7 notiamo un incremento di difficoltà molto elevato che produce molti problemi sulla convergenza \n",
    "# dell'algoritmo di stima ma che possiamo giustificare osservando il numero di persone che hanno superato gli ultimi esercizi\n",
    "# rispetto al totale degli studenti\n",
    "\n",
    "showRispPercStud <- function(tab, ex) {  \n",
    "    studTot <- nrow(tab)\n",
    "    numRisp <- sum(tab[,ex])\n",
    "    perc <- round(numRisp/studTot*100, digits = 2)\n",
    "    \n",
    "    paste(\"Numero di studenti:\", studTot, \"; Numero di esercizi passati:\", numRisp, \"; Percentuale di passati:\", perc, \"%\")   \n",
    "}\n",
    "\n",
    "showRispPercStud(evalWithTestCase, \"09-pila_di_stringhe\")\n",
    "showRispPercStud(evalWithTestCase, \"10-due_alla\")\n",
    "showRispPercStud(evalWithTestCase, \"11-frazioni_continue\")\n",
    "showRispPercStud(evalWithTestCase, \"12-visualizza_hanoi\")"
   ]
  }
 ],
 "metadata": {
  "kernelspec": {
   "display_name": "R",
   "language": "R",
   "name": "ir"
  },
  "language_info": {
   "codemirror_mode": "r",
   "file_extension": ".r",
   "mimetype": "text/x-r-source",
   "name": "R",
   "pygments_lexer": "r",
   "version": "3.4.1"
  }
 },
 "nbformat": 4,
 "nbformat_minor": 2
}
