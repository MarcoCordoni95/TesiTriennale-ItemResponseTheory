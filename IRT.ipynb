{
 "cells": [
  {
   "cell_type": "markdown",
   "metadata": {},
   "source": [
    "<center> \n",
    "    <font face=\"Baskerville Old Face\">\n",
    "        <font size=\"6\"> <h1> Uno strumento di analisi statistica delle prove d'esame di programmazione</h1> </font>\n",
    "        <font size=\"3\"> <h2> Progetto di tesi triennale in informatica - Università statale di Milano</h2> </font>          \n",
    "        <font size=\"3\"> <h3> Marco Cordoni </h3> </font>     \n",
    "    </font>\n",
    "</center>"
   ]
  },
  {
   "cell_type": "code",
   "execution_count": 4,
   "metadata": {},
   "outputs": [],
   "source": [
    "# importo le funzioni definite nel file IrtFunctions.r\n",
    "source(\"IrtFunctions.r\")"
   ]
  },
  {
   "cell_type": "markdown",
   "metadata": {},
   "source": [
    "<center> \n",
    "    <font face=\"Baskerville Old Face\">\n",
    "        <font size=\"3\"> <h2> Esempio di apllicazione del modello ad 1 parametro</h2> </font> \n",
    "        \n",
    "        <br>\n",
    "        \n",
    "        <font size=\"6\">\n",
    "        $\n",
    "            \\begin{equation} \n",
    "            p(x_{ij} = 1 | \\theta_i, \\beta_j) = \\frac{\\mathrm{e}^{(\\theta_i - \\beta_j)}}\n",
    "                                                     {1 + \\mathrm{e}^{(\\theta_i - \\beta_j)}}\n",
    "            \\end{equation}\n",
    "        $ \n",
    "        </font> \n",
    "        \n",
    "    </font>\n",
    "</center>"
   ]
  },
  {
   "cell_type": "code",
   "execution_count": 58,
   "metadata": {},
   "outputs": [
    {
     "data": {
      "text/html": [
       "0.119202922022118"
      ],
      "text/latex": [
       "0.119202922022118"
      ],
      "text/markdown": [
       "0.119202922022118"
      ],
      "text/plain": [
       "[1] 0.1192029"
      ]
     },
     "metadata": {},
     "output_type": "display_data"
    }
   ],
   "source": [
    "# Simulo la presenza di un esercizio di diffioltà medio-alta e di uno studenti di abilità media\n",
    "# Il modello dovrà ritornare una probabilià abbastanza bassa \n",
    "pl1(ability = 0, difficulty = 2)"
   ]
  },
  {
   "cell_type": "code",
   "execution_count": 60,
   "metadata": {},
   "outputs": [
    {
     "data": {
      "text/html": [
       "0.880797077977882"
      ],
      "text/latex": [
       "0.880797077977882"
      ],
      "text/markdown": [
       "0.880797077977882"
      ],
      "text/plain": [
       "[1] 0.8807971"
      ]
     },
     "metadata": {},
     "output_type": "display_data"
    }
   ],
   "source": [
    "# Viceversa dovrei ottenere una probabilità alta\n",
    "pl1(ability = 2, difficulty = 0)"
   ]
  },
  {
   "cell_type": "code",
   "execution_count": 32,
   "metadata": {},
   "outputs": [
    {
     "data": {
      "text/html": [
       "0.5"
      ],
      "text/latex": [
       "0.5"
      ],
      "text/markdown": [
       "0.5"
      ],
      "text/plain": [
       "[1] 0.5"
      ]
     },
     "metadata": {},
     "output_type": "display_data"
    },
    {
     "data": {
      "text/html": [
       "0.5"
      ],
      "text/latex": [
       "0.5"
      ],
      "text/markdown": [
       "0.5"
      ],
      "text/plain": [
       "[1] 0.5"
      ]
     },
     "metadata": {},
     "output_type": "display_data"
    }
   ],
   "source": [
    "# Nel caso abilità e difficoltà siano equivalenti si ottiene sempre una probabilità del 50%\n",
    "pl1(ability = 0, difficulty = 0)\n",
    "pl1(ability = 1, difficulty = 1)"
   ]
  },
  {
   "cell_type": "code",
   "execution_count": 56,
   "metadata": {},
   "outputs": [
    {
     "data": {
      "text/html": [
       "<table>\n",
       "<thead><tr><th></th><th scope=col>Esercizio 1</th><th scope=col>Esercizio 2</th><th scope=col>Esercizio 3</th><th scope=col>Esercizio 4</th><th scope=col>Esercizio 5</th></tr></thead>\n",
       "<tbody>\n",
       "\t<tr><th scope=row>Studente 1</th><td>0.1977711</td><td>0.7549859</td><td>0.5616473</td><td>0.3717282</td><td>0.5910636</td></tr>\n",
       "\t<tr><th scope=row>Studente 2</th><td>0.1939622</td><td>0.7504849</td><td>0.5556847</td><td>0.3660979</td><td>0.5852056</td></tr>\n",
       "\t<tr><th scope=row>Studente 3</th><td>0.2739647</td><td>0.8250679</td><td>0.6622943</td><td>0.4752389</td><td>0.6886999</td></tr>\n",
       "\t<tr><th scope=row>Studente 4</th><td>0.3652185</td><td>0.8779204</td><td>0.7493877</td><td>0.5799794</td><td>0.7713346</td></tr>\n",
       "\t<tr><th scope=row>Studente 5</th><td>0.2716985</td><td>0.8234131</td><td>0.6597347</td><td>0.4723910</td><td>0.6862457</td></tr>\n",
       "\t<tr><th scope=row>Studente 6</th><td>0.2470063</td><td>0.8039274</td><td>0.6302970</td><td>0.4404911</td><td>0.6579123</td></tr>\n",
       "\t<tr><th scope=row>Studente 7</th><td>0.3523574</td><td>0.8718007</td><td>0.7387422</td><td>0.5663025</td><td>0.7613245</td></tr>\n",
       "\t<tr><th scope=row>Studente 8</th><td>0.2399032</td><td>0.7977769</td><td>0.6212658</td><td>0.4310089</td><td>0.6491802</td></tr>\n",
       "\t<tr><th scope=row>Studente 9</th><td>0.1007087</td><td>0.5832897</td><td>0.3678991</td><td>0.2118348</td><td>0.3963428</td></tr>\n",
       "\t<tr><th scope=row>Studente 10</th><td>0.1538992</td><td>0.6945179</td><td>0.4859522</td><td>0.3038848</td><td>0.5160713</td></tr>\n",
       "</tbody>\n",
       "</table>\n"
      ],
      "text/latex": [
       "\\begin{tabular}{r|lllll}\n",
       "  & Esercizio 1 & Esercizio 2 & Esercizio 3 & Esercizio 4 & Esercizio 5\\\\\n",
       "\\hline\n",
       "\tStudente 1 & 0.1977711 & 0.7549859 & 0.5616473 & 0.3717282 & 0.5910636\\\\\n",
       "\tStudente 2 & 0.1939622 & 0.7504849 & 0.5556847 & 0.3660979 & 0.5852056\\\\\n",
       "\tStudente 3 & 0.2739647 & 0.8250679 & 0.6622943 & 0.4752389 & 0.6886999\\\\\n",
       "\tStudente 4 & 0.3652185 & 0.8779204 & 0.7493877 & 0.5799794 & 0.7713346\\\\\n",
       "\tStudente 5 & 0.2716985 & 0.8234131 & 0.6597347 & 0.4723910 & 0.6862457\\\\\n",
       "\tStudente 6 & 0.2470063 & 0.8039274 & 0.6302970 & 0.4404911 & 0.6579123\\\\\n",
       "\tStudente 7 & 0.3523574 & 0.8718007 & 0.7387422 & 0.5663025 & 0.7613245\\\\\n",
       "\tStudente 8 & 0.2399032 & 0.7977769 & 0.6212658 & 0.4310089 & 0.6491802\\\\\n",
       "\tStudente 9 & 0.1007087 & 0.5832897 & 0.3678991 & 0.2118348 & 0.3963428\\\\\n",
       "\tStudente 10 & 0.1538992 & 0.6945179 & 0.4859522 & 0.3038848 & 0.5160713\\\\\n",
       "\\end{tabular}\n"
      ],
      "text/markdown": [
       "\n",
       "| <!--/--> | Esercizio 1 | Esercizio 2 | Esercizio 3 | Esercizio 4 | Esercizio 5 | \n",
       "|---|---|---|---|---|---|---|---|---|---|\n",
       "| Studente 1 | 0.1977711 | 0.7549859 | 0.5616473 | 0.3717282 | 0.5910636 | \n",
       "| Studente 2 | 0.1939622 | 0.7504849 | 0.5556847 | 0.3660979 | 0.5852056 | \n",
       "| Studente 3 | 0.2739647 | 0.8250679 | 0.6622943 | 0.4752389 | 0.6886999 | \n",
       "| Studente 4 | 0.3652185 | 0.8779204 | 0.7493877 | 0.5799794 | 0.7713346 | \n",
       "| Studente 5 | 0.2716985 | 0.8234131 | 0.6597347 | 0.4723910 | 0.6862457 | \n",
       "| Studente 6 | 0.2470063 | 0.8039274 | 0.6302970 | 0.4404911 | 0.6579123 | \n",
       "| Studente 7 | 0.3523574 | 0.8718007 | 0.7387422 | 0.5663025 | 0.7613245 | \n",
       "| Studente 8 | 0.2399032 | 0.7977769 | 0.6212658 | 0.4310089 | 0.6491802 | \n",
       "| Studente 9 | 0.1007087 | 0.5832897 | 0.3678991 | 0.2118348 | 0.3963428 | \n",
       "| Studente 10 | 0.1538992 | 0.6945179 | 0.4859522 | 0.3038848 | 0.5160713 | \n",
       "\n",
       "\n"
      ],
      "text/plain": [
       "            Esercizio 1 Esercizio 2 Esercizio 3 Esercizio 4 Esercizio 5\n",
       "Studente 1  0.1977711   0.7549859   0.5616473   0.3717282   0.5910636  \n",
       "Studente 2  0.1939622   0.7504849   0.5556847   0.3660979   0.5852056  \n",
       "Studente 3  0.2739647   0.8250679   0.6622943   0.4752389   0.6886999  \n",
       "Studente 4  0.3652185   0.8779204   0.7493877   0.5799794   0.7713346  \n",
       "Studente 5  0.2716985   0.8234131   0.6597347   0.4723910   0.6862457  \n",
       "Studente 6  0.2470063   0.8039274   0.6302970   0.4404911   0.6579123  \n",
       "Studente 7  0.3523574   0.8718007   0.7387422   0.5663025   0.7613245  \n",
       "Studente 8  0.2399032   0.7977769   0.6212658   0.4310089   0.6491802  \n",
       "Studente 9  0.1007087   0.5832897   0.3678991   0.2118348   0.3963428  \n",
       "Studente 10 0.1538992   0.6945179   0.4859522   0.3038848   0.5160713  "
      ]
     },
     "metadata": {},
     "output_type": "display_data"
    }
   ],
   "source": [
    "# Sfruttando il modello precedentemente posso applicarlo ad un ampio numero di studente ed esercizi\n",
    "# Definisco il numero di colonne e righe\n",
    "nItem <- 5\n",
    "nStud <- 10\n",
    "\n",
    "# Genero i valori randomicamente\n",
    "vectDiff <- rnorm(nItem)\n",
    "vectAbil <- rnorm(nStud)\n",
    "\n",
    "# Creo un dataframe delle giuste dimensioni e assegno a righe e colonne i nomi opportuni\n",
    "df <- data.frame(matrix(ncol = length(vectDiff), nrow = length(vectAbil)))\n",
    "rownames(df) <- unlist(lapply(c(1:nStud), function(p) paste(\"Studente\", p)))\n",
    "colnames(df) <- unlist(lapply(c(1:nItem), function(p) paste(\"Esercizio\", p)))\n",
    "\n",
    "# Applico il modello\n",
    "cp <- calcProbabilites(items = df, diff = vectDiff, abil = vectAbil)\n",
    "cp"
   ]
  },
  {
   "cell_type": "code",
   "execution_count": 57,
   "metadata": {},
   "outputs": [
    {
     "data": {
      "text/html": [
       "<table>\n",
       "<thead><tr><th></th><th scope=col>Esercizio.1</th><th scope=col>Esercizio.2</th><th scope=col>Esercizio.3</th><th scope=col>Esercizio.4</th><th scope=col>Esercizio.5</th></tr></thead>\n",
       "<tbody>\n",
       "\t<tr><th scope=row>Studente 1</th><td>19 %</td><td>75 %</td><td>56 %</td><td>37 %</td><td>59 %</td></tr>\n",
       "\t<tr><th scope=row>Studente 2</th><td>19 %</td><td>75 %</td><td>55 %</td><td>36 %</td><td>58 %</td></tr>\n",
       "\t<tr><th scope=row>Studente 3</th><td>27 %</td><td>82 %</td><td>66 %</td><td>47 %</td><td>68 %</td></tr>\n",
       "\t<tr><th scope=row>Studente 4</th><td>36 %</td><td>87 %</td><td>74 %</td><td>57 %</td><td>77 %</td></tr>\n",
       "\t<tr><th scope=row>Studente 5</th><td>27 %</td><td>82 %</td><td>65 %</td><td>47 %</td><td>68 %</td></tr>\n",
       "\t<tr><th scope=row>Studente 6</th><td>24 %</td><td>80 %</td><td>63 %</td><td>44 %</td><td>65 %</td></tr>\n",
       "\t<tr><th scope=row>Studente 7</th><td>35 %</td><td>87 %</td><td>73 %</td><td>56 %</td><td>76 %</td></tr>\n",
       "\t<tr><th scope=row>Studente 8</th><td>23 %</td><td>79 %</td><td>62 %</td><td>43 %</td><td>64 %</td></tr>\n",
       "\t<tr><th scope=row>Studente 9</th><td>10 %</td><td>58 %</td><td>36 %</td><td>21 %</td><td>39 %</td></tr>\n",
       "\t<tr><th scope=row>Studente 10</th><td>15 %</td><td>69 %</td><td>48 %</td><td>30 %</td><td>51 %</td></tr>\n",
       "</tbody>\n",
       "</table>\n"
      ],
      "text/latex": [
       "\\begin{tabular}{r|lllll}\n",
       "  & Esercizio.1 & Esercizio.2 & Esercizio.3 & Esercizio.4 & Esercizio.5\\\\\n",
       "\\hline\n",
       "\tStudente 1 & 19 \\% & 75 \\% & 56 \\% & 37 \\% & 59 \\%\\\\\n",
       "\tStudente 2 & 19 \\% & 75 \\% & 55 \\% & 36 \\% & 58 \\%\\\\\n",
       "\tStudente 3 & 27 \\% & 82 \\% & 66 \\% & 47 \\% & 68 \\%\\\\\n",
       "\tStudente 4 & 36 \\% & 87 \\% & 74 \\% & 57 \\% & 77 \\%\\\\\n",
       "\tStudente 5 & 27 \\% & 82 \\% & 65 \\% & 47 \\% & 68 \\%\\\\\n",
       "\tStudente 6 & 24 \\% & 80 \\% & 63 \\% & 44 \\% & 65 \\%\\\\\n",
       "\tStudente 7 & 35 \\% & 87 \\% & 73 \\% & 56 \\% & 76 \\%\\\\\n",
       "\tStudente 8 & 23 \\% & 79 \\% & 62 \\% & 43 \\% & 64 \\%\\\\\n",
       "\tStudente 9 & 10 \\% & 58 \\% & 36 \\% & 21 \\% & 39 \\%\\\\\n",
       "\tStudente 10 & 15 \\% & 69 \\% & 48 \\% & 30 \\% & 51 \\%\\\\\n",
       "\\end{tabular}\n"
      ],
      "text/markdown": [
       "\n",
       "| <!--/--> | Esercizio.1 | Esercizio.2 | Esercizio.3 | Esercizio.4 | Esercizio.5 | \n",
       "|---|---|---|---|---|---|---|---|---|---|\n",
       "| Studente 1 | 19 % | 75 % | 56 % | 37 % | 59 % | \n",
       "| Studente 2 | 19 % | 75 % | 55 % | 36 % | 58 % | \n",
       "| Studente 3 | 27 % | 82 % | 66 % | 47 % | 68 % | \n",
       "| Studente 4 | 36 % | 87 % | 74 % | 57 % | 77 % | \n",
       "| Studente 5 | 27 % | 82 % | 65 % | 47 % | 68 % | \n",
       "| Studente 6 | 24 % | 80 % | 63 % | 44 % | 65 % | \n",
       "| Studente 7 | 35 % | 87 % | 73 % | 56 % | 76 % | \n",
       "| Studente 8 | 23 % | 79 % | 62 % | 43 % | 64 % | \n",
       "| Studente 9 | 10 % | 58 % | 36 % | 21 % | 39 % | \n",
       "| Studente 10 | 15 % | 69 % | 48 % | 30 % | 51 % | \n",
       "\n",
       "\n"
      ],
      "text/plain": [
       "            Esercizio.1 Esercizio.2 Esercizio.3 Esercizio.4 Esercizio.5\n",
       "Studente 1  19 %        75 %        56 %        37 %        59 %       \n",
       "Studente 2  19 %        75 %        55 %        36 %        58 %       \n",
       "Studente 3  27 %        82 %        66 %        47 %        68 %       \n",
       "Studente 4  36 %        87 %        74 %        57 %        77 %       \n",
       "Studente 5  27 %        82 %        65 %        47 %        68 %       \n",
       "Studente 6  24 %        80 %        63 %        44 %        65 %       \n",
       "Studente 7  35 %        87 %        73 %        56 %        76 %       \n",
       "Studente 8  23 %        79 %        62 %        43 %        64 %       \n",
       "Studente 9  10 %        58 %        36 %        21 %        39 %       \n",
       "Studente 10 15 %        69 %        48 %        30 %        51 %       "
      ]
     },
     "metadata": {},
     "output_type": "display_data"
    }
   ],
   "source": [
    "# Rendo i dati più leggibili per gli utenti\n",
    "showProbabilities(df = cp)"
   ]
  },
  {
   "cell_type": "markdown",
   "metadata": {},
   "source": [
    "<center> \n",
    "    <font face=\"Baskerville Old Face\">\n",
    "        <font size=\"3\"> <h2> Esempio di uso di stimatori e confronto grafico per le difficoltà</h2> </font>          \n",
    "    </font>\n",
    "</center>"
   ]
  },
  {
   "cell_type": "code",
   "execution_count": 2,
   "metadata": {
    "scrolled": false
   },
   "outputs": [
    {
     "data": {
      "image/png": "[encoded data removed]",
      "text/plain": [
       "Plot with title \"Difficulties plot\""
      ]
     },
     "metadata": {},
     "output_type": "display_data"
    },
    {
     "data": {
      "image/png": "[encoded data removed]",
      "text/plain": [
       "Plot with title \"Ability histogram\""
      ]
     },
     "metadata": {},
     "output_type": "display_data"
    }
   ],
   "source": [
    "# Modifico la dimensione dei grafici\n",
    "width <- 7\n",
    "height <- 5\n",
    "sizePlot(width, height)\n",
    "\n",
    "# Definisco il numero di items, il numero di studenti e quante estrazioni effettuare rispetto al numero di studenti\n",
    "numItems <- 10\n",
    "numStudents <- 35 \n",
    "bootStrapVal <- 15\n",
    "\n",
    "# Genero randomicamente difficolà e abilità\n",
    "diff <- rnorm(numItems)\n",
    "abil <- rnorm(numStudents)\n",
    "\n",
    "# Genero i dati\n",
    "datiDichot <- generateDichot(diff, abil)\n",
    "\n",
    "# Bootstrapping\n",
    "numExtractions <- bootStrapVal * numStudents\n",
    "bottDatiDichot <- bootstrapping(datiDichot, numExtractions)\n",
    "\n",
    "# Stimo le difficoltà con entrambi i metodi\n",
    "difficDichotF <- estimateDifficultiesDichotFreeDiscrim(bottDatiDichot)\n",
    "difficDichotO <- estimateDifficultiesDichotOneDiscrim(bottDatiDichot)\n",
    "\n",
    "# Visualizzo e confronto i grafici relativi alle difficoltà stimate con entrambi i metodi e le difficoltà iniziali\n",
    "plotDifficultiesDichot(datiDichot, difficDichotF)\n",
    "par(new = TRUE)\n",
    "plotDifficultiesDichot(datiDichot, difficDichotO, color = \"blue\")\n",
    "par(new = TRUE)\n",
    "plotDifficultiesDichot(datiDichot, diff, color = \"green\")\n",
    "legend(1, 10, legend=c(\"Difficoltà con discriminante non vincolato\", \"Difficoltà con discriminante vincolato ad 1\", \"Difficoltà originali\"), col=c(\"red\", \"blue\", \"green\"), lty=1, cex=1, lwd=2, pch=16)\n",
    "\n",
    "# Stimo le abilità e visualizzo il relativo grafico\n",
    "abil <- estimateAbilitiesDichot(datiDichot)\n",
    "plotAbilitiesDichot(abil, start = -3, end = 2, by = 0.5)"
   ]
  },
  {
   "cell_type": "markdown",
   "metadata": {},
   "source": [
    "<center> <font size=\"10\" face=\"Baskerville Old Face\"> One-parameter logistic (1PL) </font> </center> \n",
    "<br>\n",
    "<font size=\"5\">\n",
    "    \\begin{equation} \n",
    "    p(x_j = 1 | \\theta_i, \\beta_j) = \\frac{\\mathrm{e}^{(\\theta_i - \\beta_j)}}\n",
    "                                      {1 + \\mathrm{e}^{(\\theta_i - \\beta_j)}}\n",
    "    \\end{equation}\n",
    "</font>\n",
    "<br>"
   ]
  },
  {
   "cell_type": "code",
   "execution_count": 4,
   "metadata": {},
   "outputs": [
    {
     "data": {
      "text/html": [
       "<table>\n",
       "<thead><tr><th scope=col>X1</th><th scope=col>X2</th><th scope=col>X3</th><th scope=col>X4</th><th scope=col>X5</th><th scope=col>X6</th><th scope=col>X7</th><th scope=col>X8</th><th scope=col>X9</th><th scope=col>X10</th></tr></thead>\n",
       "<tbody>\n",
       "\t<tr><td>13 %</td><td>25 %</td><td>24 %</td><td>2 % </td><td>32 %</td><td>24 %</td><td>19 %</td><td>8 % </td><td>6 % </td><td>9 % </td></tr>\n",
       "\t<tr><td>33 %</td><td>52 %</td><td>50 %</td><td>8 % </td><td>60 %</td><td>50 %</td><td>42 %</td><td>22 %</td><td>18 %</td><td>25 %</td></tr>\n",
       "\t<tr><td>48 %</td><td>67 %</td><td>65 %</td><td>15 %</td><td>73 %</td><td>65 %</td><td>58 %</td><td>34 %</td><td>29 %</td><td>38 %</td></tr>\n",
       "\t<tr><td>33 %</td><td>52 %</td><td>50 %</td><td>8 % </td><td>60 %</td><td>50 %</td><td>42 %</td><td>22 %</td><td>18 %</td><td>25 %</td></tr>\n",
       "\t<tr><td>48 %</td><td>67 %</td><td>65 %</td><td>15 %</td><td>73 %</td><td>65 %</td><td>58 %</td><td>34 %</td><td>29 %</td><td>38 %</td></tr>\n",
       "\t<tr><td>26 %</td><td>44 %</td><td>42 %</td><td>6 % </td><td>52 %</td><td>42 %</td><td>35 %</td><td>17 %</td><td>14 %</td><td>19 %</td></tr>\n",
       "\t<tr><td>13 %</td><td>25 %</td><td>24 %</td><td>2 % </td><td>32 %</td><td>24 %</td><td>19 %</td><td>8 % </td><td>6 % </td><td>9 % </td></tr>\n",
       "\t<tr><td>70 %</td><td>83 %</td><td>82 %</td><td>31 %</td><td>87 %</td><td>82 %</td><td>78 %</td><td>57 %</td><td>52 %</td><td>61 %</td></tr>\n",
       "\t<tr><td>13 %</td><td>25 %</td><td>24 %</td><td>2 % </td><td>32 %</td><td>24 %</td><td>19 %</td><td>8 % </td><td>6 % </td><td>9 % </td></tr>\n",
       "\t<tr><td>33 %</td><td>52 %</td><td>50 %</td><td>8 % </td><td>60 %</td><td>50 %</td><td>42 %</td><td>22 %</td><td>18 %</td><td>25 %</td></tr>\n",
       "\t<tr><td>33 %</td><td>52 %</td><td>50 %</td><td>8 % </td><td>60 %</td><td>50 %</td><td>42 %</td><td>22 %</td><td>18 %</td><td>25 %</td></tr>\n",
       "\t<tr><td>63 %</td><td>78 %</td><td>77 %</td><td>24 %</td><td>83 %</td><td>77 %</td><td>71 %</td><td>49 %</td><td>43 %</td><td>53 %</td></tr>\n",
       "\t<tr><td>77 %</td><td>88 %</td><td>87 %</td><td>39 %</td><td>91 %</td><td>87 %</td><td>83 %</td><td>66 %</td><td>61 %</td><td>70 %</td></tr>\n",
       "\t<tr><td>13 %</td><td>25 %</td><td>24 %</td><td>2 % </td><td>32 %</td><td>24 %</td><td>19 %</td><td>8 % </td><td>6 % </td><td>9 % </td></tr>\n",
       "\t<tr><td>63 %</td><td>78 %</td><td>77 %</td><td>24 %</td><td>83 %</td><td>77 %</td><td>71 %</td><td>49 %</td><td>43 %</td><td>53 %</td></tr>\n",
       "\t<tr><td>48 %</td><td>67 %</td><td>65 %</td><td>15 %</td><td>73 %</td><td>65 %</td><td>58 %</td><td>34 %</td><td>29 %</td><td>38 %</td></tr>\n",
       "\t<tr><td>48 %</td><td>67 %</td><td>65 %</td><td>15 %</td><td>73 %</td><td>65 %</td><td>58 %</td><td>34 %</td><td>29 %</td><td>38 %</td></tr>\n",
       "\t<tr><td>48 %</td><td>67 %</td><td>65 %</td><td>15 %</td><td>73 %</td><td>65 %</td><td>58 %</td><td>34 %</td><td>29 %</td><td>38 %</td></tr>\n",
       "\t<tr><td>48 %</td><td>67 %</td><td>65 %</td><td>15 %</td><td>73 %</td><td>65 %</td><td>58 %</td><td>34 %</td><td>29 %</td><td>38 %</td></tr>\n",
       "\t<tr><td>20 %</td><td>35 %</td><td>33 %</td><td>4 % </td><td>43 %</td><td>33 %</td><td>27 %</td><td>12 %</td><td>10 %</td><td>14 %</td></tr>\n",
       "\t<tr><td>20 %</td><td>35 %</td><td>33 %</td><td>4 % </td><td>43 %</td><td>33 %</td><td>27 %</td><td>12 %</td><td>10 %</td><td>14 %</td></tr>\n",
       "\t<tr><td>48 %</td><td>67 %</td><td>65 %</td><td>15 %</td><td>73 %</td><td>65 %</td><td>58 %</td><td>34 %</td><td>29 %</td><td>38 %</td></tr>\n",
       "\t<tr><td>33 %</td><td>52 %</td><td>50 %</td><td>8 % </td><td>60 %</td><td>50 %</td><td>42 %</td><td>22 %</td><td>18 %</td><td>25 %</td></tr>\n",
       "\t<tr><td>48 %</td><td>67 %</td><td>65 %</td><td>15 %</td><td>73 %</td><td>65 %</td><td>58 %</td><td>34 %</td><td>29 %</td><td>38 %</td></tr>\n",
       "\t<tr><td>55 %</td><td>73 %</td><td>71 %</td><td>19 %</td><td>79 %</td><td>71 %</td><td>65 %</td><td>42 %</td><td>36 %</td><td>46 %</td></tr>\n",
       "\t<tr><td>55 %</td><td>73 %</td><td>71 %</td><td>19 %</td><td>79 %</td><td>71 %</td><td>65 %</td><td>42 %</td><td>36 %</td><td>46 %</td></tr>\n",
       "\t<tr><td>26 %</td><td>44 %</td><td>42 %</td><td>6 % </td><td>52 %</td><td>42 %</td><td>35 %</td><td>17 %</td><td>14 %</td><td>19 %</td></tr>\n",
       "\t<tr><td>55 %</td><td>73 %</td><td>71 %</td><td>19 %</td><td>79 %</td><td>71 %</td><td>65 %</td><td>42 %</td><td>36 %</td><td>46 %</td></tr>\n",
       "\t<tr><td>48 %</td><td>67 %</td><td>65 %</td><td>15 %</td><td>73 %</td><td>65 %</td><td>58 %</td><td>34 %</td><td>29 %</td><td>38 %</td></tr>\n",
       "\t<tr><td>26 %</td><td>44 %</td><td>42 %</td><td>6 % </td><td>52 %</td><td>42 %</td><td>35 %</td><td>17 %</td><td>14 %</td><td>19 %</td></tr>\n",
       "\t<tr><td>40 %</td><td>60 %</td><td>58 %</td><td>11 %</td><td>67 %</td><td>58 %</td><td>50 %</td><td>28 %</td><td>23 %</td><td>31 %</td></tr>\n",
       "\t<tr><td>63 %</td><td>78 %</td><td>77 %</td><td>24 %</td><td>83 %</td><td>77 %</td><td>71 %</td><td>49 %</td><td>43 %</td><td>53 %</td></tr>\n",
       "\t<tr><td>70 %</td><td>83 %</td><td>82 %</td><td>31 %</td><td>87 %</td><td>82 %</td><td>78 %</td><td>57 %</td><td>52 %</td><td>61 %</td></tr>\n",
       "\t<tr><td>55 %</td><td>73 %</td><td>71 %</td><td>19 %</td><td>79 %</td><td>71 %</td><td>65 %</td><td>42 %</td><td>36 %</td><td>46 %</td></tr>\n",
       "\t<tr><td>48 %</td><td>67 %</td><td>65 %</td><td>15 %</td><td>73 %</td><td>65 %</td><td>58 %</td><td>34 %</td><td>29 %</td><td>38 %</td></tr>\n",
       "</tbody>\n",
       "</table>\n"
      ],
      "text/latex": [
       "\\begin{tabular}{r|llllllllll}\n",
       " X1 & X2 & X3 & X4 & X5 & X6 & X7 & X8 & X9 & X10\\\\\n",
       "\\hline\n",
       "\t 13 \\% & 25 \\% & 24 \\% & 2 \\%  & 32 \\% & 24 \\% & 19 \\% & 8 \\%  & 6 \\%  & 9 \\% \\\\\n",
       "\t 33 \\% & 52 \\% & 50 \\% & 8 \\%  & 60 \\% & 50 \\% & 42 \\% & 22 \\% & 18 \\% & 25 \\%\\\\\n",
       "\t 48 \\% & 67 \\% & 65 \\% & 15 \\% & 73 \\% & 65 \\% & 58 \\% & 34 \\% & 29 \\% & 38 \\%\\\\\n",
       "\t 33 \\% & 52 \\% & 50 \\% & 8 \\%  & 60 \\% & 50 \\% & 42 \\% & 22 \\% & 18 \\% & 25 \\%\\\\\n",
       "\t 48 \\% & 67 \\% & 65 \\% & 15 \\% & 73 \\% & 65 \\% & 58 \\% & 34 \\% & 29 \\% & 38 \\%\\\\\n",
       "\t 26 \\% & 44 \\% & 42 \\% & 6 \\%  & 52 \\% & 42 \\% & 35 \\% & 17 \\% & 14 \\% & 19 \\%\\\\\n",
       "\t 13 \\% & 25 \\% & 24 \\% & 2 \\%  & 32 \\% & 24 \\% & 19 \\% & 8 \\%  & 6 \\%  & 9 \\% \\\\\n",
       "\t 70 \\% & 83 \\% & 82 \\% & 31 \\% & 87 \\% & 82 \\% & 78 \\% & 57 \\% & 52 \\% & 61 \\%\\\\\n",
       "\t 13 \\% & 25 \\% & 24 \\% & 2 \\%  & 32 \\% & 24 \\% & 19 \\% & 8 \\%  & 6 \\%  & 9 \\% \\\\\n",
       "\t 33 \\% & 52 \\% & 50 \\% & 8 \\%  & 60 \\% & 50 \\% & 42 \\% & 22 \\% & 18 \\% & 25 \\%\\\\\n",
       "\t 33 \\% & 52 \\% & 50 \\% & 8 \\%  & 60 \\% & 50 \\% & 42 \\% & 22 \\% & 18 \\% & 25 \\%\\\\\n",
       "\t 63 \\% & 78 \\% & 77 \\% & 24 \\% & 83 \\% & 77 \\% & 71 \\% & 49 \\% & 43 \\% & 53 \\%\\\\\n",
       "\t 77 \\% & 88 \\% & 87 \\% & 39 \\% & 91 \\% & 87 \\% & 83 \\% & 66 \\% & 61 \\% & 70 \\%\\\\\n",
       "\t 13 \\% & 25 \\% & 24 \\% & 2 \\%  & 32 \\% & 24 \\% & 19 \\% & 8 \\%  & 6 \\%  & 9 \\% \\\\\n",
       "\t 63 \\% & 78 \\% & 77 \\% & 24 \\% & 83 \\% & 77 \\% & 71 \\% & 49 \\% & 43 \\% & 53 \\%\\\\\n",
       "\t 48 \\% & 67 \\% & 65 \\% & 15 \\% & 73 \\% & 65 \\% & 58 \\% & 34 \\% & 29 \\% & 38 \\%\\\\\n",
       "\t 48 \\% & 67 \\% & 65 \\% & 15 \\% & 73 \\% & 65 \\% & 58 \\% & 34 \\% & 29 \\% & 38 \\%\\\\\n",
       "\t 48 \\% & 67 \\% & 65 \\% & 15 \\% & 73 \\% & 65 \\% & 58 \\% & 34 \\% & 29 \\% & 38 \\%\\\\\n",
       "\t 48 \\% & 67 \\% & 65 \\% & 15 \\% & 73 \\% & 65 \\% & 58 \\% & 34 \\% & 29 \\% & 38 \\%\\\\\n",
       "\t 20 \\% & 35 \\% & 33 \\% & 4 \\%  & 43 \\% & 33 \\% & 27 \\% & 12 \\% & 10 \\% & 14 \\%\\\\\n",
       "\t 20 \\% & 35 \\% & 33 \\% & 4 \\%  & 43 \\% & 33 \\% & 27 \\% & 12 \\% & 10 \\% & 14 \\%\\\\\n",
       "\t 48 \\% & 67 \\% & 65 \\% & 15 \\% & 73 \\% & 65 \\% & 58 \\% & 34 \\% & 29 \\% & 38 \\%\\\\\n",
       "\t 33 \\% & 52 \\% & 50 \\% & 8 \\%  & 60 \\% & 50 \\% & 42 \\% & 22 \\% & 18 \\% & 25 \\%\\\\\n",
       "\t 48 \\% & 67 \\% & 65 \\% & 15 \\% & 73 \\% & 65 \\% & 58 \\% & 34 \\% & 29 \\% & 38 \\%\\\\\n",
       "\t 55 \\% & 73 \\% & 71 \\% & 19 \\% & 79 \\% & 71 \\% & 65 \\% & 42 \\% & 36 \\% & 46 \\%\\\\\n",
       "\t 55 \\% & 73 \\% & 71 \\% & 19 \\% & 79 \\% & 71 \\% & 65 \\% & 42 \\% & 36 \\% & 46 \\%\\\\\n",
       "\t 26 \\% & 44 \\% & 42 \\% & 6 \\%  & 52 \\% & 42 \\% & 35 \\% & 17 \\% & 14 \\% & 19 \\%\\\\\n",
       "\t 55 \\% & 73 \\% & 71 \\% & 19 \\% & 79 \\% & 71 \\% & 65 \\% & 42 \\% & 36 \\% & 46 \\%\\\\\n",
       "\t 48 \\% & 67 \\% & 65 \\% & 15 \\% & 73 \\% & 65 \\% & 58 \\% & 34 \\% & 29 \\% & 38 \\%\\\\\n",
       "\t 26 \\% & 44 \\% & 42 \\% & 6 \\%  & 52 \\% & 42 \\% & 35 \\% & 17 \\% & 14 \\% & 19 \\%\\\\\n",
       "\t 40 \\% & 60 \\% & 58 \\% & 11 \\% & 67 \\% & 58 \\% & 50 \\% & 28 \\% & 23 \\% & 31 \\%\\\\\n",
       "\t 63 \\% & 78 \\% & 77 \\% & 24 \\% & 83 \\% & 77 \\% & 71 \\% & 49 \\% & 43 \\% & 53 \\%\\\\\n",
       "\t 70 \\% & 83 \\% & 82 \\% & 31 \\% & 87 \\% & 82 \\% & 78 \\% & 57 \\% & 52 \\% & 61 \\%\\\\\n",
       "\t 55 \\% & 73 \\% & 71 \\% & 19 \\% & 79 \\% & 71 \\% & 65 \\% & 42 \\% & 36 \\% & 46 \\%\\\\\n",
       "\t 48 \\% & 67 \\% & 65 \\% & 15 \\% & 73 \\% & 65 \\% & 58 \\% & 34 \\% & 29 \\% & 38 \\%\\\\\n",
       "\\end{tabular}\n"
      ],
      "text/markdown": [
       "\n",
       "X1 | X2 | X3 | X4 | X5 | X6 | X7 | X8 | X9 | X10 | \n",
       "|---|---|---|---|---|---|---|---|---|---|---|---|---|---|---|---|---|---|---|---|---|---|---|---|---|---|---|---|---|---|---|---|---|---|---|\n",
       "| 13 % | 25 % | 24 % | 2 %  | 32 % | 24 % | 19 % | 8 %  | 6 %  | 9 %  | \n",
       "| 33 % | 52 % | 50 % | 8 %  | 60 % | 50 % | 42 % | 22 % | 18 % | 25 % | \n",
       "| 48 % | 67 % | 65 % | 15 % | 73 % | 65 % | 58 % | 34 % | 29 % | 38 % | \n",
       "| 33 % | 52 % | 50 % | 8 %  | 60 % | 50 % | 42 % | 22 % | 18 % | 25 % | \n",
       "| 48 % | 67 % | 65 % | 15 % | 73 % | 65 % | 58 % | 34 % | 29 % | 38 % | \n",
       "| 26 % | 44 % | 42 % | 6 %  | 52 % | 42 % | 35 % | 17 % | 14 % | 19 % | \n",
       "| 13 % | 25 % | 24 % | 2 %  | 32 % | 24 % | 19 % | 8 %  | 6 %  | 9 %  | \n",
       "| 70 % | 83 % | 82 % | 31 % | 87 % | 82 % | 78 % | 57 % | 52 % | 61 % | \n",
       "| 13 % | 25 % | 24 % | 2 %  | 32 % | 24 % | 19 % | 8 %  | 6 %  | 9 %  | \n",
       "| 33 % | 52 % | 50 % | 8 %  | 60 % | 50 % | 42 % | 22 % | 18 % | 25 % | \n",
       "| 33 % | 52 % | 50 % | 8 %  | 60 % | 50 % | 42 % | 22 % | 18 % | 25 % | \n",
       "| 63 % | 78 % | 77 % | 24 % | 83 % | 77 % | 71 % | 49 % | 43 % | 53 % | \n",
       "| 77 % | 88 % | 87 % | 39 % | 91 % | 87 % | 83 % | 66 % | 61 % | 70 % | \n",
       "| 13 % | 25 % | 24 % | 2 %  | 32 % | 24 % | 19 % | 8 %  | 6 %  | 9 %  | \n",
       "| 63 % | 78 % | 77 % | 24 % | 83 % | 77 % | 71 % | 49 % | 43 % | 53 % | \n",
       "| 48 % | 67 % | 65 % | 15 % | 73 % | 65 % | 58 % | 34 % | 29 % | 38 % | \n",
       "| 48 % | 67 % | 65 % | 15 % | 73 % | 65 % | 58 % | 34 % | 29 % | 38 % | \n",
       "| 48 % | 67 % | 65 % | 15 % | 73 % | 65 % | 58 % | 34 % | 29 % | 38 % | \n",
       "| 48 % | 67 % | 65 % | 15 % | 73 % | 65 % | 58 % | 34 % | 29 % | 38 % | \n",
       "| 20 % | 35 % | 33 % | 4 %  | 43 % | 33 % | 27 % | 12 % | 10 % | 14 % | \n",
       "| 20 % | 35 % | 33 % | 4 %  | 43 % | 33 % | 27 % | 12 % | 10 % | 14 % | \n",
       "| 48 % | 67 % | 65 % | 15 % | 73 % | 65 % | 58 % | 34 % | 29 % | 38 % | \n",
       "| 33 % | 52 % | 50 % | 8 %  | 60 % | 50 % | 42 % | 22 % | 18 % | 25 % | \n",
       "| 48 % | 67 % | 65 % | 15 % | 73 % | 65 % | 58 % | 34 % | 29 % | 38 % | \n",
       "| 55 % | 73 % | 71 % | 19 % | 79 % | 71 % | 65 % | 42 % | 36 % | 46 % | \n",
       "| 55 % | 73 % | 71 % | 19 % | 79 % | 71 % | 65 % | 42 % | 36 % | 46 % | \n",
       "| 26 % | 44 % | 42 % | 6 %  | 52 % | 42 % | 35 % | 17 % | 14 % | 19 % | \n",
       "| 55 % | 73 % | 71 % | 19 % | 79 % | 71 % | 65 % | 42 % | 36 % | 46 % | \n",
       "| 48 % | 67 % | 65 % | 15 % | 73 % | 65 % | 58 % | 34 % | 29 % | 38 % | \n",
       "| 26 % | 44 % | 42 % | 6 %  | 52 % | 42 % | 35 % | 17 % | 14 % | 19 % | \n",
       "| 40 % | 60 % | 58 % | 11 % | 67 % | 58 % | 50 % | 28 % | 23 % | 31 % | \n",
       "| 63 % | 78 % | 77 % | 24 % | 83 % | 77 % | 71 % | 49 % | 43 % | 53 % | \n",
       "| 70 % | 83 % | 82 % | 31 % | 87 % | 82 % | 78 % | 57 % | 52 % | 61 % | \n",
       "| 55 % | 73 % | 71 % | 19 % | 79 % | 71 % | 65 % | 42 % | 36 % | 46 % | \n",
       "| 48 % | 67 % | 65 % | 15 % | 73 % | 65 % | 58 % | 34 % | 29 % | 38 % | \n",
       "\n",
       "\n"
      ],
      "text/plain": [
       "   X1   X2   X3   X4   X5   X6   X7   X8   X9   X10 \n",
       "1  13 % 25 % 24 % 2 %  32 % 24 % 19 % 8 %  6 %  9 % \n",
       "2  33 % 52 % 50 % 8 %  60 % 50 % 42 % 22 % 18 % 25 %\n",
       "3  48 % 67 % 65 % 15 % 73 % 65 % 58 % 34 % 29 % 38 %\n",
       "4  33 % 52 % 50 % 8 %  60 % 50 % 42 % 22 % 18 % 25 %\n",
       "5  48 % 67 % 65 % 15 % 73 % 65 % 58 % 34 % 29 % 38 %\n",
       "6  26 % 44 % 42 % 6 %  52 % 42 % 35 % 17 % 14 % 19 %\n",
       "7  13 % 25 % 24 % 2 %  32 % 24 % 19 % 8 %  6 %  9 % \n",
       "8  70 % 83 % 82 % 31 % 87 % 82 % 78 % 57 % 52 % 61 %\n",
       "9  13 % 25 % 24 % 2 %  32 % 24 % 19 % 8 %  6 %  9 % \n",
       "10 33 % 52 % 50 % 8 %  60 % 50 % 42 % 22 % 18 % 25 %\n",
       "11 33 % 52 % 50 % 8 %  60 % 50 % 42 % 22 % 18 % 25 %\n",
       "12 63 % 78 % 77 % 24 % 83 % 77 % 71 % 49 % 43 % 53 %\n",
       "13 77 % 88 % 87 % 39 % 91 % 87 % 83 % 66 % 61 % 70 %\n",
       "14 13 % 25 % 24 % 2 %  32 % 24 % 19 % 8 %  6 %  9 % \n",
       "15 63 % 78 % 77 % 24 % 83 % 77 % 71 % 49 % 43 % 53 %\n",
       "16 48 % 67 % 65 % 15 % 73 % 65 % 58 % 34 % 29 % 38 %\n",
       "17 48 % 67 % 65 % 15 % 73 % 65 % 58 % 34 % 29 % 38 %\n",
       "18 48 % 67 % 65 % 15 % 73 % 65 % 58 % 34 % 29 % 38 %\n",
       "19 48 % 67 % 65 % 15 % 73 % 65 % 58 % 34 % 29 % 38 %\n",
       "20 20 % 35 % 33 % 4 %  43 % 33 % 27 % 12 % 10 % 14 %\n",
       "21 20 % 35 % 33 % 4 %  43 % 33 % 27 % 12 % 10 % 14 %\n",
       "22 48 % 67 % 65 % 15 % 73 % 65 % 58 % 34 % 29 % 38 %\n",
       "23 33 % 52 % 50 % 8 %  60 % 50 % 42 % 22 % 18 % 25 %\n",
       "24 48 % 67 % 65 % 15 % 73 % 65 % 58 % 34 % 29 % 38 %\n",
       "25 55 % 73 % 71 % 19 % 79 % 71 % 65 % 42 % 36 % 46 %\n",
       "26 55 % 73 % 71 % 19 % 79 % 71 % 65 % 42 % 36 % 46 %\n",
       "27 26 % 44 % 42 % 6 %  52 % 42 % 35 % 17 % 14 % 19 %\n",
       "28 55 % 73 % 71 % 19 % 79 % 71 % 65 % 42 % 36 % 46 %\n",
       "29 48 % 67 % 65 % 15 % 73 % 65 % 58 % 34 % 29 % 38 %\n",
       "30 26 % 44 % 42 % 6 %  52 % 42 % 35 % 17 % 14 % 19 %\n",
       "31 40 % 60 % 58 % 11 % 67 % 58 % 50 % 28 % 23 % 31 %\n",
       "32 63 % 78 % 77 % 24 % 83 % 77 % 71 % 49 % 43 % 53 %\n",
       "33 70 % 83 % 82 % 31 % 87 % 82 % 78 % 57 % 52 % 61 %\n",
       "34 55 % 73 % 71 % 19 % 79 % 71 % 65 % 42 % 36 % 46 %\n",
       "35 48 % 67 % 65 % 15 % 73 % 65 % 58 % 34 % 29 % 38 %"
      ]
     },
     "metadata": {},
     "output_type": "display_data"
    }
   ],
   "source": [
    "# Calcolo la tabella di probabilità che ogni studente risponda correttamente ad ogni test usando il discriminante non vincolato\n",
    "dfProb <- calcProbabilites(items = datiDichot, diff = difficDichotF, abil = abil)\n",
    "\n",
    "# Visualizzo la tabella più semplicemente\n",
    "showProbabilities(df = dfProb)"
   ]
  },
  {
   "cell_type": "markdown",
   "metadata": {},
   "source": [
    "<center> \n",
    "    <font face=\"Baskerville Old Face\">\n",
    "        <font size=\"3\"> <h2> Gestione dei dati assenti (NA)</h2> </font>          \n",
    "    </font>\n",
    "</center>"
   ]
  },
  {
   "cell_type": "code",
   "execution_count": 4,
   "metadata": {
    "collapsed": true
   },
   "outputs": [],
   "source": [
    "# Definisco la probabilità di rimpiazzare gli 0 con NA\n",
    "prob <- 0.2\n",
    "\n",
    "# Applico il rimpiazzamento dei valori 0 in NA e il bootsrapping\n",
    "datiDichotNA <- replaceRandomZeroWithNA(datiDichot, prob)\n",
    "datiDichotNABoot <- bootstrapping(datiDichotNA, numStudents * bootStrapVal)"
   ]
  },
  {
   "cell_type": "code",
   "execution_count": 5,
   "metadata": {},
   "outputs": [
    {
     "data": {
      "image/png": "[encoded data removed]",
      "text/plain": [
       "Plot with title \"Difficulties plot\""
      ]
     },
     "metadata": {},
     "output_type": "display_data"
    }
   ],
   "source": [
    "# Eseguo la stima rimuovendo gli NA prima della computazione\n",
    "estDiffNULL <- estimateDifficultiesDichotOneDiscrim(datiDichotNABoot, forNA = NULL)\n",
    "\n",
    "# Eseguo la stima sostituendo gli NA con 0 \n",
    "estDiffZero <- estimateDifficultiesDichotOneDiscrim(replaceNaWithZero(datiDichotNABoot))\n",
    "\n",
    "# Confronto i grafici relativi alle difficoltà stimate nei 2 modi con i valori reali\n",
    "plotDifficultiesDichot(datiDichot, estDiffNULL)\n",
    "par(new = TRUE)\n",
    "plotDifficultiesDichot(datiDichot, estDiffZero, color = \"blue\")\n",
    "par(new = TRUE)\n",
    "plotDifficultiesDichot(datiDichot, diff, color = \"green\")\n",
    "legend(1, 10, legend=c(\"Difficoltà stimate rimuovendo gli NA\", \"Difficoltà stimate sostituendo i NA con 0\", \"Difficoltà originali\"), col=c(\"red\", \"blue\", \"green\"), lty=1, cex=1, lwd=2, pch=16)"
   ]
  },
  {
   "cell_type": "code",
   "execution_count": 9,
   "metadata": {
    "collapsed": true
   },
   "outputs": [],
   "source": [
    "#' Produce una matrice dicotomica definendo la condizione per cui un esercizio viene definito come passato(1) oppure no(0)\n",
    "#' @param session Sessione considerata\n",
    "#' @param vote Stringa che indica come valutare gli esercizi\n",
    "#' @param maxError Se scelto il criterio \"errors\", questo campo indica il massimo numero di errori commettibili\n",
    "#' @param percTestCaseOk Se scelto il criterio \"testCase\", questo campo indica la percentuale di test case che devono \n",
    "#' essere corretti rispetto al totale\n",
    "#' @param keepNA Paramatreo booleano per indicare se indicare con NA i voti in cui gli studenti non hanno raggiunto la votazione\n",
    "#' precedente al paramentro di valutazione indicato (es. evaluateSource(session, vote = \"compiles\", keepNA = TRUE), i voti\n",
    "#' NA riguarderanno gli studenti che non hanno raggiunto lo step precedente, cioè l'upload)\n",
    "#' @return Data frame dicotomico, possiede una riga per studente e una colonna per esercizio, nelle intersezioni vi sono i \n",
    "#' risultati delle valutazioni sulla base delle specifiche inserite\n",
    "#' @examples\n",
    "#' sourceData <- \"data.R\"      \n",
    "#' source(sourceData)\n",
    "#' numSessions <- 5\n",
    "#' session <- sessions[numSessions]\n",
    "#' vote <- \"testCase\"\n",
    "#' p <- 0.5\n",
    "#' evaluateSource(session, vote, percTestCaseOk = p)             \n",
    "evaluateSource <- function(session, vote, maxError, percTestCaseOk, keepNA = FALSE) {      \n",
    "    results <- get(paste(\"results_\", session, sep = \"\"))\n",
    "    \n",
    "    if(vote == \"uploaded\")\n",
    "        results[,,vote]\n",
    "    else if(vote == \"compiles\"){\n",
    "        dfC <- results[,,vote]\n",
    "        dfU <- results[,,\"uploaded\"]\n",
    "        \n",
    "        if(keepNA)\n",
    "            dfC[dfU == 0] <- NA   \n",
    "        dfC\n",
    "    }\n",
    "    else if(vote == \"errors\"){\n",
    "        df <- results[,,vote]\n",
    "        df[df <= maxError] <- 1 \n",
    "        df[df > maxError] <- 0\n",
    "        \n",
    "        if(!keepNA)\n",
    "            df[is.na(df)] <- 0            \n",
    "        df\n",
    "    }\n",
    "    else if(vote == \"testCase\"){\n",
    "        cases <- get(paste(\"cases_\", session, sep = \"\"))\n",
    "        df <- results[,,\"oks\"]\n",
    "        df <- t((t(df)) / c(cases)) \n",
    "        df[df >= percTestCaseOk] <- 1\n",
    "        df[df < percTestCaseOk] <- 0\n",
    "        \n",
    "        if(!keepNA)\n",
    "            df[is.na(df)] <- 0     \n",
    "        df\n",
    "    }        \n",
    "}"
   ]
  },
  {
   "cell_type": "code",
   "execution_count": 2,
   "metadata": {
    "collapsed": true
   },
   "outputs": [],
   "source": [
    "sourceData <- \"data.R\"\n",
    "source(sourceData)\n",
    "bootstrapVal <- 10"
   ]
  },
  {
   "cell_type": "markdown",
   "metadata": {},
   "source": [
    "<font face=\"Baskerville Old Face\">\n",
    "    <font size=\"5\"> \n",
    "    \n",
    "Di seguito andrò ad analizzare i risultati delle sessioni. <br><br>\n",
    "\n",
    "Per tale analisi ho scelto di considerate un esercizio superato solo se passa almeno il 50% dei test case ad esso associati, ho fatto questa assunzione perchè in esame non sono ritenuti generalmente corretti gli esercizi solo perchè è stato effettuato il loro upload, compilano o semplicemente perchè non presentano errori di esecuzione.<br><br>\n",
    "\n",
    "In ogni tabella dicotomica provvederò ad eliminare le colonne totalmente uniformi o quasi al fine di permettere la convergenza dell'algoritmo di stima.\n",
    "    </font>\n",
    "</font>\n",
    "<br><br><br><br>"
   ]
  },
  {
   "cell_type": "markdown",
   "metadata": {},
   "source": [
    "<font face=\"Baskerville Old Face\">\n",
    "    <font size=\"5\"> \n",
    "Nel seguente grafico possiamo notare un andamento crescente delle difficoltà, potremmo presuppore che il professore assegni gli esercizi in esame mostrando prima quelli più semplici e veloci da superare e lasciando per ultimi quelli che richiedo più tempo e impegno.\n",
    "    </font>\n",
    "</font>"
   ]
  },
  {
   "cell_type": "code",
   "execution_count": 68,
   "metadata": {
    "scrolled": false
   },
   "outputs": [
    {
     "data": {
      "image/png": "[encoded data removed]",
      "text/plain": [
       "Plot with title \"Esame del 170216\""
      ]
     },
     "metadata": {},
     "output_type": "display_data"
    }
   ],
   "source": [
    "numSessions <- 2\n",
    "session <- sessions[numSessions]\n",
    "evalWithTestCase <- evaluateSource(session, vote = \"testCase\", percTestCaseOk = 0.5)\n",
    "nStud <- nrow(evalWithTestCase)\n",
    "\n",
    "evalWithTestCase <- evalWithTestCase[,c(3:6)]\n",
    "\n",
    "diffTestCase <- estimateDifficultiesDichotOneDiscrim(bootstrapping(evalWithTestCase, n = bootstrapVal * nStud))\n",
    "plotDifficultiesDichot(evalWithTestCase, diffTestCase, name = paste(\"Esame del\",session))\n",
    "legend(1, 10, legend=c(\"50% di test case corretti\", \"Stime calcolate tramite media\"), col=c(\"black\", \"blueviolet\"), lty=1, cex=1, lwd=2, pch=16)\n",
    "par(new = TRUE)\n",
    "cs <- colSums(evalWithTestCase)\n",
    "nItems <- ncol(evalWithTestCase)\n",
    "plot(1 - cs/nStud, type = \"b\", col =  \"blueviolet\", pch = 16, lwd = 2, xaxt = \"n\", yaxt = \"n\", xlab = \"\", ylab = \"\")"
   ]
  },
  {
   "cell_type": "markdown",
   "metadata": {},
   "source": [
    "<br><br><br><br>\n",
    "<font face=\"Baskerville Old Face\">\n",
    "    <font size=\"5\"> \n",
    "Visualizzo e confronto i grafici relativi alle difficoltà stimate tenendo conto: se è stato effettuato l'upload, se compila, se sono stati commessi meno di 2 errori di esecuzione e se almeno il 50% dei test case sono corretti\n",
    "    </font>\n",
    "</font>"
   ]
  },
  {
   "cell_type": "markdown",
   "metadata": {},
   "source": [
    "<font face=\"Baskerville Old Face\">\n",
    "    <font size=\"4\"> \n",
    "L'elevato numero di studenti (46) permette di avere una buona fiducia nei dati ottenuti<br><br>\n",
    "\n",
    "Dal grafico si possono trarre diverse conclusioni: \n",
    "<ul>\n",
    "   <li>Le stime legate all'upload, compilazione ed errori in esecuzione coincidono quasi sempre, da ciò deduciamo che gli \n",
    "       studenti che consegnano gli esercizi lo fanno solo nel caso compilino e abbiano pochi errori di esecuzione o nessuno</li>\n",
    "   <li>Le difficoltà hanno un andamento crescente, quindi il professore potrebbe aver assegnato gli esercizi considerando\n",
    "       che gli studenti avrebbero dovuto impegnarsi maggiormente negli ultimi</li>\n",
    "   <li>Nella fase iniziale la stima per test case si discosta abbastanza dalle altre, sovrapponendosi ad essi successivamente,\n",
    "       questo potrebbe essere indicativo del fatto che gli studenti all'inizio erano meno abili, forse a causa di spiegazioni \n",
    "       poco chiare da parte del professore</li>\n",
    "</ul>\n",
    "    </font>\n",
    "</font>"
   ]
  },
  {
   "cell_type": "code",
   "execution_count": 115,
   "metadata": {
    "collapsed": true
   },
   "outputs": [],
   "source": [
    "numSessions <- 6 \n",
    "session <- sessions[numSessions]\n",
    "\n",
    "evalWithUpload   <- evaluateSource(session, vote = \"uploaded\")\n",
    "evalWithCompiles <- evaluateSource(session, vote = \"compiles\")\n",
    "evalWithErrors   <- evaluateSource(session, vote = \"errors\", maxError = 2)\n",
    "evalWithTestCase <- evaluateSource(session, vote = \"testCase\", percTestCaseOk = 0.5)\n",
    "\n",
    "nStud <- nrow(evalWithTestCase)\n",
    "\n",
    "diffUpload   <- estimateDifficultiesDichotOneDiscrim(bootstrapping(evalWithUpload,   n = bootstrapVal * nStud))\n",
    "diffCompiles <- estimateDifficultiesDichotOneDiscrim(bootstrapping(evalWithCompiles, n = bootstrapVal * nStud))\n",
    "diffErrors   <- estimateDifficultiesDichotOneDiscrim(bootstrapping(evalWithErrors,   n = bootstrapVal * nStud))\n",
    "diffTestCase <- estimateDifficultiesDichotOneDiscrim(bootstrapping(evalWithTestCase, n = bootstrapVal * nStud))"
   ]
  },
  {
   "cell_type": "code",
   "execution_count": 116,
   "metadata": {},
   "outputs": [
    {
     "data": {
      "image/png": "[encoded data removed]",
      "text/plain": [
       "Plot with title \"\""
      ]
     },
     "metadata": {},
     "output_type": "display_data"
    }
   ],
   "source": [
    "plotDifficultiesDichot(evalWithUpload, diffUpload, color = \"red\", name = session)\n",
    "par(new = TRUE)\n",
    "plotDifficultiesDichot(evalWithCompiles, diffCompiles, color = \"blue\", name = \"\")\n",
    "par(new = TRUE)\n",
    "plotDifficultiesDichot(evalWithErrors, diffErrors, color = \"green\", name = \"\")\n",
    "par(new = TRUE)\n",
    "plotDifficultiesDichot(evalWithTestCase, diffTestCase, color = \"black\", name = \"\")\n",
    "legend(1, 10, legend=c(\"Upload\", \"Compilazione\", \"Non più di 2 errori di esecuzione\", \"50% di test case corretti\", \"Stime calcolate tramite media\"), col=c(\"red\", \"blue\", \"green\", \"black\", \"blueviolet\"), lty=1, cex=1, lwd=2, pch=16)\n",
    "par(new = TRUE)\n",
    "cs <- colSums(evalWithTestCase)\n",
    "nItems <- ncol(evalWithTestCase)\n",
    "plot(1 - cs/nStud, type = \"b\", col =  \"blueviolet\", pch = 16, lwd = 2, xaxt = \"n\", yaxt = \"n\", xlab = \"\", ylab = \"\")"
   ]
  },
  {
   "cell_type": "markdown",
   "metadata": {},
   "source": [
    "<br><br><br><br>\n",
    "<font face=\"Baskerville Old Face\">\n",
    "    <font size=\"5\"> \n",
    "Confronto graficamente le stime ottuenuto dal 10%, 30%, 50% e 100% dei test case corretti e noto una differenza minima o quasi nulla\n",
    "    </font>\n",
    "</font>"
   ]
  },
  {
   "cell_type": "code",
   "execution_count": 181,
   "metadata": {
    "scrolled": false
   },
   "outputs": [
    {
     "name": "stderr",
     "output_type": "stream",
     "text": [
      "Warning message:\n",
      "\"glm.fit: fitted probabilities numerically 0 or 1 occurred\""
     ]
    },
    {
     "data": {
      "image/png": "[encoded data removed]",
      "text/plain": [
       "Plot with title \"\""
      ]
     },
     "metadata": {},
     "output_type": "display_data"
    }
   ],
   "source": [
    "evalWithTestCase10 <- evaluateSource(session, vote = \"testCase\", percTestCaseOk = 0.1)\n",
    "evalWithTestCase30 <- evaluateSource(session, vote = \"testCase\", percTestCaseOk = 0.3)\n",
    "evalWithTestCase50 <- evaluateSource(session, vote = \"testCase\", percTestCaseOk = 0.5)\n",
    "evalWithTestCase80 <- evaluateSource(session, vote = \"testCase\", percTestCaseOk = 1)\n",
    "\n",
    "diffTestCase10 <- estimateDifficultiesDichotOneDiscrim(bootstrapping(evalWithTestCase10, n = bootstrapVal * nStud))\n",
    "diffTestCase30 <- estimateDifficultiesDichotOneDiscrim(bootstrapping(evalWithTestCase30, n = bootstrapVal * nStud))\n",
    "diffTestCase50 <- estimateDifficultiesDichotOneDiscrim(bootstrapping(evalWithTestCase50, n = bootstrapVal * nStud))\n",
    "diffTestCase80 <- estimateDifficultiesDichotOneDiscrim(bootstrapping(evalWithTestCase80, n = bootstrapVal * nStud))\n",
    "\n",
    "plotDifficultiesDichot(evalWithTestCase20, diffTestCase20, color = \"blue\", name = session)\n",
    "par(new = TRUE)\n",
    "plotDifficultiesDichot(evalWithTestCase40, diffTestCase40, color = \"green\", name = \"\")\n",
    "par(new = TRUE)\n",
    "plotDifficultiesDichot(evalWithTestCase60, diffTestCase60, color = \"black\", name = \"\")\n",
    "par(new = TRUE)\n",
    "plotDifficultiesDichot(evalWithTestCase80, diffTestCase80, color = \"brown\", name = \"\")\n",
    "legend(1, 10, legend=c(\"Upload\", \"Compilazione\", \"Non più di 2 errori di esecuzione\", \"50% di test case corretti\", \"Stime calcolate tramite media\"), col=c(\"red\", \"blue\", \"green\", \"black\", \"blueviolet\"), lty=1, cex=1, lwd=2, pch=16)"
   ]
  },
  {
   "cell_type": "markdown",
   "metadata": {},
   "source": [
    "<br><br><br><br>\n",
    "<font face=\"Baskerville Old Face\">\n",
    "    <font size=\"5\"> \n",
    "Anche nel laboratorio 2 si può notare una sovrapposizione tra le stime considerando la presenza di meno di 2 errori di \n",
    "esecuzione e il raggiungimento di almeno il 50% di test case corretti ma a differenza del precedente grafico questo non ha un andamento particolarmente crescente, anzi, è quasi sempre fisso su una difficoltà medio-alta, da ciò possiamo dedurre che gli studenti hanno avuto particolari difficoltà in tutto gli esercizi, scontrandoci con l'ipotesi formulata al punto precedente sul crescente livello di difficoltà pensato dal professore all'interno dei laboratori\n",
    "    </font>\n",
    "</font>"
   ]
  },
  {
   "cell_type": "code",
   "execution_count": 112,
   "metadata": {
    "scrolled": false
   },
   "outputs": [
    {
     "data": {
      "image/png": "[encoded data removed]",
      "text/plain": [
       "Plot with title \"\""
      ]
     },
     "metadata": {},
     "output_type": "display_data"
    }
   ],
   "source": [
    "numSessions <- 7\n",
    "session <- sessions[numSessions]\n",
    "\n",
    "evalWithErrors   <- evaluateSource(session, vote = \"errors\", maxError = 2)\n",
    "evalWithTestCase <- evaluateSource(session, vote = \"testCase\", percTestCaseOk = 0.5)\n",
    "\n",
    "nStud <- nrow(evalWithTestCase)\n",
    "\n",
    "diffErrors   <- estimateDifficultiesDichotOneDiscrim(bootstrapping(evalWithErrors,   n = bootstrapVal * nStud))\n",
    "diffTestCase <- estimateDifficultiesDichotOneDiscrim(bootstrapping(evalWithTestCase, n = bootstrapVal * nStud))\n",
    "\n",
    "plotDifficultiesDichot(evalWithErrors, diffErrors, color = \"green\", name = session)\n",
    "par(new = TRUE)\n",
    "plotDifficultiesDichot(evalWithTestCase, diffTestCase, color = \"black\", name = \"\")\n",
    "legend(1, 10, legend=c(\"Meno di 2 errori di esecuzione\", \"50% di test case corretti\", \"Stime calcolate tramite media\"), col=c(\"green\", \"black\", \"blueviolet\"), lty=1, cex=1, lwd=2, pch=16)\n",
    "par(new = TRUE)\n",
    "cs <- colSums(evalWithTestCase)\n",
    "nItems <- ncol(evalWithTestCase)\n",
    "plot(1 - cs/nStud, type = \"b\", col =  \"blueviolet\", pch = 16, lwd = 2, xaxt = \"n\", yaxt = \"n\", xlab = \"\", ylab = \"\")"
   ]
  },
  {
   "cell_type": "markdown",
   "metadata": {},
   "source": [
    "<br><br><br><br>\n",
    "<font face=\"Baskerville Old Face\">\n",
    "    <font size=\"5\"> \n",
    "Nel laboratorio 3 notiamo che la difficoltà stimata si assesta per tutti gli esercizi su un livello medio-basso \n",
    "con una leggere crescita verso gli ultimi\n",
    "    </font>\n",
    "</font>"
   ]
  },
  {
   "cell_type": "code",
   "execution_count": 86,
   "metadata": {
    "scrolled": false
   },
   "outputs": [
    {
     "data": {
      "image/png": "[encoded data removed]",
      "text/plain": [
       "Plot with title \"laboratorio_03\""
      ]
     },
     "metadata": {},
     "output_type": "display_data"
    }
   ],
   "source": [
    "numSessions <- 8\n",
    "session <- sessions[numSessions]\n",
    "evalWithTestCase <- evaluateSource(session, vote = \"testCase\", percTestCaseOk = 0.5)\n",
    "nStud <- nrow(evalWithTestCase)\n",
    "\n",
    "evalWithTestCase <- evalWithTestCase[,-c(5)]\n",
    "\n",
    "diffTestCase <- estimateDifficultiesDichotOneDiscrim(bootstrapping(evalWithTestCase, n = bootstrapVal * nStud))\n",
    "\n",
    "plotDifficultiesDichot(evalWithTestCase, diffTestCase, color = \"black\", name = session)\n",
    "legend(1, 10, legend=c(\"50% di test case corretti\", \"Stime calcolate tramite media\"), col=c(\"black\", \"blueviolet\"), lty=1, cex=1, lwd=2, pch=16)\n",
    "par(new = TRUE)\n",
    "cs <- colSums(evalWithTestCase)\n",
    "nItems <- ncol(evalWithTestCase)\n",
    "plot(1 - cs/nStud, type = \"b\", col =  \"blueviolet\", pch = 16, lwd = 2, xaxt = \"n\", yaxt = \"n\", xlab = \"\", ylab = \"\")"
   ]
  },
  {
   "cell_type": "markdown",
   "metadata": {},
   "source": [
    "<br><br><br><br>\n",
    "<font face=\"Baskerville Old Face\">\n",
    "    <font size=\"5\"> \n",
    "Nel laboratorio 5 notiamo che la difficoltà stimata ha un andamento costante per quasi tutti gli esercizi   \n",
    "    </font>\n",
    "</font>"
   ]
  },
  {
   "cell_type": "code",
   "execution_count": 83,
   "metadata": {},
   "outputs": [
    {
     "data": {
      "image/png": "[encoded data removed]",
      "text/plain": [
       "Plot with title \"laboratorio_05\""
      ]
     },
     "metadata": {},
     "output_type": "display_data"
    }
   ],
   "source": [
    "numSessions <- 10\n",
    "session <- sessions[numSessions]\n",
    "evalWithTestCase <- evaluateSource(session, vote = \"testCase\", percTestCaseOk = 0.5)\n",
    "nStud <- nrow(evalWithTestCase)\n",
    "\n",
    "# Rimuovo la colonna 6 perchè a causa della scarsità di studentiche hanno passato i test l'algoritmo non convergerebbe\n",
    "evalWithTestCase <- evalWithTestCase[,-c(6)]\n",
    "\n",
    "diffTestCase <- estimateDifficultiesDichotOneDiscrim(bootstrapping(evalWithTestCase, n = bootstrapVal * nStud))\n",
    "\n",
    "plotDifficultiesDichot(evalWithTestCase, diffTestCase, color = \"black\", name = session)\n",
    "legend(1, 10, legend=c(\"50% di test case corretti\", \"Stime calcolate tramite media\"), col=c(\"black\", \"blueviolet\"), lty=1, cex=1, lwd=2, pch=16)\n",
    "par(new = TRUE)\n",
    "cs <- colSums(evalWithTestCase)\n",
    "nItems <- ncol(evalWithTestCase)\n",
    "plot(1 - cs/nStud, type = \"b\", col =  \"blueviolet\", pch = 16, lwd = 2, xaxt = \"n\", yaxt = \"n\", xlab = \"\", ylab = \"\")"
   ]
  },
  {
   "cell_type": "markdown",
   "metadata": {},
   "source": [
    "<br><br><br><br>\n",
    "<font face=\"Baskerville Old Face\">\n",
    "    <font size=\"5\"> \n",
    "Infine nel laboratorio 6 notiamo che la difficoltà stimata ha un andamento crescente con qualche diminuzione ma non abbastanza significativa da negare l'esistenza di un aumento di difficoltà in relazione al numero dell'esercizio\n",
    "    </font>\n",
    "</font>"
   ]
  },
  {
   "cell_type": "code",
   "execution_count": 3,
   "metadata": {},
   "outputs": [
    {
     "data": {
      "image/png": "[encoded data removed]",
      "text/plain": [
       "Plot with title \"laboratorio_06\""
      ]
     },
     "metadata": {},
     "output_type": "display_data"
    }
   ],
   "source": [
    "numSessions <- 11\n",
    "session <- sessions[numSessions]\n",
    "evalWithTestCase <- evaluateSource(session, vote = \"testCase\", percTestCaseOk = 0.5)\n",
    "nStud <- nrow(evalWithTestCase)\n",
    "\n",
    "evalWithTestCase <- evalWithTestCase[,-c(9,11)]\n",
    "\n",
    "diffTestCase <- estimateDifficultiesDichotOneDiscrim(bootstrapping(evalWithTestCase, n = bootstrapVal * nStud))\n",
    "\n",
    "plotDifficultiesDichot(evalWithTestCase, diffTestCase, color = \"black\", name = session)\n",
    "legend(1, 10, legend=c(\"50% di test case corretti\", \"Stime calcolate tramite media\"), col=c(\"black\", \"blueviolet\"), lty=1, cex=1, lwd=2, pch=16)\n",
    "par(new = TRUE)\n",
    "cs <- colSums(evalWithTestCase)\n",
    "nItems <- ncol(evalWithTestCase)\n",
    "plot(1 - cs/nStud, type = \"b\", col =  \"blueviolet\", pch = 16, lwd = 2, xaxt = \"n\", yaxt = \"n\", xlab = \"\", ylab = \"\")"
   ]
  }
 ],
 "metadata": {
  "kernelspec": {
   "display_name": "R",
   "language": "R",
   "name": "ir"
  },
  "language_info": {
   "codemirror_mode": "r",
   "file_extension": ".r",
   "mimetype": "text/x-r-source",
   "name": "R",
   "pygments_lexer": "r",
   "version": "3.4.1"
  }
 },
 "nbformat": 4,
 "nbformat_minor": 2
}
