{
 "cells": [
  {
   "cell_type": "markdown",
   "metadata": {},
   "source": [
    "<center> \n",
    "    <font face=\"Baskerville Old Face\">\n",
    "        <font size=\"6\"> <h1> Uno strumento di analisi statistica delle prove d'esame di programmazione</h1> </font>\n",
    "        <font size=\"3\"> <h2> Progetto di tesi triennale in informatica - Università statale di Milano</h2> </font>          \n",
    "        <font size=\"3\"> <h3> Marco Cordoni </h3> </font>     \n",
    "    </font>\n",
    "</center>"
   ]
  },
  {
   "cell_type": "code",
   "execution_count": 5,
   "metadata": {},
   "outputs": [],
   "source": [
    "# importo le funzioni definite nel file IrtFunctions.r\n",
    "source(\"IrtFunctions.r\")"
   ]
  },
  {
   "cell_type": "markdown",
   "metadata": {},
   "source": [
    "<center> \n",
    "    <font face=\"Baskerville Old Face\">\n",
    "        <font size=\"3\"> <h2> Esempio di apllicazione del modello ad 1 parametro</h2> </font>  \n",
    "    </font>\n",
    "</center>"
   ]
  },
  {
   "cell_type": "markdown",
   "metadata": {},
   "source": [
    "<center> <font size=\"10\" face=\"Baskerville Old Face\"> One-parameter logistic (1PL) </font> </center> \n",
    "<br>\n",
    "<font size=\"5\">\n",
    "    \\begin{equation} \n",
    "    p(x_j = 1 | \\theta_i, \\beta_j) = \\frac{\\mathrm{e}^{(\\theta_i - \\beta_j)}}\n",
    "                                      {1 + \\mathrm{e}^{(\\theta_i - \\beta_j)}}\n",
    "    \\end{equation}\n",
    "</font>\n",
    "<br>"
   ]
  },
  {
   "cell_type": "code",
   "execution_count": 6,
   "metadata": {},
   "outputs": [
    {
     "data": {
      "text/html": [
       "0.119202922022118"
      ],
      "text/latex": [
       "0.119202922022118"
      ],
      "text/markdown": [
       "0.119202922022118"
      ],
      "text/plain": [
       "[1] 0.1192029"
      ]
     },
     "metadata": {},
     "output_type": "display_data"
    }
   ],
   "source": [
    "# Simulo la presenza di un esercizio di diffioltà medio-alta e di uno studenti di abilità media\n",
    "# Il modello dovrà ritornare una probabilià abbastanza bassa \n",
    "pl1(ability = 0, difficulty = 2)"
   ]
  },
  {
   "cell_type": "code",
   "execution_count": 7,
   "metadata": {},
   "outputs": [
    {
     "data": {
      "text/html": [
       "0.880797077977882"
      ],
      "text/latex": [
       "0.880797077977882"
      ],
      "text/markdown": [
       "0.880797077977882"
      ],
      "text/plain": [
       "[1] 0.8807971"
      ]
     },
     "metadata": {},
     "output_type": "display_data"
    }
   ],
   "source": [
    "# Viceversa dovrei ottenere una probabilità alta\n",
    "pl1(ability = 2, difficulty = 0)"
   ]
  },
  {
   "cell_type": "code",
   "execution_count": 8,
   "metadata": {},
   "outputs": [
    {
     "data": {
      "text/html": [
       "0.5"
      ],
      "text/latex": [
       "0.5"
      ],
      "text/markdown": [
       "0.5"
      ],
      "text/plain": [
       "[1] 0.5"
      ]
     },
     "metadata": {},
     "output_type": "display_data"
    },
    {
     "data": {
      "text/html": [
       "0.5"
      ],
      "text/latex": [
       "0.5"
      ],
      "text/markdown": [
       "0.5"
      ],
      "text/plain": [
       "[1] 0.5"
      ]
     },
     "metadata": {},
     "output_type": "display_data"
    }
   ],
   "source": [
    "# Nel caso abilità e difficoltà siano equivalenti si ottiene sempre una probabilità del 50%\n",
    "pl1(ability = 0, difficulty = 0)\n",
    "pl1(ability = 1, difficulty = 1)"
   ]
  },
  {
   "cell_type": "code",
   "execution_count": 9,
   "metadata": {
    "collapsed": true
   },
   "outputs": [],
   "source": [
    "# Sfruttando il modello precedentemente posso applicarlo ad un ampio numero di studente ed esercizi\n",
    "# Definisco il numero di colonne e righe\n",
    "nItem <- 5\n",
    "nStud <- 10\n",
    "\n",
    "# Genero i valori randomicamente\n",
    "vectDiff <- rnorm(nItem)\n",
    "vectAbil <- rnorm(nStud)\n",
    "\n",
    "# Creo un dataframe delle giuste dimensioni e assegno a righe e colonne i nomi opportuni\n",
    "df <- data.frame(matrix(ncol = length(vectDiff), nrow = length(vectAbil)))\n",
    "rownames(df) <- unlist(lapply(c(1:nStud), function(p) paste(\"Studente\", p)))\n",
    "colnames(df) <- unlist(lapply(c(1:nItem), function(p) paste(\"Esercizio\", p)))\n",
    "\n",
    "# Applico il modello\n",
    "cp <- calcProbabilites(items = df, diff = vectDiff, abil = vectAbil)"
   ]
  },
  {
   "cell_type": "code",
   "execution_count": 10,
   "metadata": {},
   "outputs": [
    {
     "data": {
      "text/html": [
       "<table>\n",
       "<thead><tr><th></th><th scope=col>Esercizio.1</th><th scope=col>Esercizio.2</th><th scope=col>Esercizio.3</th><th scope=col>Esercizio.4</th><th scope=col>Esercizio.5</th></tr></thead>\n",
       "<tbody>\n",
       "\t<tr><th scope=row>Studente 1</th><td>63 %</td><td>9 % </td><td>48 %</td><td>26 %</td><td>60 %</td></tr>\n",
       "\t<tr><th scope=row>Studente 2</th><td>88 %</td><td>31 %</td><td>80 %</td><td>61 %</td><td>86 %</td></tr>\n",
       "\t<tr><th scope=row>Studente 3</th><td>32 %</td><td>2 % </td><td>20 %</td><td>9 % </td><td>29 %</td></tr>\n",
       "\t<tr><th scope=row>Studente 4</th><td>33 %</td><td>2 % </td><td>21 %</td><td>9 % </td><td>30 %</td></tr>\n",
       "\t<tr><th scope=row>Studente 5</th><td>61 %</td><td>8 % </td><td>46 %</td><td>25 %</td><td>58 %</td></tr>\n",
       "\t<tr><th scope=row>Studente 6</th><td>51 %</td><td>6 % </td><td>36 %</td><td>18 %</td><td>48 %</td></tr>\n",
       "\t<tr><th scope=row>Studente 7</th><td>94 %</td><td>52 %</td><td>90 %</td><td>79 %</td><td>94 %</td></tr>\n",
       "\t<tr><th scope=row>Studente 8</th><td>64 %</td><td>9 % </td><td>49 %</td><td>27 %</td><td>61 %</td></tr>\n",
       "\t<tr><th scope=row>Studente 9</th><td>74 %</td><td>14 %</td><td>60 %</td><td>37 %</td><td>71 %</td></tr>\n",
       "\t<tr><th scope=row>Studente 10</th><td>69 %</td><td>12 %</td><td>55 %</td><td>32 %</td><td>67 %</td></tr>\n",
       "</tbody>\n",
       "</table>\n"
      ],
      "text/latex": [
       "\\begin{tabular}{r|lllll}\n",
       "  & Esercizio.1 & Esercizio.2 & Esercizio.3 & Esercizio.4 & Esercizio.5\\\\\n",
       "\\hline\n",
       "\tStudente 1 & 63 \\% & 9 \\%  & 48 \\% & 26 \\% & 60 \\%\\\\\n",
       "\tStudente 2 & 88 \\% & 31 \\% & 80 \\% & 61 \\% & 86 \\%\\\\\n",
       "\tStudente 3 & 32 \\% & 2 \\%  & 20 \\% & 9 \\%  & 29 \\%\\\\\n",
       "\tStudente 4 & 33 \\% & 2 \\%  & 21 \\% & 9 \\%  & 30 \\%\\\\\n",
       "\tStudente 5 & 61 \\% & 8 \\%  & 46 \\% & 25 \\% & 58 \\%\\\\\n",
       "\tStudente 6 & 51 \\% & 6 \\%  & 36 \\% & 18 \\% & 48 \\%\\\\\n",
       "\tStudente 7 & 94 \\% & 52 \\% & 90 \\% & 79 \\% & 94 \\%\\\\\n",
       "\tStudente 8 & 64 \\% & 9 \\%  & 49 \\% & 27 \\% & 61 \\%\\\\\n",
       "\tStudente 9 & 74 \\% & 14 \\% & 60 \\% & 37 \\% & 71 \\%\\\\\n",
       "\tStudente 10 & 69 \\% & 12 \\% & 55 \\% & 32 \\% & 67 \\%\\\\\n",
       "\\end{tabular}\n"
      ],
      "text/markdown": [
       "\n",
       "| <!--/--> | Esercizio.1 | Esercizio.2 | Esercizio.3 | Esercizio.4 | Esercizio.5 | \n",
       "|---|---|---|---|---|---|---|---|---|---|\n",
       "| Studente 1 | 63 % | 9 %  | 48 % | 26 % | 60 % | \n",
       "| Studente 2 | 88 % | 31 % | 80 % | 61 % | 86 % | \n",
       "| Studente 3 | 32 % | 2 %  | 20 % | 9 %  | 29 % | \n",
       "| Studente 4 | 33 % | 2 %  | 21 % | 9 %  | 30 % | \n",
       "| Studente 5 | 61 % | 8 %  | 46 % | 25 % | 58 % | \n",
       "| Studente 6 | 51 % | 6 %  | 36 % | 18 % | 48 % | \n",
       "| Studente 7 | 94 % | 52 % | 90 % | 79 % | 94 % | \n",
       "| Studente 8 | 64 % | 9 %  | 49 % | 27 % | 61 % | \n",
       "| Studente 9 | 74 % | 14 % | 60 % | 37 % | 71 % | \n",
       "| Studente 10 | 69 % | 12 % | 55 % | 32 % | 67 % | \n",
       "\n",
       "\n"
      ],
      "text/plain": [
       "            Esercizio.1 Esercizio.2 Esercizio.3 Esercizio.4 Esercizio.5\n",
       "Studente 1  63 %        9 %         48 %        26 %        60 %       \n",
       "Studente 2  88 %        31 %        80 %        61 %        86 %       \n",
       "Studente 3  32 %        2 %         20 %        9 %         29 %       \n",
       "Studente 4  33 %        2 %         21 %        9 %         30 %       \n",
       "Studente 5  61 %        8 %         46 %        25 %        58 %       \n",
       "Studente 6  51 %        6 %         36 %        18 %        48 %       \n",
       "Studente 7  94 %        52 %        90 %        79 %        94 %       \n",
       "Studente 8  64 %        9 %         49 %        27 %        61 %       \n",
       "Studente 9  74 %        14 %        60 %        37 %        71 %       \n",
       "Studente 10 69 %        12 %        55 %        32 %        67 %       "
      ]
     },
     "metadata": {},
     "output_type": "display_data"
    }
   ],
   "source": [
    "# Rendo i dati più leggibili per gli utenti\n",
    "showProbabilities(df = cp)"
   ]
  },
  {
   "cell_type": "markdown",
   "metadata": {},
   "source": [
    "<center> \n",
    "    <font face=\"Baskerville Old Face\">\n",
    "        <font size=\"3\"> <h2> Simulazione dei dati</h2> </font>          \n",
    "    </font>\n",
    "</center>"
   ]
  },
  {
   "cell_type": "code",
   "execution_count": 11,
   "metadata": {},
   "outputs": [
    {
     "data": {
      "text/html": [
       "<table>\n",
       "<thead><tr><th scope=col>X1</th><th scope=col>X2</th><th scope=col>X3</th><th scope=col>X4</th><th scope=col>X5</th></tr></thead>\n",
       "<tbody>\n",
       "\t<tr><td>1</td><td>0</td><td>1</td><td>1</td><td>0</td></tr>\n",
       "\t<tr><td>1</td><td>1</td><td>1</td><td>1</td><td>1</td></tr>\n",
       "\t<tr><td>0</td><td>1</td><td>1</td><td>0</td><td>1</td></tr>\n",
       "\t<tr><td>0</td><td>0</td><td>1</td><td>1</td><td>1</td></tr>\n",
       "\t<tr><td>1</td><td>1</td><td>1</td><td>1</td><td>1</td></tr>\n",
       "\t<tr><td>1</td><td>0</td><td>0</td><td>0</td><td>1</td></tr>\n",
       "\t<tr><td>1</td><td>0</td><td>0</td><td>1</td><td>0</td></tr>\n",
       "\t<tr><td>1</td><td>0</td><td>1</td><td>1</td><td>1</td></tr>\n",
       "\t<tr><td>1</td><td>1</td><td>1</td><td>1</td><td>0</td></tr>\n",
       "\t<tr><td>0</td><td>1</td><td>1</td><td>0</td><td>1</td></tr>\n",
       "</tbody>\n",
       "</table>\n"
      ],
      "text/latex": [
       "\\begin{tabular}{r|lllll}\n",
       " X1 & X2 & X3 & X4 & X5\\\\\n",
       "\\hline\n",
       "\t 1 & 0 & 1 & 1 & 0\\\\\n",
       "\t 1 & 1 & 1 & 1 & 1\\\\\n",
       "\t 0 & 1 & 1 & 0 & 1\\\\\n",
       "\t 0 & 0 & 1 & 1 & 1\\\\\n",
       "\t 1 & 1 & 1 & 1 & 1\\\\\n",
       "\t 1 & 0 & 0 & 0 & 1\\\\\n",
       "\t 1 & 0 & 0 & 1 & 0\\\\\n",
       "\t 1 & 0 & 1 & 1 & 1\\\\\n",
       "\t 1 & 1 & 1 & 1 & 0\\\\\n",
       "\t 0 & 1 & 1 & 0 & 1\\\\\n",
       "\\end{tabular}\n"
      ],
      "text/markdown": [
       "\n",
       "X1 | X2 | X3 | X4 | X5 | \n",
       "|---|---|---|---|---|---|---|---|---|---|\n",
       "| 1 | 0 | 1 | 1 | 0 | \n",
       "| 1 | 1 | 1 | 1 | 1 | \n",
       "| 0 | 1 | 1 | 0 | 1 | \n",
       "| 0 | 0 | 1 | 1 | 1 | \n",
       "| 1 | 1 | 1 | 1 | 1 | \n",
       "| 1 | 0 | 0 | 0 | 1 | \n",
       "| 1 | 0 | 0 | 1 | 0 | \n",
       "| 1 | 0 | 1 | 1 | 1 | \n",
       "| 1 | 1 | 1 | 1 | 0 | \n",
       "| 0 | 1 | 1 | 0 | 1 | \n",
       "\n",
       "\n"
      ],
      "text/plain": [
       "   X1 X2 X3 X4 X5\n",
       "1  1  0  1  1  0 \n",
       "2  1  1  1  1  1 \n",
       "3  0  1  1  0  1 \n",
       "4  0  0  1  1  1 \n",
       "5  1  1  1  1  1 \n",
       "6  1  0  0  0  1 \n",
       "7  1  0  0  1  0 \n",
       "8  1  0  1  1  1 \n",
       "9  1  1  1  1  0 \n",
       "10 0  1  1  0  1 "
      ]
     },
     "metadata": {},
     "output_type": "display_data"
    }
   ],
   "source": [
    "# Definisco il numero di colonne e righe\n",
    "nItem <- 5\n",
    "nStud <- 10\n",
    "\n",
    "# Genero i valori randomicamente\n",
    "vectDiff <- rnorm(nItem)\n",
    "vectAbil <- rnorm(nStud)\n",
    "\n",
    "# Simulo un esame\n",
    "generateDichot(diff = vectDiff, abil = vectAbil)"
   ]
  },
  {
   "cell_type": "code",
   "execution_count": 12,
   "metadata": {},
   "outputs": [
    {
     "data": {
      "text/html": [
       "<table>\n",
       "<thead><tr><th scope=col>X1</th><th scope=col>X2</th><th scope=col>X3</th><th scope=col>X4</th><th scope=col>X5</th><th scope=col>X6</th><th scope=col>X7</th><th scope=col>X8</th><th scope=col>X9</th><th scope=col>X10</th><th scope=col>X11</th></tr></thead>\n",
       "<tbody>\n",
       "\t<tr><td>1</td><td>1</td><td>1</td><td>1</td><td>0</td><td>0</td><td>0</td><td>0</td><td>0</td><td>0</td><td>0</td></tr>\n",
       "\t<tr><td>1</td><td>1</td><td>1</td><td>0</td><td>0</td><td>0</td><td>1</td><td>0</td><td>0</td><td>0</td><td>0</td></tr>\n",
       "\t<tr><td>1</td><td>1</td><td>1</td><td>1</td><td>1</td><td>1</td><td>1</td><td>0</td><td>1</td><td>0</td><td>0</td></tr>\n",
       "\t<tr><td>1</td><td>1</td><td>1</td><td>1</td><td>1</td><td>1</td><td>0</td><td>0</td><td>0</td><td>0</td><td>0</td></tr>\n",
       "\t<tr><td>1</td><td>1</td><td>1</td><td>0</td><td>0</td><td>0</td><td>0</td><td>0</td><td>0</td><td>0</td><td>0</td></tr>\n",
       "\t<tr><td>1</td><td>1</td><td>1</td><td>0</td><td>1</td><td>0</td><td>0</td><td>0</td><td>0</td><td>0</td><td>0</td></tr>\n",
       "\t<tr><td>1</td><td>1</td><td>1</td><td>1</td><td>1</td><td>0</td><td>0</td><td>0</td><td>0</td><td>0</td><td>0</td></tr>\n",
       "\t<tr><td>1</td><td>1</td><td>1</td><td>1</td><td>1</td><td>0</td><td>0</td><td>0</td><td>0</td><td>0</td><td>0</td></tr>\n",
       "\t<tr><td>1</td><td>1</td><td>1</td><td>0</td><td>0</td><td>0</td><td>1</td><td>0</td><td>0</td><td>0</td><td>0</td></tr>\n",
       "\t<tr><td>1</td><td>1</td><td>1</td><td>1</td><td>0</td><td>0</td><td>1</td><td>1</td><td>1</td><td>0</td><td>0</td></tr>\n",
       "\t<tr><td>1</td><td>1</td><td>1</td><td>1</td><td>1</td><td>0</td><td>0</td><td>0</td><td>1</td><td>0</td><td>0</td></tr>\n",
       "\t<tr><td>1</td><td>1</td><td>0</td><td>0</td><td>0</td><td>0</td><td>0</td><td>0</td><td>0</td><td>0</td><td>0</td></tr>\n",
       "\t<tr><td>1</td><td>1</td><td>1</td><td>1</td><td>1</td><td>0</td><td>0</td><td>0</td><td>0</td><td>0</td><td>0</td></tr>\n",
       "\t<tr><td>1</td><td>1</td><td>1</td><td>1</td><td>1</td><td>1</td><td>1</td><td>0</td><td>0</td><td>0</td><td>0</td></tr>\n",
       "\t<tr><td>1</td><td>1</td><td>1</td><td>0</td><td>0</td><td>0</td><td>0</td><td>0</td><td>0</td><td>0</td><td>0</td></tr>\n",
       "</tbody>\n",
       "</table>\n"
      ],
      "text/latex": [
       "\\begin{tabular}{r|lllllllllll}\n",
       " X1 & X2 & X3 & X4 & X5 & X6 & X7 & X8 & X9 & X10 & X11\\\\\n",
       "\\hline\n",
       "\t 1 & 1 & 1 & 1 & 0 & 0 & 0 & 0 & 0 & 0 & 0\\\\\n",
       "\t 1 & 1 & 1 & 0 & 0 & 0 & 1 & 0 & 0 & 0 & 0\\\\\n",
       "\t 1 & 1 & 1 & 1 & 1 & 1 & 1 & 0 & 1 & 0 & 0\\\\\n",
       "\t 1 & 1 & 1 & 1 & 1 & 1 & 0 & 0 & 0 & 0 & 0\\\\\n",
       "\t 1 & 1 & 1 & 0 & 0 & 0 & 0 & 0 & 0 & 0 & 0\\\\\n",
       "\t 1 & 1 & 1 & 0 & 1 & 0 & 0 & 0 & 0 & 0 & 0\\\\\n",
       "\t 1 & 1 & 1 & 1 & 1 & 0 & 0 & 0 & 0 & 0 & 0\\\\\n",
       "\t 1 & 1 & 1 & 1 & 1 & 0 & 0 & 0 & 0 & 0 & 0\\\\\n",
       "\t 1 & 1 & 1 & 0 & 0 & 0 & 1 & 0 & 0 & 0 & 0\\\\\n",
       "\t 1 & 1 & 1 & 1 & 0 & 0 & 1 & 1 & 1 & 0 & 0\\\\\n",
       "\t 1 & 1 & 1 & 1 & 1 & 0 & 0 & 0 & 1 & 0 & 0\\\\\n",
       "\t 1 & 1 & 0 & 0 & 0 & 0 & 0 & 0 & 0 & 0 & 0\\\\\n",
       "\t 1 & 1 & 1 & 1 & 1 & 0 & 0 & 0 & 0 & 0 & 0\\\\\n",
       "\t 1 & 1 & 1 & 1 & 1 & 1 & 1 & 0 & 0 & 0 & 0\\\\\n",
       "\t 1 & 1 & 1 & 0 & 0 & 0 & 0 & 0 & 0 & 0 & 0\\\\\n",
       "\\end{tabular}\n"
      ],
      "text/markdown": [
       "\n",
       "X1 | X2 | X3 | X4 | X5 | X6 | X7 | X8 | X9 | X10 | X11 | \n",
       "|---|---|---|---|---|---|---|---|---|---|---|---|---|---|---|\n",
       "| 1 | 1 | 1 | 1 | 0 | 0 | 0 | 0 | 0 | 0 | 0 | \n",
       "| 1 | 1 | 1 | 0 | 0 | 0 | 1 | 0 | 0 | 0 | 0 | \n",
       "| 1 | 1 | 1 | 1 | 1 | 1 | 1 | 0 | 1 | 0 | 0 | \n",
       "| 1 | 1 | 1 | 1 | 1 | 1 | 0 | 0 | 0 | 0 | 0 | \n",
       "| 1 | 1 | 1 | 0 | 0 | 0 | 0 | 0 | 0 | 0 | 0 | \n",
       "| 1 | 1 | 1 | 0 | 1 | 0 | 0 | 0 | 0 | 0 | 0 | \n",
       "| 1 | 1 | 1 | 1 | 1 | 0 | 0 | 0 | 0 | 0 | 0 | \n",
       "| 1 | 1 | 1 | 1 | 1 | 0 | 0 | 0 | 0 | 0 | 0 | \n",
       "| 1 | 1 | 1 | 0 | 0 | 0 | 1 | 0 | 0 | 0 | 0 | \n",
       "| 1 | 1 | 1 | 1 | 0 | 0 | 1 | 1 | 1 | 0 | 0 | \n",
       "| 1 | 1 | 1 | 1 | 1 | 0 | 0 | 0 | 1 | 0 | 0 | \n",
       "| 1 | 1 | 0 | 0 | 0 | 0 | 0 | 0 | 0 | 0 | 0 | \n",
       "| 1 | 1 | 1 | 1 | 1 | 0 | 0 | 0 | 0 | 0 | 0 | \n",
       "| 1 | 1 | 1 | 1 | 1 | 1 | 1 | 0 | 0 | 0 | 0 | \n",
       "| 1 | 1 | 1 | 0 | 0 | 0 | 0 | 0 | 0 | 0 | 0 | \n",
       "\n",
       "\n"
      ],
      "text/plain": [
       "   X1 X2 X3 X4 X5 X6 X7 X8 X9 X10 X11\n",
       "1  1  1  1  1  0  0  0  0  0  0   0  \n",
       "2  1  1  1  0  0  0  1  0  0  0   0  \n",
       "3  1  1  1  1  1  1  1  0  1  0   0  \n",
       "4  1  1  1  1  1  1  0  0  0  0   0  \n",
       "5  1  1  1  0  0  0  0  0  0  0   0  \n",
       "6  1  1  1  0  1  0  0  0  0  0   0  \n",
       "7  1  1  1  1  1  0  0  0  0  0   0  \n",
       "8  1  1  1  1  1  0  0  0  0  0   0  \n",
       "9  1  1  1  0  0  0  1  0  0  0   0  \n",
       "10 1  1  1  1  0  0  1  1  1  0   0  \n",
       "11 1  1  1  1  1  0  0  0  1  0   0  \n",
       "12 1  1  0  0  0  0  0  0  0  0   0  \n",
       "13 1  1  1  1  1  0  0  0  0  0   0  \n",
       "14 1  1  1  1  1  1  1  0  0  0   0  \n",
       "15 1  1  1  0  0  0  0  0  0  0   0  "
      ]
     },
     "metadata": {},
     "output_type": "display_data"
    }
   ],
   "source": [
    "# Se assumessi una abilità costante e un livello di difficoltà crescente otterrei una tabella con \n",
    "# un maggior numero di 1 nelle prime colonne perchè è più facile superare gli esercizi\n",
    "\n",
    "vectDiff <- seq(from = -3, to = 3, by = 0.6) \n",
    "vectAbil <- rep(0, times = 15)\n",
    "\n",
    "generateDichot(diff = vectDiff, abil = vectAbil)"
   ]
  },
  {
   "cell_type": "markdown",
   "metadata": {},
   "source": [
    "<center> \n",
    "    <font face=\"Baskerville Old Face\">\n",
    "        <font size=\"3\"> <h2> Esempio di uso di stimatori e confronto grafico per le difficoltà</h2> </font>          \n",
    "    </font>\n",
    "</center>"
   ]
  },
  {
   "cell_type": "code",
   "execution_count": 13,
   "metadata": {
    "collapsed": true
   },
   "outputs": [],
   "source": [
    "# Modifico la dimensione dei grafici\n",
    "width <- 7\n",
    "height <- 5\n",
    "sizePlot(width, height)"
   ]
  },
  {
   "cell_type": "code",
   "execution_count": 14,
   "metadata": {
    "scrolled": false
   },
   "outputs": [
    {
     "data": {
      "image/png": "[encoded data removed]",
      "text/plain": [
       "Plot with title \"Difficulties plot\""
      ]
     },
     "metadata": {},
     "output_type": "display_data"
    }
   ],
   "source": [
    "# Definisco il numero di items e il numero di studenti \n",
    "numItems <- 10\n",
    "numStudents <- 35\n",
    "\n",
    "# Definisco quante estrazioni effettuare rispetto al numero di studenti\n",
    "bootStrapVal <- 10\n",
    "\n",
    "# Genero randomicamente difficoltà e abilità\n",
    "diff <- rnorm(numItems)\n",
    "abil <- rnorm(numStudents)\n",
    "\n",
    "# Genero i dati\n",
    "datiDichot <- generateDichot(diff, abil)\n",
    "\n",
    "# Bootstrapping\n",
    "numExtractions <- bootStrapVal * numStudents\n",
    "bottDatiDichot <- bootstrapping(datiDichot, numExtractions)\n",
    "\n",
    "# Stimo le difficoltà con entrambi i metodi\n",
    "difficDichotF <- estimateDifficultiesDichotFreeDiscrim(bottDatiDichot)\n",
    "difficDichotO <- estimateDifficultiesDichotOneDiscrim(bottDatiDichot)\n",
    "\n",
    "# Visualizzo e confronto i grafici relativi alle difficoltà stimate con entrambi i metodi e le difficoltà iniziali\n",
    "plotDifficultiesDichot(datiDichot, difficDichotF)\n",
    "par(new = TRUE)\n",
    "plotDifficultiesDichot(datiDichot, difficDichotO, color = \"blue\")\n",
    "par(new = TRUE)\n",
    "plotDifficultiesDichot(datiDichot, diff, color = \"green\")\n",
    "legend(1, 10, legend=c(\"Difficoltà con discriminante non vincolato\", \"Difficoltà con discriminante vincolato ad 1\", \"Difficoltà originali\"), col=c(\"red\", \"blue\", \"green\"), lty=1, cex=1, lwd=2, pch=16)"
   ]
  },
  {
   "cell_type": "markdown",
   "metadata": {},
   "source": [
    "<center> \n",
    "    <font face=\"Baskerville Old Face\">\n",
    "        <font size=\"3\"> <h2>Stima delle abilità e visualizzazione tramite istogramma</h2> </font>          \n",
    "    </font>\n",
    "</center>"
   ]
  },
  {
   "cell_type": "code",
   "execution_count": 15,
   "metadata": {},
   "outputs": [
    {
     "data": {
      "image/png": "[encoded data removed]",
      "text/plain": [
       "Plot with title \"Ability histogram\""
      ]
     },
     "metadata": {},
     "output_type": "display_data"
    }
   ],
   "source": [
    "# Stimo le abilità e visualizzo il relativo grafico\n",
    "abil <- estimateAbilitiesDichot(datiDichot)\n",
    "plotAbilitiesDichot(abil, start = -3, end = 2, by = 0.5)"
   ]
  },
  {
   "cell_type": "markdown",
   "metadata": {
    "collapsed": true
   },
   "source": [
    "<center> \n",
    "    <font face=\"Baskerville Old Face\">\n",
    "        <font size=\"3\"> <h2>Tecniche di validazione</h2> </font>          \n",
    "    </font>\n",
    "</center>"
   ]
  },
  {
   "cell_type": "markdown",
   "metadata": {
    "collapsed": true
   },
   "source": [
    "<center> \n",
    "    <font face=\"Baskerville Old Face\">\n",
    "        <font size=\"3\"> <h3>Validazione per differenza</h3> </font>\n",
    "    </font>\n",
    "</center>"
   ]
  },
  {
   "cell_type": "code",
   "execution_count": 16,
   "metadata": {},
   "outputs": [
    {
     "data": {
      "text/html": [
       "<table>\n",
       "<thead><tr><th scope=col>Difficoltà originali</th><th scope=col>Difficoltà stimate</th><th scope=col>Scostamento</th></tr></thead>\n",
       "<tbody>\n",
       "\t<tr><td> 0.8934280</td><td> 0.8701810</td><td>0.02      </td></tr>\n",
       "\t<tr><td>-0.4226520</td><td> 0.1602253</td><td>0.58      </td></tr>\n",
       "\t<tr><td>-0.6862977</td><td>-0.6927007</td><td>0.01      </td></tr>\n",
       "\t<tr><td> 0.3765686</td><td> 0.7959486</td><td>0.42      </td></tr>\n",
       "\t<tr><td>-1.2194236</td><td>-1.9568645</td><td>0.74      </td></tr>\n",
       "\t<tr><td>-0.6281876</td><td>-0.6498321</td><td>0.02      </td></tr>\n",
       "\t<tr><td> 0.1136003</td><td> 0.0673274</td><td>0.05      </td></tr>\n",
       "\t<tr><td>-0.7981822</td><td>-0.7505270</td><td>0.05      </td></tr>\n",
       "\t<tr><td>-1.4560847</td><td>-0.6214750</td><td>0.83      </td></tr>\n",
       "\t<tr><td>-0.9356111</td><td>-0.8388794</td><td>0.10      </td></tr>\n",
       "</tbody>\n",
       "</table>\n"
      ],
      "text/latex": [
       "\\begin{tabular}{r|lll}\n",
       " Difficoltà originali & Difficoltà stimate & Scostamento\\\\\n",
       "\\hline\n",
       "\t  0.8934280 &  0.8701810 & 0.02      \\\\\n",
       "\t -0.4226520 &  0.1602253 & 0.58      \\\\\n",
       "\t -0.6862977 & -0.6927007 & 0.01      \\\\\n",
       "\t  0.3765686 &  0.7959486 & 0.42      \\\\\n",
       "\t -1.2194236 & -1.9568645 & 0.74      \\\\\n",
       "\t -0.6281876 & -0.6498321 & 0.02      \\\\\n",
       "\t  0.1136003 &  0.0673274 & 0.05      \\\\\n",
       "\t -0.7981822 & -0.7505270 & 0.05      \\\\\n",
       "\t -1.4560847 & -0.6214750 & 0.83      \\\\\n",
       "\t -0.9356111 & -0.8388794 & 0.10      \\\\\n",
       "\\end{tabular}\n"
      ],
      "text/markdown": [
       "\n",
       "Difficoltà originali | Difficoltà stimate | Scostamento | \n",
       "|---|---|---|---|---|---|---|---|---|---|\n",
       "|  0.8934280 |  0.8701810 | 0.02       | \n",
       "| -0.4226520 |  0.1602253 | 0.58       | \n",
       "| -0.6862977 | -0.6927007 | 0.01       | \n",
       "|  0.3765686 |  0.7959486 | 0.42       | \n",
       "| -1.2194236 | -1.9568645 | 0.74       | \n",
       "| -0.6281876 | -0.6498321 | 0.02       | \n",
       "|  0.1136003 |  0.0673274 | 0.05       | \n",
       "| -0.7981822 | -0.7505270 | 0.05       | \n",
       "| -1.4560847 | -0.6214750 | 0.83       | \n",
       "| -0.9356111 | -0.8388794 | 0.10       | \n",
       "\n",
       "\n"
      ],
      "text/plain": [
       "   Difficoltà originali Difficoltà stimate Scostamento\n",
       "1   0.8934280            0.8701810         0.02       \n",
       "2  -0.4226520            0.1602253         0.58       \n",
       "3  -0.6862977           -0.6927007         0.01       \n",
       "4   0.3765686            0.7959486         0.42       \n",
       "5  -1.2194236           -1.9568645         0.74       \n",
       "6  -0.6281876           -0.6498321         0.02       \n",
       "7   0.1136003            0.0673274         0.05       \n",
       "8  -0.7981822           -0.7505270         0.05       \n",
       "9  -1.4560847           -0.6214750         0.83       \n",
       "10 -0.9356111           -0.8388794         0.10       "
      ]
     },
     "metadata": {},
     "output_type": "display_data"
    }
   ],
   "source": [
    "validationWithDifference(vect1 = diff, vect2 = difficDichotO, label1 = \"Difficoltà originali\", label2 = \"Difficoltà stimate\")"
   ]
  },
  {
   "cell_type": "markdown",
   "metadata": {},
   "source": [
    "<center> \n",
    "    <font face=\"Baskerville Old Face\">\n",
    "        <font size=\"3\"> <h3>Validazione per correlazione</h3> </font>\n",
    "    </font>\n",
    "</center>"
   ]
  },
  {
   "cell_type": "code",
   "execution_count": 17,
   "metadata": {},
   "outputs": [
    {
     "data": {
      "text/html": [
       "0.864688768852366"
      ],
      "text/latex": [
       "0.864688768852366"
      ],
      "text/markdown": [
       "0.864688768852366"
      ],
      "text/plain": [
       "[1] 0.8646888"
      ]
     },
     "metadata": {},
     "output_type": "display_data"
    }
   ],
   "source": [
    "validationWithCor(vect1 = diff, vect2 = difficDichotO)"
   ]
  },
  {
   "cell_type": "markdown",
   "metadata": {},
   "source": [
    "<center> \n",
    "    <font face=\"Baskerville Old Face\">\n",
    "        <font size=\"3\"> <h3>Validazione per confronto grafico</h3> </font>\n",
    "    </font>\n",
    "</center>"
   ]
  },
  {
   "cell_type": "code",
   "execution_count": 18,
   "metadata": {},
   "outputs": [
    {
     "data": {
      "text/plain": [
       "NULL"
      ]
     },
     "metadata": {},
     "output_type": "display_data"
    },
    {
     "data": {
      "image/png": "[encoded data removed]",
      "text/plain": [
       "Plot with title \"Comparison plot\""
      ]
     },
     "metadata": {},
     "output_type": "display_data"
    }
   ],
   "source": [
    "validationWithPlot(vect1 = diff, vect2 = difficDichotO, label1 = \"Difficoltà originali\", label2 = \"Difficoltà stimate\")"
   ]
  },
  {
   "cell_type": "markdown",
   "metadata": {},
   "source": [
    "<center> \n",
    "    <font face=\"Baskerville Old Face\">\n",
    "        <font size=\"3\"> <h2> Gestione dei dati assenti (NA)</h2> </font>          \n",
    "    </font>\n",
    "</center>"
   ]
  },
  {
   "cell_type": "code",
   "execution_count": 19,
   "metadata": {
    "collapsed": true,
    "scrolled": true
   },
   "outputs": [],
   "source": [
    "# Definisco il numero di items e il numero di studenti \n",
    "numItems <- 10\n",
    "numStudents <- 35\n",
    "\n",
    "# Definisco quante estrazioni effettuare rispetto al numero di studenti\n",
    "bootStrapVal <- 10\n",
    "\n",
    "# Genero randomicamente difficoltà e abilità\n",
    "diff <- rnorm(numItems)\n",
    "abil <- rnorm(numStudents)\n",
    "\n",
    "# Genero i dati\n",
    "datiDichot <- generateDichot(diff, abil)\n",
    "\n",
    "# Definisco la probabilità di rimpiazzare gli 0 con NA\n",
    "prob <- 0.3\n",
    "\n",
    "# Applico il rimpiazzamento dei valori 0 in NA, la tebella ottenuto simula dei valori reali in cui sono \n",
    "# presenti esercizi passati, falliti e dati assenti\n",
    "datiDichotNA <- replaceRandomZeroWithNA(datiDichot, prob)"
   ]
  },
  {
   "cell_type": "code",
   "execution_count": 20,
   "metadata": {},
   "outputs": [
    {
     "data": {
      "image/png": "[encoded data removed]",
      "text/plain": [
       "Plot with title \"Difficulties plot\""
      ]
     },
     "metadata": {},
     "output_type": "display_data"
    }
   ],
   "source": [
    "# Applico il bootstrapping\n",
    "datiDichotNABoot <- bootstrapping(datiDichotNA, numStudents * bootStrapVal)\n",
    "\n",
    "# Eseguo la stima rimuovendo gli NA prima della computazione\n",
    "estDiffNULL <- estimateDifficultiesDichotOneDiscrim(datiDichotNABoot, forNA = NULL)\n",
    "\n",
    "# Eseguo la stima sostituendo gli NA con 0 \n",
    "estDiffZero <- estimateDifficultiesDichotOneDiscrim(replaceNaWithZero(datiDichotNABoot))\n",
    "\n",
    "# Confronto i grafici relativi alle difficoltà stimate nei 2 modi\n",
    "plotDifficultiesDichot(datiDichot, estDiffNULL)\n",
    "par(new = TRUE)\n",
    "plotDifficultiesDichot(datiDichot, estDiffZero, color = \"blue\")\n",
    "legend(1, 10, legend=c(\"Difficoltà stimate rimuovendo gli NA\", \"Difficoltà stimate sostituendo gli NA con 0\"), col=c(\"red\", \"blue\"), lty=1, cex=1, lwd=2, pch=16)"
   ]
  },
  {
   "cell_type": "code",
   "execution_count": null,
   "metadata": {
    "collapsed": true
   },
   "outputs": [],
   "source": []
  },
  {
   "cell_type": "code",
   "execution_count": null,
   "metadata": {
    "collapsed": true
   },
   "outputs": [],
   "source": []
  },
  {
   "cell_type": "code",
   "execution_count": 21,
   "metadata": {
    "collapsed": true
   },
   "outputs": [],
   "source": [
    "#' Produce una matrice dicotomica definendo la condizione per cui un esercizio viene definito come passato(1) oppure no(0)\n",
    "#' @param session Sessione considerata\n",
    "#' @param vote Stringa che indica come valutare gli esercizi\n",
    "#' @param maxError Se scelto il criterio \"errors\", questo campo indica il massimo numero di errori commettibili\n",
    "#' @param percTestCaseOk Se scelto il criterio \"testCase\", questo campo indica la percentuale di test case che devono \n",
    "#' essere corretti rispetto al totale\n",
    "#' @param keepNA Paramatreo booleano per indicare se indicare con NA i voti in cui gli studenti non hanno raggiunto la votazione\n",
    "#' precedente al paramentro di valutazione indicato (es. evaluateSource(session, vote = \"compiles\", keepNA = TRUE), i voti\n",
    "#' NA riguarderanno gli studenti che non hanno raggiunto lo step precedente, cioè l'upload)\n",
    "#' @return Data frame dicotomico, possiede una riga per studente e una colonna per esercizio, nelle intersezioni vi sono i \n",
    "#' risultati delle valutazioni sulla base delle specifiche inserite\n",
    "#' @examples\n",
    "#' sourceData <- \"data.R\"      \n",
    "#' source(sourceData)\n",
    "#' numSessions <- 5\n",
    "#' session <- sessions[numSessions]\n",
    "#' vote <- \"testCase\"\n",
    "#' p <- 0.5\n",
    "#' evaluateSource(session, vote, percTestCaseOk = p)             \n",
    "evaluateSource <- function(session, vote, maxError, percTestCaseOk, keepNA = FALSE) {      \n",
    "    results <- get(paste(\"results_\", session, sep = \"\"))\n",
    "    \n",
    "    if(vote == \"uploaded\")\n",
    "        results[,,vote]\n",
    "    else if(vote == \"compiles\"){\n",
    "        dfC <- results[,,vote]\n",
    "        dfU <- results[,,\"uploaded\"]\n",
    "        \n",
    "        if(keepNA)\n",
    "            dfC[dfU == 0] <- NA   \n",
    "        dfC\n",
    "    }\n",
    "    else if(vote == \"errors\"){\n",
    "        df <- results[,,vote]\n",
    "        df[df <= maxError] <- 1 \n",
    "        df[df > maxError] <- 0\n",
    "        \n",
    "        if(!keepNA)\n",
    "            df[is.na(df)] <- 0            \n",
    "        df\n",
    "    }\n",
    "    else if(vote == \"testCase\"){\n",
    "        cases <- get(paste(\"cases_\", session, sep = \"\"))\n",
    "        df <- results[,,\"oks\"]\n",
    "        df <- t((t(df)) / c(cases)) \n",
    "        df[df >= percTestCaseOk] <- 1\n",
    "        df[df < percTestCaseOk] <- 0\n",
    "        \n",
    "        if(!keepNA)\n",
    "            df[is.na(df)] <- 0     \n",
    "        df\n",
    "    }        \n",
    "}"
   ]
  },
  {
   "cell_type": "code",
   "execution_count": 22,
   "metadata": {
    "collapsed": true
   },
   "outputs": [],
   "source": [
    "sourceData <- \"data.R\"\n",
    "source(sourceData)\n",
    "bootstrapVal <- 10"
   ]
  },
  {
   "cell_type": "markdown",
   "metadata": {},
   "source": [
    "<font face=\"Baskerville Old Face\">\n",
    "    <font size=\"5\"> \n",
    "    \n",
    "Di seguito andrò ad analizzare i risultati delle sessioni. <br><br>\n",
    "\n",
    "Per tale analisi ho scelto di considerate un esercizio superato solo se passa almeno il 50% dei test case ad esso associati, ho fatto questa assunzione perchè in esame non sono ritenuti generalmente corretti gli esercizi solo perchè è stato effettuato il loro upload, compilano o semplicemente perchè non presentano errori di esecuzione.<br><br>\n",
    "\n",
    "In ogni tabella dicotomica provvederò ad eliminare le colonne totalmente uniformi o quasi al fine di permettere la convergenza dell'algoritmo di stima.\n",
    "    </font>\n",
    "</font>\n",
    "<br><br><br><br>"
   ]
  },
  {
   "cell_type": "markdown",
   "metadata": {},
   "source": [
    "<font face=\"Baskerville Old Face\">\n",
    "    <font size=\"5\"> \n",
    "Nel seguente grafico possiamo notare un andamento crescente delle difficoltà, potremmo presuppore che il professore assegni gli esercizi in esame mostrando prima quelli più semplici e veloci da superare e lasciando per ultimi quelli che richiedo più tempo e impegno.\n",
    "    </font>\n",
    "</font>"
   ]
  },
  {
   "cell_type": "code",
   "execution_count": 31,
   "metadata": {
    "scrolled": false
   },
   "outputs": [
    {
     "data": {
      "image/png": "[encoded data removed]",
      "text/plain": [
       "Plot with title \"Esame del 170216\""
      ]
     },
     "metadata": {},
     "output_type": "display_data"
    }
   ],
   "source": [
    "numSessions <- 2\n",
    "session <- sessions[numSessions]\n",
    "evalWithTestCase <- evaluateSource(session, vote = \"testCase\", percTestCaseOk = 0.5)\n",
    "nStud <- nrow(evalWithTestCase)\n",
    "\n",
    "evalWithTestCase <- evalWithTestCase[,c(3:6)]\n",
    "\n",
    "diffTestCase <- estimateDifficultiesDichotOneDiscrim(bootstrapping(evalWithTestCase, n = bootstrapVal * nStud))\n",
    "plotDifficultiesDichot(evalWithTestCase, diffTestCase, name = paste(\"Esame del\",session))\n",
    "legend(1, 10, legend=c(\"50% di test case corretti\", \"Stime calcolate tramite media\"), col=c(\"black\", \"blueviolet\"), lty=1, cex=1, lwd=2, pch=16)\n",
    "par(new = TRUE)\n",
    "cs <- colSums(evalWithTestCase)\n",
    "nItems <- ncol(evalWithTestCase)\n",
    "plot(1 - cs/nStud, type = \"b\", col =  \"blueviolet\", pch = 16, lwd = 2, xaxt = \"n\", yaxt = \"n\", xlab = \"\", ylab = \"\")"
   ]
  },
  {
   "cell_type": "markdown",
   "metadata": {},
   "source": [
    "<br><br><br><br>\n",
    "<font face=\"Baskerville Old Face\">\n",
    "    <font size=\"5\"> \n",
    "Visualizzo e confronto i grafici relativi alle difficoltà stimate tenendo conto: se è stato effettuato l'upload, se compila, se sono stati commessi meno di 2 errori di esecuzione e se almeno il 50% dei test case sono corretti\n",
    "    </font>\n",
    "</font>"
   ]
  },
  {
   "cell_type": "markdown",
   "metadata": {},
   "source": [
    "<font face=\"Baskerville Old Face\">\n",
    "    <font size=\"4\"> \n",
    "L'elevato numero di studenti (46) permette di avere una buona fiducia nei dati ottenuti<br><br>\n",
    "\n",
    "Dal grafico si possono trarre diverse conclusioni: \n",
    "<ul>\n",
    "   <li>Le stime legate all'upload, compilazione ed errori in esecuzione coincidono quasi sempre, da ciò deduciamo che gli \n",
    "       studenti che consegnano gli esercizi lo fanno solo nel caso compilino e abbiano pochi errori di esecuzione o nessuno</li>\n",
    "   <li>Le difficoltà hanno un andamento crescente, quindi il professore potrebbe aver assegnato gli esercizi considerando\n",
    "       che gli studenti avrebbero dovuto impegnarsi maggiormente negli ultimi</li>\n",
    "   <li>Nella fase iniziale la stima per test case si discosta abbastanza dalle altre, sovrapponendosi ad essi successivamente,\n",
    "       questo potrebbe essere indicativo del fatto che gli studenti all'inizio erano meno abili, forse a causa di spiegazioni \n",
    "       poco chiare da parte del professore</li>\n",
    "</ul>\n",
    "    </font>\n",
    "</font>"
   ]
  },
  {
   "cell_type": "code",
   "execution_count": 81,
   "metadata": {},
   "outputs": [
    {
     "name": "stderr",
     "output_type": "stream",
     "text": [
      "Warning message:\n",
      "\"glm.fit: fitted probabilities numerically 0 or 1 occurred\""
     ]
    }
   ],
   "source": [
    "session <- \"laboratorio_01\"\n",
    "\n",
    "evalWithUpload      <- evaluateSource(session, vote = \"uploaded\")\n",
    "evalWithCompiles    <- evaluateSource(session, vote = \"compiles\")\n",
    "evalWithErrors      <- evaluateSource(session, vote = \"errors\", maxError = 2)\n",
    "evalWithTestCase50  <- evaluateSource(session, vote = \"testCase\", percTestCaseOk = 0.5)\n",
    "evalWithTestCase100 <- evaluateSource(session, vote = \"testCase\", percTestCaseOk = 1)\n",
    "\n",
    "nStud <- nrow(evalWithTestCase100)\n",
    "\n",
    "diffUpload      <- estimateDifficultiesDichotOneDiscrim(bootstrapping(evalWithUpload,      n = bootstrapVal * nStud))\n",
    "diffCompiles    <- estimateDifficultiesDichotOneDiscrim(bootstrapping(evalWithCompiles,    n = bootstrapVal * nStud))\n",
    "diffErrors      <- estimateDifficultiesDichotOneDiscrim(bootstrapping(evalWithErrors,      n = bootstrapVal * nStud))\n",
    "diffTestCase50  <- estimateDifficultiesDichotOneDiscrim(bootstrapping(evalWithTestCase50,  n = bootstrapVal * nStud))\n",
    "diffTestCase100 <- estimateDifficultiesDichotOneDiscrim(bootstrapping(evalWithTestCase100, n = bootstrapVal * nStud))"
   ]
  },
  {
   "cell_type": "code",
   "execution_count": 82,
   "metadata": {},
   "outputs": [
    {
     "data": {
      "image/png": "[encoded data removed]",
      "text/plain": [
       "Plot with title \"\""
      ]
     },
     "metadata": {},
     "output_type": "display_data"
    }
   ],
   "source": [
    "plotDifficultiesDichot(evalWithUpload, diffUpload, color = \"red\", name = session)\n",
    "par(new = TRUE)\n",
    "plotDifficultiesDichot(evalWithCompiles, diffCompiles, color = \"blue\", name = \"\")\n",
    "par(new = TRUE)\n",
    "plotDifficultiesDichot(evalWithErrors, diffErrors, color = \"green\", name = \"\")\n",
    "par(new = TRUE)\n",
    "plotDifficultiesDichot(evalWithTestCase50, diffTestCase50, color = \"black\", name = \"\")\n",
    "par(new = TRUE)\n",
    "plotDifficultiesDichot(evalWithTestCase100, diffTestCase100, color = \"dodgerblue\", name = \"\")\n",
    "legend(1, 10, legend=c(\"Upload\", \"Compilazione\", \"Non più di 2 errori di esecuzione\", \"50% di test case corretti\", \"100% di test case corretti\"), col=c(\"red\", \"blue\", \"green\", \"black\", \"dodgerblue\"), lty=1, cex=1, lwd=2, pch=16)"
   ]
  },
  {
   "cell_type": "code",
   "execution_count": 83,
   "metadata": {},
   "outputs": [
    {
     "data": {
      "image/png": "[encoded data removed]",
      "text/plain": [
       "Plot with title \"\""
      ]
     },
     "metadata": {},
     "output_type": "display_data"
    }
   ],
   "source": [
    "plotDifficultiesDichot(evalWithUpload, diffUpload, color = \"red\", name = session)\n",
    "par(new = TRUE)\n",
    "plotDifficultiesDichot(evalWithCompiles, diffCompiles, color = \"blue\", name = \"\")\n",
    "par(new = TRUE)\n",
    "plotDifficultiesDichot(evalWithErrors, diffErrors, color = \"green\", name = \"\")\n",
    "par(new = TRUE)\n",
    "plotDifficultiesDichot(evalWithTestCase, diffTestCase, color = \"black\", name = \"\")\n",
    "legend(1, 10, legend=c(\"Upload\", \"Compilazione\", \"Non più di 2 errori di esecuzione\", \"50% di test case corretti\", \"Stime calcolate tramite media\"), col=c(\"red\", \"blue\", \"green\", \"black\", \"blueviolet\"), lty=1, cex=1, lwd=2, pch=16)\n",
    "par(new = TRUE)\n",
    "cs <- colSums(evalWithTestCase)\n",
    "nItems <- ncol(evalWithTestCase)\n",
    "plot(1 - cs/nStud, type = \"b\", col =  \"blueviolet\", pch = 16, lwd = 2, xaxt = \"n\", yaxt = \"n\", xlab = \"\", ylab = \"\")"
   ]
  },
  {
   "cell_type": "markdown",
   "metadata": {},
   "source": [
    "<br><br><br><br>\n",
    "<font face=\"Baskerville Old Face\">\n",
    "    <font size=\"5\"> \n",
    "Anche nel laboratorio 2 si può notare una sovrapposizione tra le stime considerando la presenza di meno di 2 errori di \n",
    "esecuzione e il raggiungimento di almeno il 50% di test case corretti ma a differenza del precedente grafico questo non ha un andamento particolarmente crescente, anzi, è quasi sempre fisso su una difficoltà medio-alta, da ciò possiamo dedurre che gli studenti hanno avuto particolari difficoltà in tutto gli esercizi, scontrandoci con l'ipotesi formulata al punto precedente sul crescente livello di difficoltà pensato dal professore all'interno dei laboratori\n",
    "    </font>\n",
    "</font>"
   ]
  },
  {
   "cell_type": "code",
   "execution_count": 112,
   "metadata": {
    "scrolled": false
   },
   "outputs": [
    {
     "data": {
      "image/png": "[encoded data removed]",
      "text/plain": [
       "Plot with title \"\""
      ]
     },
     "metadata": {},
     "output_type": "display_data"
    }
   ],
   "source": [
    "numSessions <- 7\n",
    "session <- sessions[numSessions]\n",
    "\n",
    "evalWithErrors   <- evaluateSource(session, vote = \"errors\", maxError = 2)\n",
    "evalWithTestCase <- evaluateSource(session, vote = \"testCase\", percTestCaseOk = 0.5)\n",
    "\n",
    "nStud <- nrow(evalWithTestCase)\n",
    "\n",
    "diffErrors   <- estimateDifficultiesDichotOneDiscrim(bootstrapping(evalWithErrors,   n = bootstrapVal * nStud))\n",
    "diffTestCase <- estimateDifficultiesDichotOneDiscrim(bootstrapping(evalWithTestCase, n = bootstrapVal * nStud))\n",
    "\n",
    "plotDifficultiesDichot(evalWithErrors, diffErrors, color = \"green\", name = session)\n",
    "par(new = TRUE)\n",
    "plotDifficultiesDichot(evalWithTestCase, diffTestCase, color = \"black\", name = \"\")\n",
    "legend(1, 10, legend=c(\"Meno di 2 errori di esecuzione\", \"50% di test case corretti\", \"Stime calcolate tramite media\"), col=c(\"green\", \"black\", \"blueviolet\"), lty=1, cex=1, lwd=2, pch=16)\n",
    "par(new = TRUE)\n",
    "cs <- colSums(evalWithTestCase)\n",
    "nItems <- ncol(evalWithTestCase)\n",
    "plot(1 - cs/nStud, type = \"b\", col =  \"blueviolet\", pch = 16, lwd = 2, xaxt = \"n\", yaxt = \"n\", xlab = \"\", ylab = \"\")"
   ]
  },
  {
   "cell_type": "markdown",
   "metadata": {},
   "source": [
    "<br><br><br><br>\n",
    "<font face=\"Baskerville Old Face\">\n",
    "    <font size=\"5\"> \n",
    "Nel laboratorio 3 notiamo che la difficoltà stimata si assesta per tutti gli esercizi su un livello medio-basso \n",
    "con una leggere crescita verso gli ultimi\n",
    "    </font>\n",
    "</font>"
   ]
  },
  {
   "cell_type": "code",
   "execution_count": 86,
   "metadata": {
    "scrolled": false
   },
   "outputs": [
    {
     "data": {
      "image/png": "[encoded data removed]",
      "text/plain": [
       "Plot with title \"laboratorio_03\""
      ]
     },
     "metadata": {},
     "output_type": "display_data"
    }
   ],
   "source": [
    "numSessions <- 8\n",
    "session <- sessions[numSessions]\n",
    "evalWithTestCase <- evaluateSource(session, vote = \"testCase\", percTestCaseOk = 0.5)\n",
    "nStud <- nrow(evalWithTestCase)\n",
    "\n",
    "evalWithTestCase <- evalWithTestCase[,-c(5)]\n",
    "\n",
    "diffTestCase <- estimateDifficultiesDichotOneDiscrim(bootstrapping(evalWithTestCase, n = bootstrapVal * nStud))\n",
    "\n",
    "plotDifficultiesDichot(evalWithTestCase, diffTestCase, color = \"black\", name = session)\n",
    "legend(1, 10, legend=c(\"50% di test case corretti\", \"Stime calcolate tramite media\"), col=c(\"black\", \"blueviolet\"), lty=1, cex=1, lwd=2, pch=16)\n",
    "par(new = TRUE)\n",
    "cs <- colSums(evalWithTestCase)\n",
    "nItems <- ncol(evalWithTestCase)\n",
    "plot(1 - cs/nStud, type = \"b\", col =  \"blueviolet\", pch = 16, lwd = 2, xaxt = \"n\", yaxt = \"n\", xlab = \"\", ylab = \"\")"
   ]
  },
  {
   "cell_type": "markdown",
   "metadata": {},
   "source": [
    "<br><br><br><br>\n",
    "<font face=\"Baskerville Old Face\">\n",
    "    <font size=\"5\"> \n",
    "Nel laboratorio 5 notiamo che la difficoltà stimata ha un andamento costante per quasi tutti gli esercizi   \n",
    "    </font>\n",
    "</font>"
   ]
  },
  {
   "cell_type": "code",
   "execution_count": 83,
   "metadata": {},
   "outputs": [
    {
     "data": {
      "image/png": "[encoded data removed]",
      "text/plain": [
       "Plot with title \"laboratorio_05\""
      ]
     },
     "metadata": {},
     "output_type": "display_data"
    }
   ],
   "source": [
    "numSessions <- 10\n",
    "session <- sessions[numSessions]\n",
    "evalWithTestCase <- evaluateSource(session, vote = \"testCase\", percTestCaseOk = 0.5)\n",
    "nStud <- nrow(evalWithTestCase)\n",
    "\n",
    "# Rimuovo la colonna 6 perchè a causa della scarsità di studentiche hanno passato i test l'algoritmo non convergerebbe\n",
    "evalWithTestCase <- evalWithTestCase[,-c(6)]\n",
    "\n",
    "diffTestCase <- estimateDifficultiesDichotOneDiscrim(bootstrapping(evalWithTestCase, n = bootstrapVal * nStud))\n",
    "\n",
    "plotDifficultiesDichot(evalWithTestCase, diffTestCase, color = \"black\", name = session)\n",
    "legend(1, 10, legend=c(\"50% di test case corretti\", \"Stime calcolate tramite media\"), col=c(\"black\", \"blueviolet\"), lty=1, cex=1, lwd=2, pch=16)\n",
    "par(new = TRUE)\n",
    "cs <- colSums(evalWithTestCase)\n",
    "nItems <- ncol(evalWithTestCase)\n",
    "plot(1 - cs/nStud, type = \"b\", col =  \"blueviolet\", pch = 16, lwd = 2, xaxt = \"n\", yaxt = \"n\", xlab = \"\", ylab = \"\")"
   ]
  },
  {
   "cell_type": "markdown",
   "metadata": {},
   "source": [
    "<br><br><br><br>\n",
    "<font face=\"Baskerville Old Face\">\n",
    "    <font size=\"5\"> \n",
    "Infine nel laboratorio 6 notiamo che la difficoltà stimata ha un andamento crescente con qualche diminuzione ma non abbastanza significativa da negare l'esistenza di un aumento di difficoltà in relazione al numero dell'esercizio\n",
    "    </font>\n",
    "</font>"
   ]
  },
  {
   "cell_type": "code",
   "execution_count": 3,
   "metadata": {},
   "outputs": [
    {
     "data": {
      "image/png": "[encoded data removed]",
      "text/plain": [
       "Plot with title \"laboratorio_06\""
      ]
     },
     "metadata": {},
     "output_type": "display_data"
    }
   ],
   "source": [
    "numSessions <- 11\n",
    "session <- sessions[numSessions]\n",
    "evalWithTestCase <- evaluateSource(session, vote = \"testCase\", percTestCaseOk = 0.5)\n",
    "nStud <- nrow(evalWithTestCase)\n",
    "\n",
    "evalWithTestCase <- evalWithTestCase[,-c(9,11)]\n",
    "\n",
    "diffTestCase <- estimateDifficultiesDichotOneDiscrim(bootstrapping(evalWithTestCase, n = bootstrapVal * nStud))\n",
    "\n",
    "plotDifficultiesDichot(evalWithTestCase, diffTestCase, color = \"black\", name = session)\n",
    "legend(1, 10, legend=c(\"50% di test case corretti\", \"Stime calcolate tramite media\"), col=c(\"black\", \"blueviolet\"), lty=1, cex=1, lwd=2, pch=16)\n",
    "par(new = TRUE)\n",
    "cs <- colSums(evalWithTestCase)\n",
    "nItems <- ncol(evalWithTestCase)\n",
    "plot(1 - cs/nStud, type = \"b\", col =  \"blueviolet\", pch = 16, lwd = 2, xaxt = \"n\", yaxt = \"n\", xlab = \"\", ylab = \"\")"
   ]
  }
 ],
 "metadata": {
  "kernelspec": {
   "display_name": "R",
   "language": "R",
   "name": "ir"
  },
  "language_info": {
   "codemirror_mode": "r",
   "file_extension": ".r",
   "mimetype": "text/x-r-source",
   "name": "R",
   "pygments_lexer": "r",
   "version": "3.4.1"
  }
 },
 "nbformat": 4,
 "nbformat_minor": 2
}
