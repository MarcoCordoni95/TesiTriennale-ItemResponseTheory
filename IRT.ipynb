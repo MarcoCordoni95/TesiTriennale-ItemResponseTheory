{
 "cells": [
  {
   "cell_type": "code",
   "execution_count": 1,
   "metadata": {
    "collapsed": true
   },
   "outputs": [],
   "source": [
    "# Questi comandi permettono di usare in Jupyter le librerie di R presenti nel CRAN (Comprehensive R Archive Network)\n",
    "country.code <- 'it'\n",
    "url.pattern <- 'https://'  \n",
    "repo.data.frame <- subset(getCRANmirrors(), CountryCode == country.code & grepl(url.pattern, URL))\n",
    "options(repos = repo.data.frame$URL)"
   ]
  },
  {
   "cell_type": "code",
   "execution_count": 2,
   "metadata": {},
   "outputs": [
    {
     "name": "stdout",
     "output_type": "stream",
     "text": [
      "package 'readxl' successfully unpacked and MD5 sums checked\n",
      "\n",
      "The downloaded binary packages are in\n",
      "\tC:\\Users\\Marco\\AppData\\Local\\Temp\\Rtmp6d02iV\\downloaded_packages\n",
      "package 'ltm' successfully unpacked and MD5 sums checked\n",
      "\n",
      "The downloaded binary packages are in\n",
      "\tC:\\Users\\Marco\\AppData\\Local\\Temp\\Rtmp6d02iV\\downloaded_packages\n"
     ]
    }
   ],
   "source": [
    "# Package utili: ltm per le funzioni di stima dei parametri e readxl per poter leggere file excel\n",
    "install.packages(\"readxl\")\n",
    "install.packages(\"ltm\")"
   ]
  },
  {
   "cell_type": "code",
   "execution_count": 1,
   "metadata": {},
   "outputs": [
    {
     "name": "stderr",
     "output_type": "stream",
     "text": [
      "Warning message:\n",
      "\"package 'readxl' was built under R version 3.4.2\"Warning message:\n",
      "\"package 'ltm' was built under R version 3.4.2\"Loading required package: MASS\n",
      "Loading required package: msm\n",
      "Loading required package: polycor\n"
     ]
    }
   ],
   "source": [
    "# Importo i package\n",
    "library(readxl)\n",
    "library(ltm)"
   ]
  },
  {
   "cell_type": "code",
   "execution_count": 2,
   "metadata": {
    "collapsed": true
   },
   "outputs": [],
   "source": [
    "#' Legge un file csv\n",
    "#'\n",
    "#' @param path Percorso del file\n",
    "#' @param firstColAsNames Indica se impostare la prima colonna come indici di riga della tabella\n",
    "#' @return Data frame corrispondente al file csv indicato\n",
    "#' @examples\n",
    "#' readCSV(\"file.csv\")\n",
    "#'\n",
    "#' readCSV(\"C:/Users/file.csv\")\n",
    "readCSV <- function(path, firstColAsNames = TRUE) {\n",
    "    if(firstColAsNames)\n",
    "        read.csv(path, row.names = 1)\n",
    "    else\n",
    "        read.csv(path)\n",
    "}\n",
    "\n",
    "#' Legge un file excel\n",
    "#'\n",
    "#' @param path Percorso del file\n",
    "#' @param firstColAsNames Indica se impostare la prima colonna come indici di riga della tabella\n",
    "#' @return Data frame corrispondente al file excel indicato\n",
    "#' @examples\n",
    "#' readEXCEl(\"file.xlsx\")\n",
    "#'\n",
    "#' readEXCEl(\"C:/Users/file.xlsx\")\n",
    "readEXCEl <- function(path, firstColAsNames = TRUE) {\n",
    "    items <- read_excel(path)\n",
    "    items <- as.data.frame(items)\n",
    "    \n",
    "    if(firstColAsNames){\n",
    "        rownames(items) <- items[,1]\n",
    "        items <- items[,-1]\n",
    "    }\n",
    "    items\n",
    "}"
   ]
  },
  {
   "cell_type": "code",
   "execution_count": 3,
   "metadata": {},
   "outputs": [
    {
     "data": {
      "text/html": [
       "<table>\n",
       "<thead><tr><th></th><th scope=col>e1</th><th scope=col>e2</th><th scope=col>e3</th><th scope=col>e4</th><th scope=col>e5</th><th scope=col>e6</th><th scope=col>e7</th><th scope=col>e8</th><th scope=col>e9</th><th scope=col>e10</th></tr></thead>\n",
       "<tbody>\n",
       "\t<tr><th scope=row>S1</th><td>0</td><td>0</td><td>0</td><td>0</td><td>0</td><td>0</td><td>0</td><td>0</td><td>0</td><td>0</td></tr>\n",
       "\t<tr><th scope=row>S2</th><td>1</td><td>1</td><td>1</td><td>1</td><td>1</td><td>1</td><td>1</td><td>1</td><td>1</td><td>1</td></tr>\n",
       "\t<tr><th scope=row>S3</th><td>1</td><td>1</td><td>1</td><td>1</td><td>0</td><td>1</td><td>1</td><td>1</td><td>1</td><td>0</td></tr>\n",
       "\t<tr><th scope=row>S4</th><td>1</td><td>1</td><td>1</td><td>1</td><td>1</td><td>1</td><td>1</td><td>1</td><td>1</td><td>0</td></tr>\n",
       "\t<tr><th scope=row>S5</th><td>1</td><td>0</td><td>1</td><td>1</td><td>1</td><td>1</td><td>1</td><td>0</td><td>0</td><td>1</td></tr>\n",
       "\t<tr><th scope=row>S6</th><td>0</td><td>1</td><td>1</td><td>1</td><td>1</td><td>0</td><td>0</td><td>1</td><td>1</td><td>0</td></tr>\n",
       "\t<tr><th scope=row>S7</th><td>1</td><td>1</td><td>0</td><td>0</td><td>1</td><td>1</td><td>1</td><td>0</td><td>0</td><td>0</td></tr>\n",
       "\t<tr><th scope=row>S8</th><td>1</td><td>1</td><td>1</td><td>1</td><td>0</td><td>1</td><td>1</td><td>1</td><td>1</td><td>1</td></tr>\n",
       "\t<tr><th scope=row>S9</th><td>1</td><td>1</td><td>1</td><td>1</td><td>1</td><td>0</td><td>1</td><td>1</td><td>1</td><td>0</td></tr>\n",
       "\t<tr><th scope=row>S10</th><td>0</td><td>0</td><td>1</td><td>1</td><td>1</td><td>0</td><td>0</td><td>1</td><td>0</td><td>1</td></tr>\n",
       "\t<tr><th scope=row>S11</th><td>1</td><td>1</td><td>1</td><td>1</td><td>0</td><td>1</td><td>1</td><td>0</td><td>1</td><td>0</td></tr>\n",
       "\t<tr><th scope=row>S12</th><td>1</td><td>1</td><td>0</td><td>0</td><td>1</td><td>1</td><td>1</td><td>0</td><td>0</td><td>0</td></tr>\n",
       "\t<tr><th scope=row>S13</th><td>0</td><td>1</td><td>0</td><td>1</td><td>1</td><td>0</td><td>0</td><td>0</td><td>1</td><td>1</td></tr>\n",
       "\t<tr><th scope=row>S14</th><td>1</td><td>1</td><td>1</td><td>1</td><td>1</td><td>1</td><td>1</td><td>1</td><td>0</td><td>0</td></tr>\n",
       "\t<tr><th scope=row>S15</th><td>1</td><td>1</td><td>1</td><td>1</td><td>0</td><td>0</td><td>1</td><td>1</td><td>1</td><td>1</td></tr>\n",
       "\t<tr><th scope=row>S16</th><td>1</td><td>0</td><td>1</td><td>1</td><td>1</td><td>0</td><td>1</td><td>0</td><td>1</td><td>0</td></tr>\n",
       "\t<tr><th scope=row>S17</th><td>1</td><td>1</td><td>1</td><td>1</td><td>0</td><td>1</td><td>1</td><td>1</td><td>0</td><td>1</td></tr>\n",
       "\t<tr><th scope=row>S18</th><td>1</td><td>1</td><td>1</td><td>1</td><td>1</td><td>1</td><td>1</td><td>0</td><td>1</td><td>0</td></tr>\n",
       "\t<tr><th scope=row>S19</th><td>0</td><td>1</td><td>1</td><td>1</td><td>1</td><td>0</td><td>0</td><td>0</td><td>0</td><td>0</td></tr>\n",
       "\t<tr><th scope=row>S20</th><td>1</td><td>1</td><td>0</td><td>1</td><td>1</td><td>1</td><td>1</td><td>1</td><td>1</td><td>1</td></tr>\n",
       "\t<tr><th scope=row>S21</th><td>1</td><td>1</td><td>1</td><td>1</td><td>1</td><td>1</td><td>1</td><td>1</td><td>1</td><td>0</td></tr>\n",
       "\t<tr><th scope=row>S22</th><td>1</td><td>1</td><td>1</td><td>0</td><td>1</td><td>0</td><td>1</td><td>0</td><td>0</td><td>1</td></tr>\n",
       "\t<tr><th scope=row>S23</th><td>1</td><td>0</td><td>1</td><td>1</td><td>1</td><td>1</td><td>1</td><td>1</td><td>0</td><td>0</td></tr>\n",
       "\t<tr><th scope=row>S24</th><td>1</td><td>1</td><td>1</td><td>1</td><td>0</td><td>1</td><td>1</td><td>1</td><td>1</td><td>0</td></tr>\n",
       "\t<tr><th scope=row>S25</th><td>1</td><td>1</td><td>1</td><td>1</td><td>1</td><td>1</td><td>1</td><td>1</td><td>1</td><td>0</td></tr>\n",
       "</tbody>\n",
       "</table>\n"
      ],
      "text/latex": [
       "\\begin{tabular}{r|llllllllll}\n",
       "  & e1 & e2 & e3 & e4 & e5 & e6 & e7 & e8 & e9 & e10\\\\\n",
       "\\hline\n",
       "\tS1 & 0 & 0 & 0 & 0 & 0 & 0 & 0 & 0 & 0 & 0\\\\\n",
       "\tS2 & 1 & 1 & 1 & 1 & 1 & 1 & 1 & 1 & 1 & 1\\\\\n",
       "\tS3 & 1 & 1 & 1 & 1 & 0 & 1 & 1 & 1 & 1 & 0\\\\\n",
       "\tS4 & 1 & 1 & 1 & 1 & 1 & 1 & 1 & 1 & 1 & 0\\\\\n",
       "\tS5 & 1 & 0 & 1 & 1 & 1 & 1 & 1 & 0 & 0 & 1\\\\\n",
       "\tS6 & 0 & 1 & 1 & 1 & 1 & 0 & 0 & 1 & 1 & 0\\\\\n",
       "\tS7 & 1 & 1 & 0 & 0 & 1 & 1 & 1 & 0 & 0 & 0\\\\\n",
       "\tS8 & 1 & 1 & 1 & 1 & 0 & 1 & 1 & 1 & 1 & 1\\\\\n",
       "\tS9 & 1 & 1 & 1 & 1 & 1 & 0 & 1 & 1 & 1 & 0\\\\\n",
       "\tS10 & 0 & 0 & 1 & 1 & 1 & 0 & 0 & 1 & 0 & 1\\\\\n",
       "\tS11 & 1 & 1 & 1 & 1 & 0 & 1 & 1 & 0 & 1 & 0\\\\\n",
       "\tS12 & 1 & 1 & 0 & 0 & 1 & 1 & 1 & 0 & 0 & 0\\\\\n",
       "\tS13 & 0 & 1 & 0 & 1 & 1 & 0 & 0 & 0 & 1 & 1\\\\\n",
       "\tS14 & 1 & 1 & 1 & 1 & 1 & 1 & 1 & 1 & 0 & 0\\\\\n",
       "\tS15 & 1 & 1 & 1 & 1 & 0 & 0 & 1 & 1 & 1 & 1\\\\\n",
       "\tS16 & 1 & 0 & 1 & 1 & 1 & 0 & 1 & 0 & 1 & 0\\\\\n",
       "\tS17 & 1 & 1 & 1 & 1 & 0 & 1 & 1 & 1 & 0 & 1\\\\\n",
       "\tS18 & 1 & 1 & 1 & 1 & 1 & 1 & 1 & 0 & 1 & 0\\\\\n",
       "\tS19 & 0 & 1 & 1 & 1 & 1 & 0 & 0 & 0 & 0 & 0\\\\\n",
       "\tS20 & 1 & 1 & 0 & 1 & 1 & 1 & 1 & 1 & 1 & 1\\\\\n",
       "\tS21 & 1 & 1 & 1 & 1 & 1 & 1 & 1 & 1 & 1 & 0\\\\\n",
       "\tS22 & 1 & 1 & 1 & 0 & 1 & 0 & 1 & 0 & 0 & 1\\\\\n",
       "\tS23 & 1 & 0 & 1 & 1 & 1 & 1 & 1 & 1 & 0 & 0\\\\\n",
       "\tS24 & 1 & 1 & 1 & 1 & 0 & 1 & 1 & 1 & 1 & 0\\\\\n",
       "\tS25 & 1 & 1 & 1 & 1 & 1 & 1 & 1 & 1 & 1 & 0\\\\\n",
       "\\end{tabular}\n"
      ],
      "text/markdown": [
       "\n",
       "| <!--/--> | e1 | e2 | e3 | e4 | e5 | e6 | e7 | e8 | e9 | e10 | \n",
       "|---|---|---|---|---|---|---|---|---|---|---|---|---|---|---|---|---|---|---|---|---|---|---|---|---|\n",
       "| S1 | 0 | 0 | 0 | 0 | 0 | 0 | 0 | 0 | 0 | 0 | \n",
       "| S2 | 1 | 1 | 1 | 1 | 1 | 1 | 1 | 1 | 1 | 1 | \n",
       "| S3 | 1 | 1 | 1 | 1 | 0 | 1 | 1 | 1 | 1 | 0 | \n",
       "| S4 | 1 | 1 | 1 | 1 | 1 | 1 | 1 | 1 | 1 | 0 | \n",
       "| S5 | 1 | 0 | 1 | 1 | 1 | 1 | 1 | 0 | 0 | 1 | \n",
       "| S6 | 0 | 1 | 1 | 1 | 1 | 0 | 0 | 1 | 1 | 0 | \n",
       "| S7 | 1 | 1 | 0 | 0 | 1 | 1 | 1 | 0 | 0 | 0 | \n",
       "| S8 | 1 | 1 | 1 | 1 | 0 | 1 | 1 | 1 | 1 | 1 | \n",
       "| S9 | 1 | 1 | 1 | 1 | 1 | 0 | 1 | 1 | 1 | 0 | \n",
       "| S10 | 0 | 0 | 1 | 1 | 1 | 0 | 0 | 1 | 0 | 1 | \n",
       "| S11 | 1 | 1 | 1 | 1 | 0 | 1 | 1 | 0 | 1 | 0 | \n",
       "| S12 | 1 | 1 | 0 | 0 | 1 | 1 | 1 | 0 | 0 | 0 | \n",
       "| S13 | 0 | 1 | 0 | 1 | 1 | 0 | 0 | 0 | 1 | 1 | \n",
       "| S14 | 1 | 1 | 1 | 1 | 1 | 1 | 1 | 1 | 0 | 0 | \n",
       "| S15 | 1 | 1 | 1 | 1 | 0 | 0 | 1 | 1 | 1 | 1 | \n",
       "| S16 | 1 | 0 | 1 | 1 | 1 | 0 | 1 | 0 | 1 | 0 | \n",
       "| S17 | 1 | 1 | 1 | 1 | 0 | 1 | 1 | 1 | 0 | 1 | \n",
       "| S18 | 1 | 1 | 1 | 1 | 1 | 1 | 1 | 0 | 1 | 0 | \n",
       "| S19 | 0 | 1 | 1 | 1 | 1 | 0 | 0 | 0 | 0 | 0 | \n",
       "| S20 | 1 | 1 | 0 | 1 | 1 | 1 | 1 | 1 | 1 | 1 | \n",
       "| S21 | 1 | 1 | 1 | 1 | 1 | 1 | 1 | 1 | 1 | 0 | \n",
       "| S22 | 1 | 1 | 1 | 0 | 1 | 0 | 1 | 0 | 0 | 1 | \n",
       "| S23 | 1 | 0 | 1 | 1 | 1 | 1 | 1 | 1 | 0 | 0 | \n",
       "| S24 | 1 | 1 | 1 | 1 | 0 | 1 | 1 | 1 | 1 | 0 | \n",
       "| S25 | 1 | 1 | 1 | 1 | 1 | 1 | 1 | 1 | 1 | 0 | \n",
       "\n",
       "\n"
      ],
      "text/plain": [
       "    e1 e2 e3 e4 e5 e6 e7 e8 e9 e10\n",
       "S1  0  0  0  0  0  0  0  0  0  0  \n",
       "S2  1  1  1  1  1  1  1  1  1  1  \n",
       "S3  1  1  1  1  0  1  1  1  1  0  \n",
       "S4  1  1  1  1  1  1  1  1  1  0  \n",
       "S5  1  0  1  1  1  1  1  0  0  1  \n",
       "S6  0  1  1  1  1  0  0  1  1  0  \n",
       "S7  1  1  0  0  1  1  1  0  0  0  \n",
       "S8  1  1  1  1  0  1  1  1  1  1  \n",
       "S9  1  1  1  1  1  0  1  1  1  0  \n",
       "S10 0  0  1  1  1  0  0  1  0  1  \n",
       "S11 1  1  1  1  0  1  1  0  1  0  \n",
       "S12 1  1  0  0  1  1  1  0  0  0  \n",
       "S13 0  1  0  1  1  0  0  0  1  1  \n",
       "S14 1  1  1  1  1  1  1  1  0  0  \n",
       "S15 1  1  1  1  0  0  1  1  1  1  \n",
       "S16 1  0  1  1  1  0  1  0  1  0  \n",
       "S17 1  1  1  1  0  1  1  1  0  1  \n",
       "S18 1  1  1  1  1  1  1  0  1  0  \n",
       "S19 0  1  1  1  1  0  0  0  0  0  \n",
       "S20 1  1  0  1  1  1  1  1  1  1  \n",
       "S21 1  1  1  1  1  1  1  1  1  0  \n",
       "S22 1  1  1  0  1  0  1  0  0  1  \n",
       "S23 1  0  1  1  1  1  1  1  0  0  \n",
       "S24 1  1  1  1  0  1  1  1  1  0  \n",
       "S25 1  1  1  1  1  1  1  1  1  0  "
      ]
     },
     "metadata": {},
     "output_type": "display_data"
    }
   ],
   "source": [
    "# Importo la tabella dicotomica\n",
    "datiDichot <- readEXCEl(\"EsameDic.xlsx\")\n",
    "datiDichot"
   ]
  },
  {
   "cell_type": "code",
   "execution_count": 4,
   "metadata": {
    "collapsed": true
   },
   "outputs": [],
   "source": [
    "#' Modifica la dimensione dei grafici\n",
    "#'\n",
    "#' @param width Larghezza dei grafici\n",
    "#' @param height Altezza dei grafici\n",
    "#' @examples\n",
    "#' width <- 7\n",
    "#' height <- 5\n",
    "#' sizePlot(width, height)\n",
    "sizePlot <- function(width, height) {\n",
    "    options(repr.plot.width = width, repr.plot.height = height)\n",
    "}\n",
    "\n",
    "#' Stima le difficoltà degli esercizi senza porre vincoli sul valore del discriminante, esso verrà stimato e posto \n",
    "#' uguale per ogni item \n",
    "#'\n",
    "#' @param items Tabella dicotomica avente una riga per studente e una colonna per esercizio\n",
    "#' @param forNA Definisce il comportamento in caso di NA, di default è NULL quindi vengono rimossi prima della computazione, \n",
    "#' se si usasse forNA = na.exclude la stima verrebbe effettuata eliminando le righe in cui è presente almeno un NA\n",
    "#' @return Vettore di difficoltà stimate\n",
    "#' @examples\n",
    "#' items <- readEXCEl(\"file.xlsx\")\n",
    "#' estimateDifficultiesDichotFreeDiscrim(items)\n",
    "estimateDifficultiesDichotFreeDiscrim <- function(items, forNA = NULL) {\n",
    "    param <- rasch(items, na.action = forNA)\n",
    "    tab <- coef(param)\n",
    "    array(tab[,\"Dffclt\"])\n",
    "}\n",
    "\n",
    "#' Stima le difficoltà degli esercizi ponendo il discriminante ad 1\n",
    "#'\n",
    "#' @param items Tabella dicotomica avente una riga per studente e una colonna per esercizio\n",
    "#' @param forNA Definisce il comportamento in caso di NA, di default è NULL quindi vengono rimossi prima della computazione, \n",
    "#' se si usasse forNA = na.exclude la stima verrebbe effettuata eliminando le righe in cui è presente almeno un NA\n",
    "#' @return Vettore di difficoltà stimate\n",
    "#' @examples\n",
    "#' items <- readEXCEl(\"file.xlsx\")\n",
    "#' estimateDifficultiesDichotOneDiscrim(items)\n",
    "estimateDifficultiesDichotOneDiscrim <- function(items, forNA = NULL) {\n",
    "    param <- rasch(items, constraint = cbind(ncol(items) + 1, 1), na.action = forNA)\n",
    "    tab <- coef(param)\n",
    "    array(tab[,\"Dffclt\"])\n",
    "}\n",
    "\n",
    "#' Stima le abilità degli studenti\n",
    "#'\n",
    "#' @param items Tabella dicotomica avente una riga per studente e una colonna per esercizio\n",
    "#' @return Vettore di abilità stimate\n",
    "#' @examples\n",
    "#' items <- readEXCEl(\"file.xlsx\")\n",
    "#' estimateAbilitiesDichot(items)\n",
    "estimateAbilitiesDichot <- function(items) {\n",
    "    fit <- rasch(items)\n",
    "    fs <- factor.scores(fit, resp.patterns = items)\n",
    "    array(unlist(fs$score.dat[\"z1\"]))\n",
    "}\n",
    "\n",
    "#' Genera un grafico per mostrare il livello di difficoltà di ciascun esercizio \n",
    "#'\n",
    "#' @param items Tabella dicotomica avente una riga per studente e una colonna per esercizio\n",
    "#' @param diff Vettore di difficoltà\n",
    "#' @param color Colore del grafico, di default è rosso\n",
    "#' @examples\n",
    "#' items <- readEXCEl(\"file.xlsx\")\n",
    "#' diff <- estimateDifficultiesDichotOneDiscrim(items)\n",
    "#' plotDifficultiesDichot(items, diff)\n",
    "plotDifficultiesDichot <- function(items, diff, color = \"red\", name = \"Difficulties plot\") {\n",
    "    nItems <- length(diff)\n",
    "    plot(diff,xlim=c(1,nItems),ylim=c(-5,5),type=\"b\",main=name,xlab=\"Items\",ylab=\"Difficulty\",xaxt=\"n\",col=color,pch=16,lwd=2)\n",
    "    axis(1, at=1:nItems, labels=colnames(items))\n",
    "    par(new = TRUE)\n",
    "    plot(diff + 4.7, type = \"h\", xlim = c(1,nItems),ylim = c(0,10), xaxt='n', yaxt = \"n\", xlab = \"\", ylab = \"\", lty = 2)\n",
    "}\n",
    "\n",
    "#' Genera un istogramma per mostrare il livello di abilità degli studenti e la relativa quantità\n",
    "#'\n",
    "#' @param abil Vettore di abilità\n",
    "#' @param start Primo valore sull'asse x\n",
    "#' @param end Ultimo valore sull'asse x\n",
    "#' @param by Intervallo tra le celle dell'istogramma \n",
    "#' @examples\n",
    "#' items <- readEXCEl(\"file.xlsx\")\n",
    "#' abil <- estimateAbilitiesDichot(items)\n",
    "#' plotDifficultiesDichot(abil)\n",
    "plotAbilitiesDichot <- function(abil, start, end, by) {\n",
    "    hist(abil,main=\"Ability histogram\",xlab=\"Ability\",ylab=\"Students\",breaks=seq(start,end,by),xlim=c(start,end),col=\"royalblue3\")\n",
    "    axis(1, at=seq(start, end, by), labels=seq(start, end, by))        \n",
    "}"
   ]
  },
  {
   "cell_type": "code",
   "execution_count": 5,
   "metadata": {
    "collapsed": true
   },
   "outputs": [],
   "source": [
    "#' Attraverso la tecnica di bootstrapping seleziona randomicamente n righe dalla matrice dicotomica, questa funzione è utlile \n",
    "#' se si dispone di pochi soggetti perchè in caso di una scarsa quantità di osservazioni lo stimatore potrebbe non covergere\n",
    "#'\n",
    "#' @param items Tabella dicotomica avente una riga per studente e una colonna per esercizio\n",
    "#' @param n Numero di estrazioni\n",
    "#' @return Data frame di difficoltà stimate dalla tabella generata dalle estrazioni casuali\n",
    "#' @examples\n",
    "#' items <- readEXCEl(\"file.xlsx\")\n",
    "#' bootstrapping(items)\n",
    "bootstrapping <- function(items, n = 500) {\n",
    "    idxs <- sample(1:nrow(items), n, replace = TRUE)\n",
    "    items[idxs,]\n",
    "}"
   ]
  },
  {
   "cell_type": "code",
   "execution_count": 7,
   "metadata": {
    "scrolled": false
   },
   "outputs": [
    {
     "data": {
      "image/png": "[encoded data removed]",
      "text/plain": [
       "Plot with title \"Difficulties plot\""
      ]
     },
     "metadata": {},
     "output_type": "display_data"
    },
    {
     "data": {
      "image/png": "[encoded data removed]",
      "text/plain": [
       "Plot with title \"Ability histogram\""
      ]
     },
     "metadata": {},
     "output_type": "display_data"
    }
   ],
   "source": [
    "# Modifico la dimensione dei grafici\n",
    "width <- 7\n",
    "height <- 5\n",
    "sizePlot(width, height)\n",
    "\n",
    "# Importo i dati\n",
    "datiDichot <- readEXCEl(\"EsameDic.xlsx\")\n",
    "\n",
    "# Bootstrapping\n",
    "numExtractions <- 300\n",
    "bottDatiDichot <- bootstrapping(datiDichot, numExtractions)\n",
    "\n",
    "# Stimo le difficoltà con entrambi i metodi\n",
    "difficDichotF <- estimateDifficultiesDichotFreeDiscrim(bottDatiDichot)\n",
    "difficDichotO <- estimateDifficultiesDichotOneDiscrim(bottDatiDichot)\n",
    "\n",
    "# Visualizzo e confronto i grafici relativi alle difficoltà stimate con entrambi i metodi\n",
    "plotDifficultiesDichot(datiDichot, difficDichotF)\n",
    "par(new = TRUE)\n",
    "plotDifficultiesDichot(datiDichot, difficDichotO, color = \"blue\")\n",
    "legend(1, 10, legend=c(\"Difficoltà con discriminante non vincolato\", \"Difficoltà con discriminante vincolato ad 1\"), col=c(\"red\", \"blue\"), lty=1, cex=1, lwd=2, pch=16)\n",
    "\n",
    "# Stimo le abilità e visualizzo il relativo grafico\n",
    "abil <- estimateAbilitiesDichot(datiDichot)\n",
    "plotAbilitiesDichot(abil, start = -3, end = 2, by = 0.5)"
   ]
  },
  {
   "cell_type": "code",
   "execution_count": 8,
   "metadata": {
    "collapsed": true
   },
   "outputs": [],
   "source": [
    "#' Calcola la probabilità che uno studente risolva correttamente un esercizio\n",
    "#'\n",
    "#' @param ability Abilità dello studente\n",
    "#' @param difficulty Difficoltà dell'esercizio\n",
    "#' @return Probabilità di rispondere correttamente, compresa tra 0 e 1\n",
    "#' @examples\n",
    "#' ability <- 2\n",
    "#' difficulty <- 1\n",
    "#' pl1(ability, difficulty)\n",
    "pl1 <- function(ability, difficulty) {\n",
    "    exp(ability - difficulty) / (1 + exp(ability - difficulty))\n",
    "}\n",
    "\n",
    "#' Determina la probabilità per ogni studente di risolvere correttamente ogni esercizio\n",
    "#'\n",
    "#' @param items Tabella dicotomica avente una riga per studente e una colonna per esercizio\n",
    "#' @param diff Vettore di difficoltà\n",
    "#' @param abil Vettore di abilità\n",
    "#' @return Data frame di probabilità\n",
    "#' @examples\n",
    "#' items <- readEXCEl(\"file.xlsx\")\n",
    "#' diff <- estimateDifficultiesDichotFreeDiscrim(items)\n",
    "#' abil <- estimateAbilitiesDichot(items)\n",
    "#' calcProbabilites(items, diff, abil)\n",
    "calcProbabilites <- function(items, diff, abil) {   \n",
    "    probDf <- items\n",
    "    namesCol <- names(probDf)\n",
    "    namesRow <- row.names(probDf)\n",
    "    j <- 1\n",
    "    for (row in namesRow) {\n",
    "        i <- 1\n",
    "        for (col in namesCol) {\n",
    "            prob <- pl1(abil[j],diff[i])\n",
    "            probDf[row,col] <- prob          \n",
    "            i <- i + 1\n",
    "        }\n",
    "        j <- j + 1\n",
    "    }\n",
    "    probDf\n",
    "}\n",
    "\n",
    "\n",
    "#' Migliora la lettura della tabella delle probabilità per l'utente\n",
    "#'\n",
    "#' @param df Data frame di probabilità, output della funzione calcProbabilites\n",
    "#' @return Data frame di probabilità da 0 a 100\n",
    "#' @examples\n",
    "#' items <- readEXCEl(\"file.xlsx\")\n",
    "#' diff <- estimateDifficultiesDichotFreeDiscrim(items)\n",
    "#' abil <- estimateAbilitiesDichot(items)\n",
    "#' dfProb <- calcProbabilites(items, diff, abil)\n",
    "#' showProbabilities(dfProb)\n",
    "showProbabilities <- function(df){\n",
    "    aux <- trunc(df*100)\n",
    "    aux <- data.frame(lapply(aux, function(p) paste(p, \"%\")))\n",
    "    row.names(aux) <- row.names(df)\n",
    "    aux\n",
    "}"
   ]
  },
  {
   "cell_type": "code",
   "execution_count": 9,
   "metadata": {},
   "outputs": [
    {
     "data": {
      "text/html": [
       "<table>\n",
       "<thead><tr><th></th><th scope=col>e1</th><th scope=col>e2</th><th scope=col>e3</th><th scope=col>e4</th><th scope=col>e5</th><th scope=col>e6</th><th scope=col>e7</th><th scope=col>e8</th><th scope=col>e9</th><th scope=col>e10</th></tr></thead>\n",
       "<tbody>\n",
       "\t<tr><th scope=row>S1</th><td>34 %</td><td>32 %</td><td>39 %</td><td>51 %</td><td>21 %</td><td>14 %</td><td>34 %</td><td>17 %</td><td>16 %</td><td>4 % </td></tr>\n",
       "\t<tr><th scope=row>S2</th><td>94 %</td><td>94 %</td><td>95 %</td><td>97 %</td><td>90 %</td><td>85 %</td><td>94 %</td><td>87 %</td><td>87 %</td><td>60 %</td></tr>\n",
       "\t<tr><th scope=row>S3</th><td>88 %</td><td>87 %</td><td>90 %</td><td>93 %</td><td>80 %</td><td>71 %</td><td>88 %</td><td>75 %</td><td>74 %</td><td>38 %</td></tr>\n",
       "\t<tr><th scope=row>S4</th><td>91 %</td><td>91 %</td><td>93 %</td><td>95 %</td><td>85 %</td><td>79 %</td><td>91 %</td><td>81 %</td><td>81 %</td><td>48 %</td></tr>\n",
       "\t<tr><th scope=row>S5</th><td>83 %</td><td>82 %</td><td>86 %</td><td>91 %</td><td>73 %</td><td>63 %</td><td>83 %</td><td>67 %</td><td>66 %</td><td>30 %</td></tr>\n",
       "\t<tr><th scope=row>S6</th><td>78 %</td><td>76 %</td><td>82 %</td><td>88 %</td><td>66 %</td><td>54 %</td><td>78 %</td><td>59 %</td><td>58 %</td><td>23 %</td></tr>\n",
       "\t<tr><th scope=row>S7</th><td>72 %</td><td>70 %</td><td>76 %</td><td>84 %</td><td>58 %</td><td>46 %</td><td>72 %</td><td>51 %</td><td>50 %</td><td>18 %</td></tr>\n",
       "\t<tr><th scope=row>S8</th><td>91 %</td><td>91 %</td><td>93 %</td><td>95 %</td><td>85 %</td><td>79 %</td><td>91 %</td><td>81 %</td><td>81 %</td><td>48 %</td></tr>\n",
       "\t<tr><th scope=row>S9</th><td>88 %</td><td>87 %</td><td>90 %</td><td>93 %</td><td>80 %</td><td>71 %</td><td>88 %</td><td>75 %</td><td>74 %</td><td>38 %</td></tr>\n",
       "\t<tr><th scope=row>S10</th><td>72 %</td><td>70 %</td><td>76 %</td><td>84 %</td><td>58 %</td><td>46 %</td><td>72 %</td><td>51 %</td><td>50 %</td><td>18 %</td></tr>\n",
       "\t<tr><th scope=row>S11</th><td>83 %</td><td>82 %</td><td>86 %</td><td>91 %</td><td>73 %</td><td>63 %</td><td>83 %</td><td>67 %</td><td>66 %</td><td>30 %</td></tr>\n",
       "\t<tr><th scope=row>S12</th><td>72 %</td><td>70 %</td><td>76 %</td><td>84 %</td><td>58 %</td><td>46 %</td><td>72 %</td><td>51 %</td><td>50 %</td><td>18 %</td></tr>\n",
       "\t<tr><th scope=row>S13</th><td>72 %</td><td>70 %</td><td>76 %</td><td>84 %</td><td>58 %</td><td>46 %</td><td>72 %</td><td>51 %</td><td>50 %</td><td>18 %</td></tr>\n",
       "\t<tr><th scope=row>S14</th><td>88 %</td><td>87 %</td><td>90 %</td><td>93 %</td><td>80 %</td><td>71 %</td><td>88 %</td><td>75 %</td><td>74 %</td><td>38 %</td></tr>\n",
       "\t<tr><th scope=row>S15</th><td>88 %</td><td>87 %</td><td>90 %</td><td>93 %</td><td>80 %</td><td>71 %</td><td>88 %</td><td>75 %</td><td>74 %</td><td>38 %</td></tr>\n",
       "\t<tr><th scope=row>S16</th><td>78 %</td><td>76 %</td><td>82 %</td><td>88 %</td><td>66 %</td><td>54 %</td><td>78 %</td><td>59 %</td><td>58 %</td><td>23 %</td></tr>\n",
       "\t<tr><th scope=row>S17</th><td>88 %</td><td>87 %</td><td>90 %</td><td>93 %</td><td>80 %</td><td>71 %</td><td>88 %</td><td>75 %</td><td>74 %</td><td>38 %</td></tr>\n",
       "\t<tr><th scope=row>S18</th><td>88 %</td><td>87 %</td><td>90 %</td><td>93 %</td><td>80 %</td><td>71 %</td><td>88 %</td><td>75 %</td><td>74 %</td><td>38 %</td></tr>\n",
       "\t<tr><th scope=row>S19</th><td>66 %</td><td>63 %</td><td>70 %</td><td>79 %</td><td>50 %</td><td>39 %</td><td>66 %</td><td>43 %</td><td>43 %</td><td>13 %</td></tr>\n",
       "\t<tr><th scope=row>S20</th><td>91 %</td><td>91 %</td><td>93 %</td><td>95 %</td><td>85 %</td><td>79 %</td><td>91 %</td><td>81 %</td><td>81 %</td><td>48 %</td></tr>\n",
       "\t<tr><th scope=row>S21</th><td>91 %</td><td>91 %</td><td>93 %</td><td>95 %</td><td>85 %</td><td>79 %</td><td>91 %</td><td>81 %</td><td>81 %</td><td>48 %</td></tr>\n",
       "\t<tr><th scope=row>S22</th><td>78 %</td><td>76 %</td><td>82 %</td><td>88 %</td><td>66 %</td><td>54 %</td><td>78 %</td><td>59 %</td><td>58 %</td><td>23 %</td></tr>\n",
       "\t<tr><th scope=row>S23</th><td>83 %</td><td>82 %</td><td>86 %</td><td>91 %</td><td>73 %</td><td>63 %</td><td>83 %</td><td>67 %</td><td>66 %</td><td>30 %</td></tr>\n",
       "\t<tr><th scope=row>S24</th><td>88 %</td><td>87 %</td><td>90 %</td><td>93 %</td><td>80 %</td><td>71 %</td><td>88 %</td><td>75 %</td><td>74 %</td><td>38 %</td></tr>\n",
       "\t<tr><th scope=row>S25</th><td>91 %</td><td>91 %</td><td>93 %</td><td>95 %</td><td>85 %</td><td>79 %</td><td>91 %</td><td>81 %</td><td>81 %</td><td>48 %</td></tr>\n",
       "</tbody>\n",
       "</table>\n"
      ],
      "text/latex": [
       "\\begin{tabular}{r|llllllllll}\n",
       "  & e1 & e2 & e3 & e4 & e5 & e6 & e7 & e8 & e9 & e10\\\\\n",
       "\\hline\n",
       "\tS1 & 34 \\% & 32 \\% & 39 \\% & 51 \\% & 21 \\% & 14 \\% & 34 \\% & 17 \\% & 16 \\% & 4 \\% \\\\\n",
       "\tS2 & 94 \\% & 94 \\% & 95 \\% & 97 \\% & 90 \\% & 85 \\% & 94 \\% & 87 \\% & 87 \\% & 60 \\%\\\\\n",
       "\tS3 & 88 \\% & 87 \\% & 90 \\% & 93 \\% & 80 \\% & 71 \\% & 88 \\% & 75 \\% & 74 \\% & 38 \\%\\\\\n",
       "\tS4 & 91 \\% & 91 \\% & 93 \\% & 95 \\% & 85 \\% & 79 \\% & 91 \\% & 81 \\% & 81 \\% & 48 \\%\\\\\n",
       "\tS5 & 83 \\% & 82 \\% & 86 \\% & 91 \\% & 73 \\% & 63 \\% & 83 \\% & 67 \\% & 66 \\% & 30 \\%\\\\\n",
       "\tS6 & 78 \\% & 76 \\% & 82 \\% & 88 \\% & 66 \\% & 54 \\% & 78 \\% & 59 \\% & 58 \\% & 23 \\%\\\\\n",
       "\tS7 & 72 \\% & 70 \\% & 76 \\% & 84 \\% & 58 \\% & 46 \\% & 72 \\% & 51 \\% & 50 \\% & 18 \\%\\\\\n",
       "\tS8 & 91 \\% & 91 \\% & 93 \\% & 95 \\% & 85 \\% & 79 \\% & 91 \\% & 81 \\% & 81 \\% & 48 \\%\\\\\n",
       "\tS9 & 88 \\% & 87 \\% & 90 \\% & 93 \\% & 80 \\% & 71 \\% & 88 \\% & 75 \\% & 74 \\% & 38 \\%\\\\\n",
       "\tS10 & 72 \\% & 70 \\% & 76 \\% & 84 \\% & 58 \\% & 46 \\% & 72 \\% & 51 \\% & 50 \\% & 18 \\%\\\\\n",
       "\tS11 & 83 \\% & 82 \\% & 86 \\% & 91 \\% & 73 \\% & 63 \\% & 83 \\% & 67 \\% & 66 \\% & 30 \\%\\\\\n",
       "\tS12 & 72 \\% & 70 \\% & 76 \\% & 84 \\% & 58 \\% & 46 \\% & 72 \\% & 51 \\% & 50 \\% & 18 \\%\\\\\n",
       "\tS13 & 72 \\% & 70 \\% & 76 \\% & 84 \\% & 58 \\% & 46 \\% & 72 \\% & 51 \\% & 50 \\% & 18 \\%\\\\\n",
       "\tS14 & 88 \\% & 87 \\% & 90 \\% & 93 \\% & 80 \\% & 71 \\% & 88 \\% & 75 \\% & 74 \\% & 38 \\%\\\\\n",
       "\tS15 & 88 \\% & 87 \\% & 90 \\% & 93 \\% & 80 \\% & 71 \\% & 88 \\% & 75 \\% & 74 \\% & 38 \\%\\\\\n",
       "\tS16 & 78 \\% & 76 \\% & 82 \\% & 88 \\% & 66 \\% & 54 \\% & 78 \\% & 59 \\% & 58 \\% & 23 \\%\\\\\n",
       "\tS17 & 88 \\% & 87 \\% & 90 \\% & 93 \\% & 80 \\% & 71 \\% & 88 \\% & 75 \\% & 74 \\% & 38 \\%\\\\\n",
       "\tS18 & 88 \\% & 87 \\% & 90 \\% & 93 \\% & 80 \\% & 71 \\% & 88 \\% & 75 \\% & 74 \\% & 38 \\%\\\\\n",
       "\tS19 & 66 \\% & 63 \\% & 70 \\% & 79 \\% & 50 \\% & 39 \\% & 66 \\% & 43 \\% & 43 \\% & 13 \\%\\\\\n",
       "\tS20 & 91 \\% & 91 \\% & 93 \\% & 95 \\% & 85 \\% & 79 \\% & 91 \\% & 81 \\% & 81 \\% & 48 \\%\\\\\n",
       "\tS21 & 91 \\% & 91 \\% & 93 \\% & 95 \\% & 85 \\% & 79 \\% & 91 \\% & 81 \\% & 81 \\% & 48 \\%\\\\\n",
       "\tS22 & 78 \\% & 76 \\% & 82 \\% & 88 \\% & 66 \\% & 54 \\% & 78 \\% & 59 \\% & 58 \\% & 23 \\%\\\\\n",
       "\tS23 & 83 \\% & 82 \\% & 86 \\% & 91 \\% & 73 \\% & 63 \\% & 83 \\% & 67 \\% & 66 \\% & 30 \\%\\\\\n",
       "\tS24 & 88 \\% & 87 \\% & 90 \\% & 93 \\% & 80 \\% & 71 \\% & 88 \\% & 75 \\% & 74 \\% & 38 \\%\\\\\n",
       "\tS25 & 91 \\% & 91 \\% & 93 \\% & 95 \\% & 85 \\% & 79 \\% & 91 \\% & 81 \\% & 81 \\% & 48 \\%\\\\\n",
       "\\end{tabular}\n"
      ],
      "text/markdown": [
       "\n",
       "| <!--/--> | e1 | e2 | e3 | e4 | e5 | e6 | e7 | e8 | e9 | e10 | \n",
       "|---|---|---|---|---|---|---|---|---|---|---|---|---|---|---|---|---|---|---|---|---|---|---|---|---|\n",
       "| S1 | 34 % | 32 % | 39 % | 51 % | 21 % | 14 % | 34 % | 17 % | 16 % | 4 %  | \n",
       "| S2 | 94 % | 94 % | 95 % | 97 % | 90 % | 85 % | 94 % | 87 % | 87 % | 60 % | \n",
       "| S3 | 88 % | 87 % | 90 % | 93 % | 80 % | 71 % | 88 % | 75 % | 74 % | 38 % | \n",
       "| S4 | 91 % | 91 % | 93 % | 95 % | 85 % | 79 % | 91 % | 81 % | 81 % | 48 % | \n",
       "| S5 | 83 % | 82 % | 86 % | 91 % | 73 % | 63 % | 83 % | 67 % | 66 % | 30 % | \n",
       "| S6 | 78 % | 76 % | 82 % | 88 % | 66 % | 54 % | 78 % | 59 % | 58 % | 23 % | \n",
       "| S7 | 72 % | 70 % | 76 % | 84 % | 58 % | 46 % | 72 % | 51 % | 50 % | 18 % | \n",
       "| S8 | 91 % | 91 % | 93 % | 95 % | 85 % | 79 % | 91 % | 81 % | 81 % | 48 % | \n",
       "| S9 | 88 % | 87 % | 90 % | 93 % | 80 % | 71 % | 88 % | 75 % | 74 % | 38 % | \n",
       "| S10 | 72 % | 70 % | 76 % | 84 % | 58 % | 46 % | 72 % | 51 % | 50 % | 18 % | \n",
       "| S11 | 83 % | 82 % | 86 % | 91 % | 73 % | 63 % | 83 % | 67 % | 66 % | 30 % | \n",
       "| S12 | 72 % | 70 % | 76 % | 84 % | 58 % | 46 % | 72 % | 51 % | 50 % | 18 % | \n",
       "| S13 | 72 % | 70 % | 76 % | 84 % | 58 % | 46 % | 72 % | 51 % | 50 % | 18 % | \n",
       "| S14 | 88 % | 87 % | 90 % | 93 % | 80 % | 71 % | 88 % | 75 % | 74 % | 38 % | \n",
       "| S15 | 88 % | 87 % | 90 % | 93 % | 80 % | 71 % | 88 % | 75 % | 74 % | 38 % | \n",
       "| S16 | 78 % | 76 % | 82 % | 88 % | 66 % | 54 % | 78 % | 59 % | 58 % | 23 % | \n",
       "| S17 | 88 % | 87 % | 90 % | 93 % | 80 % | 71 % | 88 % | 75 % | 74 % | 38 % | \n",
       "| S18 | 88 % | 87 % | 90 % | 93 % | 80 % | 71 % | 88 % | 75 % | 74 % | 38 % | \n",
       "| S19 | 66 % | 63 % | 70 % | 79 % | 50 % | 39 % | 66 % | 43 % | 43 % | 13 % | \n",
       "| S20 | 91 % | 91 % | 93 % | 95 % | 85 % | 79 % | 91 % | 81 % | 81 % | 48 % | \n",
       "| S21 | 91 % | 91 % | 93 % | 95 % | 85 % | 79 % | 91 % | 81 % | 81 % | 48 % | \n",
       "| S22 | 78 % | 76 % | 82 % | 88 % | 66 % | 54 % | 78 % | 59 % | 58 % | 23 % | \n",
       "| S23 | 83 % | 82 % | 86 % | 91 % | 73 % | 63 % | 83 % | 67 % | 66 % | 30 % | \n",
       "| S24 | 88 % | 87 % | 90 % | 93 % | 80 % | 71 % | 88 % | 75 % | 74 % | 38 % | \n",
       "| S25 | 91 % | 91 % | 93 % | 95 % | 85 % | 79 % | 91 % | 81 % | 81 % | 48 % | \n",
       "\n",
       "\n"
      ],
      "text/plain": [
       "    e1   e2   e3   e4   e5   e6   e7   e8   e9   e10 \n",
       "S1  34 % 32 % 39 % 51 % 21 % 14 % 34 % 17 % 16 % 4 % \n",
       "S2  94 % 94 % 95 % 97 % 90 % 85 % 94 % 87 % 87 % 60 %\n",
       "S3  88 % 87 % 90 % 93 % 80 % 71 % 88 % 75 % 74 % 38 %\n",
       "S4  91 % 91 % 93 % 95 % 85 % 79 % 91 % 81 % 81 % 48 %\n",
       "S5  83 % 82 % 86 % 91 % 73 % 63 % 83 % 67 % 66 % 30 %\n",
       "S6  78 % 76 % 82 % 88 % 66 % 54 % 78 % 59 % 58 % 23 %\n",
       "S7  72 % 70 % 76 % 84 % 58 % 46 % 72 % 51 % 50 % 18 %\n",
       "S8  91 % 91 % 93 % 95 % 85 % 79 % 91 % 81 % 81 % 48 %\n",
       "S9  88 % 87 % 90 % 93 % 80 % 71 % 88 % 75 % 74 % 38 %\n",
       "S10 72 % 70 % 76 % 84 % 58 % 46 % 72 % 51 % 50 % 18 %\n",
       "S11 83 % 82 % 86 % 91 % 73 % 63 % 83 % 67 % 66 % 30 %\n",
       "S12 72 % 70 % 76 % 84 % 58 % 46 % 72 % 51 % 50 % 18 %\n",
       "S13 72 % 70 % 76 % 84 % 58 % 46 % 72 % 51 % 50 % 18 %\n",
       "S14 88 % 87 % 90 % 93 % 80 % 71 % 88 % 75 % 74 % 38 %\n",
       "S15 88 % 87 % 90 % 93 % 80 % 71 % 88 % 75 % 74 % 38 %\n",
       "S16 78 % 76 % 82 % 88 % 66 % 54 % 78 % 59 % 58 % 23 %\n",
       "S17 88 % 87 % 90 % 93 % 80 % 71 % 88 % 75 % 74 % 38 %\n",
       "S18 88 % 87 % 90 % 93 % 80 % 71 % 88 % 75 % 74 % 38 %\n",
       "S19 66 % 63 % 70 % 79 % 50 % 39 % 66 % 43 % 43 % 13 %\n",
       "S20 91 % 91 % 93 % 95 % 85 % 79 % 91 % 81 % 81 % 48 %\n",
       "S21 91 % 91 % 93 % 95 % 85 % 79 % 91 % 81 % 81 % 48 %\n",
       "S22 78 % 76 % 82 % 88 % 66 % 54 % 78 % 59 % 58 % 23 %\n",
       "S23 83 % 82 % 86 % 91 % 73 % 63 % 83 % 67 % 66 % 30 %\n",
       "S24 88 % 87 % 90 % 93 % 80 % 71 % 88 % 75 % 74 % 38 %\n",
       "S25 91 % 91 % 93 % 95 % 85 % 79 % 91 % 81 % 81 % 48 %"
      ]
     },
     "metadata": {},
     "output_type": "display_data"
    }
   ],
   "source": [
    "# Calcolo la tabella di probabilità che ogni studente risponda correttamente ad ogni test usando il discriminante non vincolato\n",
    "dfProb <- calcProbabilites(items = datiDichot, diff = difficDichotF, abil = abil)\n",
    "\n",
    "# Visualizzo la tabella più semplicemente\n",
    "showProbabilities(df = dfProb)"
   ]
  },
  {
   "cell_type": "code",
   "execution_count": 10,
   "metadata": {
    "collapsed": true
   },
   "outputs": [],
   "source": [
    "#' Genera una tabella dicotomica\n",
    "#'\n",
    "#' @param diff vettore di difficoltà scelte\n",
    "#' @param abil vettore di abilità scelte\n",
    "#' @return La tabella dicotomica generata\n",
    "#' @examples\n",
    "#' numItems <- 10\n",
    "#' numStudents <- 30\n",
    "#' diffInit <- rnorm(numItems)\n",
    "#' abil <- rnorm(numStudents)\n",
    "#' generateDichot(diffInit, abil)\n",
    "generateDichot <- function(diff, abil) {\n",
    "    items <- data.frame(matrix(0, ncol = length(diff), nrow = length(abil)))\n",
    "    prob <- calcProbabilites(items, diff, abil)\n",
    "    namesCol  <- names(items)\n",
    "    namesRow  <- row.names(items)\n",
    "    for (row in namesRow) {\n",
    "        for (col in namesCol) {\n",
    "            items[row,col] <- rbinom(n = 1, size = 1, prob[row,col])         \n",
    "        }\n",
    "    }    \n",
    "    items\n",
    "}\n",
    "\n",
    "#' Valuta la bontà del mio stimatore misurando lo scostamento tra le difficoltà o le abilità passate per argomento\n",
    "#'\n",
    "#' @param vect1 vettore di difficoltà o abilità\n",
    "#' @param vect2 vettore di difficoltà o abilità\n",
    "#' @return Data frame con le difficoltà o abilità passate per argomento e lo scostamento rilevato\n",
    "#' @examples\n",
    "#' numItems <- 10\n",
    "#' numStudents <- 30\n",
    "#' bootStrapVal <- 10\n",
    "#' diffInit <- rnorm(numItems)\n",
    "#' abil <- rnorm(numStudents)\n",
    "#' genDic <- generateDichot(diffInit, abil)\n",
    "#' genDicBoot <- bootstrapping(genDic, numStudents * bootStrapVal)\n",
    "#' diffEstim <- estimateDifficultiesDichotFreeDiscrim(genDicBoot)\n",
    "#' validationWithDifference(diffInit, diffEstim)\n",
    "validationWithDifference <- function(vect1, vect2, label1 = \"Vettore 1\", label2 = \"Vettore 2\") {\n",
    "    scost <- abs(unlist(lapply(vect1 - vect2 , round, 2)))\n",
    "    compare <- data.frame(vect1, vect2, scost)   \n",
    "    colnames(compare) <- c(label1, label2, \"Scostamento\")\n",
    "    compare\n",
    "}\n",
    "\n",
    "#' Valuta la bontà del mio stimatore confrontando graficamente le difficoltà o le abilità passate per argomento\n",
    "#'\n",
    "#' @param vect1 Vettore di difficoltà o abilità\n",
    "#' @param vect2 Vettore di difficoltà o abilità\n",
    "#' @param label1 Descrizione del vettore 1\n",
    "#' @param label2 Descrizione del vettore 2\n",
    "#' @examples\n",
    "#' numItems <- 10\n",
    "#' numStudents <- 30\n",
    "#' bootStrapVal <- 10\n",
    "#' diffInit <- rnorm(numItems)\n",
    "#' abil <- rnorm(numStudents)\n",
    "#' genDic <- generateDichot(diff, abil)\n",
    "#' genDicBoot <- bootstrapping(genDic, numStudents * bootStrapVal)\n",
    "#' diffEstim <- estimateDifficultiesDichotFreeDiscrim(genDicBoot)\n",
    "#' validationWithPlot(diffInit, diffEstim)\n",
    "validationWithPlot <- function(vect1, vect2, label1 = \"Vettore 1\", label2 = \"Vettore 2\") {\n",
    "    plot(vect1,xlim=c(1,length(vect1)),ylim=c(-4,4),type=\"b\",main=\"Comparison plot\",xlab=\"Observations\",ylab=\"Values\",xaxt=\"n\",col=\"red\",pch=16,lwd=2)\n",
    "    axis(1, at = 1:length(vect1), labels = 1:length(vect1))\n",
    "    par(new = TRUE)\n",
    "    plot(vect2, type = \"b\", xlim = c(1,length(vect2)),ylim = c(-4,4), xaxt='n', yaxt = \"n\", xlab = \"\", ylab = \"\", col = \"blue\", pch=16, lwd=2)\n",
    "    legend(1, 4, legend=c(label1, label2), col=c(\"red\", \"blue\"), lty=1, cex=1, lwd=2, pch=16)\n",
    "    NULL\n",
    "}\n",
    "\n",
    "#' Valuta la bontà del mio stimatore calcolando il coefficiente di correlazione lineare\n",
    "#'\n",
    "#' @param vect1 vettore di difficoltà o abilità\n",
    "#' @param vect2 vettore di difficoltà o abilità\n",
    "#' @return Valore numerico compreso tra -1 e 1: se si avvicina a -1 i dati sono correlati negativamente, se si avvicina ad 1 \n",
    "#' i dati sono correlati positivamente e se è un valore vicino a 0 allora non vi è alcun tipo di correlazione lineare\n",
    "#' @examples\n",
    "#' numItems <- 10\n",
    "#' numStudents <- 30\n",
    "#' bootStrapVal <- 10\n",
    "#' diffInit <- rnorm(numItems)\n",
    "#' abil <- rnorm(numStudents)\n",
    "#' genDic <- generateDichot(diff, abil)\n",
    "#' genDicBoot <- bootstrapping(genDic, numStudents * bootStrapVal)\n",
    "#' diffEstim <- estimateDifficultiesDichotFreeDiscrim(genDicBoot)\n",
    "#' validationWithCor(diffInit, diffEstim)\n",
    "validationWithCor <- function(vect1, vect2) {\n",
    "    cor(vect1, vect2)\n",
    "}\n",
    "\n",
    "\n",
    "#' Funzione che permette di generare, stimare, validare e, se richiesto, estendere la tabella generata dagli input\n",
    "#'\n",
    "#' @param diff Vettore di difficoltà \n",
    "#' @param abil Vettore di abilità \n",
    "#' @param generator Funzione generatrice della tabella\n",
    "#' @param estimator Funzione di stima della difficoltà o abilità della tabella generata\n",
    "#' @param validator Funzione per fornire un indicatore della bontà dello stimatore\n",
    "#' @param increaseTable Funzione opzionale di incremento della tabella su cui applicare lo stimatore\n",
    "#' @param valid Indica se il validatore deve essere applicato sulla difficoltà o l'abilità\n",
    "#' @return Lista contenente la tabella generata, le difficoltà o abilità stimate e output del validatore \n",
    "#' @examples\n",
    "#' numItems <- 10\n",
    "#' numStudents <- 30\n",
    "#' bootStrapVal <- 10\n",
    "#' diffInit <- rnorm(numItems)\n",
    "#' abil <- rnorm(numStudents)\n",
    "#' simulate(diffInit, abil, generateDichot, estimateDifficultiesDichotOneDiscrim, validationWithPlot, bootstrapping)\n",
    "#' simulate(diffInit, abil, generateDichot, estimateAbilitiesDichot, validationWithPlot, diffOrAb = \"abil\")\n",
    "simulate <- function(diff, abil, generator, estimator, validator, increaseTable = function(df) df, diffOrAb = \"diff\") {\n",
    "    tabDichot <- generator(diff, abil)\n",
    "    tabDichotBoot <- increaseTable(tabDichot)  \n",
    "    estim <- estimator(tabDichotBoot)\n",
    "    \n",
    "    if(diffOrAb == \"diff\"){        \n",
    "        valid <- validator(diff, estim)\n",
    "    }\n",
    "    else if(diffOrAb == \"abil\"){        \n",
    "        valid <- validator(abil, estim)\n",
    "    }\n",
    "    \n",
    "    list(tabDichot, estim, valid)\n",
    "}"
   ]
  },
  {
   "cell_type": "code",
   "execution_count": 11,
   "metadata": {
    "collapsed": true
   },
   "outputs": [],
   "source": [
    "# Definisco il numero di items, il numero di studenti ed quante estrazioni effettuare rispetto al numero di studenti\n",
    "numItems <- 10\n",
    "numStudents <- 30 \n",
    "bootStrapVal <- 15\n",
    "\n",
    "# Genero randomicamente difficolà e abilità\n",
    "diff <- rnorm(numItems)\n",
    "abil <- rnorm(numStudents)\n",
    "\n",
    "# Genero la tabella dicotomica e vi applico il bootstrapping\n",
    "genDic <- generateDichot(diff, abil)\n",
    "genDicBoot <- bootstrapping(genDic, numStudents * bootStrapVal)\n",
    "\n",
    "# Stimo le difficoltà con entrambi i metodi\n",
    "esDiffO <- estimateDifficultiesDichotOneDiscrim(genDicBoot)\n",
    "esDiffF <- estimateDifficultiesDichotFreeDiscrim(genDicBoot)\n",
    "esAbil <- estimateAbilitiesDichot(genDicBoot)"
   ]
  },
  {
   "cell_type": "code",
   "execution_count": 12,
   "metadata": {
    "scrolled": false
   },
   "outputs": [
    {
     "data": {
      "text/plain": [
       "NULL"
      ]
     },
     "metadata": {},
     "output_type": "display_data"
    },
    {
     "data": {
      "image/png": "[encoded data removed]",
      "text/plain": [
       "Plot with title \"Comparison plot\""
      ]
     },
     "metadata": {},
     "output_type": "display_data"
    },
    {
     "data": {
      "text/plain": [
       "NULL"
      ]
     },
     "metadata": {},
     "output_type": "display_data"
    },
    {
     "data": {
      "image/png": "[encoded data removed]",
      "text/plain": [
       "Plot with title \"Comparison plot\""
      ]
     },
     "metadata": {},
     "output_type": "display_data"
    },
    {
     "data": {
      "text/plain": [
       "NULL"
      ]
     },
     "metadata": {},
     "output_type": "display_data"
    },
    {
     "data": {
      "image/png": "[encoded data removed]",
      "text/plain": [
       "Plot with title \"Comparison plot\""
      ]
     },
     "metadata": {},
     "output_type": "display_data"
    }
   ],
   "source": [
    "# Confronto le difficoltà iniziali e quelle stimate fissando il discriminante ad 1\n",
    "validationWithPlot(diff, esDiffO, \"Difficoltà originali\", \"Diffcoltà stimate con discriminante ad 1\")\n",
    "\n",
    "# Confronto le difficoltà iniziali e quelle stimate senza fissare il discriminante\n",
    "validationWithPlot(diff, esDiffF, \"Difficoltà originali\", \"Diffcoltà stimate con discriminante libero\")\n",
    "\n",
    "# Confronto le difficoltà stimate fissando il discriminante ad 1 con quelle stimate senza fissarlo\n",
    "validationWithPlot(esDiffO, esDiffF, \"Diffcoltà stimate con discriminante ad 1\", \"Diffcoltà stimate con discriminante libero\")"
   ]
  },
  {
   "cell_type": "code",
   "execution_count": 13,
   "metadata": {
    "collapsed": true
   },
   "outputs": [],
   "source": [
    "#' Rimpiazza i valori NA presenti nella tabella passata con 0\n",
    "#'\n",
    "#' @param items Tabella dicotomica avente una riga per studente e una colonna per esercizio\n",
    "#' @return Tabella dicotomica avente una riga per studente e una colonna per esercizio a cui sono stati sostituiti i NA con 0\n",
    "#' @examples\n",
    "#' items <- readEXCEl(\"file.xlsx\")\n",
    "#' replaceNaWithZero(items)\n",
    "replaceNaWithZero <- function(items) {\n",
    "    aux <- items\n",
    "    aux[is.na(aux)] <- 0\n",
    "    aux\n",
    "}\n",
    "\n",
    "#' Sostituisce alcuni 0 con NA nella tabella passata simulando che alcuni studenti invece di consegnare un esercizio sicuramente\n",
    "#' errato hanno invece deciso di astenersi\n",
    "#'\n",
    "#' @param items Tabella dicotomica avente una riga per studente e una colonna per esercizio\n",
    "#' @param prob Probabilità con cui decidere se sostituire uno 0 in NA, se è 0 nessuno verrà sostituito e se è 1 tutti verranno\n",
    "#' sostituiti\n",
    "#' @return Data frame nella quale sono avvenute le sostituizioni \n",
    "#' @examples\n",
    "#' p <- 0.3\n",
    "#' items <- readEXCEl(\"file.xlsx\")\n",
    "#' replaceRandomZeroWithNA(items, p)\n",
    "replaceRandomZeroWithNA <- function(items, prob) {   \n",
    "    df <- items\n",
    "    namesCol <- names(df)\n",
    "    namesRow <- row.names(df)\n",
    "    for (row in namesRow) {\n",
    "        for (col in namesCol) {\n",
    "            if(df[row,col] == 0){\n",
    "                p <- runif(1)\n",
    "                if(prob > p){\n",
    "                    df[row,col] = NA\n",
    "                }\n",
    "            }                \n",
    "        }\n",
    "    }\n",
    "    df\n",
    "}"
   ]
  },
  {
   "cell_type": "code",
   "execution_count": 29,
   "metadata": {
    "collapsed": true
   },
   "outputs": [],
   "source": [
    "# Definisco il numero di items, numero di studenti, quante estrazioni effettuare e la probabilità di rimpiazzare gli 0 con NA\n",
    "numItems <- 10\n",
    "numStudents <- 30\n",
    "bootStrapVal <- 10\n",
    "prob <- 0.2\n",
    "\n",
    "# Genero randomicamente difficolà e abilità\n",
    "diff <- rnorm(numItems)\n",
    "abil <- rnorm(numStudents)\n",
    "\n",
    "# Genero la tabella dicotomica e vi applico il rimpiazzamento e bootsrapping\n",
    "gd <- generateDichot(diff, abil)\n",
    "gdNA <- replaceRandomZeroWithNA(gd, prob)\n",
    "gdNA <- bootstrapping(gdNA, numStudents * bootStrapVal)"
   ]
  },
  {
   "cell_type": "code",
   "execution_count": 30,
   "metadata": {},
   "outputs": [
    {
     "data": {
      "image/png": "[encoded data removed]",
      "text/plain": [
       "Plot with title \"Difficulties plot\""
      ]
     },
     "metadata": {},
     "output_type": "display_data"
    }
   ],
   "source": [
    "# Eseguo la stima rimuovendo gli NA prima della computazione\n",
    "estDiffNULL <- estimateDifficultiesDichotOneDiscrim(gdNA, forNA = NULL)\n",
    "\n",
    "# Eseguo la stima sostituendo gli NA con 0 \n",
    "estDiffZero <- estimateDifficultiesDichotOneDiscrim(replaceNaWithZero(gdNA))\n",
    "\n",
    "# Confronto i grafici relativi alle difficoltà stimate nei 2 modi con i valori reali\n",
    "plotDifficultiesDichot(gdNA, estDiffNULL)\n",
    "par(new = TRUE)\n",
    "plotDifficultiesDichot(gdNA, estDiffZero, color = \"blue\")\n",
    "par(new = TRUE)\n",
    "plotDifficultiesDichot(gdNA, diff, color = \"green\")\n",
    "legend(1, 10, legend=c(\"Difficoltà stimate rimuovendo gli NA\", \"Difficoltà stimate sostituendo i NA con 0\", \"Difficoltà originali\"), col=c(\"red\", \"blue\", \"green\"), lty=1, cex=1, lwd=2, pch=16)"
   ]
  },
  {
   "cell_type": "code",
   "execution_count": 31,
   "metadata": {
    "collapsed": true
   },
   "outputs": [],
   "source": [
    "#' Produce una matrice dicotomica definendo la condizione per cui un esercizio viene definito come passato(1) oppure no(0)\n",
    "#' @param session Sessione considerata\n",
    "#' @param vote Stringa che indica come valutare gli esercizi\n",
    "#' @param maxError Se scelto il criterio \"errors\", questo campo indica il massimo numero di errori commettibili\n",
    "#' @param percTestCaseOk Se scelto il criterio \"testCase\", questo campo indica la percentuale di test case che devono \n",
    "#' essere corretti rispetto al totale\n",
    "#' @param keepNA Paramatreo booleano per indicare se indicare con NA i voti in cui gli studenti non hanno raggiunto la votazione\n",
    "#' precedente al paramentro di valutazione indicato (es. evaluateSource(session, vote = \"compiles\", keepNA = TRUE), i voti\n",
    "#' NA riguarderanno gli studenti che non hanno raggiunto lo step precedente, cioè l'upload)\n",
    "#' @return Data frame dicotomico, possiede una riga per studente e una colonna per esercizio, nelle intersezioni vi sono i \n",
    "#' risultati delle valutazioni sulla base delle specifiche inserite\n",
    "#' @examples\n",
    "#' sourceData <- \"data.R\"      \n",
    "#' source(sourceData)\n",
    "#' numSessions <- 5\n",
    "#' session <- sessions[numSessions]\n",
    "#' vote <- \"testCase\"\n",
    "#' p <- 0.5\n",
    "#' evaluateSource(session, vote, percTestCaseOk = p)             \n",
    "evaluateSource <- function(session, vote, maxError, percTestCaseOk, keepNA = FALSE) {      \n",
    "    results <- get(paste(\"results_\", session, sep = \"\"))\n",
    "    \n",
    "    if(vote == \"uploaded\")\n",
    "        results[,,vote]\n",
    "    else if(vote == \"compiles\"){\n",
    "        dfC <- results[,,vote]\n",
    "        dfU <- results[,,\"uploaded\"]\n",
    "        \n",
    "        if(keepNA)\n",
    "            dfC[dfU == 0] <- NA   \n",
    "        dfC\n",
    "    }\n",
    "    else if(vote == \"errors\"){\n",
    "        df <- results[,,vote]\n",
    "        df[df <= maxError] <- 1 \n",
    "        df[df > maxError] <- 0\n",
    "        \n",
    "        if(!keepNA)\n",
    "            df[is.na(df)] <- 0            \n",
    "        df\n",
    "    }\n",
    "    else if(vote == \"testCase\"){\n",
    "        cases <- get(paste(\"cases_\", session, sep = \"\"))\n",
    "        df <- results[,,\"oks\"]\n",
    "        df <- t((t(df)) / c(cases)) \n",
    "        df[df >= percTestCaseOk] <- 1\n",
    "        df[df < percTestCaseOk] <- 0\n",
    "        \n",
    "        if(!keepNA)\n",
    "            df[is.na(df)] <- 0     \n",
    "        df\n",
    "    }        \n",
    "}"
   ]
  },
  {
   "cell_type": "code",
   "execution_count": 32,
   "metadata": {
    "collapsed": true
   },
   "outputs": [],
   "source": [
    "#' Modifica i valori fuori scala nel caso la funzione non convergesse sostituendoli con il massimo o il minimo\n",
    "#' @param vect Vettore di difficoltà\n",
    "#' @param min Difficoltà minima\n",
    "#' @param max Difficoltà massima\n",
    "#' @return Vettore di difficoltà\n",
    "#' @examples\n",
    "#' sourceData <- \"data.R\"      \n",
    "#' source(sourceData)\n",
    "#' numSessions <- 5\n",
    "#' session <- sessions[numSessions]\n",
    "#' vote <- \"testCase\"\n",
    "#' p <- 0.5\n",
    "#' numExtraction <- 200\n",
    "#' min <- -4\n",
    "#' max <- 4\n",
    "#' evalWithTestCase <- evaluateSource(session, vote, percTestCaseOk = p)      \n",
    "#' diffTestCase <- estimateDifficultiesDichotOneDiscrim(bootstrapping(evalWithTestCase, numExtraction))\n",
    "#' regulateRange(diffTestCase, min, max)\n",
    "regulateRange <- function(vect, min, max){      \n",
    "    vect[vect > max] <- max\n",
    "    vect[vect < min] <- min\n",
    "    vect\n",
    "}"
   ]
  },
  {
   "cell_type": "code",
   "execution_count": 40,
   "metadata": {},
   "outputs": [
    {
     "name": "stdout",
     "output_type": "stream",
     "text": [
      "Di seguito andrò ad analizzare i risultati delle sessioni\n",
      "\n",
      "Per tale analisi ho scelto di considerate un esercizio superato solo se passa almeno il 50% dei test case ad esso associati,\n",
      "ho fatto questa assunzione perchè in esame non sono ritenuti generalmente corretti gli esercizi solo perchè è stato effettuato \n",
      "il loro upload, compilano o semplicemente perchè non presentano errori di esecuzione"
     ]
    }
   ],
   "source": [
    "sourceData <- \"data.R\"\n",
    "source(sourceData)\n",
    "bootstrapVal <- 10\n",
    "\n",
    "cat(\"Di seguito andrò ad analizzare i risultati delle sessioni\\n\\n\")\n",
    "cat(\"Per tale analisi ho scelto di considerate un esercizio superato solo se passa almeno il 50% dei test case ad esso associati,\n",
    "ho fatto questa assunzione perchè in esame non sono ritenuti generalmente corretti gli esercizi solo perchè è stato effettuato \n",
    "il loro upload, compilano o semplicemente perchè non presentano errori di esecuzione\")"
   ]
  },
  {
   "cell_type": "code",
   "execution_count": 54,
   "metadata": {},
   "outputs": [
    {
     "data": {
      "text/html": [
       "<table>\n",
       "<thead><tr><th></th><th scope=col>01-censura_la_prima</th><th scope=col>02-studiare_stanca</th><th scope=col>03-piramide_di_numeri</th><th scope=col>04-disegna_serpente</th><th scope=col>05-stampante_configurabile</th><th scope=col>06-righello_orizzontale</th></tr></thead>\n",
       "<tbody>\n",
       "\t<tr><th scope=row>828035</th><td>0</td><td>0</td><td>0</td><td>0</td><td>0</td><td>0</td></tr>\n",
       "\t<tr><th scope=row>840537</th><td>1</td><td>0</td><td>0</td><td>0</td><td>0</td><td>0</td></tr>\n",
       "\t<tr><th scope=row>858673</th><td>1</td><td>1</td><td>1</td><td>1</td><td>0</td><td>0</td></tr>\n",
       "\t<tr><th scope=row>871599</th><td>0</td><td>0</td><td>0</td><td>0</td><td>0</td><td>0</td></tr>\n",
       "\t<tr><th scope=row>871806</th><td>1</td><td>1</td><td>1</td><td>1</td><td>0</td><td>0</td></tr>\n",
       "\t<tr><th scope=row>872868</th><td>0</td><td>0</td><td>0</td><td>0</td><td>0</td><td>0</td></tr>\n",
       "\t<tr><th scope=row>873489</th><td>1</td><td>1</td><td>0</td><td>0</td><td>0</td><td>0</td></tr>\n",
       "\t<tr><th scope=row>874225</th><td>0</td><td>0</td><td>0</td><td>0</td><td>0</td><td>0</td></tr>\n",
       "\t<tr><th scope=row>885299</th><td>1</td><td>0</td><td>0</td><td>1</td><td>0</td><td>0</td></tr>\n",
       "\t<tr><th scope=row>885432</th><td>1</td><td>0</td><td>0</td><td>0</td><td>0</td><td>0</td></tr>\n",
       "\t<tr><th scope=row>885681</th><td>1</td><td>1</td><td>1</td><td>1</td><td>0</td><td>0</td></tr>\n",
       "\t<tr><th scope=row>885778</th><td>1</td><td>1</td><td>1</td><td>1</td><td>1</td><td>0</td></tr>\n",
       "\t<tr><th scope=row>885982</th><td>1</td><td>1</td><td>1</td><td>1</td><td>0</td><td>0</td></tr>\n",
       "\t<tr><th scope=row>891304</th><td>1</td><td>0</td><td>0</td><td>0</td><td>0</td><td>0</td></tr>\n",
       "\t<tr><th scope=row>895687</th><td>1</td><td>0</td><td>0</td><td>0</td><td>0</td><td>0</td></tr>\n",
       "\t<tr><th scope=row>900179</th><td>1</td><td>0</td><td>1</td><td>1</td><td>0</td><td>0</td></tr>\n",
       "</tbody>\n",
       "</table>\n"
      ],
      "text/latex": [
       "\\begin{tabular}{r|llllll}\n",
       "  & 01-censura\\_la\\_prima & 02-studiare\\_stanca & 03-piramide\\_di\\_numeri & 04-disegna\\_serpente & 05-stampante\\_configurabile & 06-righello\\_orizzontale\\\\\n",
       "\\hline\n",
       "\t828035 & 0 & 0 & 0 & 0 & 0 & 0\\\\\n",
       "\t840537 & 1 & 0 & 0 & 0 & 0 & 0\\\\\n",
       "\t858673 & 1 & 1 & 1 & 1 & 0 & 0\\\\\n",
       "\t871599 & 0 & 0 & 0 & 0 & 0 & 0\\\\\n",
       "\t871806 & 1 & 1 & 1 & 1 & 0 & 0\\\\\n",
       "\t872868 & 0 & 0 & 0 & 0 & 0 & 0\\\\\n",
       "\t873489 & 1 & 1 & 0 & 0 & 0 & 0\\\\\n",
       "\t874225 & 0 & 0 & 0 & 0 & 0 & 0\\\\\n",
       "\t885299 & 1 & 0 & 0 & 1 & 0 & 0\\\\\n",
       "\t885432 & 1 & 0 & 0 & 0 & 0 & 0\\\\\n",
       "\t885681 & 1 & 1 & 1 & 1 & 0 & 0\\\\\n",
       "\t885778 & 1 & 1 & 1 & 1 & 1 & 0\\\\\n",
       "\t885982 & 1 & 1 & 1 & 1 & 0 & 0\\\\\n",
       "\t891304 & 1 & 0 & 0 & 0 & 0 & 0\\\\\n",
       "\t895687 & 1 & 0 & 0 & 0 & 0 & 0\\\\\n",
       "\t900179 & 1 & 0 & 1 & 1 & 0 & 0\\\\\n",
       "\\end{tabular}\n"
      ],
      "text/markdown": [
       "\n",
       "| <!--/--> | 01-censura_la_prima | 02-studiare_stanca | 03-piramide_di_numeri | 04-disegna_serpente | 05-stampante_configurabile | 06-righello_orizzontale | \n",
       "|---|---|---|---|---|---|---|---|---|---|---|---|---|---|---|---|\n",
       "| 828035 | 0 | 0 | 0 | 0 | 0 | 0 | \n",
       "| 840537 | 1 | 0 | 0 | 0 | 0 | 0 | \n",
       "| 858673 | 1 | 1 | 1 | 1 | 0 | 0 | \n",
       "| 871599 | 0 | 0 | 0 | 0 | 0 | 0 | \n",
       "| 871806 | 1 | 1 | 1 | 1 | 0 | 0 | \n",
       "| 872868 | 0 | 0 | 0 | 0 | 0 | 0 | \n",
       "| 873489 | 1 | 1 | 0 | 0 | 0 | 0 | \n",
       "| 874225 | 0 | 0 | 0 | 0 | 0 | 0 | \n",
       "| 885299 | 1 | 0 | 0 | 1 | 0 | 0 | \n",
       "| 885432 | 1 | 0 | 0 | 0 | 0 | 0 | \n",
       "| 885681 | 1 | 1 | 1 | 1 | 0 | 0 | \n",
       "| 885778 | 1 | 1 | 1 | 1 | 1 | 0 | \n",
       "| 885982 | 1 | 1 | 1 | 1 | 0 | 0 | \n",
       "| 891304 | 1 | 0 | 0 | 0 | 0 | 0 | \n",
       "| 895687 | 1 | 0 | 0 | 0 | 0 | 0 | \n",
       "| 900179 | 1 | 0 | 1 | 1 | 0 | 0 | \n",
       "\n",
       "\n"
      ],
      "text/plain": [
       "        exercises\n",
       "uids     01-censura_la_prima 02-studiare_stanca 03-piramide_di_numeri\n",
       "  828035 0                   0                  0                    \n",
       "  840537 1                   0                  0                    \n",
       "  858673 1                   1                  1                    \n",
       "  871599 0                   0                  0                    \n",
       "  871806 1                   1                  1                    \n",
       "  872868 0                   0                  0                    \n",
       "  873489 1                   1                  0                    \n",
       "  874225 0                   0                  0                    \n",
       "  885299 1                   0                  0                    \n",
       "  885432 1                   0                  0                    \n",
       "  885681 1                   1                  1                    \n",
       "  885778 1                   1                  1                    \n",
       "  885982 1                   1                  1                    \n",
       "  891304 1                   0                  0                    \n",
       "  895687 1                   0                  0                    \n",
       "  900179 1                   0                  1                    \n",
       "        exercises\n",
       "uids     04-disegna_serpente 05-stampante_configurabile 06-righello_orizzontale\n",
       "  828035 0                   0                          0                      \n",
       "  840537 0                   0                          0                      \n",
       "  858673 1                   0                          0                      \n",
       "  871599 0                   0                          0                      \n",
       "  871806 1                   0                          0                      \n",
       "  872868 0                   0                          0                      \n",
       "  873489 0                   0                          0                      \n",
       "  874225 0                   0                          0                      \n",
       "  885299 1                   0                          0                      \n",
       "  885432 0                   0                          0                      \n",
       "  885681 1                   0                          0                      \n",
       "  885778 1                   1                          0                      \n",
       "  885982 1                   0                          0                      \n",
       "  891304 0                   0                          0                      \n",
       "  895687 0                   0                          0                      \n",
       "  900179 1                   0                          0                      "
      ]
     },
     "metadata": {},
     "output_type": "display_data"
    },
    {
     "name": "stdout",
     "output_type": "stream",
     "text": [
      "La stima delle difficoltà rileva problemi di convergenza, in quanto è possibile notare colonne in cui la presenza di 0 \n",
      "è totale o quasi"
     ]
    },
    {
     "name": "stderr",
     "output_type": "stream",
     "text": [
      "Warning message:\n",
      "\"glm.fit: algorithm did not converge\"Warning message:\n",
      "\"glm.fit: fitted probabilities numerically 0 or 1 occurred\"Warning message:\n",
      "\"glm.fit: algorithm did not converge\"Warning message:\n",
      "\"glm.fit: fitted probabilities numerically 0 or 1 occurred\"Warning message:\n",
      "\"glm.fit: fitted probabilities numerically 0 or 1 occurred\"Warning message:\n",
      "\"glm.fit: algorithm did not converge\"Warning message:\n",
      "\"glm.fit: fitted probabilities numerically 0 or 1 occurred\"Warning message:\n",
      "\"glm.fit: algorithm did not converge\""
     ]
    },
    {
     "name": "stdout",
     "output_type": "stream",
     "text": [
      "\n",
      "Nonostante i warning generati la funzione effettua ugualmente una stima delle difficoltà, se essa è stata effettuata \n",
      "su dati con una bassissima diversificazione potrebbe essere poco precisa ma ugualmente inforamtiva, nel caso invece che i \n",
      "dati fossero totalmente uniformi riscontreremmo valori di -26 e 26 ad indicare la totale possibilità di superare l'esercizio \n",
      "e l'assoluta impossibilità di superarlo"
     ]
    },
    {
     "data": {
      "text/html": [
       "<ol class=list-inline>\n",
       "\t<li>-1.86372019835507</li>\n",
       "\t<li>0.321329103974849</li>\n",
       "\t<li>0.488738987676813</li>\n",
       "\t<li>0.288164135720086</li>\n",
       "\t<li>3.30225125425659</li>\n",
       "\t<li>26.5660685415003</li>\n",
       "</ol>\n"
      ],
      "text/latex": [
       "\\begin{enumerate*}\n",
       "\\item -1.86372019835507\n",
       "\\item 0.321329103974849\n",
       "\\item 0.488738987676813\n",
       "\\item 0.288164135720086\n",
       "\\item 3.30225125425659\n",
       "\\item 26.5660685415003\n",
       "\\end{enumerate*}\n"
      ],
      "text/markdown": [
       "1. -1.86372019835507\n",
       "2. 0.321329103974849\n",
       "3. 0.488738987676813\n",
       "4. 0.288164135720086\n",
       "5. 3.30225125425659\n",
       "6. 26.5660685415003\n",
       "\n",
       "\n"
      ],
      "text/plain": [
       "[1] -1.8637202  0.3213291  0.4887390  0.2881641  3.3022513 26.5660685"
      ]
     },
     "metadata": {},
     "output_type": "display_data"
    },
    {
     "name": "stdout",
     "output_type": "stream",
     "text": [
      "Per permettere un'opportuna visualizzazione grafica di quei casi estremi o introdotto la funzione regulateRange che \n",
      "semplicemente sostiuisce i valori fuoir scala con i relativi massimi e minimi"
     ]
    },
    {
     "data": {
      "text/html": [
       "<ol class=list-inline>\n",
       "\t<li>-1.86372019835507</li>\n",
       "\t<li>0.321329103974849</li>\n",
       "\t<li>0.488738987676813</li>\n",
       "\t<li>0.288164135720086</li>\n",
       "\t<li>3.30225125425659</li>\n",
       "\t<li>4</li>\n",
       "</ol>\n"
      ],
      "text/latex": [
       "\\begin{enumerate*}\n",
       "\\item -1.86372019835507\n",
       "\\item 0.321329103974849\n",
       "\\item 0.488738987676813\n",
       "\\item 0.288164135720086\n",
       "\\item 3.30225125425659\n",
       "\\item 4\n",
       "\\end{enumerate*}\n"
      ],
      "text/markdown": [
       "1. -1.86372019835507\n",
       "2. 0.321329103974849\n",
       "3. 0.488738987676813\n",
       "4. 0.288164135720086\n",
       "5. 3.30225125425659\n",
       "6. 4\n",
       "\n",
       "\n"
      ],
      "text/plain": [
       "[1] -1.8637202  0.3213291  0.4887390  0.2881641  3.3022513  4.0000000"
      ]
     },
     "metadata": {},
     "output_type": "display_data"
    },
    {
     "name": "stdout",
     "output_type": "stream",
     "text": [
      "\n",
      "Dal grafico possiamo notare un aumento costante della difficoltà degli esercizi, fino a giungere a stime \n",
      "che presupporrebbero una impossibilità totale a superare gli ultimi"
     ]
    },
    {
     "data": {
      "image/png": "[encoded data removed]",
      "text/plain": [
       "Plot with title \"Esame del 170126\""
      ]
     },
     "metadata": {},
     "output_type": "display_data"
    }
   ],
   "source": [
    "numSessions <- 1\n",
    "session <- sessions[numSessions]\n",
    "evalWithTestCase <- evaluateSource(session, vote = \"testCase\", percTestCaseOk = 0.5)\n",
    "nStud <- nrow(evalWithTestCase)\n",
    "\n",
    "evalWithTestCase\n",
    "\n",
    "cat(\"La stima delle difficoltà rileva problemi di convergenza, in quanto è possibile notare colonne in cui la presenza di 0 \n",
    "è totale o quasi\")\n",
    "\n",
    "diffTestCase <- estimateDifficultiesDichotOneDiscrim(bootstrapping(evalWithTestCase, n = bootstrapVal * nStud))\n",
    "\n",
    "cat(\"\\nNonostante i warning generati la funzione effettua ugualmente una stima delle difficoltà, se essa è stata effettuata \n",
    "su dati con una bassissima diversificazione potrebbe essere poco precisa ma ugualmente inforamtiva, nel caso invece che i \n",
    "dati fossero totalmente uniformi riscontreremmo valori di -26 e 26 ad indicare la totale possibilità di superare l'esercizio \n",
    "e l'assoluta impossibilità di superarlo\")\n",
    "\n",
    "diffTestCase\n",
    "\n",
    "cat(\"Per permettere un'opportuna visualizzazione grafica di quei casi estremi o introdotto la funzione regulateRange che \n",
    "semplicemente sostiuisce i valori fuoir scala con i relativi massimi e minimi\")\n",
    "\n",
    "diffTestCase <- regulateRange(diffTestCase, min = -4, max = 4)\n",
    "\n",
    "diffTestCase\n",
    "\n",
    "cat(\"\\nDal grafico possiamo notare un aumento costante della difficoltà degli esercizi, fino a giungere a stime \n",
    "che presupporrebbero una impossibilità totale a superare gli ultimi\")\n",
    "\n",
    "plotDifficultiesDichot(evalWithTestCase, diffTestCase, name = paste(\"Esame del\",session))"
   ]
  },
  {
   "cell_type": "code",
   "execution_count": 67,
   "metadata": {
    "scrolled": false
   },
   "outputs": [
    {
     "data": {
      "text/html": [
       "<table>\n",
       "<thead><tr><th></th><th scope=col>01-abbastanza_risparmi</th><th scope=col>02-parole_incatenate</th><th scope=col>03-u_inscatolate</th><th scope=col>04-nave_piu_lunga</th><th scope=col>05-tra_parentesi</th><th scope=col>06-distesa_di_piramidi</th></tr></thead>\n",
       "<tbody>\n",
       "\t<tr><th scope=row>840537</th><td>1</td><td>1</td><td>1</td><td>0</td><td>0</td><td>0</td></tr>\n",
       "\t<tr><th scope=row>871370</th><td>0</td><td>0</td><td>0</td><td>0</td><td>0</td><td>0</td></tr>\n",
       "\t<tr><th scope=row>871392</th><td>1</td><td>1</td><td>1</td><td>1</td><td>0</td><td>0</td></tr>\n",
       "\t<tr><th scope=row>871599</th><td>0</td><td>0</td><td>0</td><td>0</td><td>0</td><td>0</td></tr>\n",
       "\t<tr><th scope=row>871631</th><td>1</td><td>1</td><td>1</td><td>0</td><td>0</td><td>0</td></tr>\n",
       "\t<tr><th scope=row>871769</th><td>1</td><td>1</td><td>0</td><td>0</td><td>0</td><td>0</td></tr>\n",
       "\t<tr><th scope=row>872010</th><td>1</td><td>1</td><td>1</td><td>1</td><td>0</td><td>0</td></tr>\n",
       "\t<tr><th scope=row>872868</th><td>0</td><td>0</td><td>0</td><td>0</td><td>0</td><td>0</td></tr>\n",
       "\t<tr><th scope=row>872974</th><td>1</td><td>1</td><td>0</td><td>0</td><td>1</td><td>0</td></tr>\n",
       "\t<tr><th scope=row>873489</th><td>1</td><td>1</td><td>1</td><td>0</td><td>1</td><td>0</td></tr>\n",
       "\t<tr><th scope=row>874113</th><td>1</td><td>1</td><td>1</td><td>0</td><td>1</td><td>0</td></tr>\n",
       "\t<tr><th scope=row>885299</th><td>1</td><td>1</td><td>1</td><td>1</td><td>1</td><td>0</td></tr>\n",
       "\t<tr><th scope=row>885309</th><td>1</td><td>1</td><td>1</td><td>0</td><td>0</td><td>0</td></tr>\n",
       "\t<tr><th scope=row>885432</th><td>1</td><td>1</td><td>1</td><td>0</td><td>0</td><td>0</td></tr>\n",
       "\t<tr><th scope=row>885499</th><td>1</td><td>1</td><td>1</td><td>1</td><td>1</td><td>1</td></tr>\n",
       "\t<tr><th scope=row>885552</th><td>1</td><td>1</td><td>1</td><td>0</td><td>0</td><td>0</td></tr>\n",
       "\t<tr><th scope=row>885620</th><td>1</td><td>1</td><td>1</td><td>0</td><td>0</td><td>1</td></tr>\n",
       "\t<tr><th scope=row>885691</th><td>1</td><td>0</td><td>0</td><td>0</td><td>0</td><td>0</td></tr>\n",
       "\t<tr><th scope=row>885698</th><td>1</td><td>1</td><td>1</td><td>0</td><td>1</td><td>1</td></tr>\n",
       "\t<tr><th scope=row>885732</th><td>1</td><td>1</td><td>0</td><td>1</td><td>1</td><td>0</td></tr>\n",
       "\t<tr><th scope=row>886228</th><td>1</td><td>1</td><td>1</td><td>1</td><td>1</td><td>0</td></tr>\n",
       "\t<tr><th scope=row>886432</th><td>1</td><td>1</td><td>1</td><td>1</td><td>0</td><td>0</td></tr>\n",
       "\t<tr><th scope=row>886435</th><td>1</td><td>1</td><td>1</td><td>0</td><td>1</td><td>1</td></tr>\n",
       "\t<tr><th scope=row>886667</th><td>1</td><td>1</td><td>1</td><td>1</td><td>0</td><td>0</td></tr>\n",
       "\t<tr><th scope=row>886773</th><td>1</td><td>1</td><td>1</td><td>1</td><td>1</td><td>1</td></tr>\n",
       "\t<tr><th scope=row>886875</th><td>1</td><td>1</td><td>1</td><td>1</td><td>1</td><td>1</td></tr>\n",
       "\t<tr><th scope=row>886965</th><td>1</td><td>0</td><td>0</td><td>0</td><td>0</td><td>0</td></tr>\n",
       "\t<tr><th scope=row>891304</th><td>1</td><td>1</td><td>0</td><td>0</td><td>0</td><td>0</td></tr>\n",
       "\t<tr><th scope=row>891330</th><td>1</td><td>1</td><td>1</td><td>0</td><td>0</td><td>0</td></tr>\n",
       "\t<tr><th scope=row>892429</th><td>0</td><td>0</td><td>0</td><td>0</td><td>0</td><td>0</td></tr>\n",
       "\t<tr><th scope=row>893046</th><td>0</td><td>0</td><td>0</td><td>0</td><td>0</td><td>0</td></tr>\n",
       "\t<tr><th scope=row>895012</th><td>1</td><td>1</td><td>1</td><td>0</td><td>1</td><td>0</td></tr>\n",
       "\t<tr><th scope=row>895632</th><td>0</td><td>0</td><td>0</td><td>0</td><td>0</td><td>0</td></tr>\n",
       "\t<tr><th scope=row>895687</th><td>1</td><td>1</td><td>1</td><td>0</td><td>0</td><td>1</td></tr>\n",
       "\t<tr><th scope=row>897698</th><td>1</td><td>1</td><td>0</td><td>0</td><td>0</td><td>0</td></tr>\n",
       "\t<tr><th scope=row>898482</th><td>0</td><td>0</td><td>0</td><td>0</td><td>0</td><td>0</td></tr>\n",
       "\t<tr><th scope=row>900501</th><td>1</td><td>0</td><td>0</td><td>0</td><td>0</td><td>0</td></tr>\n",
       "</tbody>\n",
       "</table>\n"
      ],
      "text/latex": [
       "\\begin{tabular}{r|llllll}\n",
       "  & 01-abbastanza\\_risparmi & 02-parole\\_incatenate & 03-u\\_inscatolate & 04-nave\\_piu\\_lunga & 05-tra\\_parentesi & 06-distesa\\_di\\_piramidi\\\\\n",
       "\\hline\n",
       "\t840537 & 1 & 1 & 1 & 0 & 0 & 0\\\\\n",
       "\t871370 & 0 & 0 & 0 & 0 & 0 & 0\\\\\n",
       "\t871392 & 1 & 1 & 1 & 1 & 0 & 0\\\\\n",
       "\t871599 & 0 & 0 & 0 & 0 & 0 & 0\\\\\n",
       "\t871631 & 1 & 1 & 1 & 0 & 0 & 0\\\\\n",
       "\t871769 & 1 & 1 & 0 & 0 & 0 & 0\\\\\n",
       "\t872010 & 1 & 1 & 1 & 1 & 0 & 0\\\\\n",
       "\t872868 & 0 & 0 & 0 & 0 & 0 & 0\\\\\n",
       "\t872974 & 1 & 1 & 0 & 0 & 1 & 0\\\\\n",
       "\t873489 & 1 & 1 & 1 & 0 & 1 & 0\\\\\n",
       "\t874113 & 1 & 1 & 1 & 0 & 1 & 0\\\\\n",
       "\t885299 & 1 & 1 & 1 & 1 & 1 & 0\\\\\n",
       "\t885309 & 1 & 1 & 1 & 0 & 0 & 0\\\\\n",
       "\t885432 & 1 & 1 & 1 & 0 & 0 & 0\\\\\n",
       "\t885499 & 1 & 1 & 1 & 1 & 1 & 1\\\\\n",
       "\t885552 & 1 & 1 & 1 & 0 & 0 & 0\\\\\n",
       "\t885620 & 1 & 1 & 1 & 0 & 0 & 1\\\\\n",
       "\t885691 & 1 & 0 & 0 & 0 & 0 & 0\\\\\n",
       "\t885698 & 1 & 1 & 1 & 0 & 1 & 1\\\\\n",
       "\t885732 & 1 & 1 & 0 & 1 & 1 & 0\\\\\n",
       "\t886228 & 1 & 1 & 1 & 1 & 1 & 0\\\\\n",
       "\t886432 & 1 & 1 & 1 & 1 & 0 & 0\\\\\n",
       "\t886435 & 1 & 1 & 1 & 0 & 1 & 1\\\\\n",
       "\t886667 & 1 & 1 & 1 & 1 & 0 & 0\\\\\n",
       "\t886773 & 1 & 1 & 1 & 1 & 1 & 1\\\\\n",
       "\t886875 & 1 & 1 & 1 & 1 & 1 & 1\\\\\n",
       "\t886965 & 1 & 0 & 0 & 0 & 0 & 0\\\\\n",
       "\t891304 & 1 & 1 & 0 & 0 & 0 & 0\\\\\n",
       "\t891330 & 1 & 1 & 1 & 0 & 0 & 0\\\\\n",
       "\t892429 & 0 & 0 & 0 & 0 & 0 & 0\\\\\n",
       "\t893046 & 0 & 0 & 0 & 0 & 0 & 0\\\\\n",
       "\t895012 & 1 & 1 & 1 & 0 & 1 & 0\\\\\n",
       "\t895632 & 0 & 0 & 0 & 0 & 0 & 0\\\\\n",
       "\t895687 & 1 & 1 & 1 & 0 & 0 & 1\\\\\n",
       "\t897698 & 1 & 1 & 0 & 0 & 0 & 0\\\\\n",
       "\t898482 & 0 & 0 & 0 & 0 & 0 & 0\\\\\n",
       "\t900501 & 1 & 0 & 0 & 0 & 0 & 0\\\\\n",
       "\\end{tabular}\n"
      ],
      "text/markdown": [
       "\n",
       "| <!--/--> | 01-abbastanza_risparmi | 02-parole_incatenate | 03-u_inscatolate | 04-nave_piu_lunga | 05-tra_parentesi | 06-distesa_di_piramidi | \n",
       "|---|---|---|---|---|---|---|---|---|---|---|---|---|---|---|---|---|---|---|---|---|---|---|---|---|---|---|---|---|---|---|---|---|---|---|---|---|\n",
       "| 840537 | 1 | 1 | 1 | 0 | 0 | 0 | \n",
       "| 871370 | 0 | 0 | 0 | 0 | 0 | 0 | \n",
       "| 871392 | 1 | 1 | 1 | 1 | 0 | 0 | \n",
       "| 871599 | 0 | 0 | 0 | 0 | 0 | 0 | \n",
       "| 871631 | 1 | 1 | 1 | 0 | 0 | 0 | \n",
       "| 871769 | 1 | 1 | 0 | 0 | 0 | 0 | \n",
       "| 872010 | 1 | 1 | 1 | 1 | 0 | 0 | \n",
       "| 872868 | 0 | 0 | 0 | 0 | 0 | 0 | \n",
       "| 872974 | 1 | 1 | 0 | 0 | 1 | 0 | \n",
       "| 873489 | 1 | 1 | 1 | 0 | 1 | 0 | \n",
       "| 874113 | 1 | 1 | 1 | 0 | 1 | 0 | \n",
       "| 885299 | 1 | 1 | 1 | 1 | 1 | 0 | \n",
       "| 885309 | 1 | 1 | 1 | 0 | 0 | 0 | \n",
       "| 885432 | 1 | 1 | 1 | 0 | 0 | 0 | \n",
       "| 885499 | 1 | 1 | 1 | 1 | 1 | 1 | \n",
       "| 885552 | 1 | 1 | 1 | 0 | 0 | 0 | \n",
       "| 885620 | 1 | 1 | 1 | 0 | 0 | 1 | \n",
       "| 885691 | 1 | 0 | 0 | 0 | 0 | 0 | \n",
       "| 885698 | 1 | 1 | 1 | 0 | 1 | 1 | \n",
       "| 885732 | 1 | 1 | 0 | 1 | 1 | 0 | \n",
       "| 886228 | 1 | 1 | 1 | 1 | 1 | 0 | \n",
       "| 886432 | 1 | 1 | 1 | 1 | 0 | 0 | \n",
       "| 886435 | 1 | 1 | 1 | 0 | 1 | 1 | \n",
       "| 886667 | 1 | 1 | 1 | 1 | 0 | 0 | \n",
       "| 886773 | 1 | 1 | 1 | 1 | 1 | 1 | \n",
       "| 886875 | 1 | 1 | 1 | 1 | 1 | 1 | \n",
       "| 886965 | 1 | 0 | 0 | 0 | 0 | 0 | \n",
       "| 891304 | 1 | 1 | 0 | 0 | 0 | 0 | \n",
       "| 891330 | 1 | 1 | 1 | 0 | 0 | 0 | \n",
       "| 892429 | 0 | 0 | 0 | 0 | 0 | 0 | \n",
       "| 893046 | 0 | 0 | 0 | 0 | 0 | 0 | \n",
       "| 895012 | 1 | 1 | 1 | 0 | 1 | 0 | \n",
       "| 895632 | 0 | 0 | 0 | 0 | 0 | 0 | \n",
       "| 895687 | 1 | 1 | 1 | 0 | 0 | 1 | \n",
       "| 897698 | 1 | 1 | 0 | 0 | 0 | 0 | \n",
       "| 898482 | 0 | 0 | 0 | 0 | 0 | 0 | \n",
       "| 900501 | 1 | 0 | 0 | 0 | 0 | 0 | \n",
       "\n",
       "\n"
      ],
      "text/plain": [
       "        exercises\n",
       "uids     01-abbastanza_risparmi 02-parole_incatenate 03-u_inscatolate\n",
       "  840537 1                      1                    1               \n",
       "  871370 0                      0                    0               \n",
       "  871392 1                      1                    1               \n",
       "  871599 0                      0                    0               \n",
       "  871631 1                      1                    1               \n",
       "  871769 1                      1                    0               \n",
       "  872010 1                      1                    1               \n",
       "  872868 0                      0                    0               \n",
       "  872974 1                      1                    0               \n",
       "  873489 1                      1                    1               \n",
       "  874113 1                      1                    1               \n",
       "  885299 1                      1                    1               \n",
       "  885309 1                      1                    1               \n",
       "  885432 1                      1                    1               \n",
       "  885499 1                      1                    1               \n",
       "  885552 1                      1                    1               \n",
       "  885620 1                      1                    1               \n",
       "  885691 1                      0                    0               \n",
       "  885698 1                      1                    1               \n",
       "  885732 1                      1                    0               \n",
       "  886228 1                      1                    1               \n",
       "  886432 1                      1                    1               \n",
       "  886435 1                      1                    1               \n",
       "  886667 1                      1                    1               \n",
       "  886773 1                      1                    1               \n",
       "  886875 1                      1                    1               \n",
       "  886965 1                      0                    0               \n",
       "  891304 1                      1                    0               \n",
       "  891330 1                      1                    1               \n",
       "  892429 0                      0                    0               \n",
       "  893046 0                      0                    0               \n",
       "  895012 1                      1                    1               \n",
       "  895632 0                      0                    0               \n",
       "  895687 1                      1                    1               \n",
       "  897698 1                      1                    0               \n",
       "  898482 0                      0                    0               \n",
       "  900501 1                      0                    0               \n",
       "        exercises\n",
       "uids     04-nave_piu_lunga 05-tra_parentesi 06-distesa_di_piramidi\n",
       "  840537 0                 0                0                     \n",
       "  871370 0                 0                0                     \n",
       "  871392 1                 0                0                     \n",
       "  871599 0                 0                0                     \n",
       "  871631 0                 0                0                     \n",
       "  871769 0                 0                0                     \n",
       "  872010 1                 0                0                     \n",
       "  872868 0                 0                0                     \n",
       "  872974 0                 1                0                     \n",
       "  873489 0                 1                0                     \n",
       "  874113 0                 1                0                     \n",
       "  885299 1                 1                0                     \n",
       "  885309 0                 0                0                     \n",
       "  885432 0                 0                0                     \n",
       "  885499 1                 1                1                     \n",
       "  885552 0                 0                0                     \n",
       "  885620 0                 0                1                     \n",
       "  885691 0                 0                0                     \n",
       "  885698 0                 1                1                     \n",
       "  885732 1                 1                0                     \n",
       "  886228 1                 1                0                     \n",
       "  886432 1                 0                0                     \n",
       "  886435 0                 1                1                     \n",
       "  886667 1                 0                0                     \n",
       "  886773 1                 1                1                     \n",
       "  886875 1                 1                1                     \n",
       "  886965 0                 0                0                     \n",
       "  891304 0                 0                0                     \n",
       "  891330 0                 0                0                     \n",
       "  892429 0                 0                0                     \n",
       "  893046 0                 0                0                     \n",
       "  895012 0                 1                0                     \n",
       "  895632 0                 0                0                     \n",
       "  895687 0                 0                1                     \n",
       "  897698 0                 0                0                     \n",
       "  898482 0                 0                0                     \n",
       "  900501 0                 0                0                     "
      ]
     },
     "metadata": {},
     "output_type": "display_data"
    },
    {
     "name": "stdout",
     "output_type": "stream",
     "text": [
      "La stima delle difficoltà rileva anche in questo caso problemi di convergenza anche se in misura minore rispetto \n",
      "al precedente caso, ciò è visibile anche da una minore uniformità dei risultati"
     ]
    },
    {
     "name": "stderr",
     "output_type": "stream",
     "text": [
      "Warning message:\n",
      "\"glm.fit: algorithm did not converge\"Warning message:\n",
      "\"glm.fit: fitted probabilities numerically 0 or 1 occurred\"Warning message:\n",
      "\"glm.fit: algorithm did not converge\"Warning message:\n",
      "\"glm.fit: fitted probabilities numerically 0 or 1 occurred\""
     ]
    },
    {
     "name": "stdout",
     "output_type": "stream",
     "text": [
      "\n",
      "In questo caso l'uso della funzione regulateRange non è necessario"
     ]
    },
    {
     "data": {
      "text/html": [
       "<ol class=list-inline>\n",
       "\t<li>-2.08321033411897</li>\n",
       "\t<li>-1.52773066934884</li>\n",
       "\t<li>-0.666085894155964</li>\n",
       "\t<li>1.28718541819408</li>\n",
       "\t<li>1.01170307144985</li>\n",
       "\t<li>1.76527779034149</li>\n",
       "</ol>\n"
      ],
      "text/latex": [
       "\\begin{enumerate*}\n",
       "\\item -2.08321033411897\n",
       "\\item -1.52773066934884\n",
       "\\item -0.666085894155964\n",
       "\\item 1.28718541819408\n",
       "\\item 1.01170307144985\n",
       "\\item 1.76527779034149\n",
       "\\end{enumerate*}\n"
      ],
      "text/markdown": [
       "1. -2.08321033411897\n",
       "2. -1.52773066934884\n",
       "3. -0.666085894155964\n",
       "4. 1.28718541819408\n",
       "5. 1.01170307144985\n",
       "6. 1.76527779034149\n",
       "\n",
       "\n"
      ],
      "text/plain": [
       "[1] -2.0832103 -1.5277307 -0.6660859  1.2871854  1.0117031  1.7652778"
      ]
     },
     "metadata": {},
     "output_type": "display_data"
    },
    {
     "name": "stdout",
     "output_type": "stream",
     "text": [
      "\n",
      "Anche ora possiamo notare un andamento crescente delle difficoltà, potremmo presuppore che il professore \n",
      "assegni gli esercizi in esame mostrando prima quelli più semplici e veloci da superare e lasciando per ultimi quelli \n",
      "che richiedo più tempo e impegno"
     ]
    },
    {
     "data": {
      "image/png": "[encoded data removed]",
      "text/plain": [
       "Plot with title \"Esame del 170216\""
      ]
     },
     "metadata": {},
     "output_type": "display_data"
    }
   ],
   "source": [
    "numSessions <- 2\n",
    "session <- sessions[numSessions]\n",
    "evalWithTestCase <- evaluateSource(session, vote = \"testCase\", percTestCaseOk = 0.5)\n",
    "\n",
    "evalWithTestCase\n",
    "nStud <- nrow(evalWithTestCase)\n",
    "\n",
    "cat(\"La stima delle difficoltà rileva anche in questo caso problemi di convergenza anche se in misura minore rispetto \n",
    "al precedente caso, ciò è visibile anche da una minore uniformità dei risultati\")\n",
    "\n",
    "diffTestCase <- estimateDifficultiesDichotOneDiscrim(bootstrapping(evalWithTestCase, n = bootstrapVal * nStud))\n",
    "\n",
    "cat(\"\\nIn questo caso l'uso della funzione regulateRange non è necessario\")\n",
    "\n",
    "diffTestCase\n",
    "\n",
    "cat(\"\\nAnche ora possiamo notare un andamento crescente delle difficoltà, potremmo presuppore che il professore \n",
    "assegni gli esercizi in esame mostrando prima quelli più semplici e veloci da superare e lasciando per ultimi quelli \n",
    "che richiedo più tempo e impegno\")\n",
    "\n",
    "plotDifficultiesDichot(evalWithTestCase, diffTestCase, name = paste(\"Esame del\",session))"
   ]
  },
  {
   "cell_type": "code",
   "execution_count": 68,
   "metadata": {},
   "outputs": [
    {
     "data": {
      "text/html": [
       "<table>\n",
       "<thead><tr><th></th><th scope=col>01-parole_graziose</th><th scope=col>02-pipe</th><th scope=col>03-mat_max_min</th><th scope=col>04-jugs</th><th scope=col>05-prodotto_di_matrici</th><th scope=col>06-calcolatrice_senza_tasti</th></tr></thead>\n",
       "<tbody>\n",
       "\t<tr><th scope=row>859927</th><td>1</td><td>0</td><td>1</td><td>0</td><td>0</td><td>0</td></tr>\n",
       "\t<tr><th scope=row>871370</th><td>1</td><td>0</td><td>0</td><td>0</td><td>0</td><td>0</td></tr>\n",
       "\t<tr><th scope=row>871599</th><td>1</td><td>0</td><td>1</td><td>0</td><td>0</td><td>0</td></tr>\n",
       "\t<tr><th scope=row>871740</th><td>1</td><td>0</td><td>1</td><td>0</td><td>0</td><td>0</td></tr>\n",
       "\t<tr><th scope=row>872974</th><td>1</td><td>0</td><td>1</td><td>0</td><td>0</td><td>0</td></tr>\n",
       "\t<tr><th scope=row>874343</th><td>1</td><td>0</td><td>1</td><td>1</td><td>0</td><td>1</td></tr>\n",
       "\t<tr><th scope=row>885552</th><td>1</td><td>0</td><td>1</td><td>1</td><td>0</td><td>0</td></tr>\n",
       "\t<tr><th scope=row>885732</th><td>1</td><td>0</td><td>1</td><td>1</td><td>0</td><td>0</td></tr>\n",
       "\t<tr><th scope=row>886228</th><td>1</td><td>0</td><td>0</td><td>0</td><td>0</td><td>1</td></tr>\n",
       "\t<tr><th scope=row>886435</th><td>1</td><td>0</td><td>1</td><td>1</td><td>1</td><td>0</td></tr>\n",
       "\t<tr><th scope=row>895632</th><td>0</td><td>0</td><td>0</td><td>0</td><td>0</td><td>0</td></tr>\n",
       "\t<tr><th scope=row>895740</th><td>0</td><td>0</td><td>0</td><td>0</td><td>0</td><td>0</td></tr>\n",
       "</tbody>\n",
       "</table>\n"
      ],
      "text/latex": [
       "\\begin{tabular}{r|llllll}\n",
       "  & 01-parole\\_graziose & 02-pipe & 03-mat\\_max\\_min & 04-jugs & 05-prodotto\\_di\\_matrici & 06-calcolatrice\\_senza\\_tasti\\\\\n",
       "\\hline\n",
       "\t859927 & 1 & 0 & 1 & 0 & 0 & 0\\\\\n",
       "\t871370 & 1 & 0 & 0 & 0 & 0 & 0\\\\\n",
       "\t871599 & 1 & 0 & 1 & 0 & 0 & 0\\\\\n",
       "\t871740 & 1 & 0 & 1 & 0 & 0 & 0\\\\\n",
       "\t872974 & 1 & 0 & 1 & 0 & 0 & 0\\\\\n",
       "\t874343 & 1 & 0 & 1 & 1 & 0 & 1\\\\\n",
       "\t885552 & 1 & 0 & 1 & 1 & 0 & 0\\\\\n",
       "\t885732 & 1 & 0 & 1 & 1 & 0 & 0\\\\\n",
       "\t886228 & 1 & 0 & 0 & 0 & 0 & 1\\\\\n",
       "\t886435 & 1 & 0 & 1 & 1 & 1 & 0\\\\\n",
       "\t895632 & 0 & 0 & 0 & 0 & 0 & 0\\\\\n",
       "\t895740 & 0 & 0 & 0 & 0 & 0 & 0\\\\\n",
       "\\end{tabular}\n"
      ],
      "text/markdown": [
       "\n",
       "| <!--/--> | 01-parole_graziose | 02-pipe | 03-mat_max_min | 04-jugs | 05-prodotto_di_matrici | 06-calcolatrice_senza_tasti | \n",
       "|---|---|---|---|---|---|---|---|---|---|---|---|\n",
       "| 859927 | 1 | 0 | 1 | 0 | 0 | 0 | \n",
       "| 871370 | 1 | 0 | 0 | 0 | 0 | 0 | \n",
       "| 871599 | 1 | 0 | 1 | 0 | 0 | 0 | \n",
       "| 871740 | 1 | 0 | 1 | 0 | 0 | 0 | \n",
       "| 872974 | 1 | 0 | 1 | 0 | 0 | 0 | \n",
       "| 874343 | 1 | 0 | 1 | 1 | 0 | 1 | \n",
       "| 885552 | 1 | 0 | 1 | 1 | 0 | 0 | \n",
       "| 885732 | 1 | 0 | 1 | 1 | 0 | 0 | \n",
       "| 886228 | 1 | 0 | 0 | 0 | 0 | 1 | \n",
       "| 886435 | 1 | 0 | 1 | 1 | 1 | 0 | \n",
       "| 895632 | 0 | 0 | 0 | 0 | 0 | 0 | \n",
       "| 895740 | 0 | 0 | 0 | 0 | 0 | 0 | \n",
       "\n",
       "\n"
      ],
      "text/plain": [
       "        exercises\n",
       "uids     01-parole_graziose 02-pipe 03-mat_max_min 04-jugs\n",
       "  859927 1                  0       1              0      \n",
       "  871370 1                  0       0              0      \n",
       "  871599 1                  0       1              0      \n",
       "  871740 1                  0       1              0      \n",
       "  872974 1                  0       1              0      \n",
       "  874343 1                  0       1              1      \n",
       "  885552 1                  0       1              1      \n",
       "  885732 1                  0       1              1      \n",
       "  886228 1                  0       0              0      \n",
       "  886435 1                  0       1              1      \n",
       "  895632 0                  0       0              0      \n",
       "  895740 0                  0       0              0      \n",
       "        exercises\n",
       "uids     05-prodotto_di_matrici 06-calcolatrice_senza_tasti\n",
       "  859927 0                      0                          \n",
       "  871370 0                      0                          \n",
       "  871599 0                      0                          \n",
       "  871740 0                      0                          \n",
       "  872974 0                      0                          \n",
       "  874343 0                      1                          \n",
       "  885552 0                      0                          \n",
       "  885732 0                      0                          \n",
       "  886228 0                      1                          \n",
       "  886435 1                      0                          \n",
       "  895632 0                      0                          \n",
       "  895740 0                      0                          "
      ]
     },
     "metadata": {},
     "output_type": "display_data"
    },
    {
     "name": "stdout",
     "output_type": "stream",
     "text": [
      "Dall'osservazione della tabella dei risultati, imponendo una soglia di superamento degli esercizi pari ad \n",
      "almeno il 50% dei test case, pare evidente l'impossibilità di giungere ad una convergenza per l'algoritmo di stima, \n",
      "in quanto il secondo esercizio non è stato superato da nemmeno uno studente, il penultimo da solo uno e l'ultimo da \n",
      "due studenti"
     ]
    },
    {
     "name": "stderr",
     "output_type": "stream",
     "text": [
      "Warning message:\n",
      "\"glm.fit: algorithm did not converge\"Warning message:\n",
      "\"glm.fit: fitted probabilities numerically 0 or 1 occurred\"Warning message:\n",
      "\"glm.fit: algorithm did not converge\"Warning message:\n",
      "\"glm.fit: fitted probabilities numerically 0 or 1 occurred\"Warning message:\n",
      "\"glm.fit: algorithm did not converge\"Warning message:\n",
      "\"glm.fit: fitted probabilities numerically 0 or 1 occurred\"Warning message:\n",
      "\"glm.fit: fitted probabilities numerically 0 or 1 occurred\""
     ]
    },
    {
     "name": "stdout",
     "output_type": "stream",
     "text": [
      "\n",
      "In questo caso l'uso della funzione regulateRange torna necessaria"
     ]
    },
    {
     "data": {
      "text/html": [
       "<ol class=list-inline>\n",
       "\t<li>-1.95145821280847</li>\n",
       "\t<li>4</li>\n",
       "\t<li>-0.805280337789515</li>\n",
       "\t<li>0.861138771761066</li>\n",
       "\t<li>2.83409841049477</li>\n",
       "\t<li>1.62943539882514</li>\n",
       "</ol>\n"
      ],
      "text/latex": [
       "\\begin{enumerate*}\n",
       "\\item -1.95145821280847\n",
       "\\item 4\n",
       "\\item -0.805280337789515\n",
       "\\item 0.861138771761066\n",
       "\\item 2.83409841049477\n",
       "\\item 1.62943539882514\n",
       "\\end{enumerate*}\n"
      ],
      "text/markdown": [
       "1. -1.95145821280847\n",
       "2. 4\n",
       "3. -0.805280337789515\n",
       "4. 0.861138771761066\n",
       "5. 2.83409841049477\n",
       "6. 1.62943539882514\n",
       "\n",
       "\n"
      ],
      "text/plain": [
       "[1] -1.9514582  4.0000000 -0.8052803  0.8611388  2.8340984  1.6294354"
      ]
     },
     "metadata": {},
     "output_type": "display_data"
    },
    {
     "name": "stdout",
     "output_type": "stream",
     "text": [
      "\n",
      "A causa della strana distribuzione dei dati non siamo in grado di affermare se la difficoltà degli esercizi\n",
      "segua ancora un andamento crescente con il numero dell'esercizio"
     ]
    },
    {
     "data": {
      "image/png": "[encoded data removed]",
      "text/plain": [
       "Plot with title \"Esame del 170613\""
      ]
     },
     "metadata": {},
     "output_type": "display_data"
    }
   ],
   "source": [
    "numSessions <- 3\n",
    "session <- sessions[numSessions]\n",
    "evalWithTestCase <- evaluateSource(session, vote = \"testCase\", percTestCaseOk = 0.5)\n",
    "\n",
    "evalWithTestCase\n",
    "nStud <- nrow(evalWithTestCase)\n",
    "\n",
    "cat(\"Dall'osservazione della tabella dei risultati, imponendo una soglia di superamento degli esercizi pari ad \n",
    "almeno il 50% dei test case, pare evidente l'impossibilità di giungere ad una convergenza per l'algoritmo di stima, \n",
    "in quanto il secondo esercizio non è stato superato da nemmeno uno studente, il penultimo da solo uno e l'ultimo da \n",
    "due studenti\")\n",
    "\n",
    "diffTestCase <- estimateDifficultiesDichotOneDiscrim(bootstrapping(evalWithTestCase, n = bootstrapVal * nStud))\n",
    "\n",
    "cat(\"\\nIn questo caso l'uso della funzione regulateRange torna necessaria\")\n",
    "\n",
    "diffTestCase <- regulateRange(diffTestCase, min = -4, max = 4)\n",
    "\n",
    "diffTestCase \n",
    "\n",
    "cat(\"\\nA causa della strana distribuzione dei dati non siamo in grado di affermare se la difficoltà degli esercizi\n",
    "segua ancora un andamento crescente con il numero dell'esercizio\")\n",
    "\n",
    "plotDifficultiesDichot(evalWithTestCase, diffTestCase, name = paste(\"Esame del\",session))"
   ]
  },
  {
   "cell_type": "code",
   "execution_count": 72,
   "metadata": {},
   "outputs": [
    {
     "data": {
      "text/html": [
       "<table>\n",
       "<thead><tr><th></th><th scope=col>01-fizzbuzz</th><th scope=col>02-disegna_spirale</th><th scope=col>03-saltapicchio</th><th scope=col>04-condensa_parole</th><th scope=col>05-numeri_scala</th><th scope=col>06-nave_spaziale</th></tr></thead>\n",
       "<tbody>\n",
       "\t<tr><th scope=row>828165</th><td>1</td><td>0</td><td>1</td><td>0</td><td>0</td><td>0</td></tr>\n",
       "\t<tr><th scope=row>830693</th><td>1</td><td>0</td><td>1</td><td>0</td><td>1</td><td>0</td></tr>\n",
       "\t<tr><th scope=row>859927</th><td>1</td><td>0</td><td>1</td><td>0</td><td>1</td><td>0</td></tr>\n",
       "\t<tr><th scope=row>871370</th><td>1</td><td>0</td><td>1</td><td>0</td><td>0</td><td>0</td></tr>\n",
       "\t<tr><th scope=row>871599</th><td>1</td><td>0</td><td>1</td><td>0</td><td>0</td><td>0</td></tr>\n",
       "\t<tr><th scope=row>873523</th><td>1</td><td>0</td><td>1</td><td>0</td><td>0</td><td>0</td></tr>\n",
       "\t<tr><th scope=row>874225</th><td>0</td><td>0</td><td>0</td><td>0</td><td>0</td><td>0</td></tr>\n",
       "\t<tr><th scope=row>886228</th><td>1</td><td>0</td><td>1</td><td>0</td><td>0</td><td>0</td></tr>\n",
       "\t<tr><th scope=row>895740</th><td>1</td><td>0</td><td>1</td><td>0</td><td>0</td><td>0</td></tr>\n",
       "\t<tr><th scope=row>897698</th><td>1</td><td>0</td><td>1</td><td>0</td><td>0</td><td>0</td></tr>\n",
       "</tbody>\n",
       "</table>\n"
      ],
      "text/latex": [
       "\\begin{tabular}{r|llllll}\n",
       "  & 01-fizzbuzz & 02-disegna\\_spirale & 03-saltapicchio & 04-condensa\\_parole & 05-numeri\\_scala & 06-nave\\_spaziale\\\\\n",
       "\\hline\n",
       "\t828165 & 1 & 0 & 1 & 0 & 0 & 0\\\\\n",
       "\t830693 & 1 & 0 & 1 & 0 & 1 & 0\\\\\n",
       "\t859927 & 1 & 0 & 1 & 0 & 1 & 0\\\\\n",
       "\t871370 & 1 & 0 & 1 & 0 & 0 & 0\\\\\n",
       "\t871599 & 1 & 0 & 1 & 0 & 0 & 0\\\\\n",
       "\t873523 & 1 & 0 & 1 & 0 & 0 & 0\\\\\n",
       "\t874225 & 0 & 0 & 0 & 0 & 0 & 0\\\\\n",
       "\t886228 & 1 & 0 & 1 & 0 & 0 & 0\\\\\n",
       "\t895740 & 1 & 0 & 1 & 0 & 0 & 0\\\\\n",
       "\t897698 & 1 & 0 & 1 & 0 & 0 & 0\\\\\n",
       "\\end{tabular}\n"
      ],
      "text/markdown": [
       "\n",
       "| <!--/--> | 01-fizzbuzz | 02-disegna_spirale | 03-saltapicchio | 04-condensa_parole | 05-numeri_scala | 06-nave_spaziale | \n",
       "|---|---|---|---|---|---|---|---|---|---|\n",
       "| 828165 | 1 | 0 | 1 | 0 | 0 | 0 | \n",
       "| 830693 | 1 | 0 | 1 | 0 | 1 | 0 | \n",
       "| 859927 | 1 | 0 | 1 | 0 | 1 | 0 | \n",
       "| 871370 | 1 | 0 | 1 | 0 | 0 | 0 | \n",
       "| 871599 | 1 | 0 | 1 | 0 | 0 | 0 | \n",
       "| 873523 | 1 | 0 | 1 | 0 | 0 | 0 | \n",
       "| 874225 | 0 | 0 | 0 | 0 | 0 | 0 | \n",
       "| 886228 | 1 | 0 | 1 | 0 | 0 | 0 | \n",
       "| 895740 | 1 | 0 | 1 | 0 | 0 | 0 | \n",
       "| 897698 | 1 | 0 | 1 | 0 | 0 | 0 | \n",
       "\n",
       "\n"
      ],
      "text/plain": [
       "        exercises\n",
       "uids     01-fizzbuzz 02-disegna_spirale 03-saltapicchio 04-condensa_parole\n",
       "  828165 1           0                  1               0                 \n",
       "  830693 1           0                  1               0                 \n",
       "  859927 1           0                  1               0                 \n",
       "  871370 1           0                  1               0                 \n",
       "  871599 1           0                  1               0                 \n",
       "  873523 1           0                  1               0                 \n",
       "  874225 0           0                  0               0                 \n",
       "  886228 1           0                  1               0                 \n",
       "  895740 1           0                  1               0                 \n",
       "  897698 1           0                  1               0                 \n",
       "        exercises\n",
       "uids     05-numeri_scala 06-nave_spaziale\n",
       "  828165 0               0               \n",
       "  830693 1               0               \n",
       "  859927 1               0               \n",
       "  871370 0               0               \n",
       "  871599 0               0               \n",
       "  873523 0               0               \n",
       "  874225 0               0               \n",
       "  886228 0               0               \n",
       "  895740 0               0               \n",
       "  897698 0               0               "
      ]
     },
     "metadata": {},
     "output_type": "display_data"
    },
    {
     "name": "stdout",
     "output_type": "stream",
     "text": [
      "Similmente al caso precedente i dati presentano ben 3 colonne totalmente uniformi di 0, causando nuovamente una mancata\n",
      "convergenza dei dati"
     ]
    },
    {
     "name": "stderr",
     "output_type": "stream",
     "text": [
      "Warning message:\n",
      "\"glm.fit: algorithm did not converge\"Warning message:\n",
      "\"glm.fit: fitted probabilities numerically 0 or 1 occurred\"Warning message:\n",
      "\"glm.fit: algorithm did not converge\"Warning message:\n",
      "\"glm.fit: fitted probabilities numerically 0 or 1 occurred\"Warning message:\n",
      "\"glm.fit: algorithm did not converge\"Warning message:\n",
      "\"glm.fit: fitted probabilities numerically 0 or 1 occurred\""
     ]
    },
    {
     "name": "stdout",
     "output_type": "stream",
     "text": [
      "\n",
      "La funzione regulateRange è necessaria"
     ]
    },
    {
     "data": {
      "text/html": [
       "<ol class=list-inline>\n",
       "\t<li>-3.03356039689699</li>\n",
       "\t<li>4</li>\n",
       "\t<li>-3.03356039689699</li>\n",
       "\t<li>4</li>\n",
       "\t<li>1.89880180851826</li>\n",
       "\t<li>4</li>\n",
       "</ol>\n"
      ],
      "text/latex": [
       "\\begin{enumerate*}\n",
       "\\item -3.03356039689699\n",
       "\\item 4\n",
       "\\item -3.03356039689699\n",
       "\\item 4\n",
       "\\item 1.89880180851826\n",
       "\\item 4\n",
       "\\end{enumerate*}\n"
      ],
      "text/markdown": [
       "1. -3.03356039689699\n",
       "2. 4\n",
       "3. -3.03356039689699\n",
       "4. 4\n",
       "5. 1.89880180851826\n",
       "6. 4\n",
       "\n",
       "\n"
      ],
      "text/plain": [
       "[1] -3.033560  4.000000 -3.033560  4.000000  1.898802  4.000000"
      ]
     },
     "metadata": {},
     "output_type": "display_data"
    },
    {
     "data": {
      "image/png": "[encoded data removed]",
      "text/plain": [
       "Plot with title \"Esame del 170711\""
      ]
     },
     "metadata": {},
     "output_type": "display_data"
    }
   ],
   "source": [
    "numSessions <- 4\n",
    "session <- sessions[numSessions]\n",
    "evalWithTestCase <- evaluateSource(session, vote = \"testCase\", percTestCaseOk = 0.5)\n",
    "\n",
    "evalWithTestCase\n",
    "nStud <- nrow(evalWithTestCase)\n",
    "\n",
    "cat(\"Similmente al caso precedente i dati presentano ben 3 colonne totalmente uniformi di 0, causando nuovamente una mancata\n",
    "convergenza dei dati\")\n",
    "\n",
    "diffTestCase <- estimateDifficultiesDichotOneDiscrim(bootstrapping(evalWithTestCase, n = bootstrapVal * nStud))\n",
    "\n",
    "cat(\"\\nLa funzione regulateRange è necessaria\")\n",
    "\n",
    "diffTestCase <- regulateRange(diffTestCase, min = -4, max = 4)\n",
    "\n",
    "diffTestCase \n",
    "\n",
    "plotDifficultiesDichot(evalWithTestCase, diffTestCase, name = paste(\"Esame del\",session))"
   ]
  },
  {
   "cell_type": "code",
   "execution_count": 73,
   "metadata": {},
   "outputs": [
    {
     "name": "stdout",
     "output_type": "stream",
     "text": [
      "In quest'ultimo caso di esame ho ritenuto superfluo il tentativo di stimare le difficoltà a causa nuovamente della \n",
      "presenza di 3 colonne totalmente assenti di esercizi superati e per la presenza di solamente 4 studenti, anche applicando\n",
      "il bootstrapping, e ottenendo centinaia di elementi, i soggetti rimarrebbere ugualmente 4 e quindi troppo pochi per poter \n",
      "ottenere stime corrette"
     ]
    },
    {
     "data": {
      "text/html": [
       "<table>\n",
       "<thead><tr><th></th><th scope=col>01-estate_torrida</th><th scope=col>02-cifra_piu_frequente</th><th scope=col>03-disegna_denti_di_sega</th><th scope=col>04-numeri_fortunati</th><th scope=col>05-automa_cellulare</th><th scope=col>06-discesa_rapida</th></tr></thead>\n",
       "<tbody>\n",
       "\t<tr><th scope=row>830693</th><td>1</td><td>1</td><td>1</td><td>0</td><td>0</td><td>0</td></tr>\n",
       "\t<tr><th scope=row>886228</th><td>1</td><td>1</td><td>1</td><td>0</td><td>0</td><td>0</td></tr>\n",
       "\t<tr><th scope=row>886965</th><td>0</td><td>0</td><td>0</td><td>0</td><td>0</td><td>0</td></tr>\n",
       "\t<tr><th scope=row>894114</th><td>1</td><td>1</td><td>1</td><td>0</td><td>0</td><td>0</td></tr>\n",
       "</tbody>\n",
       "</table>\n"
      ],
      "text/latex": [
       "\\begin{tabular}{r|llllll}\n",
       "  & 01-estate\\_torrida & 02-cifra\\_piu\\_frequente & 03-disegna\\_denti\\_di\\_sega & 04-numeri\\_fortunati & 05-automa\\_cellulare & 06-discesa\\_rapida\\\\\n",
       "\\hline\n",
       "\t830693 & 1 & 1 & 1 & 0 & 0 & 0\\\\\n",
       "\t886228 & 1 & 1 & 1 & 0 & 0 & 0\\\\\n",
       "\t886965 & 0 & 0 & 0 & 0 & 0 & 0\\\\\n",
       "\t894114 & 1 & 1 & 1 & 0 & 0 & 0\\\\\n",
       "\\end{tabular}\n"
      ],
      "text/markdown": [
       "\n",
       "| <!--/--> | 01-estate_torrida | 02-cifra_piu_frequente | 03-disegna_denti_di_sega | 04-numeri_fortunati | 05-automa_cellulare | 06-discesa_rapida | \n",
       "|---|---|---|---|\n",
       "| 830693 | 1 | 1 | 1 | 0 | 0 | 0 | \n",
       "| 886228 | 1 | 1 | 1 | 0 | 0 | 0 | \n",
       "| 886965 | 0 | 0 | 0 | 0 | 0 | 0 | \n",
       "| 894114 | 1 | 1 | 1 | 0 | 0 | 0 | \n",
       "\n",
       "\n"
      ],
      "text/plain": [
       "        exercises\n",
       "uids     01-estate_torrida 02-cifra_piu_frequente 03-disegna_denti_di_sega\n",
       "  830693 1                 1                      1                       \n",
       "  886228 1                 1                      1                       \n",
       "  886965 0                 0                      0                       \n",
       "  894114 1                 1                      1                       \n",
       "        exercises\n",
       "uids     04-numeri_fortunati 05-automa_cellulare 06-discesa_rapida\n",
       "  830693 0                   0                   0                \n",
       "  886228 0                   0                   0                \n",
       "  886965 0                   0                   0                \n",
       "  894114 0                   0                   0                "
      ]
     },
     "metadata": {},
     "output_type": "display_data"
    }
   ],
   "source": [
    "numSessions <- 5\n",
    "session <- sessions[numSessions]\n",
    "\n",
    "evalWithTestCase <- evaluateSource(session, vote = \"testCase\", percTestCaseOk = 0.5)\n",
    "\n",
    "cat(\"In quest'ultimo caso di esame ho ritenuto superfluo il tentativo di stimare le difficoltà a causa nuovamente della \n",
    "presenza di 3 colonne totalmente assenti di esercizi superati e per la presenza di solamente 4 studenti, anche applicando\n",
    "il bootstrapping, e ottenendo centinaia di elementi, i soggetti rimarrebbere ugualmente 4 e quindi troppo pochi per poter \n",
    "ottenere stime corrette\")\n",
    "\n",
    "evalWithTestCase"
   ]
  },
  {
   "cell_type": "code",
   "execution_count": 55,
   "metadata": {},
   "outputs": [
    {
     "name": "stdout",
     "output_type": "stream",
     "text": [
      "Visualizzo e confronto i grafici relativi alle difficoltà stimate tenendo conto: se è stato effettuato l'upload,\n",
      "se compila, se sono stati commessi meno di 2 errori di esecuzione e se almeno il 50% dei test case sono corretti\n",
      "\n",
      "L'elevato numero di studenti (46) permette di avere una buona fiducia nei dati ottenuti\n",
      "\n",
      "Dal grafico si possono trarre diverse conclusioni: \n",
      "    - le stime legate all'upload, compilazione ed errori in esecuzione coincidono quasi sempre, da ciò deduciamo che gli \n",
      "      studenti che consegnano gli esercizi lo fanno solo nel caso compilino e abbiano pochi errori di esecuzione o nessuno \n",
      "    - le difficoltà hanno un andamento crescente, quindi il professore potrebbe aver assegnato gli esercizi considerando\n",
      "      che gli studenti avrebbero dovuto impegnarsi maggiormente negli ultimi\n",
      "    - Nella fase iniziale la stima per test case si discosta abbastanza dalle altre, sovrapponendosi ad essi successivamente,\n",
      "      questo potrebbe essere indicativo del fatto che gli studenti all'inizio erano meno abili, forse a causa di spiegazioni \n",
      "      poco chiare da parte del professore"
     ]
    },
    {
     "data": {
      "image/png": "[encoded data removed]",
      "text/plain": [
       "Plot with title \"\""
      ]
     },
     "metadata": {},
     "output_type": "display_data"
    }
   ],
   "source": [
    "numSessions <- 6 \n",
    "session <- sessions[numSessions]\n",
    "\n",
    "evalWithUpload   <- evaluateSource(session, vote = \"uploaded\")\n",
    "evalWithCompiles <- evaluateSource(session, vote = \"compiles\")\n",
    "evalWithErrors   <- evaluateSource(session, vote = \"errors\", maxError = 2)\n",
    "evalWithTestCase <- evaluateSource(session, vote = \"testCase\", percTestCaseOk = 0.5)\n",
    "\n",
    "nStud <- nrow(evalWithTestCase)\n",
    "\n",
    "diffUpload   <- estimateDifficultiesDichotOneDiscrim(bootstrapping(evalWithUpload,   n = bootstrapVal * nStud))\n",
    "diffCompiles <- estimateDifficultiesDichotOneDiscrim(bootstrapping(evalWithCompiles, n = bootstrapVal * nStud))\n",
    "diffErrors   <- estimateDifficultiesDichotOneDiscrim(bootstrapping(evalWithErrors,   n = bootstrapVal * nStud))\n",
    "diffTestCase <- estimateDifficultiesDichotOneDiscrim(bootstrapping(evalWithTestCase, n = bootstrapVal * nStud))\n",
    "\n",
    "cat(\"Visualizzo e confronto i grafici relativi alle difficoltà stimate tenendo conto: se è stato effettuato l'upload,\n",
    "se compila, se sono stati commessi meno di 2 errori di esecuzione e se almeno il 50% dei test case sono corretti\")\n",
    "\n",
    "plotDifficultiesDichot(evalWithUpload, diffUpload, color = \"red\", name = session)\n",
    "par(new = TRUE)\n",
    "plotDifficultiesDichot(evalWithCompiles, diffCompiles, color = \"blue\", name = \"\")\n",
    "par(new = TRUE)\n",
    "plotDifficultiesDichot(evalWithErrors, diffErrors, color = \"green\", name = \"\")\n",
    "par(new = TRUE)\n",
    "plotDifficultiesDichot(evalWithTestCase, diffTestCase, color = \"black\", name = \"\")\n",
    "legend(1, 10, legend=c(\"Upload\", \"Compilazione\", \"Meno di 2 errori di esecuzione\", \"50% di test case corretti\"), col=c(\"red\", \"blue\", \"green\", \"black\"), lty=1, cex=1, lwd=2, pch=16)\n",
    "\n",
    "cat(\"\\n\\nL'elevato numero di studenti (46) permette di avere una buona fiducia nei dati ottenuti\")\n",
    "\n",
    "cat(\"\\n\\nDal grafico si possono trarre diverse conclusioni: \n",
    "    - le stime legate all'upload, compilazione ed errori in esecuzione coincidono quasi sempre, da ciò deduciamo che gli \n",
    "      studenti che consegnano gli esercizi lo fanno solo nel caso compilino e abbiano pochi errori di esecuzione o nessuno \n",
    "    - le difficoltà hanno un andamento crescente, quindi il professore potrebbe aver assegnato gli esercizi considerando\n",
    "      che gli studenti avrebbero dovuto impegnarsi maggiormente negli ultimi\n",
    "    - Nella fase iniziale la stima per test case si discosta abbastanza dalle altre, sovrapponendosi ad essi successivamente,\n",
    "      questo potrebbe essere indicativo del fatto che gli studenti all'inizio erano meno abili, forse a causa di spiegazioni \n",
    "      poco chiare da parte del professore\")"
   ]
  },
  {
   "cell_type": "code",
   "execution_count": 56,
   "metadata": {},
   "outputs": [
    {
     "name": "stdout",
     "output_type": "stream",
     "text": [
      "\n",
      "Anche nel laboratorio 2 si può notare una sovrapposizione tra le stime considerando la presenza di meno di 2 errori di \n",
      "esecuzione e il raggiungimento di almeno il 50% di test case corretti ma a differenza del precedente grafico questo\n",
      "non ha un andamento particolarmente crescente, anzi, è quasi sempre fisso su una difficoltà medio-alta, da ciò possiamo\n",
      "dedurre che gli studenti hanno avuto particolari difficoltà in tutto gli esercizi, scontrandoci con l'ipotesi formulata al \n",
      "punto precedente sul crescente livello di difficoltà pensato dal professore all'interno dei laboratori"
     ]
    },
    {
     "data": {
      "image/png": "[encoded data removed]",
      "text/plain": [
       "Plot with title \"\""
      ]
     },
     "metadata": {},
     "output_type": "display_data"
    }
   ],
   "source": [
    "numSessions <- 7\n",
    "session <- sessions[numSessions]\n",
    "\n",
    "evalWithErrors   <- evaluateSource(session, vote = \"errors\", maxError = 2)\n",
    "evalWithTestCase <- evaluateSource(session, vote = \"testCase\", percTestCaseOk = 0.5)\n",
    "\n",
    "nStud <- nrow(evalWithTestCase)\n",
    "\n",
    "diffErrors   <- estimateDifficultiesDichotOneDiscrim(bootstrapping(evalWithErrors,   n = bootstrapVal * nStud))\n",
    "diffTestCase <- estimateDifficultiesDichotOneDiscrim(bootstrapping(evalWithTestCase, n = bootstrapVal * nStud))\n",
    "\n",
    "plotDifficultiesDichot(evalWithErrors, diffErrors, color = \"green\", name = session)\n",
    "par(new = TRUE)\n",
    "plotDifficultiesDichot(evalWithTestCase, diffTestCase, color = \"black\", name = \"\")\n",
    "legend(1, 10, legend=c(\"Meno di 2 errori di esecuzione\", \"50% di test case corretti\"), col=c(\"green\", \"black\"), lty=1, cex=1, lwd=2, pch=16)\n",
    "\n",
    "cat(\"\\nAnche nel laboratorio 2 si può notare una sovrapposizione tra le stime considerando la presenza di meno di 2 errori di \n",
    "esecuzione e il raggiungimento di almeno il 50% di test case corretti ma a differenza del precedente grafico questo\n",
    "non ha un andamento particolarmente crescente, anzi, è quasi sempre fisso su una difficoltà medio-alta, da ciò possiamo\n",
    "dedurre che gli studenti hanno avuto particolari difficoltà in tutto gli esercizi, scontrandoci con l'ipotesi formulata al \n",
    "punto precedente sul crescente livello di difficoltà pensato dal professore all'interno dei laboratori\")"
   ]
  },
  {
   "cell_type": "code",
   "execution_count": 57,
   "metadata": {
    "scrolled": false
   },
   "outputs": [
    {
     "name": "stderr",
     "output_type": "stream",
     "text": [
      "Warning message:\n",
      "\"glm.fit: algorithm did not converge\"Warning message:\n",
      "\"glm.fit: fitted probabilities numerically 0 or 1 occurred\""
     ]
    },
    {
     "name": "stdout",
     "output_type": "stream",
     "text": [
      "\n",
      "Nel laboratorio 3 notiamo che la difficoltà stimata si assesta per tutti gli esercizi su un livello medio-basso \n",
      "con una leggere crescita verso gli ultimi"
     ]
    },
    {
     "data": {
      "image/png": "[encoded data removed]",
      "text/plain": [
       "Plot with title \"laboratorio_03\""
      ]
     },
     "metadata": {},
     "output_type": "display_data"
    }
   ],
   "source": [
    "numSessions <- 8\n",
    "session <- sessions[numSessions]\n",
    "\n",
    "evalWithTestCase <- evaluateSource(session, vote = \"testCase\", percTestCaseOk = 0.5)\n",
    "\n",
    "nStud <- nrow(evalWithTestCase)\n",
    "diffTestCase <- estimateDifficultiesDichotOneDiscrim(bootstrapping(evalWithTestCase, n = bootstrapVal * nStud))\n",
    "\n",
    "plotDifficultiesDichot(evalWithTestCase, diffTestCase, color = \"black\", name = session)\n",
    "legend(1, 10, legend=c(\"50% di test case corretti\"), col=c(\"black\"), lty=1, cex=1, lwd=2, pch=16)\n",
    "\n",
    "cat(\"\\nNel laboratorio 3 notiamo che la difficoltà stimata si assesta per tutti gli esercizi su un livello medio-basso \n",
    "con una leggere crescita verso gli ultimi\")"
   ]
  },
  {
   "cell_type": "code",
   "execution_count": 74,
   "metadata": {
    "scrolled": false
   },
   "outputs": [
    {
     "name": "stderr",
     "output_type": "stream",
     "text": [
      "Warning message:\n",
      "\"glm.fit: fitted probabilities numerically 0 or 1 occurred\""
     ]
    },
    {
     "name": "stdout",
     "output_type": "stream",
     "text": [
      "\n",
      "Nel laboratorio 4 notiamo che la difficoltà stimata ottiene un andamento molto crescente, con un primo eserzio \n",
      "di difficoltà minima, quasi impossibili da fallire, e un picco sul penultimo eserczio di difficoltà molto elevata"
     ]
    },
    {
     "data": {
      "image/png": "[encoded data removed]",
      "text/plain": [
       "Plot with title \"laboratorio_04\""
      ]
     },
     "metadata": {},
     "output_type": "display_data"
    }
   ],
   "source": [
    "numSessions <- 9\n",
    "session <- sessions[numSessions]\n",
    "\n",
    "evalWithTestCase <- evaluateSource(session, vote = \"testCase\", percTestCaseOk = 0.5)\n",
    "\n",
    "nStud <- nrow(evalWithTestCase)\n",
    "diffTestCase <- estimateDifficultiesDichotOneDiscrim(bootstrapping(evalWithTestCase, n = bootstrapVal * nStud))\n",
    "\n",
    "plotDifficultiesDichot(evalWithTestCase, diffTestCase, color = \"black\", name = session)\n",
    "legend(1, 10, legend=c(\"50% di test case corretti\"), col=c(\"black\"), lty=1, cex=1, lwd=2, pch=16)\n",
    "\n",
    "cat(\"\\nNel laboratorio 4 notiamo che la difficoltà stimata ottiene un andamento molto crescente, con un primo eserzio \n",
    "di difficoltà minima, quasi impossibili da fallire, e un picco sul penultimo eserczio di difficoltà molto elevata\")"
   ]
  },
  {
   "cell_type": "code",
   "execution_count": 37,
   "metadata": {},
   "outputs": [
    {
     "name": "stderr",
     "output_type": "stream",
     "text": [
      "Warning message:\n",
      "\"glm.fit: fitted probabilities numerically 0 or 1 occurred\""
     ]
    },
    {
     "name": "stdout",
     "output_type": "stream",
     "text": [
      "Nel laboratorio 5 notiamo che la difficoltà stimata ha un andamento costante per quasi tutti gli esercizi, con un \n",
      "leggero incremento sull'ultimo"
     ]
    },
    {
     "data": {
      "image/png": "[encoded data removed]",
      "text/plain": [
       "Plot with title \"laboratorio_05\""
      ]
     },
     "metadata": {},
     "output_type": "display_data"
    }
   ],
   "source": [
    "numSessions <- 10\n",
    "session <- sessions[numSessions]\n",
    "\n",
    "evalWithTestCase <- evaluateSource(session, vote = \"testCase\", percTestCaseOk = 0.5)\n",
    "\n",
    "nStud <- nrow(evalWithTestCase)\n",
    "diffTestCase <- estimateDifficultiesDichotOneDiscrim(bootstrapping(evalWithTestCase, n = bootstrapVal * nStud))\n",
    "\n",
    "plotDifficultiesDichot(evalWithTestCase, diffTestCase, color = \"black\", name = session)\n",
    "legend(1, 10, legend=c(\"50% di test case corretti\"), col=c(\"black\"), lty=1, cex=1, lwd=2, pch=16)\n",
    "\n",
    "cat(\"Nel laboratorio 5 notiamo che la difficoltà stimata ha un andamento costante per quasi tutti gli esercizi, con un \n",
    "leggero incremento sull'ultimo\")"
   ]
  },
  {
   "cell_type": "code",
   "execution_count": 38,
   "metadata": {},
   "outputs": [
    {
     "name": "stderr",
     "output_type": "stream",
     "text": [
      "Warning message:\n",
      "\"glm.fit: algorithm did not converge\"Warning message:\n",
      "\"glm.fit: fitted probabilities numerically 0 or 1 occurred\""
     ]
    },
    {
     "name": "stdout",
     "output_type": "stream",
     "text": [
      "\n",
      "Nel laboratorio 6 notiamo che la difficoltà stimata ha un andamento crescente con qualche diminuzione ma non abbastanza\n",
      "significativa da negare l'esistenza di un aumento di difficoltà in relazione al numero dell'esercizio"
     ]
    },
    {
     "data": {
      "image/png": "[encoded data removed]",
      "text/plain": [
       "Plot with title \"laboratorio_06\""
      ]
     },
     "metadata": {},
     "output_type": "display_data"
    }
   ],
   "source": [
    "numSessions <- 11\n",
    "session <- sessions[numSessions]\n",
    "\n",
    "evalWithTestCase <- evaluateSource(session, vote = \"testCase\", percTestCaseOk = 0.5)\n",
    "\n",
    "nStud <- nrow(evalWithTestCase)\n",
    "diffTestCase <- estimateDifficultiesDichotOneDiscrim(bootstrapping(evalWithTestCase, n = bootstrapVal * nStud))\n",
    "\n",
    "plotDifficultiesDichot(evalWithTestCase, diffTestCase, color = \"black\", name = session)\n",
    "legend(1, 10, legend=c(\"50% di test case corretti\"), col=c(\"black\"), lty=1, cex=1, lwd=2, pch=16)\n",
    "\n",
    "cat(\"\\nNel laboratorio 6 notiamo che la difficoltà stimata ha un andamento crescente con qualche diminuzione ma non abbastanza\n",
    "significativa da negare l'esistenza di un aumento di difficoltà in relazione al numero dell'esercizio\")"
   ]
  },
  {
   "cell_type": "code",
   "execution_count": 109,
   "metadata": {
    "scrolled": false
   },
   "outputs": [
    {
     "name": "stderr",
     "output_type": "stream",
     "text": [
      "Warning message:\n",
      "\"glm.fit: algorithm did not converge\"Warning message:\n",
      "\"glm.fit: fitted probabilities numerically 0 or 1 occurred\"Warning message:\n",
      "\"glm.fit: algorithm did not converge\"Warning message:\n",
      "\"glm.fit: fitted probabilities numerically 0 or 1 occurred\"Warning message:\n",
      "\"glm.fit: algorithm did not converge\"Warning message:\n",
      "\"glm.fit: fitted probabilities numerically 0 or 1 occurred\"Warning message:\n",
      "\"glm.fit: fitted probabilities numerically 0 or 1 occurred\"Warning message:\n",
      "\"glm.fit: fitted probabilities numerically 0 or 1 occurred\""
     ]
    },
    {
     "name": "stdout",
     "output_type": "stream",
     "text": [
      "Nel laboratorio 7 notiamo un incremento di difficoltà molto elevato e problemi sulla convergenza dell'algoritmo di \n",
      "stima ma che possiamo giustificare osservando il numero di persone che hanno superato gli ultimi esercizi rispetto al \n",
      "totale degli studenti"
     ]
    },
    {
     "data": {
      "text/html": [
       "<table>\n",
       "<thead><tr><th></th><th scope=col>06-crivello_di_eratostene</th><th scope=col>07-display</th><th scope=col>08-ultimo_caporale</th><th scope=col>09-pila_di_stringhe</th><th scope=col>10-due_alla</th><th scope=col>11-frazioni_continue</th><th scope=col>12-visualizza_hanoi</th></tr></thead>\n",
       "<tbody>\n",
       "\t<tr><th scope=row>756508</th><td>0</td><td>0</td><td>0</td><td>0</td><td>0</td><td>0</td><td>0</td></tr>\n",
       "\t<tr><th scope=row>858673</th><td>0</td><td>0</td><td>1</td><td>1</td><td>0</td><td>0</td><td>0</td></tr>\n",
       "\t<tr><th scope=row>885299</th><td>1</td><td>0</td><td>1</td><td>0</td><td>0</td><td>1</td><td>0</td></tr>\n",
       "\t<tr><th scope=row>885309</th><td>0</td><td>0</td><td>0</td><td>0</td><td>0</td><td>0</td><td>0</td></tr>\n",
       "\t<tr><th scope=row>885432</th><td>0</td><td>0</td><td>1</td><td>0</td><td>0</td><td>1</td><td>1</td></tr>\n",
       "\t<tr><th scope=row>885499</th><td>0</td><td>0</td><td>0</td><td>0</td><td>0</td><td>0</td><td>0</td></tr>\n",
       "\t<tr><th scope=row>885552</th><td>0</td><td>0</td><td>0</td><td>0</td><td>0</td><td>0</td><td>0</td></tr>\n",
       "\t<tr><th scope=row>885620</th><td>0</td><td>0</td><td>0</td><td>0</td><td>0</td><td>0</td><td>0</td></tr>\n",
       "\t<tr><th scope=row>885681</th><td>0</td><td>0</td><td>0</td><td>0</td><td>0</td><td>0</td><td>0</td></tr>\n",
       "\t<tr><th scope=row>885691</th><td>0</td><td>0</td><td>0</td><td>0</td><td>0</td><td>0</td><td>0</td></tr>\n",
       "\t<tr><th scope=row>885698</th><td>0</td><td>0</td><td>0</td><td>0</td><td>0</td><td>0</td><td>0</td></tr>\n",
       "\t<tr><th scope=row>885732</th><td>0</td><td>0</td><td>1</td><td>0</td><td>0</td><td>0</td><td>0</td></tr>\n",
       "\t<tr><th scope=row>885778</th><td>1</td><td>1</td><td>1</td><td>0</td><td>0</td><td>0</td><td>0</td></tr>\n",
       "\t<tr><th scope=row>886092</th><td>0</td><td>0</td><td>0</td><td>0</td><td>0</td><td>0</td><td>0</td></tr>\n",
       "\t<tr><th scope=row>886228</th><td>0</td><td>0</td><td>1</td><td>0</td><td>0</td><td>0</td><td>0</td></tr>\n",
       "\t<tr><th scope=row>886273</th><td>0</td><td>0</td><td>0</td><td>0</td><td>0</td><td>0</td><td>0</td></tr>\n",
       "\t<tr><th scope=row>886312</th><td>0</td><td>0</td><td>0</td><td>0</td><td>0</td><td>0</td><td>0</td></tr>\n",
       "\t<tr><th scope=row>886432</th><td>0</td><td>0</td><td>0</td><td>0</td><td>0</td><td>0</td><td>0</td></tr>\n",
       "\t<tr><th scope=row>886435</th><td>0</td><td>0</td><td>0</td><td>0</td><td>0</td><td>0</td><td>0</td></tr>\n",
       "\t<tr><th scope=row>886438</th><td>0</td><td>0</td><td>0</td><td>0</td><td>0</td><td>0</td><td>0</td></tr>\n",
       "\t<tr><th scope=row>886667</th><td>0</td><td>0</td><td>0</td><td>0</td><td>0</td><td>0</td><td>0</td></tr>\n",
       "\t<tr><th scope=row>886773</th><td>0</td><td>0</td><td>0</td><td>0</td><td>0</td><td>0</td><td>0</td></tr>\n",
       "\t<tr><th scope=row>886875</th><td>0</td><td>0</td><td>0</td><td>0</td><td>0</td><td>0</td><td>0</td></tr>\n",
       "\t<tr><th scope=row>886965</th><td>0</td><td>0</td><td>0</td><td>0</td><td>0</td><td>0</td><td>0</td></tr>\n",
       "\t<tr><th scope=row>891304</th><td>0</td><td>0</td><td>0</td><td>0</td><td>0</td><td>0</td><td>0</td></tr>\n",
       "\t<tr><th scope=row>891330</th><td>1</td><td>0</td><td>1</td><td>0</td><td>1</td><td>0</td><td>0</td></tr>\n",
       "\t<tr><th scope=row>893046</th><td>0</td><td>0</td><td>0</td><td>0</td><td>0</td><td>0</td><td>0</td></tr>\n",
       "\t<tr><th scope=row>894114</th><td>0</td><td>0</td><td>0</td><td>0</td><td>0</td><td>0</td><td>0</td></tr>\n",
       "\t<tr><th scope=row>895410</th><td>0</td><td>0</td><td>0</td><td>0</td><td>0</td><td>0</td><td>0</td></tr>\n",
       "\t<tr><th scope=row>895632</th><td>0</td><td>0</td><td>0</td><td>0</td><td>0</td><td>0</td><td>0</td></tr>\n",
       "\t<tr><th scope=row>895958</th><td>0</td><td>0</td><td>0</td><td>0</td><td>0</td><td>0</td><td>0</td></tr>\n",
       "\t<tr><th scope=row>897698</th><td>0</td><td>0</td><td>1</td><td>0</td><td>0</td><td>0</td><td>0</td></tr>\n",
       "\t<tr><th scope=row>898482</th><td>0</td><td>0</td><td>0</td><td>0</td><td>0</td><td>0</td><td>0</td></tr>\n",
       "\t<tr><th scope=row>899102</th><td>0</td><td>0</td><td>0</td><td>0</td><td>0</td><td>0</td><td>0</td></tr>\n",
       "\t<tr><th scope=row>900179</th><td>1</td><td>1</td><td>1</td><td>1</td><td>1</td><td>1</td><td>1</td></tr>\n",
       "</tbody>\n",
       "</table>\n"
      ],
      "text/latex": [
       "\\begin{tabular}{r|lllllll}\n",
       "  & 06-crivello\\_di\\_eratostene & 07-display & 08-ultimo\\_caporale & 09-pila\\_di\\_stringhe & 10-due\\_alla & 11-frazioni\\_continue & 12-visualizza\\_hanoi\\\\\n",
       "\\hline\n",
       "\t756508 & 0 & 0 & 0 & 0 & 0 & 0 & 0\\\\\n",
       "\t858673 & 0 & 0 & 1 & 1 & 0 & 0 & 0\\\\\n",
       "\t885299 & 1 & 0 & 1 & 0 & 0 & 1 & 0\\\\\n",
       "\t885309 & 0 & 0 & 0 & 0 & 0 & 0 & 0\\\\\n",
       "\t885432 & 0 & 0 & 1 & 0 & 0 & 1 & 1\\\\\n",
       "\t885499 & 0 & 0 & 0 & 0 & 0 & 0 & 0\\\\\n",
       "\t885552 & 0 & 0 & 0 & 0 & 0 & 0 & 0\\\\\n",
       "\t885620 & 0 & 0 & 0 & 0 & 0 & 0 & 0\\\\\n",
       "\t885681 & 0 & 0 & 0 & 0 & 0 & 0 & 0\\\\\n",
       "\t885691 & 0 & 0 & 0 & 0 & 0 & 0 & 0\\\\\n",
       "\t885698 & 0 & 0 & 0 & 0 & 0 & 0 & 0\\\\\n",
       "\t885732 & 0 & 0 & 1 & 0 & 0 & 0 & 0\\\\\n",
       "\t885778 & 1 & 1 & 1 & 0 & 0 & 0 & 0\\\\\n",
       "\t886092 & 0 & 0 & 0 & 0 & 0 & 0 & 0\\\\\n",
       "\t886228 & 0 & 0 & 1 & 0 & 0 & 0 & 0\\\\\n",
       "\t886273 & 0 & 0 & 0 & 0 & 0 & 0 & 0\\\\\n",
       "\t886312 & 0 & 0 & 0 & 0 & 0 & 0 & 0\\\\\n",
       "\t886432 & 0 & 0 & 0 & 0 & 0 & 0 & 0\\\\\n",
       "\t886435 & 0 & 0 & 0 & 0 & 0 & 0 & 0\\\\\n",
       "\t886438 & 0 & 0 & 0 & 0 & 0 & 0 & 0\\\\\n",
       "\t886667 & 0 & 0 & 0 & 0 & 0 & 0 & 0\\\\\n",
       "\t886773 & 0 & 0 & 0 & 0 & 0 & 0 & 0\\\\\n",
       "\t886875 & 0 & 0 & 0 & 0 & 0 & 0 & 0\\\\\n",
       "\t886965 & 0 & 0 & 0 & 0 & 0 & 0 & 0\\\\\n",
       "\t891304 & 0 & 0 & 0 & 0 & 0 & 0 & 0\\\\\n",
       "\t891330 & 1 & 0 & 1 & 0 & 1 & 0 & 0\\\\\n",
       "\t893046 & 0 & 0 & 0 & 0 & 0 & 0 & 0\\\\\n",
       "\t894114 & 0 & 0 & 0 & 0 & 0 & 0 & 0\\\\\n",
       "\t895410 & 0 & 0 & 0 & 0 & 0 & 0 & 0\\\\\n",
       "\t895632 & 0 & 0 & 0 & 0 & 0 & 0 & 0\\\\\n",
       "\t895958 & 0 & 0 & 0 & 0 & 0 & 0 & 0\\\\\n",
       "\t897698 & 0 & 0 & 1 & 0 & 0 & 0 & 0\\\\\n",
       "\t898482 & 0 & 0 & 0 & 0 & 0 & 0 & 0\\\\\n",
       "\t899102 & 0 & 0 & 0 & 0 & 0 & 0 & 0\\\\\n",
       "\t900179 & 1 & 1 & 1 & 1 & 1 & 1 & 1\\\\\n",
       "\\end{tabular}\n"
      ],
      "text/markdown": [
       "\n",
       "| <!--/--> | 06-crivello_di_eratostene | 07-display | 08-ultimo_caporale | 09-pila_di_stringhe | 10-due_alla | 11-frazioni_continue | 12-visualizza_hanoi | \n",
       "|---|---|---|---|---|---|---|---|---|---|---|---|---|---|---|---|---|---|---|---|---|---|---|---|---|---|---|---|---|---|---|---|---|---|---|\n",
       "| 756508 | 0 | 0 | 0 | 0 | 0 | 0 | 0 | \n",
       "| 858673 | 0 | 0 | 1 | 1 | 0 | 0 | 0 | \n",
       "| 885299 | 1 | 0 | 1 | 0 | 0 | 1 | 0 | \n",
       "| 885309 | 0 | 0 | 0 | 0 | 0 | 0 | 0 | \n",
       "| 885432 | 0 | 0 | 1 | 0 | 0 | 1 | 1 | \n",
       "| 885499 | 0 | 0 | 0 | 0 | 0 | 0 | 0 | \n",
       "| 885552 | 0 | 0 | 0 | 0 | 0 | 0 | 0 | \n",
       "| 885620 | 0 | 0 | 0 | 0 | 0 | 0 | 0 | \n",
       "| 885681 | 0 | 0 | 0 | 0 | 0 | 0 | 0 | \n",
       "| 885691 | 0 | 0 | 0 | 0 | 0 | 0 | 0 | \n",
       "| 885698 | 0 | 0 | 0 | 0 | 0 | 0 | 0 | \n",
       "| 885732 | 0 | 0 | 1 | 0 | 0 | 0 | 0 | \n",
       "| 885778 | 1 | 1 | 1 | 0 | 0 | 0 | 0 | \n",
       "| 886092 | 0 | 0 | 0 | 0 | 0 | 0 | 0 | \n",
       "| 886228 | 0 | 0 | 1 | 0 | 0 | 0 | 0 | \n",
       "| 886273 | 0 | 0 | 0 | 0 | 0 | 0 | 0 | \n",
       "| 886312 | 0 | 0 | 0 | 0 | 0 | 0 | 0 | \n",
       "| 886432 | 0 | 0 | 0 | 0 | 0 | 0 | 0 | \n",
       "| 886435 | 0 | 0 | 0 | 0 | 0 | 0 | 0 | \n",
       "| 886438 | 0 | 0 | 0 | 0 | 0 | 0 | 0 | \n",
       "| 886667 | 0 | 0 | 0 | 0 | 0 | 0 | 0 | \n",
       "| 886773 | 0 | 0 | 0 | 0 | 0 | 0 | 0 | \n",
       "| 886875 | 0 | 0 | 0 | 0 | 0 | 0 | 0 | \n",
       "| 886965 | 0 | 0 | 0 | 0 | 0 | 0 | 0 | \n",
       "| 891304 | 0 | 0 | 0 | 0 | 0 | 0 | 0 | \n",
       "| 891330 | 1 | 0 | 1 | 0 | 1 | 0 | 0 | \n",
       "| 893046 | 0 | 0 | 0 | 0 | 0 | 0 | 0 | \n",
       "| 894114 | 0 | 0 | 0 | 0 | 0 | 0 | 0 | \n",
       "| 895410 | 0 | 0 | 0 | 0 | 0 | 0 | 0 | \n",
       "| 895632 | 0 | 0 | 0 | 0 | 0 | 0 | 0 | \n",
       "| 895958 | 0 | 0 | 0 | 0 | 0 | 0 | 0 | \n",
       "| 897698 | 0 | 0 | 1 | 0 | 0 | 0 | 0 | \n",
       "| 898482 | 0 | 0 | 0 | 0 | 0 | 0 | 0 | \n",
       "| 899102 | 0 | 0 | 0 | 0 | 0 | 0 | 0 | \n",
       "| 900179 | 1 | 1 | 1 | 1 | 1 | 1 | 1 | \n",
       "\n",
       "\n"
      ],
      "text/plain": [
       "        exercises\n",
       "uids     06-crivello_di_eratostene 07-display 08-ultimo_caporale\n",
       "  756508 0                         0          0                 \n",
       "  858673 0                         0          1                 \n",
       "  885299 1                         0          1                 \n",
       "  885309 0                         0          0                 \n",
       "  885432 0                         0          1                 \n",
       "  885499 0                         0          0                 \n",
       "  885552 0                         0          0                 \n",
       "  885620 0                         0          0                 \n",
       "  885681 0                         0          0                 \n",
       "  885691 0                         0          0                 \n",
       "  885698 0                         0          0                 \n",
       "  885732 0                         0          1                 \n",
       "  885778 1                         1          1                 \n",
       "  886092 0                         0          0                 \n",
       "  886228 0                         0          1                 \n",
       "  886273 0                         0          0                 \n",
       "  886312 0                         0          0                 \n",
       "  886432 0                         0          0                 \n",
       "  886435 0                         0          0                 \n",
       "  886438 0                         0          0                 \n",
       "  886667 0                         0          0                 \n",
       "  886773 0                         0          0                 \n",
       "  886875 0                         0          0                 \n",
       "  886965 0                         0          0                 \n",
       "  891304 0                         0          0                 \n",
       "  891330 1                         0          1                 \n",
       "  893046 0                         0          0                 \n",
       "  894114 0                         0          0                 \n",
       "  895410 0                         0          0                 \n",
       "  895632 0                         0          0                 \n",
       "  895958 0                         0          0                 \n",
       "  897698 0                         0          1                 \n",
       "  898482 0                         0          0                 \n",
       "  899102 0                         0          0                 \n",
       "  900179 1                         1          1                 \n",
       "        exercises\n",
       "uids     09-pila_di_stringhe 10-due_alla 11-frazioni_continue\n",
       "  756508 0                   0           0                   \n",
       "  858673 1                   0           0                   \n",
       "  885299 0                   0           1                   \n",
       "  885309 0                   0           0                   \n",
       "  885432 0                   0           1                   \n",
       "  885499 0                   0           0                   \n",
       "  885552 0                   0           0                   \n",
       "  885620 0                   0           0                   \n",
       "  885681 0                   0           0                   \n",
       "  885691 0                   0           0                   \n",
       "  885698 0                   0           0                   \n",
       "  885732 0                   0           0                   \n",
       "  885778 0                   0           0                   \n",
       "  886092 0                   0           0                   \n",
       "  886228 0                   0           0                   \n",
       "  886273 0                   0           0                   \n",
       "  886312 0                   0           0                   \n",
       "  886432 0                   0           0                   \n",
       "  886435 0                   0           0                   \n",
       "  886438 0                   0           0                   \n",
       "  886667 0                   0           0                   \n",
       "  886773 0                   0           0                   \n",
       "  886875 0                   0           0                   \n",
       "  886965 0                   0           0                   \n",
       "  891304 0                   0           0                   \n",
       "  891330 0                   1           0                   \n",
       "  893046 0                   0           0                   \n",
       "  894114 0                   0           0                   \n",
       "  895410 0                   0           0                   \n",
       "  895632 0                   0           0                   \n",
       "  895958 0                   0           0                   \n",
       "  897698 0                   0           0                   \n",
       "  898482 0                   0           0                   \n",
       "  899102 0                   0           0                   \n",
       "  900179 1                   1           1                   \n",
       "        exercises\n",
       "uids     12-visualizza_hanoi\n",
       "  756508 0                  \n",
       "  858673 0                  \n",
       "  885299 0                  \n",
       "  885309 0                  \n",
       "  885432 1                  \n",
       "  885499 0                  \n",
       "  885552 0                  \n",
       "  885620 0                  \n",
       "  885681 0                  \n",
       "  885691 0                  \n",
       "  885698 0                  \n",
       "  885732 0                  \n",
       "  885778 0                  \n",
       "  886092 0                  \n",
       "  886228 0                  \n",
       "  886273 0                  \n",
       "  886312 0                  \n",
       "  886432 0                  \n",
       "  886435 0                  \n",
       "  886438 0                  \n",
       "  886667 0                  \n",
       "  886773 0                  \n",
       "  886875 0                  \n",
       "  886965 0                  \n",
       "  891304 0                  \n",
       "  891330 0                  \n",
       "  893046 0                  \n",
       "  894114 0                  \n",
       "  895410 0                  \n",
       "  895632 0                  \n",
       "  895958 0                  \n",
       "  897698 0                  \n",
       "  898482 0                  \n",
       "  899102 0                  \n",
       "  900179 1                  "
      ]
     },
     "metadata": {},
     "output_type": "display_data"
    },
    {
     "data": {
      "image/png": "[encoded data removed]",
      "text/plain": [
       "Plot with title \"laboratorio_07\""
      ]
     },
     "metadata": {},
     "output_type": "display_data"
    }
   ],
   "source": [
    "numSessions <- 12\n",
    "session <- sessions[numSessions]\n",
    "\n",
    "evalWithTestCase <- evaluateSource(session, vote = \"testCase\", percTestCaseOk = 0.5)\n",
    "\n",
    "nStud <- nrow(evalWithTestCase)\n",
    "diffTestCase <- estimateDifficultiesDichotOneDiscrim(bootstrapping(evalWithTestCase, n = bootstrapVal * nStud))\n",
    "\n",
    "plotDifficultiesDichot(evalWithTestCase, diffTestCase, color = \"black\", name = session)\n",
    "legend(1, 10, legend=c(\"50% di test case corretti\"), col=c(\"black\"), lty=1, cex=1, lwd=2, pch=16)\n",
    "\n",
    "cat(\"Nel laboratorio 7 notiamo un incremento di difficoltà molto elevato e problemi sulla convergenza dell'algoritmo di \n",
    "stima ma che possiamo giustificare osservando il numero di persone che hanno superato gli ultimi esercizi rispetto al \n",
    "totale degli studenti\")\n",
    "\n",
    "evalWithTestCase[,c(6:12)]"
   ]
  }
 ],
 "metadata": {
  "kernelspec": {
   "display_name": "R",
   "language": "R",
   "name": "ir"
  },
  "language_info": {
   "codemirror_mode": "r",
   "file_extension": ".r",
   "mimetype": "text/x-r-source",
   "name": "R",
   "pygments_lexer": "r",
   "version": "3.4.1"
  }
 },
 "nbformat": 4,
 "nbformat_minor": 2
}
