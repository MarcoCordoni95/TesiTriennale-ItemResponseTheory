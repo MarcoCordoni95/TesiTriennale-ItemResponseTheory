{
 "cells": [
  {
   "cell_type": "code",
   "execution_count": 1,
   "metadata": {
    "collapsed": true
   },
   "outputs": [],
   "source": [
    "# Questi comandi permettono di usare in Jupyter le librerie di R presenti nel CRAN (Comprehensive R Archive Network)\n",
    "country.code <- 'it'\n",
    "url.pattern <- 'https://'  \n",
    "repo.data.frame <- subset(getCRANmirrors(), CountryCode == country.code & grepl(url.pattern, URL))\n",
    "options(repos = repo.data.frame$URL)"
   ]
  },
  {
   "cell_type": "code",
   "execution_count": 2,
   "metadata": {},
   "outputs": [
    {
     "name": "stdout",
     "output_type": "stream",
     "text": [
      "package 'readxl' successfully unpacked and MD5 sums checked\n",
      "\n",
      "The downloaded binary packages are in\n",
      "\tC:\\Users\\Marco\\AppData\\Local\\Temp\\Rtmp4mHWeR\\downloaded_packages\n",
      "package 'ltm' successfully unpacked and MD5 sums checked\n",
      "\n",
      "The downloaded binary packages are in\n",
      "\tC:\\Users\\Marco\\AppData\\Local\\Temp\\Rtmp4mHWeR\\downloaded_packages\n"
     ]
    }
   ],
   "source": [
    "# Package utili: psych per le funzioni di stima dei parametri e readxl per poter leggere file excel\n",
    "install.packages(\"readxl\")\n",
    "install.packages(\"ltm\")"
   ]
  },
  {
   "cell_type": "code",
   "execution_count": 3,
   "metadata": {},
   "outputs": [
    {
     "name": "stderr",
     "output_type": "stream",
     "text": [
      "Warning message:\n",
      "\"package 'readxl' was built under R version 3.4.2\"Warning message:\n",
      "\"package 'ltm' was built under R version 3.4.2\"Loading required package: MASS\n",
      "Loading required package: msm\n",
      "Loading required package: polycor\n"
     ]
    }
   ],
   "source": [
    "# Importo i package\n",
    "library(\"readxl\")\n",
    "library(\"ltm\")"
   ]
  },
  {
   "cell_type": "code",
   "execution_count": 4,
   "metadata": {
    "collapsed": true
   },
   "outputs": [],
   "source": [
    "#' Legge un file csv e imposta la prima colonna con i nomi degli studenti come indici della tabella \n",
    "#'\n",
    "#' @param path Percorso del file\n",
    "#' @return data frame corrispondente al file csv indicato\n",
    "#' @examples\n",
    "#' readCSV(\"file.csv\")\n",
    "#'\n",
    "#' readCSV(\"C:/Users/file.csv\")\n",
    "readCSV <- function(path) {\n",
    "  read.csv(path, row.names = 1)\n",
    "}\n",
    "\n",
    "#' Legge un file excel e imposta la prima colonna con i nomi degli studenti come indici della tabella \n",
    "#'\n",
    "#' @param path Percorso del file\n",
    "#' @return data frame corrispondente al file excel indicato\n",
    "#' @examples\n",
    "#' readEXCEl(\"file.xlsx\")\n",
    "#'\n",
    "#' readEXCEl(\"C:/Users/file.xlsx\")\n",
    "readEXCEl <- function(path) {\n",
    "    items <- read_excel(path)\n",
    "    items <- as.data.frame(items)\n",
    "    rownames(items) <- items[,1]\n",
    "    items <- items[,-1]\n",
    "    items\n",
    "}"
   ]
  },
  {
   "cell_type": "code",
   "execution_count": 5,
   "metadata": {},
   "outputs": [
    {
     "data": {
      "text/html": [
       "<table>\n",
       "<thead><tr><th></th><th scope=col>e1</th><th scope=col>e2</th><th scope=col>e3</th><th scope=col>e4</th><th scope=col>e5</th><th scope=col>e6</th><th scope=col>e7</th><th scope=col>e8</th><th scope=col>e9</th><th scope=col>e10</th></tr></thead>\n",
       "<tbody>\n",
       "\t<tr><th scope=row>S1</th><td>0</td><td>0</td><td>0</td><td>0</td><td>0</td><td>0</td><td>0</td><td>0</td><td>0</td><td>0</td></tr>\n",
       "\t<tr><th scope=row>S2</th><td>1</td><td>1</td><td>1</td><td>1</td><td>1</td><td>1</td><td>1</td><td>1</td><td>1</td><td>1</td></tr>\n",
       "\t<tr><th scope=row>S3</th><td>1</td><td>1</td><td>1</td><td>1</td><td>0</td><td>1</td><td>1</td><td>1</td><td>1</td><td>0</td></tr>\n",
       "\t<tr><th scope=row>S4</th><td>1</td><td>1</td><td>1</td><td>1</td><td>1</td><td>1</td><td>1</td><td>1</td><td>1</td><td>0</td></tr>\n",
       "\t<tr><th scope=row>S5</th><td>1</td><td>0</td><td>1</td><td>1</td><td>1</td><td>1</td><td>1</td><td>0</td><td>0</td><td>1</td></tr>\n",
       "\t<tr><th scope=row>S6</th><td>0</td><td>1</td><td>1</td><td>1</td><td>1</td><td>0</td><td>0</td><td>1</td><td>1</td><td>0</td></tr>\n",
       "\t<tr><th scope=row>S7</th><td>1</td><td>1</td><td>0</td><td>0</td><td>1</td><td>1</td><td>1</td><td>0</td><td>0</td><td>0</td></tr>\n",
       "\t<tr><th scope=row>S8</th><td>1</td><td>1</td><td>1</td><td>1</td><td>0</td><td>1</td><td>1</td><td>1</td><td>1</td><td>1</td></tr>\n",
       "\t<tr><th scope=row>S9</th><td>1</td><td>1</td><td>1</td><td>1</td><td>1</td><td>0</td><td>1</td><td>1</td><td>1</td><td>0</td></tr>\n",
       "\t<tr><th scope=row>S10</th><td>0</td><td>0</td><td>1</td><td>1</td><td>1</td><td>0</td><td>0</td><td>1</td><td>0</td><td>1</td></tr>\n",
       "\t<tr><th scope=row>S11</th><td>1</td><td>1</td><td>1</td><td>1</td><td>0</td><td>1</td><td>1</td><td>0</td><td>1</td><td>0</td></tr>\n",
       "\t<tr><th scope=row>S12</th><td>1</td><td>1</td><td>0</td><td>0</td><td>1</td><td>1</td><td>1</td><td>0</td><td>0</td><td>0</td></tr>\n",
       "\t<tr><th scope=row>S13</th><td>0</td><td>1</td><td>0</td><td>1</td><td>1</td><td>0</td><td>0</td><td>0</td><td>1</td><td>1</td></tr>\n",
       "\t<tr><th scope=row>S14</th><td>1</td><td>1</td><td>1</td><td>1</td><td>1</td><td>1</td><td>1</td><td>1</td><td>0</td><td>0</td></tr>\n",
       "\t<tr><th scope=row>S15</th><td>1</td><td>1</td><td>1</td><td>1</td><td>0</td><td>0</td><td>1</td><td>1</td><td>1</td><td>1</td></tr>\n",
       "\t<tr><th scope=row>S16</th><td>1</td><td>0</td><td>1</td><td>1</td><td>1</td><td>0</td><td>1</td><td>0</td><td>1</td><td>0</td></tr>\n",
       "\t<tr><th scope=row>S17</th><td>1</td><td>1</td><td>1</td><td>1</td><td>0</td><td>1</td><td>1</td><td>1</td><td>0</td><td>1</td></tr>\n",
       "\t<tr><th scope=row>S18</th><td>1</td><td>1</td><td>1</td><td>1</td><td>1</td><td>1</td><td>1</td><td>0</td><td>1</td><td>0</td></tr>\n",
       "\t<tr><th scope=row>S19</th><td>0</td><td>1</td><td>1</td><td>1</td><td>1</td><td>0</td><td>0</td><td>0</td><td>0</td><td>0</td></tr>\n",
       "\t<tr><th scope=row>S20</th><td>1</td><td>1</td><td>0</td><td>1</td><td>1</td><td>1</td><td>1</td><td>1</td><td>1</td><td>1</td></tr>\n",
       "\t<tr><th scope=row>S21</th><td>1</td><td>1</td><td>1</td><td>1</td><td>1</td><td>1</td><td>1</td><td>1</td><td>1</td><td>0</td></tr>\n",
       "\t<tr><th scope=row>S22</th><td>1</td><td>1</td><td>1</td><td>0</td><td>1</td><td>0</td><td>1</td><td>0</td><td>0</td><td>1</td></tr>\n",
       "\t<tr><th scope=row>S23</th><td>1</td><td>0</td><td>1</td><td>1</td><td>1</td><td>1</td><td>1</td><td>1</td><td>0</td><td>0</td></tr>\n",
       "\t<tr><th scope=row>S24</th><td>1</td><td>1</td><td>1</td><td>1</td><td>0</td><td>1</td><td>1</td><td>1</td><td>1</td><td>0</td></tr>\n",
       "\t<tr><th scope=row>S25</th><td>1</td><td>1</td><td>1</td><td>1</td><td>1</td><td>1</td><td>1</td><td>1</td><td>1</td><td>0</td></tr>\n",
       "</tbody>\n",
       "</table>\n"
      ],
      "text/latex": [
       "\\begin{tabular}{r|llllllllll}\n",
       "  & e1 & e2 & e3 & e4 & e5 & e6 & e7 & e8 & e9 & e10\\\\\n",
       "\\hline\n",
       "\tS1 & 0 & 0 & 0 & 0 & 0 & 0 & 0 & 0 & 0 & 0\\\\\n",
       "\tS2 & 1 & 1 & 1 & 1 & 1 & 1 & 1 & 1 & 1 & 1\\\\\n",
       "\tS3 & 1 & 1 & 1 & 1 & 0 & 1 & 1 & 1 & 1 & 0\\\\\n",
       "\tS4 & 1 & 1 & 1 & 1 & 1 & 1 & 1 & 1 & 1 & 0\\\\\n",
       "\tS5 & 1 & 0 & 1 & 1 & 1 & 1 & 1 & 0 & 0 & 1\\\\\n",
       "\tS6 & 0 & 1 & 1 & 1 & 1 & 0 & 0 & 1 & 1 & 0\\\\\n",
       "\tS7 & 1 & 1 & 0 & 0 & 1 & 1 & 1 & 0 & 0 & 0\\\\\n",
       "\tS8 & 1 & 1 & 1 & 1 & 0 & 1 & 1 & 1 & 1 & 1\\\\\n",
       "\tS9 & 1 & 1 & 1 & 1 & 1 & 0 & 1 & 1 & 1 & 0\\\\\n",
       "\tS10 & 0 & 0 & 1 & 1 & 1 & 0 & 0 & 1 & 0 & 1\\\\\n",
       "\tS11 & 1 & 1 & 1 & 1 & 0 & 1 & 1 & 0 & 1 & 0\\\\\n",
       "\tS12 & 1 & 1 & 0 & 0 & 1 & 1 & 1 & 0 & 0 & 0\\\\\n",
       "\tS13 & 0 & 1 & 0 & 1 & 1 & 0 & 0 & 0 & 1 & 1\\\\\n",
       "\tS14 & 1 & 1 & 1 & 1 & 1 & 1 & 1 & 1 & 0 & 0\\\\\n",
       "\tS15 & 1 & 1 & 1 & 1 & 0 & 0 & 1 & 1 & 1 & 1\\\\\n",
       "\tS16 & 1 & 0 & 1 & 1 & 1 & 0 & 1 & 0 & 1 & 0\\\\\n",
       "\tS17 & 1 & 1 & 1 & 1 & 0 & 1 & 1 & 1 & 0 & 1\\\\\n",
       "\tS18 & 1 & 1 & 1 & 1 & 1 & 1 & 1 & 0 & 1 & 0\\\\\n",
       "\tS19 & 0 & 1 & 1 & 1 & 1 & 0 & 0 & 0 & 0 & 0\\\\\n",
       "\tS20 & 1 & 1 & 0 & 1 & 1 & 1 & 1 & 1 & 1 & 1\\\\\n",
       "\tS21 & 1 & 1 & 1 & 1 & 1 & 1 & 1 & 1 & 1 & 0\\\\\n",
       "\tS22 & 1 & 1 & 1 & 0 & 1 & 0 & 1 & 0 & 0 & 1\\\\\n",
       "\tS23 & 1 & 0 & 1 & 1 & 1 & 1 & 1 & 1 & 0 & 0\\\\\n",
       "\tS24 & 1 & 1 & 1 & 1 & 0 & 1 & 1 & 1 & 1 & 0\\\\\n",
       "\tS25 & 1 & 1 & 1 & 1 & 1 & 1 & 1 & 1 & 1 & 0\\\\\n",
       "\\end{tabular}\n"
      ],
      "text/markdown": [
       "\n",
       "| <!--/--> | e1 | e2 | e3 | e4 | e5 | e6 | e7 | e8 | e9 | e10 | \n",
       "|---|---|---|---|---|---|---|---|---|---|---|---|---|---|---|---|---|---|---|---|---|---|---|---|---|\n",
       "| S1 | 0 | 0 | 0 | 0 | 0 | 0 | 0 | 0 | 0 | 0 | \n",
       "| S2 | 1 | 1 | 1 | 1 | 1 | 1 | 1 | 1 | 1 | 1 | \n",
       "| S3 | 1 | 1 | 1 | 1 | 0 | 1 | 1 | 1 | 1 | 0 | \n",
       "| S4 | 1 | 1 | 1 | 1 | 1 | 1 | 1 | 1 | 1 | 0 | \n",
       "| S5 | 1 | 0 | 1 | 1 | 1 | 1 | 1 | 0 | 0 | 1 | \n",
       "| S6 | 0 | 1 | 1 | 1 | 1 | 0 | 0 | 1 | 1 | 0 | \n",
       "| S7 | 1 | 1 | 0 | 0 | 1 | 1 | 1 | 0 | 0 | 0 | \n",
       "| S8 | 1 | 1 | 1 | 1 | 0 | 1 | 1 | 1 | 1 | 1 | \n",
       "| S9 | 1 | 1 | 1 | 1 | 1 | 0 | 1 | 1 | 1 | 0 | \n",
       "| S10 | 0 | 0 | 1 | 1 | 1 | 0 | 0 | 1 | 0 | 1 | \n",
       "| S11 | 1 | 1 | 1 | 1 | 0 | 1 | 1 | 0 | 1 | 0 | \n",
       "| S12 | 1 | 1 | 0 | 0 | 1 | 1 | 1 | 0 | 0 | 0 | \n",
       "| S13 | 0 | 1 | 0 | 1 | 1 | 0 | 0 | 0 | 1 | 1 | \n",
       "| S14 | 1 | 1 | 1 | 1 | 1 | 1 | 1 | 1 | 0 | 0 | \n",
       "| S15 | 1 | 1 | 1 | 1 | 0 | 0 | 1 | 1 | 1 | 1 | \n",
       "| S16 | 1 | 0 | 1 | 1 | 1 | 0 | 1 | 0 | 1 | 0 | \n",
       "| S17 | 1 | 1 | 1 | 1 | 0 | 1 | 1 | 1 | 0 | 1 | \n",
       "| S18 | 1 | 1 | 1 | 1 | 1 | 1 | 1 | 0 | 1 | 0 | \n",
       "| S19 | 0 | 1 | 1 | 1 | 1 | 0 | 0 | 0 | 0 | 0 | \n",
       "| S20 | 1 | 1 | 0 | 1 | 1 | 1 | 1 | 1 | 1 | 1 | \n",
       "| S21 | 1 | 1 | 1 | 1 | 1 | 1 | 1 | 1 | 1 | 0 | \n",
       "| S22 | 1 | 1 | 1 | 0 | 1 | 0 | 1 | 0 | 0 | 1 | \n",
       "| S23 | 1 | 0 | 1 | 1 | 1 | 1 | 1 | 1 | 0 | 0 | \n",
       "| S24 | 1 | 1 | 1 | 1 | 0 | 1 | 1 | 1 | 1 | 0 | \n",
       "| S25 | 1 | 1 | 1 | 1 | 1 | 1 | 1 | 1 | 1 | 0 | \n",
       "\n",
       "\n"
      ],
      "text/plain": [
       "    e1 e2 e3 e4 e5 e6 e7 e8 e9 e10\n",
       "S1  0  0  0  0  0  0  0  0  0  0  \n",
       "S2  1  1  1  1  1  1  1  1  1  1  \n",
       "S3  1  1  1  1  0  1  1  1  1  0  \n",
       "S4  1  1  1  1  1  1  1  1  1  0  \n",
       "S5  1  0  1  1  1  1  1  0  0  1  \n",
       "S6  0  1  1  1  1  0  0  1  1  0  \n",
       "S7  1  1  0  0  1  1  1  0  0  0  \n",
       "S8  1  1  1  1  0  1  1  1  1  1  \n",
       "S9  1  1  1  1  1  0  1  1  1  0  \n",
       "S10 0  0  1  1  1  0  0  1  0  1  \n",
       "S11 1  1  1  1  0  1  1  0  1  0  \n",
       "S12 1  1  0  0  1  1  1  0  0  0  \n",
       "S13 0  1  0  1  1  0  0  0  1  1  \n",
       "S14 1  1  1  1  1  1  1  1  0  0  \n",
       "S15 1  1  1  1  0  0  1  1  1  1  \n",
       "S16 1  0  1  1  1  0  1  0  1  0  \n",
       "S17 1  1  1  1  0  1  1  1  0  1  \n",
       "S18 1  1  1  1  1  1  1  0  1  0  \n",
       "S19 0  1  1  1  1  0  0  0  0  0  \n",
       "S20 1  1  0  1  1  1  1  1  1  1  \n",
       "S21 1  1  1  1  1  1  1  1  1  0  \n",
       "S22 1  1  1  0  1  0  1  0  0  1  \n",
       "S23 1  0  1  1  1  1  1  1  0  0  \n",
       "S24 1  1  1  1  0  1  1  1  1  0  \n",
       "S25 1  1  1  1  1  1  1  1  1  0  "
      ]
     },
     "metadata": {},
     "output_type": "display_data"
    }
   ],
   "source": [
    "# Importo la tabella dicotomica\n",
    "datiDichot <- readEXCEl(\"EsameDic.xlsx\")\n",
    "datiDichot"
   ]
  },
  {
   "cell_type": "code",
   "execution_count": 56,
   "metadata": {
    "collapsed": true
   },
   "outputs": [],
   "source": [
    "#' Modifica la dimensione dei grafici\n",
    "#'\n",
    "#' @param width Larghezza dei grafici\n",
    "#' @param height Altezza dei grafici\n",
    "#' @examples\n",
    "#' width <- 7\n",
    "#' height <- 5\n",
    "#' sizePlot(width, height)\n",
    "sizePlot <- function(width, height) {\n",
    "    options(repr.plot.width = width, repr.plot.height = height)\n",
    "}\n",
    "\n",
    "#' Rimpiazza i valori NA presenti nella tabella passata con 0\n",
    "#'\n",
    "#' @param items Tabella dicotomica avente una riga per studente e una colonna per esercizio\n",
    "#' @return Tabella dicotomica avente una riga per studente e una colonna per esercizio a cui sono stati sostituiti i NA con 0\n",
    "#' @examples\n",
    "#' items <- readEXCEl(\"file.xlsx\")\n",
    "#' replaceNaWithZero(items)\n",
    "replaceNaWithZero <- function(items) {\n",
    "    aux <- items\n",
    "    aux[is.na(aux)] <- 0\n",
    "    aux\n",
    "}\n",
    "\n",
    "#' Stima le difficoltà degli esercizi senza porre vincoli sul valore del discriminante\n",
    "#'\n",
    "#' @param items Tabella dicotomica avente una riga per studente e una colonna per esercizio\n",
    "#' @param forNA Definisce il comportamento in caso di NA, di default è NULL quindi vengono ignorati, se si usasse \n",
    "#' forNA = na.exclude la stima verrebbe effettuata eliminando le righe in cui è presente almeno un NA\n",
    "#' @return Vettore di difficoltà stimate\n",
    "#' @examples\n",
    "#' items <- readEXCEl(\"file.xlsx\")\n",
    "#' estimateDifficultiesDichotFreeDiscrim(items)\n",
    "estimateDifficultiesDichotFreeDiscrim <- function(items, forNA = NULL) {\n",
    "    param <- rasch(items, na.action = forNA)\n",
    "    tab <- coef(param)\n",
    "    array(tab[,\"Dffclt\"])\n",
    "}\n",
    "\n",
    "#' Stima le difficoltà degli esercizi ponendo il discriminante ad 1\n",
    "#'\n",
    "#' @param items Tabella dicotomica avente una riga per studente e una colonna per esercizio\n",
    "#' @param forNA Definisce il comportamento in caso di NA, di default è NULL quindi vengono ignorati, se si usasse \n",
    "#' forNA = na.exclude la stima verrebbe effettuata eliminando le righe in cui è presente almeno un NA\n",
    "#' @return Vettore di difficoltà stimate\n",
    "#' @examples\n",
    "#' items <- readEXCEl(\"file.xlsx\")\n",
    "#' estimateDifficultiesDichotOneDiscrim(items)\n",
    "estimateDifficultiesDichotOneDiscrim <- function(items,  forNA = NULL) {\n",
    "    param <- rasch(items, constraint = cbind(length(items) + 1, 1), na.action = forNA)\n",
    "    tab <- coef(param)\n",
    "    array(tab[,\"Dffclt\"])\n",
    "}\n",
    "\n",
    "#' Genera un grafico per mostrare il livello di difficoltà di ciascun esercizio \n",
    "#'\n",
    "#' @param items Tabella dicotomica avente una riga per studente e una colonna per esercizio\n",
    "#' @param diff Vettore di difficoltà\n",
    "#' @param color Colore del grafico, di default è rosso\n",
    "#' @examples\n",
    "#' items <- readEXCEl(\"file.xlsx\")\n",
    "#' diff <- estimateDifficultiesDichotOneDiscrim(items)\n",
    "#' plotDifficultiesDichot(items, diff)\n",
    "plotDifficultiesDichot <- function(items, diff, color = \"red\") {\n",
    "    nItems <- length(diff)\n",
    "    plot(diff,xlim=c(1,nItems),ylim=c(-5,5),type=\"b\",main=\"Difficulties plot\",xlab=\"Items\",ylab=\"Difficulty\",xaxt=\"n\",col=color,pch=16,lwd=2)\n",
    "    axis(1, at=1:nItems, labels=names(items))\n",
    "    par(new = TRUE)\n",
    "    plot(diff + 4.7, type = \"h\", xlim = c(1,nItems),ylim = c(0,10), xaxt='n', yaxt = \"n\", xlab = \"\", ylab = \"\", lty = 2)\n",
    "}\n",
    "\n",
    "#' Stima le abilità degli studenti\n",
    "#'\n",
    "#' @param items Tabella dicotomica avente una riga per studente e una colonna per esercizio\n",
    "#' @return Vettore di abilità stimate\n",
    "#' @examples\n",
    "#' items <- readEXCEl(\"file.xlsx\")\n",
    "#' estimateAbilitiesDichot(items)\n",
    "estimateAbilitiesDichot <- function(items) {\n",
    "    fit <- rasch(items)\n",
    "    fs <- factor.scores(fit, resp.patterns = items)\n",
    "    array(unlist(fs$score.dat[\"z1\"]))\n",
    "}\n",
    "\n",
    "#' Genera un istogramma per mostrare il livello di abilità degli studenti e la relativa quantità\n",
    "#'\n",
    "#' @param theta Vettore di abilità\n",
    "#' @examples\n",
    "#' items <- readEXCEl(\"file.xlsx\")\n",
    "#' abil <- estimateAbilitiesDichot(items)\n",
    "#' plotDifficultiesDichot(abil)\n",
    "plotAbilitiesDichot <- function(abil) {\n",
    "    start <- -3\n",
    "    end <- \n",
    "    by <- 0.5\n",
    "    hist(abil,main=\"Ability histogram\",xlab=\"Ability\",ylab=\"Students\",breaks=seq(start,end,by),xlim=c(start,end),col=\"royalblue3\")\n",
    "    axis(1, at=seq(start, end, by=0.5), labels=seq(start, end, by))        \n",
    "}"
   ]
  },
  {
   "cell_type": "code",
   "execution_count": 110,
   "metadata": {
    "collapsed": true
   },
   "outputs": [],
   "source": [
    "#' Attraverso la tecnica di bootstrapping seleziona randomicamente n righe dalla matrice dicotomica, questa funzione è utlile \n",
    "#' se si dispone di pochi soggetti perchè in caso di una scarsa quantità di osservazioni lo stimatore potrebbe non covergere\n",
    "#'\n",
    "#' @param items Tabella dicotomica avente una riga per studente e una colonna per esercizio\n",
    "#' @param n Numero di estrazioni\n",
    "#' @return Data frame di difficoltà stimate dalla tabella generata dalle estrazioni casuali\n",
    "#' @examples\n",
    "#' items <- readEXCEl(\"file.xlsx\")\n",
    "#' bootstrapping(items)\n",
    "bootstrapping <- function(items, n = 500) {\n",
    "    idxs <- sample(1:nrow(items), n, replace = TRUE)\n",
    "    items[idxs,]\n",
    "}"
   ]
  },
  {
   "cell_type": "code",
   "execution_count": 8,
   "metadata": {
    "scrolled": false
   },
   "outputs": [
    {
     "data": {
      "image/png": "[encoded data removed]",
      "text/plain": [
       "Plot with title \"Difficulties plot\""
      ]
     },
     "metadata": {},
     "output_type": "display_data"
    }
   ],
   "source": [
    "# Modifico la dimensione dei grafici\n",
    "width <- 7\n",
    "height <- 5\n",
    "sizePlot(width, height)\n",
    "\n",
    "# Effettuo il bootstrapping\n",
    "numExtractions <- 700\n",
    "bottDatiDichot <- bootstrapping(datiDichot, numExtractions)\n",
    "\n",
    "# Stimo le difficoltà con entrambi i metodi\n",
    "difficDichotF <- estimateDifficultiesDichotFreeDiscrim(bottDatiDichot)\n",
    "difficDichotO <- estimateDifficultiesDichotOneDiscrim(bottDatiDichot)\n",
    "\n",
    "# Visualizzo e confronto i grafici relativi alle difficoltà stimate con entrambi i metodi\n",
    "plotDifficultiesDichot(datiDichot, difficDichotF)\n",
    "par(new = TRUE)\n",
    "plotDifficultiesDichot(datiDichot, difficDichotO, color = \"blue\")\n",
    "legend(1, 10, legend=c(\"Difficoltà con discriminante non vincolato\", \"Difficoltà con discriminante vincolato ad 1\"), col=c(\"red\", \"blue\"), lty=1, cex=1, lwd=2, pch=16)"
   ]
  },
  {
   "cell_type": "code",
   "execution_count": 58,
   "metadata": {},
   "outputs": [
    {
     "data": {
      "image/png": "[encoded data removed]",
      "text/plain": [
       "Plot with title \"Ability histogram\""
      ]
     },
     "metadata": {},
     "output_type": "display_data"
    }
   ],
   "source": [
    "# Stimo le abilità e visualizzo il relativo grafico\n",
    "abil <- estimateAbilitiesDichot(datiDichot)\n",
    "plotAbilitiesDichot(abil)"
   ]
  },
  {
   "cell_type": "code",
   "execution_count": 10,
   "metadata": {
    "collapsed": true
   },
   "outputs": [],
   "source": [
    "#' Calcola la probabilità che uno studente risolva correttamente un esercizio\n",
    "#'\n",
    "#' @param ability Abilità dello studente\n",
    "#' @param difficulty Difficoltà dell'esercizio\n",
    "#' @return Probabilità di rispondere correttamente, compresa tra 0 e 1\n",
    "#' @examples\n",
    "#' ability <- 2\n",
    "#' difficulty <- 1\n",
    "#' pl1(ability, difficulty)\n",
    "pl1 <- function(ability, difficulty) {\n",
    "    exp(ability - difficulty) / (1 + exp(ability - difficulty))\n",
    "}\n",
    "\n",
    "#' Determina la probabilità per ogni studente di risolvere correttamente ogni esercizio\n",
    "#'\n",
    "#' @param items Tabella dicotomica avente una riga per studente e una colonna per esercizio\n",
    "#' @param diff Vettore di difficoltà\n",
    "#' @param abil Vettore di abilità\n",
    "#' @return Data frame di probabilità\n",
    "#' @examples\n",
    "#' items <- readEXCEl(\"file.xlsx\")\n",
    "#' diff <- estimateDifficultiesDichotFreeDiscrim(items)\n",
    "#' abil <- estimateAbilitiesDichot(items)\n",
    "#' calcProbabilites(items, diff, abil)\n",
    "calcProbabilites <- function(items, diff, abil) {   \n",
    "    probDf <- items\n",
    "    namesCol <- names(probDf)\n",
    "    namesRow <- row.names(probDf)\n",
    "    j <- 1\n",
    "    for (row in namesRow) {\n",
    "        i <- 1\n",
    "        for (col in namesCol) {\n",
    "            prob <- pl1(abil[j],diff[i])\n",
    "            probDf[row,col] <- prob          \n",
    "            i <- i + 1\n",
    "        }\n",
    "        j <- j + 1\n",
    "    }\n",
    "    probDf\n",
    "}\n",
    "\n",
    "\n",
    "#' Migliora la lettura della tabella delle probabilità per l'utente\n",
    "#'\n",
    "#' @param df Data frame di probabilità, output della funzione calcProbabilites\n",
    "#' @return Data frame di probabilità da 0 a 100\n",
    "#' @examples\n",
    "#' items <- readEXCEl(\"file.xlsx\")\n",
    "#' diff <- estimateDifficultiesDichotFreeDiscrim(items)\n",
    "#' abil <- estimateAbilitiesDichot(items)\n",
    "#' dfProb <- calcProbabilites(items, diff, abil)\n",
    "#' showProbabilities(dfProb)\n",
    "showProbabilities <- function(df){\n",
    "    aux <- trunc(df*100)\n",
    "    aux <- data.frame(lapply(aux, function(p) paste(p, \"%\")))\n",
    "    row.names(aux) <- row.names(df)\n",
    "    aux\n",
    "}"
   ]
  },
  {
   "cell_type": "code",
   "execution_count": 11,
   "metadata": {},
   "outputs": [
    {
     "data": {
      "text/html": [
       "<table>\n",
       "<thead><tr><th></th><th scope=col>e1</th><th scope=col>e2</th><th scope=col>e3</th><th scope=col>e4</th><th scope=col>e5</th><th scope=col>e6</th><th scope=col>e7</th><th scope=col>e8</th><th scope=col>e9</th><th scope=col>e10</th></tr></thead>\n",
       "<tbody>\n",
       "\t<tr><th scope=row>S1</th><td>32 %</td><td>35 %</td><td>35 %</td><td>42 %</td><td>24 %</td><td>14 %</td><td>32 %</td><td>13 %</td><td>13 %</td><td>3 % </td></tr>\n",
       "\t<tr><th scope=row>S2</th><td>94 %</td><td>95 %</td><td>95 %</td><td>96 %</td><td>92 %</td><td>86 %</td><td>94 %</td><td>85 %</td><td>84 %</td><td>59 %</td></tr>\n",
       "\t<tr><th scope=row>S3</th><td>87 %</td><td>88 %</td><td>88 %</td><td>91 %</td><td>82 %</td><td>71 %</td><td>87 %</td><td>70 %</td><td>69 %</td><td>37 %</td></tr>\n",
       "\t<tr><th scope=row>S4</th><td>91 %</td><td>92 %</td><td>92 %</td><td>94 %</td><td>87 %</td><td>79 %</td><td>91 %</td><td>77 %</td><td>77 %</td><td>47 %</td></tr>\n",
       "\t<tr><th scope=row>S5</th><td>82 %</td><td>84 %</td><td>84 %</td><td>88 %</td><td>76 %</td><td>63 %</td><td>82 %</td><td>61 %</td><td>60 %</td><td>28 %</td></tr>\n",
       "\t<tr><th scope=row>S6</th><td>77 %</td><td>79 %</td><td>79 %</td><td>84 %</td><td>70 %</td><td>55 %</td><td>77 %</td><td>53 %</td><td>52 %</td><td>22 %</td></tr>\n",
       "\t<tr><th scope=row>S7</th><td>71 %</td><td>73 %</td><td>73 %</td><td>79 %</td><td>62 %</td><td>47 %</td><td>71 %</td><td>45 %</td><td>44 %</td><td>17 %</td></tr>\n",
       "\t<tr><th scope=row>S8</th><td>91 %</td><td>92 %</td><td>92 %</td><td>94 %</td><td>87 %</td><td>79 %</td><td>91 %</td><td>77 %</td><td>77 %</td><td>47 %</td></tr>\n",
       "\t<tr><th scope=row>S9</th><td>87 %</td><td>88 %</td><td>88 %</td><td>91 %</td><td>82 %</td><td>71 %</td><td>87 %</td><td>70 %</td><td>69 %</td><td>37 %</td></tr>\n",
       "\t<tr><th scope=row>S10</th><td>71 %</td><td>73 %</td><td>73 %</td><td>79 %</td><td>62 %</td><td>47 %</td><td>71 %</td><td>45 %</td><td>44 %</td><td>17 %</td></tr>\n",
       "\t<tr><th scope=row>S11</th><td>82 %</td><td>84 %</td><td>84 %</td><td>88 %</td><td>76 %</td><td>63 %</td><td>82 %</td><td>61 %</td><td>60 %</td><td>28 %</td></tr>\n",
       "\t<tr><th scope=row>S12</th><td>71 %</td><td>73 %</td><td>73 %</td><td>79 %</td><td>62 %</td><td>47 %</td><td>71 %</td><td>45 %</td><td>44 %</td><td>17 %</td></tr>\n",
       "\t<tr><th scope=row>S13</th><td>71 %</td><td>73 %</td><td>73 %</td><td>79 %</td><td>62 %</td><td>47 %</td><td>71 %</td><td>45 %</td><td>44 %</td><td>17 %</td></tr>\n",
       "\t<tr><th scope=row>S14</th><td>87 %</td><td>88 %</td><td>88 %</td><td>91 %</td><td>82 %</td><td>71 %</td><td>87 %</td><td>70 %</td><td>69 %</td><td>37 %</td></tr>\n",
       "\t<tr><th scope=row>S15</th><td>87 %</td><td>88 %</td><td>88 %</td><td>91 %</td><td>82 %</td><td>71 %</td><td>87 %</td><td>70 %</td><td>69 %</td><td>37 %</td></tr>\n",
       "\t<tr><th scope=row>S16</th><td>77 %</td><td>79 %</td><td>79 %</td><td>84 %</td><td>70 %</td><td>55 %</td><td>77 %</td><td>53 %</td><td>52 %</td><td>22 %</td></tr>\n",
       "\t<tr><th scope=row>S17</th><td>87 %</td><td>88 %</td><td>88 %</td><td>91 %</td><td>82 %</td><td>71 %</td><td>87 %</td><td>70 %</td><td>69 %</td><td>37 %</td></tr>\n",
       "\t<tr><th scope=row>S18</th><td>87 %</td><td>88 %</td><td>88 %</td><td>91 %</td><td>82 %</td><td>71 %</td><td>87 %</td><td>70 %</td><td>69 %</td><td>37 %</td></tr>\n",
       "\t<tr><th scope=row>S19</th><td>64 %</td><td>67 %</td><td>67 %</td><td>73 %</td><td>55 %</td><td>39 %</td><td>64 %</td><td>37 %</td><td>36 %</td><td>13 %</td></tr>\n",
       "\t<tr><th scope=row>S20</th><td>91 %</td><td>92 %</td><td>92 %</td><td>94 %</td><td>87 %</td><td>79 %</td><td>91 %</td><td>77 %</td><td>77 %</td><td>47 %</td></tr>\n",
       "\t<tr><th scope=row>S21</th><td>91 %</td><td>92 %</td><td>92 %</td><td>94 %</td><td>87 %</td><td>79 %</td><td>91 %</td><td>77 %</td><td>77 %</td><td>47 %</td></tr>\n",
       "\t<tr><th scope=row>S22</th><td>77 %</td><td>79 %</td><td>79 %</td><td>84 %</td><td>70 %</td><td>55 %</td><td>77 %</td><td>53 %</td><td>52 %</td><td>22 %</td></tr>\n",
       "\t<tr><th scope=row>S23</th><td>82 %</td><td>84 %</td><td>84 %</td><td>88 %</td><td>76 %</td><td>63 %</td><td>82 %</td><td>61 %</td><td>60 %</td><td>28 %</td></tr>\n",
       "\t<tr><th scope=row>S24</th><td>87 %</td><td>88 %</td><td>88 %</td><td>91 %</td><td>82 %</td><td>71 %</td><td>87 %</td><td>70 %</td><td>69 %</td><td>37 %</td></tr>\n",
       "\t<tr><th scope=row>S25</th><td>91 %</td><td>92 %</td><td>92 %</td><td>94 %</td><td>87 %</td><td>79 %</td><td>91 %</td><td>77 %</td><td>77 %</td><td>47 %</td></tr>\n",
       "</tbody>\n",
       "</table>\n"
      ],
      "text/latex": [
       "\\begin{tabular}{r|llllllllll}\n",
       "  & e1 & e2 & e3 & e4 & e5 & e6 & e7 & e8 & e9 & e10\\\\\n",
       "\\hline\n",
       "\tS1 & 32 \\% & 35 \\% & 35 \\% & 42 \\% & 24 \\% & 14 \\% & 32 \\% & 13 \\% & 13 \\% & 3 \\% \\\\\n",
       "\tS2 & 94 \\% & 95 \\% & 95 \\% & 96 \\% & 92 \\% & 86 \\% & 94 \\% & 85 \\% & 84 \\% & 59 \\%\\\\\n",
       "\tS3 & 87 \\% & 88 \\% & 88 \\% & 91 \\% & 82 \\% & 71 \\% & 87 \\% & 70 \\% & 69 \\% & 37 \\%\\\\\n",
       "\tS4 & 91 \\% & 92 \\% & 92 \\% & 94 \\% & 87 \\% & 79 \\% & 91 \\% & 77 \\% & 77 \\% & 47 \\%\\\\\n",
       "\tS5 & 82 \\% & 84 \\% & 84 \\% & 88 \\% & 76 \\% & 63 \\% & 82 \\% & 61 \\% & 60 \\% & 28 \\%\\\\\n",
       "\tS6 & 77 \\% & 79 \\% & 79 \\% & 84 \\% & 70 \\% & 55 \\% & 77 \\% & 53 \\% & 52 \\% & 22 \\%\\\\\n",
       "\tS7 & 71 \\% & 73 \\% & 73 \\% & 79 \\% & 62 \\% & 47 \\% & 71 \\% & 45 \\% & 44 \\% & 17 \\%\\\\\n",
       "\tS8 & 91 \\% & 92 \\% & 92 \\% & 94 \\% & 87 \\% & 79 \\% & 91 \\% & 77 \\% & 77 \\% & 47 \\%\\\\\n",
       "\tS9 & 87 \\% & 88 \\% & 88 \\% & 91 \\% & 82 \\% & 71 \\% & 87 \\% & 70 \\% & 69 \\% & 37 \\%\\\\\n",
       "\tS10 & 71 \\% & 73 \\% & 73 \\% & 79 \\% & 62 \\% & 47 \\% & 71 \\% & 45 \\% & 44 \\% & 17 \\%\\\\\n",
       "\tS11 & 82 \\% & 84 \\% & 84 \\% & 88 \\% & 76 \\% & 63 \\% & 82 \\% & 61 \\% & 60 \\% & 28 \\%\\\\\n",
       "\tS12 & 71 \\% & 73 \\% & 73 \\% & 79 \\% & 62 \\% & 47 \\% & 71 \\% & 45 \\% & 44 \\% & 17 \\%\\\\\n",
       "\tS13 & 71 \\% & 73 \\% & 73 \\% & 79 \\% & 62 \\% & 47 \\% & 71 \\% & 45 \\% & 44 \\% & 17 \\%\\\\\n",
       "\tS14 & 87 \\% & 88 \\% & 88 \\% & 91 \\% & 82 \\% & 71 \\% & 87 \\% & 70 \\% & 69 \\% & 37 \\%\\\\\n",
       "\tS15 & 87 \\% & 88 \\% & 88 \\% & 91 \\% & 82 \\% & 71 \\% & 87 \\% & 70 \\% & 69 \\% & 37 \\%\\\\\n",
       "\tS16 & 77 \\% & 79 \\% & 79 \\% & 84 \\% & 70 \\% & 55 \\% & 77 \\% & 53 \\% & 52 \\% & 22 \\%\\\\\n",
       "\tS17 & 87 \\% & 88 \\% & 88 \\% & 91 \\% & 82 \\% & 71 \\% & 87 \\% & 70 \\% & 69 \\% & 37 \\%\\\\\n",
       "\tS18 & 87 \\% & 88 \\% & 88 \\% & 91 \\% & 82 \\% & 71 \\% & 87 \\% & 70 \\% & 69 \\% & 37 \\%\\\\\n",
       "\tS19 & 64 \\% & 67 \\% & 67 \\% & 73 \\% & 55 \\% & 39 \\% & 64 \\% & 37 \\% & 36 \\% & 13 \\%\\\\\n",
       "\tS20 & 91 \\% & 92 \\% & 92 \\% & 94 \\% & 87 \\% & 79 \\% & 91 \\% & 77 \\% & 77 \\% & 47 \\%\\\\\n",
       "\tS21 & 91 \\% & 92 \\% & 92 \\% & 94 \\% & 87 \\% & 79 \\% & 91 \\% & 77 \\% & 77 \\% & 47 \\%\\\\\n",
       "\tS22 & 77 \\% & 79 \\% & 79 \\% & 84 \\% & 70 \\% & 55 \\% & 77 \\% & 53 \\% & 52 \\% & 22 \\%\\\\\n",
       "\tS23 & 82 \\% & 84 \\% & 84 \\% & 88 \\% & 76 \\% & 63 \\% & 82 \\% & 61 \\% & 60 \\% & 28 \\%\\\\\n",
       "\tS24 & 87 \\% & 88 \\% & 88 \\% & 91 \\% & 82 \\% & 71 \\% & 87 \\% & 70 \\% & 69 \\% & 37 \\%\\\\\n",
       "\tS25 & 91 \\% & 92 \\% & 92 \\% & 94 \\% & 87 \\% & 79 \\% & 91 \\% & 77 \\% & 77 \\% & 47 \\%\\\\\n",
       "\\end{tabular}\n"
      ],
      "text/markdown": [
       "\n",
       "| <!--/--> | e1 | e2 | e3 | e4 | e5 | e6 | e7 | e8 | e9 | e10 | \n",
       "|---|---|---|---|---|---|---|---|---|---|---|---|---|---|---|---|---|---|---|---|---|---|---|---|---|\n",
       "| S1 | 32 % | 35 % | 35 % | 42 % | 24 % | 14 % | 32 % | 13 % | 13 % | 3 %  | \n",
       "| S2 | 94 % | 95 % | 95 % | 96 % | 92 % | 86 % | 94 % | 85 % | 84 % | 59 % | \n",
       "| S3 | 87 % | 88 % | 88 % | 91 % | 82 % | 71 % | 87 % | 70 % | 69 % | 37 % | \n",
       "| S4 | 91 % | 92 % | 92 % | 94 % | 87 % | 79 % | 91 % | 77 % | 77 % | 47 % | \n",
       "| S5 | 82 % | 84 % | 84 % | 88 % | 76 % | 63 % | 82 % | 61 % | 60 % | 28 % | \n",
       "| S6 | 77 % | 79 % | 79 % | 84 % | 70 % | 55 % | 77 % | 53 % | 52 % | 22 % | \n",
       "| S7 | 71 % | 73 % | 73 % | 79 % | 62 % | 47 % | 71 % | 45 % | 44 % | 17 % | \n",
       "| S8 | 91 % | 92 % | 92 % | 94 % | 87 % | 79 % | 91 % | 77 % | 77 % | 47 % | \n",
       "| S9 | 87 % | 88 % | 88 % | 91 % | 82 % | 71 % | 87 % | 70 % | 69 % | 37 % | \n",
       "| S10 | 71 % | 73 % | 73 % | 79 % | 62 % | 47 % | 71 % | 45 % | 44 % | 17 % | \n",
       "| S11 | 82 % | 84 % | 84 % | 88 % | 76 % | 63 % | 82 % | 61 % | 60 % | 28 % | \n",
       "| S12 | 71 % | 73 % | 73 % | 79 % | 62 % | 47 % | 71 % | 45 % | 44 % | 17 % | \n",
       "| S13 | 71 % | 73 % | 73 % | 79 % | 62 % | 47 % | 71 % | 45 % | 44 % | 17 % | \n",
       "| S14 | 87 % | 88 % | 88 % | 91 % | 82 % | 71 % | 87 % | 70 % | 69 % | 37 % | \n",
       "| S15 | 87 % | 88 % | 88 % | 91 % | 82 % | 71 % | 87 % | 70 % | 69 % | 37 % | \n",
       "| S16 | 77 % | 79 % | 79 % | 84 % | 70 % | 55 % | 77 % | 53 % | 52 % | 22 % | \n",
       "| S17 | 87 % | 88 % | 88 % | 91 % | 82 % | 71 % | 87 % | 70 % | 69 % | 37 % | \n",
       "| S18 | 87 % | 88 % | 88 % | 91 % | 82 % | 71 % | 87 % | 70 % | 69 % | 37 % | \n",
       "| S19 | 64 % | 67 % | 67 % | 73 % | 55 % | 39 % | 64 % | 37 % | 36 % | 13 % | \n",
       "| S20 | 91 % | 92 % | 92 % | 94 % | 87 % | 79 % | 91 % | 77 % | 77 % | 47 % | \n",
       "| S21 | 91 % | 92 % | 92 % | 94 % | 87 % | 79 % | 91 % | 77 % | 77 % | 47 % | \n",
       "| S22 | 77 % | 79 % | 79 % | 84 % | 70 % | 55 % | 77 % | 53 % | 52 % | 22 % | \n",
       "| S23 | 82 % | 84 % | 84 % | 88 % | 76 % | 63 % | 82 % | 61 % | 60 % | 28 % | \n",
       "| S24 | 87 % | 88 % | 88 % | 91 % | 82 % | 71 % | 87 % | 70 % | 69 % | 37 % | \n",
       "| S25 | 91 % | 92 % | 92 % | 94 % | 87 % | 79 % | 91 % | 77 % | 77 % | 47 % | \n",
       "\n",
       "\n"
      ],
      "text/plain": [
       "    e1   e2   e3   e4   e5   e6   e7   e8   e9   e10 \n",
       "S1  32 % 35 % 35 % 42 % 24 % 14 % 32 % 13 % 13 % 3 % \n",
       "S2  94 % 95 % 95 % 96 % 92 % 86 % 94 % 85 % 84 % 59 %\n",
       "S3  87 % 88 % 88 % 91 % 82 % 71 % 87 % 70 % 69 % 37 %\n",
       "S4  91 % 92 % 92 % 94 % 87 % 79 % 91 % 77 % 77 % 47 %\n",
       "S5  82 % 84 % 84 % 88 % 76 % 63 % 82 % 61 % 60 % 28 %\n",
       "S6  77 % 79 % 79 % 84 % 70 % 55 % 77 % 53 % 52 % 22 %\n",
       "S7  71 % 73 % 73 % 79 % 62 % 47 % 71 % 45 % 44 % 17 %\n",
       "S8  91 % 92 % 92 % 94 % 87 % 79 % 91 % 77 % 77 % 47 %\n",
       "S9  87 % 88 % 88 % 91 % 82 % 71 % 87 % 70 % 69 % 37 %\n",
       "S10 71 % 73 % 73 % 79 % 62 % 47 % 71 % 45 % 44 % 17 %\n",
       "S11 82 % 84 % 84 % 88 % 76 % 63 % 82 % 61 % 60 % 28 %\n",
       "S12 71 % 73 % 73 % 79 % 62 % 47 % 71 % 45 % 44 % 17 %\n",
       "S13 71 % 73 % 73 % 79 % 62 % 47 % 71 % 45 % 44 % 17 %\n",
       "S14 87 % 88 % 88 % 91 % 82 % 71 % 87 % 70 % 69 % 37 %\n",
       "S15 87 % 88 % 88 % 91 % 82 % 71 % 87 % 70 % 69 % 37 %\n",
       "S16 77 % 79 % 79 % 84 % 70 % 55 % 77 % 53 % 52 % 22 %\n",
       "S17 87 % 88 % 88 % 91 % 82 % 71 % 87 % 70 % 69 % 37 %\n",
       "S18 87 % 88 % 88 % 91 % 82 % 71 % 87 % 70 % 69 % 37 %\n",
       "S19 64 % 67 % 67 % 73 % 55 % 39 % 64 % 37 % 36 % 13 %\n",
       "S20 91 % 92 % 92 % 94 % 87 % 79 % 91 % 77 % 77 % 47 %\n",
       "S21 91 % 92 % 92 % 94 % 87 % 79 % 91 % 77 % 77 % 47 %\n",
       "S22 77 % 79 % 79 % 84 % 70 % 55 % 77 % 53 % 52 % 22 %\n",
       "S23 82 % 84 % 84 % 88 % 76 % 63 % 82 % 61 % 60 % 28 %\n",
       "S24 87 % 88 % 88 % 91 % 82 % 71 % 87 % 70 % 69 % 37 %\n",
       "S25 91 % 92 % 92 % 94 % 87 % 79 % 91 % 77 % 77 % 47 %"
      ]
     },
     "metadata": {},
     "output_type": "display_data"
    }
   ],
   "source": [
    "# Calcolo la tabella di probabilità che ogni studente risponda correttamente ad ogni test usando il discriminante non vincolato\n",
    "dfP <- calcProbabilites(datiDichot, difficDichotF, abil)\n",
    "\n",
    "# Visualizzo la tabella più semplicemente\n",
    "showProbabilities(dfP)"
   ]
  },
  {
   "cell_type": "code",
   "execution_count": 12,
   "metadata": {},
   "outputs": [
    {
     "data": {
      "text/html": [
       "<table>\n",
       "<thead><tr><th></th><th scope=col>e1</th><th scope=col>e2</th><th scope=col>e3</th><th scope=col>e4</th><th scope=col>e5</th><th scope=col>e6</th><th scope=col>e7</th><th scope=col>e8</th><th scope=col>e9</th><th scope=col>e10</th></tr></thead>\n",
       "<tbody>\n",
       "\t<tr><th scope=row>S1</th><td>30 %</td><td>32 %</td><td>33 %</td><td>39 %</td><td>23 %</td><td>14 %</td><td>30 %</td><td>13 %</td><td>13 %</td><td>4 % </td></tr>\n",
       "\t<tr><th scope=row>S2</th><td>93 %</td><td>94 %</td><td>94 %</td><td>95 %</td><td>91 %</td><td>85 %</td><td>93 %</td><td>84 %</td><td>84 %</td><td>60 %</td></tr>\n",
       "\t<tr><th scope=row>S3</th><td>86 %</td><td>87 %</td><td>87 %</td><td>90 %</td><td>81 %</td><td>71 %</td><td>86 %</td><td>69 %</td><td>68 %</td><td>38 %</td></tr>\n",
       "\t<tr><th scope=row>S4</th><td>90 %</td><td>91 %</td><td>91 %</td><td>93 %</td><td>87 %</td><td>78 %</td><td>90 %</td><td>77 %</td><td>76 %</td><td>48 %</td></tr>\n",
       "\t<tr><th scope=row>S5</th><td>81 %</td><td>83 %</td><td>83 %</td><td>86 %</td><td>75 %</td><td>62 %</td><td>81 %</td><td>60 %</td><td>60 %</td><td>29 %</td></tr>\n",
       "\t<tr><th scope=row>S6</th><td>75 %</td><td>77 %</td><td>77 %</td><td>82 %</td><td>68 %</td><td>54 %</td><td>75 %</td><td>52 %</td><td>51 %</td><td>23 %</td></tr>\n",
       "\t<tr><th scope=row>S7</th><td>69 %</td><td>71 %</td><td>71 %</td><td>77 %</td><td>61 %</td><td>46 %</td><td>69 %</td><td>44 %</td><td>43 %</td><td>17 %</td></tr>\n",
       "\t<tr><th scope=row>S8</th><td>90 %</td><td>91 %</td><td>91 %</td><td>93 %</td><td>87 %</td><td>78 %</td><td>90 %</td><td>77 %</td><td>76 %</td><td>48 %</td></tr>\n",
       "\t<tr><th scope=row>S9</th><td>86 %</td><td>87 %</td><td>87 %</td><td>90 %</td><td>81 %</td><td>71 %</td><td>86 %</td><td>69 %</td><td>68 %</td><td>38 %</td></tr>\n",
       "\t<tr><th scope=row>S10</th><td>69 %</td><td>71 %</td><td>71 %</td><td>77 %</td><td>61 %</td><td>46 %</td><td>69 %</td><td>44 %</td><td>43 %</td><td>17 %</td></tr>\n",
       "\t<tr><th scope=row>S11</th><td>81 %</td><td>83 %</td><td>83 %</td><td>86 %</td><td>75 %</td><td>62 %</td><td>81 %</td><td>60 %</td><td>60 %</td><td>29 %</td></tr>\n",
       "\t<tr><th scope=row>S12</th><td>69 %</td><td>71 %</td><td>71 %</td><td>77 %</td><td>61 %</td><td>46 %</td><td>69 %</td><td>44 %</td><td>43 %</td><td>17 %</td></tr>\n",
       "\t<tr><th scope=row>S13</th><td>69 %</td><td>71 %</td><td>71 %</td><td>77 %</td><td>61 %</td><td>46 %</td><td>69 %</td><td>44 %</td><td>43 %</td><td>17 %</td></tr>\n",
       "\t<tr><th scope=row>S14</th><td>86 %</td><td>87 %</td><td>87 %</td><td>90 %</td><td>81 %</td><td>71 %</td><td>86 %</td><td>69 %</td><td>68 %</td><td>38 %</td></tr>\n",
       "\t<tr><th scope=row>S15</th><td>86 %</td><td>87 %</td><td>87 %</td><td>90 %</td><td>81 %</td><td>71 %</td><td>86 %</td><td>69 %</td><td>68 %</td><td>38 %</td></tr>\n",
       "\t<tr><th scope=row>S16</th><td>75 %</td><td>77 %</td><td>77 %</td><td>82 %</td><td>68 %</td><td>54 %</td><td>75 %</td><td>52 %</td><td>51 %</td><td>23 %</td></tr>\n",
       "\t<tr><th scope=row>S17</th><td>86 %</td><td>87 %</td><td>87 %</td><td>90 %</td><td>81 %</td><td>71 %</td><td>86 %</td><td>69 %</td><td>68 %</td><td>38 %</td></tr>\n",
       "\t<tr><th scope=row>S18</th><td>86 %</td><td>87 %</td><td>87 %</td><td>90 %</td><td>81 %</td><td>71 %</td><td>86 %</td><td>69 %</td><td>68 %</td><td>38 %</td></tr>\n",
       "\t<tr><th scope=row>S19</th><td>61 %</td><td>64 %</td><td>64 %</td><td>71 %</td><td>53 %</td><td>38 %</td><td>61 %</td><td>36 %</td><td>35 %</td><td>13 %</td></tr>\n",
       "\t<tr><th scope=row>S20</th><td>90 %</td><td>91 %</td><td>91 %</td><td>93 %</td><td>87 %</td><td>78 %</td><td>90 %</td><td>77 %</td><td>76 %</td><td>48 %</td></tr>\n",
       "\t<tr><th scope=row>S21</th><td>90 %</td><td>91 %</td><td>91 %</td><td>93 %</td><td>87 %</td><td>78 %</td><td>90 %</td><td>77 %</td><td>76 %</td><td>48 %</td></tr>\n",
       "\t<tr><th scope=row>S22</th><td>75 %</td><td>77 %</td><td>77 %</td><td>82 %</td><td>68 %</td><td>54 %</td><td>75 %</td><td>52 %</td><td>51 %</td><td>23 %</td></tr>\n",
       "\t<tr><th scope=row>S23</th><td>81 %</td><td>83 %</td><td>83 %</td><td>86 %</td><td>75 %</td><td>62 %</td><td>81 %</td><td>60 %</td><td>60 %</td><td>29 %</td></tr>\n",
       "\t<tr><th scope=row>S24</th><td>86 %</td><td>87 %</td><td>87 %</td><td>90 %</td><td>81 %</td><td>71 %</td><td>86 %</td><td>69 %</td><td>68 %</td><td>38 %</td></tr>\n",
       "\t<tr><th scope=row>S25</th><td>90 %</td><td>91 %</td><td>91 %</td><td>93 %</td><td>87 %</td><td>78 %</td><td>90 %</td><td>77 %</td><td>76 %</td><td>48 %</td></tr>\n",
       "</tbody>\n",
       "</table>\n"
      ],
      "text/latex": [
       "\\begin{tabular}{r|llllllllll}\n",
       "  & e1 & e2 & e3 & e4 & e5 & e6 & e7 & e8 & e9 & e10\\\\\n",
       "\\hline\n",
       "\tS1 & 30 \\% & 32 \\% & 33 \\% & 39 \\% & 23 \\% & 14 \\% & 30 \\% & 13 \\% & 13 \\% & 4 \\% \\\\\n",
       "\tS2 & 93 \\% & 94 \\% & 94 \\% & 95 \\% & 91 \\% & 85 \\% & 93 \\% & 84 \\% & 84 \\% & 60 \\%\\\\\n",
       "\tS3 & 86 \\% & 87 \\% & 87 \\% & 90 \\% & 81 \\% & 71 \\% & 86 \\% & 69 \\% & 68 \\% & 38 \\%\\\\\n",
       "\tS4 & 90 \\% & 91 \\% & 91 \\% & 93 \\% & 87 \\% & 78 \\% & 90 \\% & 77 \\% & 76 \\% & 48 \\%\\\\\n",
       "\tS5 & 81 \\% & 83 \\% & 83 \\% & 86 \\% & 75 \\% & 62 \\% & 81 \\% & 60 \\% & 60 \\% & 29 \\%\\\\\n",
       "\tS6 & 75 \\% & 77 \\% & 77 \\% & 82 \\% & 68 \\% & 54 \\% & 75 \\% & 52 \\% & 51 \\% & 23 \\%\\\\\n",
       "\tS7 & 69 \\% & 71 \\% & 71 \\% & 77 \\% & 61 \\% & 46 \\% & 69 \\% & 44 \\% & 43 \\% & 17 \\%\\\\\n",
       "\tS8 & 90 \\% & 91 \\% & 91 \\% & 93 \\% & 87 \\% & 78 \\% & 90 \\% & 77 \\% & 76 \\% & 48 \\%\\\\\n",
       "\tS9 & 86 \\% & 87 \\% & 87 \\% & 90 \\% & 81 \\% & 71 \\% & 86 \\% & 69 \\% & 68 \\% & 38 \\%\\\\\n",
       "\tS10 & 69 \\% & 71 \\% & 71 \\% & 77 \\% & 61 \\% & 46 \\% & 69 \\% & 44 \\% & 43 \\% & 17 \\%\\\\\n",
       "\tS11 & 81 \\% & 83 \\% & 83 \\% & 86 \\% & 75 \\% & 62 \\% & 81 \\% & 60 \\% & 60 \\% & 29 \\%\\\\\n",
       "\tS12 & 69 \\% & 71 \\% & 71 \\% & 77 \\% & 61 \\% & 46 \\% & 69 \\% & 44 \\% & 43 \\% & 17 \\%\\\\\n",
       "\tS13 & 69 \\% & 71 \\% & 71 \\% & 77 \\% & 61 \\% & 46 \\% & 69 \\% & 44 \\% & 43 \\% & 17 \\%\\\\\n",
       "\tS14 & 86 \\% & 87 \\% & 87 \\% & 90 \\% & 81 \\% & 71 \\% & 86 \\% & 69 \\% & 68 \\% & 38 \\%\\\\\n",
       "\tS15 & 86 \\% & 87 \\% & 87 \\% & 90 \\% & 81 \\% & 71 \\% & 86 \\% & 69 \\% & 68 \\% & 38 \\%\\\\\n",
       "\tS16 & 75 \\% & 77 \\% & 77 \\% & 82 \\% & 68 \\% & 54 \\% & 75 \\% & 52 \\% & 51 \\% & 23 \\%\\\\\n",
       "\tS17 & 86 \\% & 87 \\% & 87 \\% & 90 \\% & 81 \\% & 71 \\% & 86 \\% & 69 \\% & 68 \\% & 38 \\%\\\\\n",
       "\tS18 & 86 \\% & 87 \\% & 87 \\% & 90 \\% & 81 \\% & 71 \\% & 86 \\% & 69 \\% & 68 \\% & 38 \\%\\\\\n",
       "\tS19 & 61 \\% & 64 \\% & 64 \\% & 71 \\% & 53 \\% & 38 \\% & 61 \\% & 36 \\% & 35 \\% & 13 \\%\\\\\n",
       "\tS20 & 90 \\% & 91 \\% & 91 \\% & 93 \\% & 87 \\% & 78 \\% & 90 \\% & 77 \\% & 76 \\% & 48 \\%\\\\\n",
       "\tS21 & 90 \\% & 91 \\% & 91 \\% & 93 \\% & 87 \\% & 78 \\% & 90 \\% & 77 \\% & 76 \\% & 48 \\%\\\\\n",
       "\tS22 & 75 \\% & 77 \\% & 77 \\% & 82 \\% & 68 \\% & 54 \\% & 75 \\% & 52 \\% & 51 \\% & 23 \\%\\\\\n",
       "\tS23 & 81 \\% & 83 \\% & 83 \\% & 86 \\% & 75 \\% & 62 \\% & 81 \\% & 60 \\% & 60 \\% & 29 \\%\\\\\n",
       "\tS24 & 86 \\% & 87 \\% & 87 \\% & 90 \\% & 81 \\% & 71 \\% & 86 \\% & 69 \\% & 68 \\% & 38 \\%\\\\\n",
       "\tS25 & 90 \\% & 91 \\% & 91 \\% & 93 \\% & 87 \\% & 78 \\% & 90 \\% & 77 \\% & 76 \\% & 48 \\%\\\\\n",
       "\\end{tabular}\n"
      ],
      "text/markdown": [
       "\n",
       "| <!--/--> | e1 | e2 | e3 | e4 | e5 | e6 | e7 | e8 | e9 | e10 | \n",
       "|---|---|---|---|---|---|---|---|---|---|---|---|---|---|---|---|---|---|---|---|---|---|---|---|---|\n",
       "| S1 | 30 % | 32 % | 33 % | 39 % | 23 % | 14 % | 30 % | 13 % | 13 % | 4 %  | \n",
       "| S2 | 93 % | 94 % | 94 % | 95 % | 91 % | 85 % | 93 % | 84 % | 84 % | 60 % | \n",
       "| S3 | 86 % | 87 % | 87 % | 90 % | 81 % | 71 % | 86 % | 69 % | 68 % | 38 % | \n",
       "| S4 | 90 % | 91 % | 91 % | 93 % | 87 % | 78 % | 90 % | 77 % | 76 % | 48 % | \n",
       "| S5 | 81 % | 83 % | 83 % | 86 % | 75 % | 62 % | 81 % | 60 % | 60 % | 29 % | \n",
       "| S6 | 75 % | 77 % | 77 % | 82 % | 68 % | 54 % | 75 % | 52 % | 51 % | 23 % | \n",
       "| S7 | 69 % | 71 % | 71 % | 77 % | 61 % | 46 % | 69 % | 44 % | 43 % | 17 % | \n",
       "| S8 | 90 % | 91 % | 91 % | 93 % | 87 % | 78 % | 90 % | 77 % | 76 % | 48 % | \n",
       "| S9 | 86 % | 87 % | 87 % | 90 % | 81 % | 71 % | 86 % | 69 % | 68 % | 38 % | \n",
       "| S10 | 69 % | 71 % | 71 % | 77 % | 61 % | 46 % | 69 % | 44 % | 43 % | 17 % | \n",
       "| S11 | 81 % | 83 % | 83 % | 86 % | 75 % | 62 % | 81 % | 60 % | 60 % | 29 % | \n",
       "| S12 | 69 % | 71 % | 71 % | 77 % | 61 % | 46 % | 69 % | 44 % | 43 % | 17 % | \n",
       "| S13 | 69 % | 71 % | 71 % | 77 % | 61 % | 46 % | 69 % | 44 % | 43 % | 17 % | \n",
       "| S14 | 86 % | 87 % | 87 % | 90 % | 81 % | 71 % | 86 % | 69 % | 68 % | 38 % | \n",
       "| S15 | 86 % | 87 % | 87 % | 90 % | 81 % | 71 % | 86 % | 69 % | 68 % | 38 % | \n",
       "| S16 | 75 % | 77 % | 77 % | 82 % | 68 % | 54 % | 75 % | 52 % | 51 % | 23 % | \n",
       "| S17 | 86 % | 87 % | 87 % | 90 % | 81 % | 71 % | 86 % | 69 % | 68 % | 38 % | \n",
       "| S18 | 86 % | 87 % | 87 % | 90 % | 81 % | 71 % | 86 % | 69 % | 68 % | 38 % | \n",
       "| S19 | 61 % | 64 % | 64 % | 71 % | 53 % | 38 % | 61 % | 36 % | 35 % | 13 % | \n",
       "| S20 | 90 % | 91 % | 91 % | 93 % | 87 % | 78 % | 90 % | 77 % | 76 % | 48 % | \n",
       "| S21 | 90 % | 91 % | 91 % | 93 % | 87 % | 78 % | 90 % | 77 % | 76 % | 48 % | \n",
       "| S22 | 75 % | 77 % | 77 % | 82 % | 68 % | 54 % | 75 % | 52 % | 51 % | 23 % | \n",
       "| S23 | 81 % | 83 % | 83 % | 86 % | 75 % | 62 % | 81 % | 60 % | 60 % | 29 % | \n",
       "| S24 | 86 % | 87 % | 87 % | 90 % | 81 % | 71 % | 86 % | 69 % | 68 % | 38 % | \n",
       "| S25 | 90 % | 91 % | 91 % | 93 % | 87 % | 78 % | 90 % | 77 % | 76 % | 48 % | \n",
       "\n",
       "\n"
      ],
      "text/plain": [
       "    e1   e2   e3   e4   e5   e6   e7   e8   e9   e10 \n",
       "S1  30 % 32 % 33 % 39 % 23 % 14 % 30 % 13 % 13 % 4 % \n",
       "S2  93 % 94 % 94 % 95 % 91 % 85 % 93 % 84 % 84 % 60 %\n",
       "S3  86 % 87 % 87 % 90 % 81 % 71 % 86 % 69 % 68 % 38 %\n",
       "S4  90 % 91 % 91 % 93 % 87 % 78 % 90 % 77 % 76 % 48 %\n",
       "S5  81 % 83 % 83 % 86 % 75 % 62 % 81 % 60 % 60 % 29 %\n",
       "S6  75 % 77 % 77 % 82 % 68 % 54 % 75 % 52 % 51 % 23 %\n",
       "S7  69 % 71 % 71 % 77 % 61 % 46 % 69 % 44 % 43 % 17 %\n",
       "S8  90 % 91 % 91 % 93 % 87 % 78 % 90 % 77 % 76 % 48 %\n",
       "S9  86 % 87 % 87 % 90 % 81 % 71 % 86 % 69 % 68 % 38 %\n",
       "S10 69 % 71 % 71 % 77 % 61 % 46 % 69 % 44 % 43 % 17 %\n",
       "S11 81 % 83 % 83 % 86 % 75 % 62 % 81 % 60 % 60 % 29 %\n",
       "S12 69 % 71 % 71 % 77 % 61 % 46 % 69 % 44 % 43 % 17 %\n",
       "S13 69 % 71 % 71 % 77 % 61 % 46 % 69 % 44 % 43 % 17 %\n",
       "S14 86 % 87 % 87 % 90 % 81 % 71 % 86 % 69 % 68 % 38 %\n",
       "S15 86 % 87 % 87 % 90 % 81 % 71 % 86 % 69 % 68 % 38 %\n",
       "S16 75 % 77 % 77 % 82 % 68 % 54 % 75 % 52 % 51 % 23 %\n",
       "S17 86 % 87 % 87 % 90 % 81 % 71 % 86 % 69 % 68 % 38 %\n",
       "S18 86 % 87 % 87 % 90 % 81 % 71 % 86 % 69 % 68 % 38 %\n",
       "S19 61 % 64 % 64 % 71 % 53 % 38 % 61 % 36 % 35 % 13 %\n",
       "S20 90 % 91 % 91 % 93 % 87 % 78 % 90 % 77 % 76 % 48 %\n",
       "S21 90 % 91 % 91 % 93 % 87 % 78 % 90 % 77 % 76 % 48 %\n",
       "S22 75 % 77 % 77 % 82 % 68 % 54 % 75 % 52 % 51 % 23 %\n",
       "S23 81 % 83 % 83 % 86 % 75 % 62 % 81 % 60 % 60 % 29 %\n",
       "S24 86 % 87 % 87 % 90 % 81 % 71 % 86 % 69 % 68 % 38 %\n",
       "S25 90 % 91 % 91 % 93 % 87 % 78 % 90 % 77 % 76 % 48 %"
      ]
     },
     "metadata": {},
     "output_type": "display_data"
    }
   ],
   "source": [
    "# Calcolo la tabella di probabilità che ogni studente risponda correttamente ad ogni test usando il discriminante vincolato ad 1\n",
    "dfP <- calcProbabilites(datiDichot, difficDichotO, abil)\n",
    "\n",
    "# Visualizzo la tabella più semplicemente\n",
    "showProbabilities(dfP)"
   ]
  },
  {
   "cell_type": "code",
   "execution_count": 114,
   "metadata": {},
   "outputs": [],
   "source": [
    "#' Genera una tabella dicotomica\n",
    "#'\n",
    "#' @param diff vettore di difficoltà scelte\n",
    "#' @param abil vettore di abilità scelte\n",
    "#' @return La tabella dicotomica generata\n",
    "#' @examples\n",
    "#' numItems <- 10\n",
    "#' numStudents <- 30\n",
    "#' diffInit <- rnorm(numItems)\n",
    "#' abil <- rnorm(numStudents)\n",
    "#' generateDichot(diffInit, abil)\n",
    "generateDichot <- function(diff, abil) {\n",
    "    items <- data.frame(matrix(0, ncol = length(diff), nrow = length(abil)))\n",
    "    prob <- calcProbabilites(items, diff, abil)\n",
    "\n",
    "    namesCol  <- names(items)\n",
    "    namesRow  <- row.names(items)\n",
    "    for (row in namesRow) {\n",
    "        for (col in namesCol) {\n",
    "            items[row,col] <- rbinom(1, 1, prob[row,col])         \n",
    "        }\n",
    "    }\n",
    "    \n",
    "    items\n",
    "}\n",
    "\n",
    "#' Valuta la bontà del mio stimatore misurando lo scostamento tra le difficoltà o le abilità passate per argomento\n",
    "#'\n",
    "#' @param vect1 vettore di difficoltà o abilità\n",
    "#' @param vect2 vettore di difficoltà o abilità\n",
    "#' @return Data frame con le difficoltà o abilità passate per argomento e lo scostamento rilevato\n",
    "#' @examples\n",
    "#' numItems <- 10\n",
    "#' numStudents <- 30\n",
    "#' bootStrapVal <- 10\n",
    "#' diffInit <- rnorm(numItems)\n",
    "#' abil <- rnorm(numStudents)\n",
    "#' genDic <- generateDichot(diffInit, abil)\n",
    "#' genDicBoot <- bootstrapping(genDic, numStudents * bootStrapVal)\n",
    "#' diffEstim <- estimateDifficultiesDichotFreeDiscrim(genDicBoot)\n",
    "#' validationWithDifference(diffInit, diffEstim)\n",
    "validationWithDifference <- function(vect1, vect2) { \n",
    "    scost <- abs(unlist(lapply(vect1 - vect2 , round, 2)))\n",
    "    compare <- data.frame(vect1, vect2, scost)   \n",
    "    colnames(compare) <- c(\"Vettore 1\",\"Vettore 2\", \"Scostamento\")\n",
    "    compare\n",
    "}\n",
    "\n",
    "#' Valuta la bontà del mio stimatore confrontando graficamente le difficoltà o le abilità passate per argomento\n",
    "#'\n",
    "#' @param vect1 vettore di difficoltà o abilità\n",
    "#' @param vect2 vettore di difficoltà o abilità\n",
    "#' @examples\n",
    "#' numItems <- 10\n",
    "#' numStudents <- 30\n",
    "#' bootStrapVal <- 10\n",
    "#' diffInit <- rnorm(numItems)\n",
    "#' abil <- rnorm(numStudents)\n",
    "#' genDic <- generateDichot(diff, abil)\n",
    "#' genDicBoot <- bootstrapping(genDic, numStudents * bootStrapVal)\n",
    "#' diffEstim <- estimateDifficultiesDichotFreeDiscrim(genDicBoot)\n",
    "#' validationWithPlot(diffInit, diffEstim)\n",
    "validationWithPlot <- function(vect1, vect2) {\n",
    "    plot(vect1,xlim=c(1,length(vect1)),ylim=c(-4,4),type=\"b\",main=\"Comparison plot\",xlab=\"Observations\",ylab=\"Values\",xaxt=\"n\",col=\"red\",pch=16,lwd=2)\n",
    "    axis(1, at = 1:length(vect1), labels = 1:length(vect1))\n",
    "    par(new = TRUE)\n",
    "    plot(vect2, type = \"b\", xlim = c(1,length(vect2)),ylim = c(-4,4), xaxt='n', yaxt = \"n\", xlab = \"\", ylab = \"\", col = \"blue\", pch=16, lwd=2)\n",
    "    legend(1, 3, legend=c(\"Vettore 1\", \"Vettore 2\"), col=c(\"red\", \"blue\"), lty=1, cex=1, lwd=2, pch=16)\n",
    "    NULL\n",
    "}\n",
    "\n",
    "#' Valuta la bontà del mio stimatore calcolando il coefficiente di correlazione lineare\n",
    "#'\n",
    "#' @param vect1 vettore di difficoltà o abilità\n",
    "#' @param vect2 vettore di difficoltà o abilità\n",
    "#' @return Valore numerico compreso tra -1 e 1: se si avvicina a -1 i dati sono correlati negativamente, se si avvicina ad 1 \n",
    "#' i dati sono correlati positivamente e se è un valore vicino a 0 allora non vi è alcun tipo di correlazione lineare\n",
    "#' @examples\n",
    "#' numItems <- 10\n",
    "#' numStudents <- 30\n",
    "#' bootStrapVal <- 10\n",
    "#' diffInit <- rnorm(numItems)\n",
    "#' abil <- rnorm(numStudents)\n",
    "#' genDic <- generateDichot(diff, abil)\n",
    "#' genDicBoot <- bootstrapping(genDic, numStudents * bootStrapVal)\n",
    "#' diffEstim <- estimateDifficultiesDichotFreeDiscrim(genDicBoot)\n",
    "#' validationWithCor(diffInit, diffEstim)\n",
    "validationWithCor <- function(vect1, vect2) {\n",
    "    cor(vect1, vect2)\n",
    "}\n",
    "\n",
    "\n",
    "#' Funzione che permette di generare, stimare, validare e, se richiesto, estendere la tabella generata dagli input\n",
    "#'\n",
    "#' @param diff Vettore di difficoltà \n",
    "#' @param abil Vettore di abilità \n",
    "#' @param generator Funzione generatrice della tabella\n",
    "#' @param estimator Funzione di stima della difficoltà o abilità della tabella generata\n",
    "#' @param validator Funzione per fornire un indicatore della bontà dello stimatore\n",
    "#' @param increaseTable Funzione opzionale di incremento della tabella su cui applicare lo stimatore\n",
    "#' @param valid Indica se il validatore deve essere applicato sulla difficoltà o l'abilità\n",
    "#' @return Lista contenente la tabella generata, le difficoltà o abilità stimate e output del validatore \n",
    "#' @examples\n",
    "#' numItems <- 10\n",
    "#' numStudents <- 30\n",
    "#' bootStrapVal <- 10\n",
    "#' diffInit <- rnorm(numItems)\n",
    "#' abil <- rnorm(numStudents)\n",
    "#' simulate(diffInit, abil, generateDichot, estimateDifficultiesDichotOneDiscrim, validationWithPlot, bootstrapping)\n",
    "#' simulate(diffInit, abil, generateDichot, estimateAbilitiesDichot, validationWithPlot, diffOrAb = \"abil\")\n",
    "simulate <- function(diff, abil, generator, estimator, validator, increaseTable = function(df) df, diffOrAb = \"diff\") {\n",
    "    tabDichot <- generator(diff, abil)\n",
    "    tabDichotBoot <- increaseTable(tabDichot)  \n",
    "    estim <- estimator(tabDichotBoot)\n",
    "    \n",
    "    if(diffOrAb == \"diff\"){        \n",
    "        valid <- validator(diff, estim)\n",
    "    }\n",
    "    else if(diffOrAb == \"abil\"){        \n",
    "        valid <- validator(abil, estim)\n",
    "    }\n",
    "    \n",
    "    list(tabDichot, estim, valid)\n",
    "}"
   ]
  },
  {
   "cell_type": "code",
   "execution_count": 66,
   "metadata": {
    "collapsed": true
   },
   "outputs": [],
   "source": [
    "# Definisco il numero di items, il numero di studenti ed quante estrazioni effettuare rispetto al numero di studenti\n",
    "numItems <- 10\n",
    "numStudents <- 40 \n",
    "bootStrapVal <- 15\n",
    "\n",
    "# Genero randomicamente difficolà e abilità\n",
    "diff <- rnorm(numItems)\n",
    "abil <- rnorm(numStudents)\n",
    "\n",
    "# Genero la tabella dicotomica e vi applico il bootstrapping\n",
    "genDic <- generateDichot(diff, abil)\n",
    "genDicBoot <- bootstrapping(genDic, numStudents * bootStrapVal)\n",
    "\n",
    "# Stimo le difficoltà con entrambi i metodi\n",
    "esDiffO <- estimateDifficultiesDichotOneDiscrim(genDic)\n",
    "esDiffF <- estimateDifficultiesDichotFreeDiscrim(genDic)\n",
    "esAbil <- estimateAbilitiesDichot(genDic)"
   ]
  },
  {
   "cell_type": "code",
   "execution_count": 67,
   "metadata": {
    "scrolled": false
   },
   "outputs": [
    {
     "data": {
      "text/html": [
       "<table>\n",
       "<thead><tr><th scope=col>Vettore 1</th><th scope=col>Vettore 2</th><th scope=col>Scostamento</th></tr></thead>\n",
       "<tbody>\n",
       "\t<tr><td>-1.3331221  </td><td>-1.342818942</td><td>0.01        </td></tr>\n",
       "\t<tr><td>-1.6786955  </td><td>-2.334183789</td><td>0.66        </td></tr>\n",
       "\t<tr><td> 0.3495336  </td><td> 0.131047041</td><td>0.22        </td></tr>\n",
       "\t<tr><td>-0.3960620  </td><td>-1.038327697</td><td>0.64        </td></tr>\n",
       "\t<tr><td>-0.9156325  </td><td>-1.342724789</td><td>0.43        </td></tr>\n",
       "\t<tr><td> 0.4466848  </td><td>-0.368071618</td><td>0.81        </td></tr>\n",
       "\t<tr><td> 1.0409138  </td><td> 0.769269425</td><td>0.27        </td></tr>\n",
       "\t<tr><td> 2.2605679  </td><td> 1.346061933</td><td>0.91        </td></tr>\n",
       "\t<tr><td> 0.4016872  </td><td> 0.007342756</td><td>0.39        </td></tr>\n",
       "\t<tr><td>-2.7435525  </td><td>-3.434608509</td><td>0.69        </td></tr>\n",
       "</tbody>\n",
       "</table>\n"
      ],
      "text/latex": [
       "\\begin{tabular}{r|lll}\n",
       " Vettore 1 & Vettore 2 & Scostamento\\\\\n",
       "\\hline\n",
       "\t -1.3331221   & -1.342818942 & 0.01        \\\\\n",
       "\t -1.6786955   & -2.334183789 & 0.66        \\\\\n",
       "\t  0.3495336   &  0.131047041 & 0.22        \\\\\n",
       "\t -0.3960620   & -1.038327697 & 0.64        \\\\\n",
       "\t -0.9156325   & -1.342724789 & 0.43        \\\\\n",
       "\t  0.4466848   & -0.368071618 & 0.81        \\\\\n",
       "\t  1.0409138   &  0.769269425 & 0.27        \\\\\n",
       "\t  2.2605679   &  1.346061933 & 0.91        \\\\\n",
       "\t  0.4016872   &  0.007342756 & 0.39        \\\\\n",
       "\t -2.7435525   & -3.434608509 & 0.69        \\\\\n",
       "\\end{tabular}\n"
      ],
      "text/markdown": [
       "\n",
       "Vettore 1 | Vettore 2 | Scostamento | \n",
       "|---|---|---|---|---|---|---|---|---|---|\n",
       "| -1.3331221   | -1.342818942 | 0.01         | \n",
       "| -1.6786955   | -2.334183789 | 0.66         | \n",
       "|  0.3495336   |  0.131047041 | 0.22         | \n",
       "| -0.3960620   | -1.038327697 | 0.64         | \n",
       "| -0.9156325   | -1.342724789 | 0.43         | \n",
       "|  0.4466848   | -0.368071618 | 0.81         | \n",
       "|  1.0409138   |  0.769269425 | 0.27         | \n",
       "|  2.2605679   |  1.346061933 | 0.91         | \n",
       "|  0.4016872   |  0.007342756 | 0.39         | \n",
       "| -2.7435525   | -3.434608509 | 0.69         | \n",
       "\n",
       "\n"
      ],
      "text/plain": [
       "   Vettore 1  Vettore 2    Scostamento\n",
       "1  -1.3331221 -1.342818942 0.01       \n",
       "2  -1.6786955 -2.334183789 0.66       \n",
       "3   0.3495336  0.131047041 0.22       \n",
       "4  -0.3960620 -1.038327697 0.64       \n",
       "5  -0.9156325 -1.342724789 0.43       \n",
       "6   0.4466848 -0.368071618 0.81       \n",
       "7   1.0409138  0.769269425 0.27       \n",
       "8   2.2605679  1.346061933 0.91       \n",
       "9   0.4016872  0.007342756 0.39       \n",
       "10 -2.7435525 -3.434608509 0.69       "
      ]
     },
     "metadata": {},
     "output_type": "display_data"
    },
    {
     "data": {
      "text/plain": [
       "NULL"
      ]
     },
     "metadata": {},
     "output_type": "display_data"
    },
    {
     "data": {
      "text/html": [
       "'Coefficiente di correlazione lineare: 0.980507986845975'"
      ],
      "text/latex": [
       "'Coefficiente di correlazione lineare: 0.980507986845975'"
      ],
      "text/markdown": [
       "'Coefficiente di correlazione lineare: 0.980507986845975'"
      ],
      "text/plain": [
       "[1] \"Coefficiente di correlazione lineare: 0.980507986845975\""
      ]
     },
     "metadata": {},
     "output_type": "display_data"
    },
    {
     "data": {
      "image/png": "[encoded data removed]",
      "text/plain": [
       "Plot with title \"Comparison plot\""
      ]
     },
     "metadata": {},
     "output_type": "display_data"
    }
   ],
   "source": [
    "# Confronto le difficoltà iniziali e quelle stimate fissando il discriminante ad 1\n",
    "validationWithDifference(diff, esDiffO)\n",
    "validationWithPlot(diff, esDiffO)\n",
    "paste(\"Coefficiente di correlazione lineare:\",validationWithCor(diff, esDiffO))"
   ]
  },
  {
   "cell_type": "code",
   "execution_count": 68,
   "metadata": {},
   "outputs": [
    {
     "data": {
      "text/html": [
       "<table>\n",
       "<thead><tr><th scope=col>Vettore 1</th><th scope=col>Vettore 2</th><th scope=col>Scostamento</th></tr></thead>\n",
       "<tbody>\n",
       "\t<tr><td>-1.3331221  </td><td>-1.142681309</td><td>0.19        </td></tr>\n",
       "\t<tr><td>-1.6786955  </td><td>-1.980622905</td><td>0.30        </td></tr>\n",
       "\t<tr><td> 0.3495336  </td><td> 0.112612424</td><td>0.24        </td></tr>\n",
       "\t<tr><td>-0.3960620  </td><td>-0.884076331</td><td>0.49        </td></tr>\n",
       "\t<tr><td>-0.9156325  </td><td>-1.142679118</td><td>0.23        </td></tr>\n",
       "\t<tr><td> 0.4466848  </td><td>-0.312705973</td><td>0.76        </td></tr>\n",
       "\t<tr><td> 1.0409138  </td><td> 0.655973586</td><td>0.38        </td></tr>\n",
       "\t<tr><td> 2.2605679  </td><td> 1.145602957</td><td>1.11        </td></tr>\n",
       "\t<tr><td> 0.4016872  </td><td> 0.006899732</td><td>0.39        </td></tr>\n",
       "\t<tr><td>-2.7435525  </td><td>-2.898903216</td><td>0.16        </td></tr>\n",
       "</tbody>\n",
       "</table>\n"
      ],
      "text/latex": [
       "\\begin{tabular}{r|lll}\n",
       " Vettore 1 & Vettore 2 & Scostamento\\\\\n",
       "\\hline\n",
       "\t -1.3331221   & -1.142681309 & 0.19        \\\\\n",
       "\t -1.6786955   & -1.980622905 & 0.30        \\\\\n",
       "\t  0.3495336   &  0.112612424 & 0.24        \\\\\n",
       "\t -0.3960620   & -0.884076331 & 0.49        \\\\\n",
       "\t -0.9156325   & -1.142679118 & 0.23        \\\\\n",
       "\t  0.4466848   & -0.312705973 & 0.76        \\\\\n",
       "\t  1.0409138   &  0.655973586 & 0.38        \\\\\n",
       "\t  2.2605679   &  1.145602957 & 1.11        \\\\\n",
       "\t  0.4016872   &  0.006899732 & 0.39        \\\\\n",
       "\t -2.7435525   & -2.898903216 & 0.16        \\\\\n",
       "\\end{tabular}\n"
      ],
      "text/markdown": [
       "\n",
       "Vettore 1 | Vettore 2 | Scostamento | \n",
       "|---|---|---|---|---|---|---|---|---|---|\n",
       "| -1.3331221   | -1.142681309 | 0.19         | \n",
       "| -1.6786955   | -1.980622905 | 0.30         | \n",
       "|  0.3495336   |  0.112612424 | 0.24         | \n",
       "| -0.3960620   | -0.884076331 | 0.49         | \n",
       "| -0.9156325   | -1.142679118 | 0.23         | \n",
       "|  0.4466848   | -0.312705973 | 0.76         | \n",
       "|  1.0409138   |  0.655973586 | 0.38         | \n",
       "|  2.2605679   |  1.145602957 | 1.11         | \n",
       "|  0.4016872   |  0.006899732 | 0.39         | \n",
       "| -2.7435525   | -2.898903216 | 0.16         | \n",
       "\n",
       "\n"
      ],
      "text/plain": [
       "   Vettore 1  Vettore 2    Scostamento\n",
       "1  -1.3331221 -1.142681309 0.19       \n",
       "2  -1.6786955 -1.980622905 0.30       \n",
       "3   0.3495336  0.112612424 0.24       \n",
       "4  -0.3960620 -0.884076331 0.49       \n",
       "5  -0.9156325 -1.142679118 0.23       \n",
       "6   0.4466848 -0.312705973 0.76       \n",
       "7   1.0409138  0.655973586 0.38       \n",
       "8   2.2605679  1.145602957 1.11       \n",
       "9   0.4016872  0.006899732 0.39       \n",
       "10 -2.7435525 -2.898903216 0.16       "
      ]
     },
     "metadata": {},
     "output_type": "display_data"
    },
    {
     "data": {
      "text/plain": [
       "NULL"
      ]
     },
     "metadata": {},
     "output_type": "display_data"
    },
    {
     "data": {
      "text/html": [
       "'Coefficiente di correlazione lineare: 0.98076217973898'"
      ],
      "text/latex": [
       "'Coefficiente di correlazione lineare: 0.98076217973898'"
      ],
      "text/markdown": [
       "'Coefficiente di correlazione lineare: 0.98076217973898'"
      ],
      "text/plain": [
       "[1] \"Coefficiente di correlazione lineare: 0.98076217973898\""
      ]
     },
     "metadata": {},
     "output_type": "display_data"
    },
    {
     "data": {
      "image/png": "[encoded data removed]",
      "text/plain": [
       "Plot with title \"Comparison plot\""
      ]
     },
     "metadata": {},
     "output_type": "display_data"
    }
   ],
   "source": [
    "# Confronto le difficoltà iniziali e quelle stimate senza fissare il discriminante\n",
    "validationWithDifference(diff, esDiffF)\n",
    "validationWithPlot(diff, esDiffF)\n",
    "paste(\"Coefficiente di correlazione lineare:\",validationWithCor(diff, esDiffF))"
   ]
  },
  {
   "cell_type": "code",
   "execution_count": 69,
   "metadata": {},
   "outputs": [
    {
     "data": {
      "text/plain": [
       "NULL"
      ]
     },
     "metadata": {},
     "output_type": "display_data"
    },
    {
     "data": {
      "text/html": [
       "'Coefficiente di correlazione lineare: 0.999990813819062'"
      ],
      "text/latex": [
       "'Coefficiente di correlazione lineare: 0.999990813819062'"
      ],
      "text/markdown": [
       "'Coefficiente di correlazione lineare: 0.999990813819062'"
      ],
      "text/plain": [
       "[1] \"Coefficiente di correlazione lineare: 0.999990813819062\""
      ]
     },
     "metadata": {},
     "output_type": "display_data"
    },
    {
     "data": {
      "image/png": "[encoded data removed]",
      "text/plain": [
       "Plot with title \"Comparison plot\""
      ]
     },
     "metadata": {},
     "output_type": "display_data"
    }
   ],
   "source": [
    "# Confronto le difficoltà stimate fissando il discriminante ad 1 con quelle stimate senza fissarlo\n",
    "validationWithPlot(esDiffF, esDiffO)\n",
    "paste(\"Coefficiente di correlazione lineare:\",validationWithCor(esDiffF, esDiffO))"
   ]
  },
  {
   "cell_type": "code",
   "execution_count": 71,
   "metadata": {},
   "outputs": [
    {
     "data": {
      "text/plain": [
       "NULL"
      ]
     },
     "metadata": {},
     "output_type": "display_data"
    },
    {
     "data": {
      "text/html": [
       "'Coefficiente di correlazione lineare: 0.830675943093599'"
      ],
      "text/latex": [
       "'Coefficiente di correlazione lineare: 0.830675943093599'"
      ],
      "text/markdown": [
       "'Coefficiente di correlazione lineare: 0.830675943093599'"
      ],
      "text/plain": [
       "[1] \"Coefficiente di correlazione lineare: 0.830675943093599\""
      ]
     },
     "metadata": {},
     "output_type": "display_data"
    },
    {
     "data": {
      "image/png": "[encoded data removed]",
      "text/plain": [
       "Plot with title \"Comparison plot\""
      ]
     },
     "metadata": {},
     "output_type": "display_data"
    }
   ],
   "source": [
    "# Confronto le abilità iniziali e quelle stimate\n",
    "validationWithPlot(abil, esAbil)\n",
    "paste(\"Coefficiente di correlazione lineare:\",validationWithCor(abil, esAbil))"
   ]
  },
  {
   "cell_type": "code",
   "execution_count": null,
   "metadata": {
    "collapsed": true
   },
   "outputs": [],
   "source": []
  },
  {
   "cell_type": "code",
   "execution_count": null,
   "metadata": {
    "collapsed": true
   },
   "outputs": [],
   "source": []
  },
  {
   "cell_type": "code",
   "execution_count": null,
   "metadata": {
    "collapsed": true
   },
   "outputs": [],
   "source": []
  },
  {
   "cell_type": "code",
   "execution_count": null,
   "metadata": {
    "collapsed": true
   },
   "outputs": [],
   "source": []
  },
  {
   "cell_type": "code",
   "execution_count": null,
   "metadata": {
    "collapsed": true
   },
   "outputs": [],
   "source": []
  },
  {
   "cell_type": "code",
   "execution_count": null,
   "metadata": {
    "collapsed": true
   },
   "outputs": [],
   "source": []
  },
  {
   "cell_type": "code",
   "execution_count": 240,
   "metadata": {
    "collapsed": true
   },
   "outputs": [],
   "source": [
    "# caricare i dati\n",
    "source(\"data.R\")"
   ]
  },
  {
   "cell_type": "code",
   "execution_count": 241,
   "metadata": {},
   "outputs": [
    {
     "data": {
      "text/html": [
       "<ol class=list-inline>\n",
       "\t<li>'170126'</li>\n",
       "\t<li>'170216'</li>\n",
       "\t<li>'170613'</li>\n",
       "\t<li>'170711'</li>\n",
       "\t<li>'170914'</li>\n",
       "\t<li>'laboratorio_01'</li>\n",
       "\t<li>'laboratorio_02'</li>\n",
       "\t<li>'laboratorio_03'</li>\n",
       "\t<li>'laboratorio_04'</li>\n",
       "\t<li>'laboratorio_05'</li>\n",
       "\t<li>'laboratorio_06'</li>\n",
       "\t<li>'laboratorio_07'</li>\n",
       "</ol>\n"
      ],
      "text/latex": [
       "\\begin{enumerate*}\n",
       "\\item '170126'\n",
       "\\item '170216'\n",
       "\\item '170613'\n",
       "\\item '170711'\n",
       "\\item '170914'\n",
       "\\item 'laboratorio\\_01'\n",
       "\\item 'laboratorio\\_02'\n",
       "\\item 'laboratorio\\_03'\n",
       "\\item 'laboratorio\\_04'\n",
       "\\item 'laboratorio\\_05'\n",
       "\\item 'laboratorio\\_06'\n",
       "\\item 'laboratorio\\_07'\n",
       "\\end{enumerate*}\n"
      ],
      "text/markdown": [
       "1. '170126'\n",
       "2. '170216'\n",
       "3. '170613'\n",
       "4. '170711'\n",
       "5. '170914'\n",
       "6. 'laboratorio_01'\n",
       "7. 'laboratorio_02'\n",
       "8. 'laboratorio_03'\n",
       "9. 'laboratorio_04'\n",
       "10. 'laboratorio_05'\n",
       "11. 'laboratorio_06'\n",
       "12. 'laboratorio_07'\n",
       "\n",
       "\n"
      ],
      "text/plain": [
       " [1] \"170126\"         \"170216\"         \"170613\"         \"170711\"        \n",
       " [5] \"170914\"         \"laboratorio_01\" \"laboratorio_02\" \"laboratorio_03\"\n",
       " [9] \"laboratorio_04\" \"laboratorio_05\" \"laboratorio_06\" \"laboratorio_07\""
      ]
     },
     "metadata": {},
     "output_type": "display_data"
    }
   ],
   "source": [
    "# elenco delle sessioni d’esame\n",
    "sessions"
   ]
  },
  {
   "cell_type": "code",
   "execution_count": 242,
   "metadata": {},
   "outputs": [
    {
     "data": {
      "text/html": [
       "<table>\n",
       "<thead><tr><th></th><th scope=col>cases</th></tr></thead>\n",
       "<tbody>\n",
       "\t<tr><th scope=row>01-censura_la_prima</th><td>5</td></tr>\n",
       "\t<tr><th scope=row>02-studiare_stanca</th><td>5</td></tr>\n",
       "\t<tr><th scope=row>03-piramide_di_numeri</th><td>5</td></tr>\n",
       "\t<tr><th scope=row>04-disegna_serpente</th><td>4</td></tr>\n",
       "\t<tr><th scope=row>05-stampante_configurabile</th><td>5</td></tr>\n",
       "\t<tr><th scope=row>06-righello_orizzontale</th><td>6</td></tr>\n",
       "</tbody>\n",
       "</table>\n"
      ],
      "text/latex": [
       "\\begin{tabular}{r|l}\n",
       "  & cases\\\\\n",
       "\\hline\n",
       "\t01-censura\\_la\\_prima & 5\\\\\n",
       "\t02-studiare\\_stanca & 5\\\\\n",
       "\t03-piramide\\_di\\_numeri & 5\\\\\n",
       "\t04-disegna\\_serpente & 4\\\\\n",
       "\t05-stampante\\_configurabile & 5\\\\\n",
       "\t06-righello\\_orizzontale & 6\\\\\n",
       "\\end{tabular}\n"
      ],
      "text/markdown": [
       "\n",
       "| <!--/--> | cases | \n",
       "|---|---|---|---|---|---|\n",
       "| 01-censura_la_prima | 5 | \n",
       "| 02-studiare_stanca | 5 | \n",
       "| 03-piramide_di_numeri | 5 | \n",
       "| 04-disegna_serpente | 4 | \n",
       "| 05-stampante_configurabile | 5 | \n",
       "| 06-righello_orizzontale | 6 | \n",
       "\n",
       "\n"
      ],
      "text/plain": [
       "                            \n",
       "exercise                     cases\n",
       "  01-censura_la_prima        5    \n",
       "  02-studiare_stanca         5    \n",
       "  03-piramide_di_numeri      5    \n",
       "  04-disegna_serpente        4    \n",
       "  05-stampante_configurabile 5    \n",
       "  06-righello_orizzontale    6    "
      ]
     },
     "metadata": {},
     "output_type": "display_data"
    }
   ],
   "source": [
    "# matrice che riporta, per ogni esercizio della sessione SESSION il numero dei testcase\n",
    "cases_170126"
   ]
  },
  {
   "cell_type": "code",
   "execution_count": 243,
   "metadata": {
    "collapsed": true
   },
   "outputs": [],
   "source": [
    "# matrice 3d che riporta, per ogni studente ed esercizio, nelle varie dimensioni:\n",
    "#    - se ha consegnato,\n",
    "#    - se compila,\n",
    "#    - quanti errori di esecuzione ci sono,\n",
    "#    - quanti testcase che mostrano differenze col risultato atteso,\n",
    "#    - quanti testcase funzionanno"
   ]
  },
  {
   "cell_type": "code",
   "execution_count": 244,
   "metadata": {},
   "outputs": [
    {
     "data": {
      "text/html": [
       "<table>\n",
       "<thead><tr><th></th><th scope=col>uploaded</th><th scope=col>compiles</th><th scope=col>errors</th><th scope=col>diffs</th><th scope=col>oks</th></tr></thead>\n",
       "<tbody>\n",
       "\t<tr><th scope=row>01-censura_la_prima</th><td>1 </td><td>1 </td><td> 5</td><td> 0</td><td> 0</td></tr>\n",
       "\t<tr><th scope=row>02-studiare_stanca</th><td>0 </td><td>0 </td><td>NA</td><td>NA</td><td>NA</td></tr>\n",
       "\t<tr><th scope=row>03-piramide_di_numeri</th><td>0 </td><td>0 </td><td>NA</td><td>NA</td><td>NA</td></tr>\n",
       "\t<tr><th scope=row>04-disegna_serpente</th><td>0 </td><td>0 </td><td>NA</td><td>NA</td><td>NA</td></tr>\n",
       "\t<tr><th scope=row>05-stampante_configurabile</th><td>0 </td><td>0 </td><td>NA</td><td>NA</td><td>NA</td></tr>\n",
       "\t<tr><th scope=row>06-righello_orizzontale</th><td>0 </td><td>0 </td><td>NA</td><td>NA</td><td>NA</td></tr>\n",
       "</tbody>\n",
       "</table>\n"
      ],
      "text/latex": [
       "\\begin{tabular}{r|lllll}\n",
       "  & uploaded & compiles & errors & diffs & oks\\\\\n",
       "\\hline\n",
       "\t01-censura\\_la\\_prima & 1  & 1  &  5 &  0 &  0\\\\\n",
       "\t02-studiare\\_stanca & 0  & 0  & NA & NA & NA\\\\\n",
       "\t03-piramide\\_di\\_numeri & 0  & 0  & NA & NA & NA\\\\\n",
       "\t04-disegna\\_serpente & 0  & 0  & NA & NA & NA\\\\\n",
       "\t05-stampante\\_configurabile & 0  & 0  & NA & NA & NA\\\\\n",
       "\t06-righello\\_orizzontale & 0  & 0  & NA & NA & NA\\\\\n",
       "\\end{tabular}\n"
      ],
      "text/markdown": [
       "\n",
       "| <!--/--> | uploaded | compiles | errors | diffs | oks | \n",
       "|---|---|---|---|---|---|\n",
       "| 01-censura_la_prima | 1  | 1  |  5 |  0 |  0 | \n",
       "| 02-studiare_stanca | 0  | 0  | NA | NA | NA | \n",
       "| 03-piramide_di_numeri | 0  | 0  | NA | NA | NA | \n",
       "| 04-disegna_serpente | 0  | 0  | NA | NA | NA | \n",
       "| 05-stampante_configurabile | 0  | 0  | NA | NA | NA | \n",
       "| 06-righello_orizzontale | 0  | 0  | NA | NA | NA | \n",
       "\n",
       "\n"
      ],
      "text/plain": [
       "                            kinds\n",
       "exercises                    uploaded compiles errors diffs oks\n",
       "  01-censura_la_prima        1        1         5      0     0 \n",
       "  02-studiare_stanca         0        0        NA     NA    NA \n",
       "  03-piramide_di_numeri      0        0        NA     NA    NA \n",
       "  04-disegna_serpente        0        0        NA     NA    NA \n",
       "  05-stampante_configurabile 0        0        NA     NA    NA \n",
       "  06-righello_orizzontale    0        0        NA     NA    NA "
      ]
     },
     "metadata": {},
     "output_type": "display_data"
    }
   ],
   "source": [
    "# matrice esercizi x valutazioni i cui elementi rappresentano le informazioni per ogni esercizio dello studente 828035\n",
    "results_170126[\"828035\",,]"
   ]
  },
  {
   "cell_type": "code",
   "execution_count": 245,
   "metadata": {},
   "outputs": [
    {
     "data": {
      "text/html": [
       "<table>\n",
       "<thead><tr><th></th><th scope=col>uploaded</th><th scope=col>compiles</th><th scope=col>errors</th><th scope=col>diffs</th><th scope=col>oks</th></tr></thead>\n",
       "<tbody>\n",
       "\t<tr><th scope=row>828035</th><td>0 </td><td>0 </td><td>NA</td><td>NA</td><td>NA</td></tr>\n",
       "\t<tr><th scope=row>840537</th><td>0 </td><td>0 </td><td>NA</td><td>NA</td><td>NA</td></tr>\n",
       "\t<tr><th scope=row>858673</th><td>1 </td><td>1 </td><td> 0</td><td> 0</td><td> 5</td></tr>\n",
       "\t<tr><th scope=row>871599</th><td>0 </td><td>0 </td><td>NA</td><td>NA</td><td>NA</td></tr>\n",
       "\t<tr><th scope=row>871806</th><td>1 </td><td>1 </td><td> 0</td><td> 2</td><td> 3</td></tr>\n",
       "\t<tr><th scope=row>872868</th><td>0 </td><td>0 </td><td>NA</td><td>NA</td><td>NA</td></tr>\n",
       "\t<tr><th scope=row>873489</th><td>1 </td><td>1 </td><td> 0</td><td> 0</td><td> 5</td></tr>\n",
       "\t<tr><th scope=row>874225</th><td>0 </td><td>0 </td><td>NA</td><td>NA</td><td>NA</td></tr>\n",
       "\t<tr><th scope=row>885299</th><td>1 </td><td>1 </td><td> 0</td><td> 4</td><td> 1</td></tr>\n",
       "\t<tr><th scope=row>885432</th><td>0 </td><td>0 </td><td>NA</td><td>NA</td><td>NA</td></tr>\n",
       "\t<tr><th scope=row>885681</th><td>1 </td><td>1 </td><td> 0</td><td> 0</td><td> 5</td></tr>\n",
       "\t<tr><th scope=row>885778</th><td>1 </td><td>1 </td><td> 0</td><td> 0</td><td> 5</td></tr>\n",
       "\t<tr><th scope=row>885982</th><td>1 </td><td>1 </td><td> 0</td><td> 0</td><td> 5</td></tr>\n",
       "\t<tr><th scope=row>891304</th><td>1 </td><td>1 </td><td> 0</td><td> 3</td><td> 2</td></tr>\n",
       "\t<tr><th scope=row>895687</th><td>0 </td><td>0 </td><td>NA</td><td>NA</td><td>NA</td></tr>\n",
       "\t<tr><th scope=row>900179</th><td>1 </td><td>1 </td><td> 0</td><td> 4</td><td> 1</td></tr>\n",
       "</tbody>\n",
       "</table>\n"
      ],
      "text/latex": [
       "\\begin{tabular}{r|lllll}\n",
       "  & uploaded & compiles & errors & diffs & oks\\\\\n",
       "\\hline\n",
       "\t828035 & 0  & 0  & NA & NA & NA\\\\\n",
       "\t840537 & 0  & 0  & NA & NA & NA\\\\\n",
       "\t858673 & 1  & 1  &  0 &  0 &  5\\\\\n",
       "\t871599 & 0  & 0  & NA & NA & NA\\\\\n",
       "\t871806 & 1  & 1  &  0 &  2 &  3\\\\\n",
       "\t872868 & 0  & 0  & NA & NA & NA\\\\\n",
       "\t873489 & 1  & 1  &  0 &  0 &  5\\\\\n",
       "\t874225 & 0  & 0  & NA & NA & NA\\\\\n",
       "\t885299 & 1  & 1  &  0 &  4 &  1\\\\\n",
       "\t885432 & 0  & 0  & NA & NA & NA\\\\\n",
       "\t885681 & 1  & 1  &  0 &  0 &  5\\\\\n",
       "\t885778 & 1  & 1  &  0 &  0 &  5\\\\\n",
       "\t885982 & 1  & 1  &  0 &  0 &  5\\\\\n",
       "\t891304 & 1  & 1  &  0 &  3 &  2\\\\\n",
       "\t895687 & 0  & 0  & NA & NA & NA\\\\\n",
       "\t900179 & 1  & 1  &  0 &  4 &  1\\\\\n",
       "\\end{tabular}\n"
      ],
      "text/markdown": [
       "\n",
       "| <!--/--> | uploaded | compiles | errors | diffs | oks | \n",
       "|---|---|---|---|---|---|---|---|---|---|---|---|---|---|---|---|\n",
       "| 828035 | 0  | 0  | NA | NA | NA | \n",
       "| 840537 | 0  | 0  | NA | NA | NA | \n",
       "| 858673 | 1  | 1  |  0 |  0 |  5 | \n",
       "| 871599 | 0  | 0  | NA | NA | NA | \n",
       "| 871806 | 1  | 1  |  0 |  2 |  3 | \n",
       "| 872868 | 0  | 0  | NA | NA | NA | \n",
       "| 873489 | 1  | 1  |  0 |  0 |  5 | \n",
       "| 874225 | 0  | 0  | NA | NA | NA | \n",
       "| 885299 | 1  | 1  |  0 |  4 |  1 | \n",
       "| 885432 | 0  | 0  | NA | NA | NA | \n",
       "| 885681 | 1  | 1  |  0 |  0 |  5 | \n",
       "| 885778 | 1  | 1  |  0 |  0 |  5 | \n",
       "| 885982 | 1  | 1  |  0 |  0 |  5 | \n",
       "| 891304 | 1  | 1  |  0 |  3 |  2 | \n",
       "| 895687 | 0  | 0  | NA | NA | NA | \n",
       "| 900179 | 1  | 1  |  0 |  4 |  1 | \n",
       "\n",
       "\n"
      ],
      "text/plain": [
       "        kinds\n",
       "uids     uploaded compiles errors diffs oks\n",
       "  828035 0        0        NA     NA    NA \n",
       "  840537 0        0        NA     NA    NA \n",
       "  858673 1        1         0      0     5 \n",
       "  871599 0        0        NA     NA    NA \n",
       "  871806 1        1         0      2     3 \n",
       "  872868 0        0        NA     NA    NA \n",
       "  873489 1        1         0      0     5 \n",
       "  874225 0        0        NA     NA    NA \n",
       "  885299 1        1         0      4     1 \n",
       "  885432 0        0        NA     NA    NA \n",
       "  885681 1        1         0      0     5 \n",
       "  885778 1        1         0      0     5 \n",
       "  885982 1        1         0      0     5 \n",
       "  891304 1        1         0      3     2 \n",
       "  895687 0        0        NA     NA    NA \n",
       "  900179 1        1         0      4     1 "
      ]
     },
     "metadata": {},
     "output_type": "display_data"
    }
   ],
   "source": [
    "# matrice studenti x valutazioni i cui elementi rappresentano le valutazioni degli studenti nell'esercizio 02-studiare_stanca\n",
    "results_170126[,\"02-studiare_stanca\",]"
   ]
  },
  {
   "cell_type": "code",
   "execution_count": 247,
   "metadata": {},
   "outputs": [
    {
     "data": {
      "text/html": [
       "<table>\n",
       "<thead><tr><th></th><th scope=col>01-censura_la_prima</th><th scope=col>02-studiare_stanca</th><th scope=col>03-piramide_di_numeri</th><th scope=col>04-disegna_serpente</th><th scope=col>05-stampante_configurabile</th><th scope=col>06-righello_orizzontale</th></tr></thead>\n",
       "<tbody>\n",
       "\t<tr><th scope=row>828035</th><td> 0</td><td>NA</td><td>NA</td><td>NA</td><td>NA</td><td>NA</td></tr>\n",
       "\t<tr><th scope=row>840537</th><td> 5</td><td>NA</td><td>NA</td><td>NA</td><td>NA</td><td>NA</td></tr>\n",
       "\t<tr><th scope=row>858673</th><td> 5</td><td> 5</td><td> 5</td><td> 4</td><td> 1</td><td>NA</td></tr>\n",
       "\t<tr><th scope=row>871599</th><td>NA</td><td>NA</td><td>NA</td><td>NA</td><td>NA</td><td>NA</td></tr>\n",
       "\t<tr><th scope=row>871806</th><td> 5</td><td> 3</td><td> 5</td><td> 4</td><td>NA</td><td>NA</td></tr>\n",
       "\t<tr><th scope=row>872868</th><td>NA</td><td>NA</td><td>NA</td><td>NA</td><td>NA</td><td>NA</td></tr>\n",
       "\t<tr><th scope=row>873489</th><td> 5</td><td> 5</td><td>NA</td><td> 0</td><td>NA</td><td>NA</td></tr>\n",
       "\t<tr><th scope=row>874225</th><td> 0</td><td>NA</td><td>NA</td><td>NA</td><td>NA</td><td>NA</td></tr>\n",
       "\t<tr><th scope=row>885299</th><td> 5</td><td> 1</td><td>NA</td><td> 3</td><td>NA</td><td>NA</td></tr>\n",
       "\t<tr><th scope=row>885432</th><td> 5</td><td>NA</td><td>NA</td><td>NA</td><td>NA</td><td>NA</td></tr>\n",
       "\t<tr><th scope=row>885681</th><td> 5</td><td> 5</td><td> 5</td><td> 3</td><td> 0</td><td>NA</td></tr>\n",
       "\t<tr><th scope=row>885778</th><td> 5</td><td> 5</td><td> 5</td><td> 4</td><td> 5</td><td> 2</td></tr>\n",
       "\t<tr><th scope=row>885982</th><td> 5</td><td> 5</td><td> 5</td><td> 4</td><td> 0</td><td>NA</td></tr>\n",
       "\t<tr><th scope=row>891304</th><td> 5</td><td> 2</td><td>NA</td><td>NA</td><td>NA</td><td>NA</td></tr>\n",
       "\t<tr><th scope=row>895687</th><td> 5</td><td>NA</td><td>NA</td><td>NA</td><td>NA</td><td>NA</td></tr>\n",
       "\t<tr><th scope=row>900179</th><td> 5</td><td> 1</td><td> 5</td><td> 4</td><td> 0</td><td>NA</td></tr>\n",
       "</tbody>\n",
       "</table>\n"
      ],
      "text/latex": [
       "\\begin{tabular}{r|llllll}\n",
       "  & 01-censura\\_la\\_prima & 02-studiare\\_stanca & 03-piramide\\_di\\_numeri & 04-disegna\\_serpente & 05-stampante\\_configurabile & 06-righello\\_orizzontale\\\\\n",
       "\\hline\n",
       "\t828035 &  0 & NA & NA & NA & NA & NA\\\\\n",
       "\t840537 &  5 & NA & NA & NA & NA & NA\\\\\n",
       "\t858673 &  5 &  5 &  5 &  4 &  1 & NA\\\\\n",
       "\t871599 & NA & NA & NA & NA & NA & NA\\\\\n",
       "\t871806 &  5 &  3 &  5 &  4 & NA & NA\\\\\n",
       "\t872868 & NA & NA & NA & NA & NA & NA\\\\\n",
       "\t873489 &  5 &  5 & NA &  0 & NA & NA\\\\\n",
       "\t874225 &  0 & NA & NA & NA & NA & NA\\\\\n",
       "\t885299 &  5 &  1 & NA &  3 & NA & NA\\\\\n",
       "\t885432 &  5 & NA & NA & NA & NA & NA\\\\\n",
       "\t885681 &  5 &  5 &  5 &  3 &  0 & NA\\\\\n",
       "\t885778 &  5 &  5 &  5 &  4 &  5 &  2\\\\\n",
       "\t885982 &  5 &  5 &  5 &  4 &  0 & NA\\\\\n",
       "\t891304 &  5 &  2 & NA & NA & NA & NA\\\\\n",
       "\t895687 &  5 & NA & NA & NA & NA & NA\\\\\n",
       "\t900179 &  5 &  1 &  5 &  4 &  0 & NA\\\\\n",
       "\\end{tabular}\n"
      ],
      "text/markdown": [
       "\n",
       "| <!--/--> | 01-censura_la_prima | 02-studiare_stanca | 03-piramide_di_numeri | 04-disegna_serpente | 05-stampante_configurabile | 06-righello_orizzontale | \n",
       "|---|---|---|---|---|---|---|---|---|---|---|---|---|---|---|---|\n",
       "| 828035 |  0 | NA | NA | NA | NA | NA | \n",
       "| 840537 |  5 | NA | NA | NA | NA | NA | \n",
       "| 858673 |  5 |  5 |  5 |  4 |  1 | NA | \n",
       "| 871599 | NA | NA | NA | NA | NA | NA | \n",
       "| 871806 |  5 |  3 |  5 |  4 | NA | NA | \n",
       "| 872868 | NA | NA | NA | NA | NA | NA | \n",
       "| 873489 |  5 |  5 | NA |  0 | NA | NA | \n",
       "| 874225 |  0 | NA | NA | NA | NA | NA | \n",
       "| 885299 |  5 |  1 | NA |  3 | NA | NA | \n",
       "| 885432 |  5 | NA | NA | NA | NA | NA | \n",
       "| 885681 |  5 |  5 |  5 |  3 |  0 | NA | \n",
       "| 885778 |  5 |  5 |  5 |  4 |  5 |  2 | \n",
       "| 885982 |  5 |  5 |  5 |  4 |  0 | NA | \n",
       "| 891304 |  5 |  2 | NA | NA | NA | NA | \n",
       "| 895687 |  5 | NA | NA | NA | NA | NA | \n",
       "| 900179 |  5 |  1 |  5 |  4 |  0 | NA | \n",
       "\n",
       "\n"
      ],
      "text/plain": [
       "        exercises\n",
       "uids     01-censura_la_prima 02-studiare_stanca 03-piramide_di_numeri\n",
       "  828035  0                  NA                 NA                   \n",
       "  840537  5                  NA                 NA                   \n",
       "  858673  5                   5                  5                   \n",
       "  871599 NA                  NA                 NA                   \n",
       "  871806  5                   3                  5                   \n",
       "  872868 NA                  NA                 NA                   \n",
       "  873489  5                   5                 NA                   \n",
       "  874225  0                  NA                 NA                   \n",
       "  885299  5                   1                 NA                   \n",
       "  885432  5                  NA                 NA                   \n",
       "  885681  5                   5                  5                   \n",
       "  885778  5                   5                  5                   \n",
       "  885982  5                   5                  5                   \n",
       "  891304  5                   2                 NA                   \n",
       "  895687  5                  NA                 NA                   \n",
       "  900179  5                   1                  5                   \n",
       "        exercises\n",
       "uids     04-disegna_serpente 05-stampante_configurabile 06-righello_orizzontale\n",
       "  828035 NA                  NA                         NA                     \n",
       "  840537 NA                  NA                         NA                     \n",
       "  858673  4                   1                         NA                     \n",
       "  871599 NA                  NA                         NA                     \n",
       "  871806  4                  NA                         NA                     \n",
       "  872868 NA                  NA                         NA                     \n",
       "  873489  0                  NA                         NA                     \n",
       "  874225 NA                  NA                         NA                     \n",
       "  885299  3                  NA                         NA                     \n",
       "  885432 NA                  NA                         NA                     \n",
       "  885681  3                   0                         NA                     \n",
       "  885778  4                   5                          2                     \n",
       "  885982  4                   0                         NA                     \n",
       "  891304 NA                  NA                         NA                     \n",
       "  895687 NA                  NA                         NA                     \n",
       "  900179  4                   0                         NA                     "
      ]
     },
     "metadata": {},
     "output_type": "display_data"
    }
   ],
   "source": [
    "# matrice studenti x esercizi i cui elementi rappresentano il numero di testcase superati con successo\n",
    "results_170126[,,\"oks\"]"
   ]
  },
  {
   "cell_type": "code",
   "execution_count": null,
   "metadata": {
    "collapsed": true
   },
   "outputs": [],
   "source": []
  },
  {
   "cell_type": "code",
   "execution_count": null,
   "metadata": {
    "collapsed": true
   },
   "outputs": [],
   "source": []
  },
  {
   "cell_type": "code",
   "execution_count": 257,
   "metadata": {},
   "outputs": [
    {
     "data": {
      "text/html": [
       "<table>\n",
       "<thead><tr><th></th><th scope=col>cases</th></tr></thead>\n",
       "<tbody>\n",
       "\t<tr><th scope=row>01-conta_linee</th><td>3</td></tr>\n",
       "\t<tr><th scope=row>02-conta_pokemon</th><td>2</td></tr>\n",
       "\t<tr><th scope=row>03-conta_pokemon_diversi</th><td>2</td></tr>\n",
       "\t<tr><th scope=row>04-salve_mondo</th><td>1</td></tr>\n",
       "\t<tr><th scope=row>05-disegna_v</th><td>1</td></tr>\n",
       "\t<tr><th scope=row>06-censura_la_seconda</th><td>4</td></tr>\n",
       "\t<tr><th scope=row>07-incornicia_il_nome</th><td>4</td></tr>\n",
       "</tbody>\n",
       "</table>\n"
      ],
      "text/latex": [
       "\\begin{tabular}{r|l}\n",
       "  & cases\\\\\n",
       "\\hline\n",
       "\t01-conta\\_linee & 3\\\\\n",
       "\t02-conta\\_pokemon & 2\\\\\n",
       "\t03-conta\\_pokemon\\_diversi & 2\\\\\n",
       "\t04-salve\\_mondo & 1\\\\\n",
       "\t05-disegna\\_v & 1\\\\\n",
       "\t06-censura\\_la\\_seconda & 4\\\\\n",
       "\t07-incornicia\\_il\\_nome & 4\\\\\n",
       "\\end{tabular}\n"
      ],
      "text/markdown": [
       "\n",
       "| <!--/--> | cases | \n",
       "|---|---|---|---|---|---|---|\n",
       "| 01-conta_linee | 3 | \n",
       "| 02-conta_pokemon | 2 | \n",
       "| 03-conta_pokemon_diversi | 2 | \n",
       "| 04-salve_mondo | 1 | \n",
       "| 05-disegna_v | 1 | \n",
       "| 06-censura_la_seconda | 4 | \n",
       "| 07-incornicia_il_nome | 4 | \n",
       "\n",
       "\n"
      ],
      "text/plain": [
       "                          \n",
       "exercise                   cases\n",
       "  01-conta_linee           3    \n",
       "  02-conta_pokemon         2    \n",
       "  03-conta_pokemon_diversi 2    \n",
       "  04-salve_mondo           1    \n",
       "  05-disegna_v             1    \n",
       "  06-censura_la_seconda    4    \n",
       "  07-incornicia_il_nome    4    "
      ]
     },
     "metadata": {},
     "output_type": "display_data"
    }
   ],
   "source": [
    "cases_laboratorio_01"
   ]
  },
  {
   "cell_type": "code",
   "execution_count": 258,
   "metadata": {},
   "outputs": [
    {
     "data": {
      "text/html": [
       "<table>\n",
       "<thead><tr><th></th><th scope=col>uploaded</th><th scope=col>compiles</th><th scope=col>errors</th><th scope=col>diffs</th><th scope=col>oks</th></tr></thead>\n",
       "<tbody>\n",
       "\t<tr><th scope=row>01-conta_linee</th><td>0 </td><td>0 </td><td>NA</td><td>NA</td><td>NA</td></tr>\n",
       "\t<tr><th scope=row>02-conta_pokemon</th><td>0 </td><td>0 </td><td>NA</td><td>NA</td><td>NA</td></tr>\n",
       "\t<tr><th scope=row>03-conta_pokemon_diversi</th><td>0 </td><td>0 </td><td>NA</td><td>NA</td><td>NA</td></tr>\n",
       "\t<tr><th scope=row>04-salve_mondo</th><td>0 </td><td>0 </td><td>NA</td><td>NA</td><td>NA</td></tr>\n",
       "\t<tr><th scope=row>05-disegna_v</th><td>0 </td><td>0 </td><td>NA</td><td>NA</td><td>NA</td></tr>\n",
       "\t<tr><th scope=row>06-censura_la_seconda</th><td>0 </td><td>0 </td><td>NA</td><td>NA</td><td>NA</td></tr>\n",
       "\t<tr><th scope=row>07-incornicia_il_nome</th><td>0 </td><td>0 </td><td>NA</td><td>NA</td><td>NA</td></tr>\n",
       "</tbody>\n",
       "</table>\n"
      ],
      "text/latex": [
       "\\begin{tabular}{r|lllll}\n",
       "  & uploaded & compiles & errors & diffs & oks\\\\\n",
       "\\hline\n",
       "\t01-conta\\_linee & 0  & 0  & NA & NA & NA\\\\\n",
       "\t02-conta\\_pokemon & 0  & 0  & NA & NA & NA\\\\\n",
       "\t03-conta\\_pokemon\\_diversi & 0  & 0  & NA & NA & NA\\\\\n",
       "\t04-salve\\_mondo & 0  & 0  & NA & NA & NA\\\\\n",
       "\t05-disegna\\_v & 0  & 0  & NA & NA & NA\\\\\n",
       "\t06-censura\\_la\\_seconda & 0  & 0  & NA & NA & NA\\\\\n",
       "\t07-incornicia\\_il\\_nome & 0  & 0  & NA & NA & NA\\\\\n",
       "\\end{tabular}\n"
      ],
      "text/markdown": [
       "\n",
       "| <!--/--> | uploaded | compiles | errors | diffs | oks | \n",
       "|---|---|---|---|---|---|---|\n",
       "| 01-conta_linee | 0  | 0  | NA | NA | NA | \n",
       "| 02-conta_pokemon | 0  | 0  | NA | NA | NA | \n",
       "| 03-conta_pokemon_diversi | 0  | 0  | NA | NA | NA | \n",
       "| 04-salve_mondo | 0  | 0  | NA | NA | NA | \n",
       "| 05-disegna_v | 0  | 0  | NA | NA | NA | \n",
       "| 06-censura_la_seconda | 0  | 0  | NA | NA | NA | \n",
       "| 07-incornicia_il_nome | 0  | 0  | NA | NA | NA | \n",
       "\n",
       "\n"
      ],
      "text/plain": [
       "                          kinds\n",
       "exercises                  uploaded compiles errors diffs oks\n",
       "  01-conta_linee           0        0        NA     NA    NA \n",
       "  02-conta_pokemon         0        0        NA     NA    NA \n",
       "  03-conta_pokemon_diversi 0        0        NA     NA    NA \n",
       "  04-salve_mondo           0        0        NA     NA    NA \n",
       "  05-disegna_v             0        0        NA     NA    NA \n",
       "  06-censura_la_seconda    0        0        NA     NA    NA \n",
       "  07-incornicia_il_nome    0        0        NA     NA    NA "
      ]
     },
     "metadata": {},
     "output_type": "display_data"
    }
   ],
   "source": [
    "results_laboratorio_01[\"891529\",,]"
   ]
  },
  {
   "cell_type": "code",
   "execution_count": 73,
   "metadata": {},
   "outputs": [
    {
     "ename": "ERROR",
     "evalue": "Error in eval(expr, envir, enclos): object 'results_laboratorio_01' not found\n",
     "output_type": "error",
     "traceback": [
      "Error in eval(expr, envir, enclos): object 'results_laboratorio_01' not found\nTraceback:\n"
     ]
    }
   ],
   "source": [
    "results_laboratorio_01[,\"01-conta_linee\",]"
   ]
  }
 ],
 "metadata": {
  "kernelspec": {
   "display_name": "R",
   "language": "R",
   "name": "ir"
  },
  "language_info": {
   "codemirror_mode": "r",
   "file_extension": ".r",
   "mimetype": "text/x-r-source",
   "name": "R",
   "pygments_lexer": "r",
   "version": "3.4.1"
  }
 },
 "nbformat": 4,
 "nbformat_minor": 2
}
