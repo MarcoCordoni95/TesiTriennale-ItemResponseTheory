{
 "cells": [
  {
   "cell_type": "code",
   "execution_count": 1,
   "metadata": {
    "collapsed": true
   },
   "outputs": [],
   "source": [
    "import pandas as pd\n",
    "import math"
   ]
  },
  {
   "cell_type": "code",
   "execution_count": 9,
   "metadata": {},
   "outputs": [],
   "source": [
    "# importo i dati\n",
    "def importCSV(path):\n",
    "    return pd.read_csv(path, index_col = 0)\n",
    "    \n",
    "df = importCSV(\"C:/Users/Marco/Desktop/tesi/prova/testcsv.csv\")"
   ]
  },
  {
   "cell_type": "code",
   "execution_count": 10,
   "metadata": {},
   "outputs": [
    {
     "data": {
      "text/html": [
       "<div>\n",
       "<style>\n",
       "    .dataframe thead tr:only-child th {\n",
       "        text-align: right;\n",
       "    }\n",
       "\n",
       "    .dataframe thead th {\n",
       "        text-align: left;\n",
       "    }\n",
       "\n",
       "    .dataframe tbody tr th {\n",
       "        vertical-align: top;\n",
       "    }\n",
       "</style>\n",
       "<table border=\"1\" class=\"dataframe\">\n",
       "  <thead>\n",
       "    <tr style=\"text-align: right;\">\n",
       "      <th></th>\n",
       "      <th>Esercizio1</th>\n",
       "      <th>Esercizio2</th>\n",
       "      <th>Esercizio3</th>\n",
       "    </tr>\n",
       "    <tr>\n",
       "      <th>Studente</th>\n",
       "      <th></th>\n",
       "      <th></th>\n",
       "      <th></th>\n",
       "    </tr>\n",
       "  </thead>\n",
       "  <tbody>\n",
       "    <tr>\n",
       "      <th>Marco</th>\n",
       "      <td>1</td>\n",
       "      <td>1</td>\n",
       "      <td>0</td>\n",
       "    </tr>\n",
       "    <tr>\n",
       "      <th>Simone</th>\n",
       "      <td>1</td>\n",
       "      <td>0</td>\n",
       "      <td>0</td>\n",
       "    </tr>\n",
       "    <tr>\n",
       "      <th>Davide</th>\n",
       "      <td>1</td>\n",
       "      <td>0</td>\n",
       "      <td>1</td>\n",
       "    </tr>\n",
       "  </tbody>\n",
       "</table>\n",
       "</div>"
      ],
      "text/plain": [
       "          Esercizio1  Esercizio2  Esercizio3\n",
       "Studente                                    \n",
       "Marco              1           1           0\n",
       "Simone             1           0           0\n",
       "Davide             1           0           1"
      ]
     },
     "execution_count": 10,
     "metadata": {},
     "output_type": "execute_result"
    }
   ],
   "source": [
    "# assegno True nelle caselle in cui il voto dell'esercizio è >= di 6 e False altrimenti\n",
    "\n",
    "def replaceValueTF(df):\n",
    "    dfAux = df.copy()\n",
    "    flag = True\n",
    "    for column in dfAux:\n",
    "        dfAux.loc[dfAux[column] < 6, column] = 0\n",
    "        dfAux.loc[dfAux[column] >= 6, column] = 1  \n",
    "    return dfAux\n",
    "        \n",
    "dfTF = replaceValueTF(df)\n",
    "dfTF"
   ]
  },
  {
   "cell_type": "code",
   "execution_count": 37,
   "metadata": {},
   "outputs": [
    {
     "name": "stdout",
     "output_type": "stream",
     "text": [
      "Insersci la difficoltà per i seguenti item: \n",
      "\n",
      "Esercizio1: 5\n",
      "Esercizio2: 6\n",
      "Esercizio3: 7\n"
     ]
    },
    {
     "data": {
      "text/html": [
       "<div>\n",
       "<style>\n",
       "    .dataframe thead tr:only-child th {\n",
       "        text-align: right;\n",
       "    }\n",
       "\n",
       "    .dataframe thead th {\n",
       "        text-align: left;\n",
       "    }\n",
       "\n",
       "    .dataframe tbody tr th {\n",
       "        vertical-align: top;\n",
       "    }\n",
       "</style>\n",
       "<table border=\"1\" class=\"dataframe\">\n",
       "  <thead>\n",
       "    <tr style=\"text-align: right;\">\n",
       "      <th></th>\n",
       "      <th>Ability</th>\n",
       "    </tr>\n",
       "    <tr>\n",
       "      <th>Studente</th>\n",
       "      <th></th>\n",
       "    </tr>\n",
       "  </thead>\n",
       "  <tbody>\n",
       "    <tr>\n",
       "      <th>Marco</th>\n",
       "      <td>6.5</td>\n",
       "    </tr>\n",
       "    <tr>\n",
       "      <th>Simone</th>\n",
       "      <td>5.16667</td>\n",
       "    </tr>\n",
       "    <tr>\n",
       "      <th>Davide</th>\n",
       "      <td>6.83333</td>\n",
       "    </tr>\n",
       "  </tbody>\n",
       "</table>\n",
       "</div>"
      ],
      "text/plain": [
       "          Ability\n",
       "Studente         \n",
       "Marco         6.5\n",
       "Simone    5.16667\n",
       "Davide    6.83333"
      ]
     },
     "execution_count": 37,
     "metadata": {},
     "output_type": "execute_result"
    }
   ],
   "source": [
    "# stimo l'abilità degli studenti con tecnica naif\n",
    "# l'abilità è calcolata tramite media ponderata, i valori usati sono i punteggi degli studenti presi negli esercizi ed \n",
    "# i pesi sono le difficoltà assegnate agli esercizi\n",
    "\n",
    "def getDiff(n):\n",
    "    lsDiff = pd.DataFrame(columns = df.columns , index = [\"Item\"])\n",
    "    print(\"Insersci la difficoltà per i seguenti item: \\n\")\n",
    "    for columns in lsDiff:\n",
    "        print(columns + \": \", end=\"\")\n",
    "        lsDiff.loc[\"Item\",columns] = int(input())\n",
    "    return lsDiff\n",
    "\n",
    "def estimateAbility(df,lsDiff):\n",
    "    lsAb = pd.DataFrame(index = df.index , columns = [\"Ability\"])\n",
    "    for index, row in df.iterrows():\n",
    "        ability = (row*(lsDiff.loc[\"Item\"])).sum()/lsDiff.loc[\"Item\"].sum()\n",
    "        lsAb.loc[index,\"Ability\"] = ability\n",
    "    return lsAb       \n",
    "\n",
    "lsDiff = getDiff(len(df.columns))    \n",
    "estimateAbility(df,lsDiff)"
   ]
  },
  {
   "cell_type": "code",
   "execution_count": 44,
   "metadata": {},
   "outputs": [
    {
     "name": "stdout",
     "output_type": "stream",
     "text": [
      "Scegliere il tipo di PL da utilizzare: 1\n",
      "Insersci la difficoltà per i seguenti item: \n",
      "\n",
      "Esercizio1: 5\n",
      "Esercizio2: 6\n",
      "Esercizio3: 7\n"
     ]
    },
    {
     "data": {
      "text/html": [
       "<div>\n",
       "<style>\n",
       "    .dataframe thead tr:only-child th {\n",
       "        text-align: right;\n",
       "    }\n",
       "\n",
       "    .dataframe thead th {\n",
       "        text-align: left;\n",
       "    }\n",
       "\n",
       "    .dataframe tbody tr th {\n",
       "        vertical-align: top;\n",
       "    }\n",
       "</style>\n",
       "<table border=\"1\" class=\"dataframe\">\n",
       "  <thead>\n",
       "    <tr style=\"text-align: right;\">\n",
       "      <th></th>\n",
       "      <th>Esercizio1</th>\n",
       "      <th>Esercizio2</th>\n",
       "      <th>Esercizio3</th>\n",
       "    </tr>\n",
       "    <tr>\n",
       "      <th>Studente</th>\n",
       "      <th></th>\n",
       "      <th></th>\n",
       "      <th></th>\n",
       "    </tr>\n",
       "  </thead>\n",
       "  <tbody>\n",
       "    <tr>\n",
       "      <th>Marco</th>\n",
       "      <td>81.76%</td>\n",
       "      <td>62.25%</td>\n",
       "      <td>37.75%</td>\n",
       "    </tr>\n",
       "    <tr>\n",
       "      <th>Simone</th>\n",
       "      <td>54.16%</td>\n",
       "      <td>30.29%</td>\n",
       "      <td>13.78%</td>\n",
       "    </tr>\n",
       "    <tr>\n",
       "      <th>Davide</th>\n",
       "      <td>86.22%</td>\n",
       "      <td>69.71%</td>\n",
       "      <td>45.84%</td>\n",
       "    </tr>\n",
       "  </tbody>\n",
       "</table>\n",
       "</div>"
      ],
      "text/plain": [
       "         Esercizio1 Esercizio2 Esercizio3\n",
       "Studente                                 \n",
       "Marco        81.76%     62.25%     37.75%\n",
       "Simone       54.16%     30.29%     13.78%\n",
       "Davide       86.22%     69.71%     45.84%"
      ]
     },
     "execution_count": 44,
     "metadata": {},
     "output_type": "execute_result"
    }
   ],
   "source": [
    "# scegliere PL per calcolare la probabilità che ogni studente risponda correttamete ad ogni item\n",
    "\n",
    "def pl1(lsAb,lsDiff):\n",
    "    dfProb = pd.DataFrame(columns=df.columns, index=df.index)\n",
    "    for index, row in dfProb.iterrows():\n",
    "        for columns in dfProb:\n",
    "            res = (math.exp(lsAb.loc[index,\"Ability\"] - lsDiff.loc[\"Item\",columns])) / (1 + math.exp(lsAb.loc[index,\"Ability\"] - lsDiff.loc[\"Item\",columns]))\n",
    "            dfProb.loc[index, columns] = str(round(res * 100 , 2)) + \"%\"\n",
    "    return dfProb\n",
    "\n",
    "def pl2():\n",
    "    pass\n",
    "\n",
    "def pl3():\n",
    "    pass\n",
    "\n",
    "pl = int(input(\"Scegliere il tipo di PL da utilizzare: \"))\n",
    "\n",
    "if(pl == 1):\n",
    "    lsDiff = getDiff(len(df.columns))\n",
    "    lsAb = estimateAbility(df,lsDiff)\n",
    "    dfProb = pl1(lsAb,lsDiff)\n",
    "elif(pl == 2):\n",
    "    pass\n",
    "elif(pl == 3):\n",
    "    pass\n",
    "    \n",
    "dfProb"
   ]
  },
  {
   "cell_type": "code",
   "execution_count": null,
   "metadata": {
    "collapsed": true
   },
   "outputs": [],
   "source": []
  },
  {
   "cell_type": "code",
   "execution_count": null,
   "metadata": {
    "collapsed": true
   },
   "outputs": [],
   "source": []
  },
  {
   "cell_type": "code",
   "execution_count": null,
   "metadata": {
    "collapsed": true
   },
   "outputs": [],
   "source": []
  },
  {
   "cell_type": "code",
   "execution_count": null,
   "metadata": {
    "collapsed": true
   },
   "outputs": [],
   "source": []
  }
 ],
 "metadata": {
  "kernelspec": {
   "display_name": "Python 3",
   "language": "python",
   "name": "python3"
  },
  "language_info": {
   "codemirror_mode": {
    "name": "ipython",
    "version": 3
   },
   "file_extension": ".py",
   "mimetype": "text/x-python",
   "name": "python",
   "nbconvert_exporter": "python",
   "pygments_lexer": "ipython3",
   "version": "3.6.1"
  }
 },
 "nbformat": 4,
 "nbformat_minor": 2
}
