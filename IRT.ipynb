{
 "cells": [
  {
   "cell_type": "code",
   "execution_count": 1,
   "metadata": {
    "collapsed": true
   },
   "outputs": [],
   "source": [
    "# Questi comandi permettono di usare in Jupyter le librerie di R presenti nel CRAN (Comprehensive R Archive Network)\n",
    "country.code <- 'it'\n",
    "url.pattern <- 'https://'  \n",
    "repo.data.frame <- subset(getCRANmirrors(), CountryCode == country.code & grepl(url.pattern, URL))\n",
    "options(repos = repo.data.frame$URL)"
   ]
  },
  {
   "cell_type": "code",
   "execution_count": 2,
   "metadata": {},
   "outputs": [
    {
     "name": "stdout",
     "output_type": "stream",
     "text": [
      "package 'psych' successfully unpacked and MD5 sums checked\n",
      "\n",
      "The downloaded binary packages are in\n",
      "\tC:\\Users\\Marco\\AppData\\Local\\Temp\\Rtmpo5VuEM\\downloaded_packages\n",
      "package 'readxl' successfully unpacked and MD5 sums checked\n",
      "\n",
      "The downloaded binary packages are in\n",
      "\tC:\\Users\\Marco\\AppData\\Local\\Temp\\Rtmpo5VuEM\\downloaded_packages\n",
      "package 'ltm' successfully unpacked and MD5 sums checked\n",
      "\n",
      "The downloaded binary packages are in\n",
      "\tC:\\Users\\Marco\\AppData\\Local\\Temp\\Rtmpo5VuEM\\downloaded_packages\n"
     ]
    }
   ],
   "source": [
    "# Package utili: psych per le funzioni di stima dei parametri e readxl per poter leggere file excel\n",
    "install.packages(\"psych\")\n",
    "install.packages(\"readxl\")\n",
    "install.packages(\"ltm\")"
   ]
  },
  {
   "cell_type": "code",
   "execution_count": 3,
   "metadata": {},
   "outputs": [
    {
     "name": "stderr",
     "output_type": "stream",
     "text": [
      "Warning message:\n",
      "\"package 'psych' was built under R version 3.4.2\"Warning message:\n",
      "\"package 'readxl' was built under R version 3.4.2\"Warning message:\n",
      "\"package 'ltm' was built under R version 3.4.2\"Loading required package: MASS\n",
      "Loading required package: msm\n",
      "Loading required package: polycor\n",
      "\n",
      "Attaching package: 'polycor'\n",
      "\n",
      "The following object is masked from 'package:psych':\n",
      "\n",
      "    polyserial\n",
      "\n",
      "\n",
      "Attaching package: 'ltm'\n",
      "\n",
      "The following object is masked from 'package:psych':\n",
      "\n",
      "    factor.scores\n",
      "\n"
     ]
    }
   ],
   "source": [
    "# Importo i package\n",
    "library(psych)\n",
    "library(\"readxl\")\n",
    "library(\"ltm\")"
   ]
  },
  {
   "cell_type": "code",
   "execution_count": 320,
   "metadata": {
    "collapsed": true
   },
   "outputs": [],
   "source": [
    "#' Legge un file csv e imposta la prima colonna con i nomi degli studenti come indici della tabella \n",
    "#'\n",
    "#' @param path Percorso del file\n",
    "#' @return data frame corrispondente al file csv indicato\n",
    "#' @examples\n",
    "#' readCSV(\"file.csv\")\n",
    "#'\n",
    "#' readCSV(\"C:/Users/file.csv\")\n",
    "readCSV <- function(path) {\n",
    "  read.csv(path, row.names = 1)\n",
    "}\n",
    "\n",
    "#' Legge un file excel e imposta la prima colonna con i nomi degli studenti come indici della tabella \n",
    "#'\n",
    "#' @param path Percorso del file\n",
    "#' @return data frame corrispondente al file excel indicato\n",
    "#' @examples\n",
    "#' readEXCEl(\"file.xlsx\")\n",
    "#'\n",
    "#' readEXCEl(\"C:/Users/file.xlsx\")\n",
    "readEXCEl <- function(path) {\n",
    "    items <- read_excel(path)\n",
    "    items <- as.data.frame(items)\n",
    "    rownames(items) <- items[,1]\n",
    "    items <- items[,-1]\n",
    "    items\n",
    "}"
   ]
  },
  {
   "cell_type": "code",
   "execution_count": 513,
   "metadata": {},
   "outputs": [
    {
     "data": {
      "text/html": [
       "<table>\n",
       "<thead><tr><th></th><th scope=col>e1</th><th scope=col>e2</th><th scope=col>e3</th><th scope=col>e4</th><th scope=col>e5</th><th scope=col>e6</th><th scope=col>e7</th><th scope=col>e8</th><th scope=col>e9</th><th scope=col>e10</th></tr></thead>\n",
       "<tbody>\n",
       "\t<tr><th scope=row>S1</th><td>1</td><td>1</td><td>1</td><td>1</td><td>0</td><td>1</td><td>1</td><td>0</td><td>0</td><td>1</td></tr>\n",
       "\t<tr><th scope=row>S2</th><td>1</td><td>0</td><td>1</td><td>1</td><td>0</td><td>0</td><td>1</td><td>1</td><td>0</td><td>0</td></tr>\n",
       "\t<tr><th scope=row>S3</th><td>1</td><td>1</td><td>1</td><td>1</td><td>0</td><td>1</td><td>1</td><td>1</td><td>1</td><td>0</td></tr>\n",
       "\t<tr><th scope=row>S4</th><td>1</td><td>1</td><td>1</td><td>1</td><td>1</td><td>1</td><td>1</td><td>1</td><td>1</td><td>0</td></tr>\n",
       "\t<tr><th scope=row>S5</th><td>1</td><td>0</td><td>1</td><td>1</td><td>1</td><td>1</td><td>1</td><td>0</td><td>0</td><td>1</td></tr>\n",
       "\t<tr><th scope=row>S6</th><td>0</td><td>1</td><td>1</td><td>1</td><td>1</td><td>0</td><td>0</td><td>1</td><td>1</td><td>0</td></tr>\n",
       "\t<tr><th scope=row>S7</th><td>1</td><td>1</td><td>0</td><td>0</td><td>1</td><td>1</td><td>1</td><td>0</td><td>0</td><td>0</td></tr>\n",
       "\t<tr><th scope=row>S8</th><td>1</td><td>1</td><td>1</td><td>1</td><td>0</td><td>1</td><td>1</td><td>1</td><td>1</td><td>1</td></tr>\n",
       "\t<tr><th scope=row>S9</th><td>1</td><td>1</td><td>1</td><td>1</td><td>1</td><td>0</td><td>1</td><td>1</td><td>1</td><td>0</td></tr>\n",
       "\t<tr><th scope=row>S10</th><td>0</td><td>0</td><td>1</td><td>1</td><td>1</td><td>0</td><td>0</td><td>1</td><td>0</td><td>1</td></tr>\n",
       "\t<tr><th scope=row>S11</th><td>1</td><td>1</td><td>1</td><td>1</td><td>0</td><td>1</td><td>1</td><td>0</td><td>1</td><td>0</td></tr>\n",
       "\t<tr><th scope=row>S12</th><td>1</td><td>1</td><td>0</td><td>0</td><td>1</td><td>1</td><td>1</td><td>0</td><td>0</td><td>0</td></tr>\n",
       "\t<tr><th scope=row>S13</th><td>0</td><td>1</td><td>0</td><td>1</td><td>1</td><td>0</td><td>0</td><td>0</td><td>1</td><td>1</td></tr>\n",
       "\t<tr><th scope=row>S14</th><td>1</td><td>1</td><td>1</td><td>1</td><td>1</td><td>1</td><td>1</td><td>1</td><td>0</td><td>0</td></tr>\n",
       "\t<tr><th scope=row>S15</th><td>1</td><td>1</td><td>1</td><td>1</td><td>0</td><td>0</td><td>1</td><td>1</td><td>1</td><td>1</td></tr>\n",
       "\t<tr><th scope=row>S16</th><td>1</td><td>0</td><td>1</td><td>1</td><td>1</td><td>0</td><td>1</td><td>0</td><td>1</td><td>0</td></tr>\n",
       "\t<tr><th scope=row>S17</th><td>1</td><td>1</td><td>1</td><td>1</td><td>0</td><td>1</td><td>1</td><td>1</td><td>0</td><td>1</td></tr>\n",
       "\t<tr><th scope=row>S18</th><td>1</td><td>1</td><td>1</td><td>1</td><td>1</td><td>1</td><td>1</td><td>0</td><td>1</td><td>0</td></tr>\n",
       "\t<tr><th scope=row>S19</th><td>0</td><td>1</td><td>1</td><td>1</td><td>1</td><td>0</td><td>0</td><td>0</td><td>0</td><td>0</td></tr>\n",
       "\t<tr><th scope=row>S20</th><td>1</td><td>1</td><td>0</td><td>1</td><td>1</td><td>1</td><td>1</td><td>1</td><td>1</td><td>1</td></tr>\n",
       "\t<tr><th scope=row>S21</th><td>1</td><td>1</td><td>1</td><td>1</td><td>1</td><td>1</td><td>1</td><td>1</td><td>1</td><td>0</td></tr>\n",
       "\t<tr><th scope=row>S22</th><td>1</td><td>1</td><td>1</td><td>0</td><td>1</td><td>0</td><td>1</td><td>0</td><td>0</td><td>1</td></tr>\n",
       "\t<tr><th scope=row>S23</th><td>1</td><td>0</td><td>1</td><td>1</td><td>1</td><td>1</td><td>1</td><td>1</td><td>0</td><td>0</td></tr>\n",
       "\t<tr><th scope=row>S24</th><td>1</td><td>1</td><td>1</td><td>1</td><td>0</td><td>1</td><td>1</td><td>1</td><td>1</td><td>0</td></tr>\n",
       "\t<tr><th scope=row>S25</th><td>1</td><td>1</td><td>1</td><td>1</td><td>1</td><td>1</td><td>1</td><td>1</td><td>1</td><td>0</td></tr>\n",
       "</tbody>\n",
       "</table>\n"
      ],
      "text/latex": [
       "\\begin{tabular}{r|llllllllll}\n",
       "  & e1 & e2 & e3 & e4 & e5 & e6 & e7 & e8 & e9 & e10\\\\\n",
       "\\hline\n",
       "\tS1 & 1 & 1 & 1 & 1 & 0 & 1 & 1 & 0 & 0 & 1\\\\\n",
       "\tS2 & 1 & 0 & 1 & 1 & 0 & 0 & 1 & 1 & 0 & 0\\\\\n",
       "\tS3 & 1 & 1 & 1 & 1 & 0 & 1 & 1 & 1 & 1 & 0\\\\\n",
       "\tS4 & 1 & 1 & 1 & 1 & 1 & 1 & 1 & 1 & 1 & 0\\\\\n",
       "\tS5 & 1 & 0 & 1 & 1 & 1 & 1 & 1 & 0 & 0 & 1\\\\\n",
       "\tS6 & 0 & 1 & 1 & 1 & 1 & 0 & 0 & 1 & 1 & 0\\\\\n",
       "\tS7 & 1 & 1 & 0 & 0 & 1 & 1 & 1 & 0 & 0 & 0\\\\\n",
       "\tS8 & 1 & 1 & 1 & 1 & 0 & 1 & 1 & 1 & 1 & 1\\\\\n",
       "\tS9 & 1 & 1 & 1 & 1 & 1 & 0 & 1 & 1 & 1 & 0\\\\\n",
       "\tS10 & 0 & 0 & 1 & 1 & 1 & 0 & 0 & 1 & 0 & 1\\\\\n",
       "\tS11 & 1 & 1 & 1 & 1 & 0 & 1 & 1 & 0 & 1 & 0\\\\\n",
       "\tS12 & 1 & 1 & 0 & 0 & 1 & 1 & 1 & 0 & 0 & 0\\\\\n",
       "\tS13 & 0 & 1 & 0 & 1 & 1 & 0 & 0 & 0 & 1 & 1\\\\\n",
       "\tS14 & 1 & 1 & 1 & 1 & 1 & 1 & 1 & 1 & 0 & 0\\\\\n",
       "\tS15 & 1 & 1 & 1 & 1 & 0 & 0 & 1 & 1 & 1 & 1\\\\\n",
       "\tS16 & 1 & 0 & 1 & 1 & 1 & 0 & 1 & 0 & 1 & 0\\\\\n",
       "\tS17 & 1 & 1 & 1 & 1 & 0 & 1 & 1 & 1 & 0 & 1\\\\\n",
       "\tS18 & 1 & 1 & 1 & 1 & 1 & 1 & 1 & 0 & 1 & 0\\\\\n",
       "\tS19 & 0 & 1 & 1 & 1 & 1 & 0 & 0 & 0 & 0 & 0\\\\\n",
       "\tS20 & 1 & 1 & 0 & 1 & 1 & 1 & 1 & 1 & 1 & 1\\\\\n",
       "\tS21 & 1 & 1 & 1 & 1 & 1 & 1 & 1 & 1 & 1 & 0\\\\\n",
       "\tS22 & 1 & 1 & 1 & 0 & 1 & 0 & 1 & 0 & 0 & 1\\\\\n",
       "\tS23 & 1 & 0 & 1 & 1 & 1 & 1 & 1 & 1 & 0 & 0\\\\\n",
       "\tS24 & 1 & 1 & 1 & 1 & 0 & 1 & 1 & 1 & 1 & 0\\\\\n",
       "\tS25 & 1 & 1 & 1 & 1 & 1 & 1 & 1 & 1 & 1 & 0\\\\\n",
       "\\end{tabular}\n"
      ],
      "text/markdown": [
       "\n",
       "| <!--/--> | e1 | e2 | e3 | e4 | e5 | e6 | e7 | e8 | e9 | e10 | \n",
       "|---|---|---|---|---|---|---|---|---|---|---|---|---|---|---|---|---|---|---|---|---|---|---|---|---|\n",
       "| S1 | 1 | 1 | 1 | 1 | 0 | 1 | 1 | 0 | 0 | 1 | \n",
       "| S2 | 1 | 0 | 1 | 1 | 0 | 0 | 1 | 1 | 0 | 0 | \n",
       "| S3 | 1 | 1 | 1 | 1 | 0 | 1 | 1 | 1 | 1 | 0 | \n",
       "| S4 | 1 | 1 | 1 | 1 | 1 | 1 | 1 | 1 | 1 | 0 | \n",
       "| S5 | 1 | 0 | 1 | 1 | 1 | 1 | 1 | 0 | 0 | 1 | \n",
       "| S6 | 0 | 1 | 1 | 1 | 1 | 0 | 0 | 1 | 1 | 0 | \n",
       "| S7 | 1 | 1 | 0 | 0 | 1 | 1 | 1 | 0 | 0 | 0 | \n",
       "| S8 | 1 | 1 | 1 | 1 | 0 | 1 | 1 | 1 | 1 | 1 | \n",
       "| S9 | 1 | 1 | 1 | 1 | 1 | 0 | 1 | 1 | 1 | 0 | \n",
       "| S10 | 0 | 0 | 1 | 1 | 1 | 0 | 0 | 1 | 0 | 1 | \n",
       "| S11 | 1 | 1 | 1 | 1 | 0 | 1 | 1 | 0 | 1 | 0 | \n",
       "| S12 | 1 | 1 | 0 | 0 | 1 | 1 | 1 | 0 | 0 | 0 | \n",
       "| S13 | 0 | 1 | 0 | 1 | 1 | 0 | 0 | 0 | 1 | 1 | \n",
       "| S14 | 1 | 1 | 1 | 1 | 1 | 1 | 1 | 1 | 0 | 0 | \n",
       "| S15 | 1 | 1 | 1 | 1 | 0 | 0 | 1 | 1 | 1 | 1 | \n",
       "| S16 | 1 | 0 | 1 | 1 | 1 | 0 | 1 | 0 | 1 | 0 | \n",
       "| S17 | 1 | 1 | 1 | 1 | 0 | 1 | 1 | 1 | 0 | 1 | \n",
       "| S18 | 1 | 1 | 1 | 1 | 1 | 1 | 1 | 0 | 1 | 0 | \n",
       "| S19 | 0 | 1 | 1 | 1 | 1 | 0 | 0 | 0 | 0 | 0 | \n",
       "| S20 | 1 | 1 | 0 | 1 | 1 | 1 | 1 | 1 | 1 | 1 | \n",
       "| S21 | 1 | 1 | 1 | 1 | 1 | 1 | 1 | 1 | 1 | 0 | \n",
       "| S22 | 1 | 1 | 1 | 0 | 1 | 0 | 1 | 0 | 0 | 1 | \n",
       "| S23 | 1 | 0 | 1 | 1 | 1 | 1 | 1 | 1 | 0 | 0 | \n",
       "| S24 | 1 | 1 | 1 | 1 | 0 | 1 | 1 | 1 | 1 | 0 | \n",
       "| S25 | 1 | 1 | 1 | 1 | 1 | 1 | 1 | 1 | 1 | 0 | \n",
       "\n",
       "\n"
      ],
      "text/plain": [
       "    e1 e2 e3 e4 e5 e6 e7 e8 e9 e10\n",
       "S1  1  1  1  1  0  1  1  0  0  1  \n",
       "S2  1  0  1  1  0  0  1  1  0  0  \n",
       "S3  1  1  1  1  0  1  1  1  1  0  \n",
       "S4  1  1  1  1  1  1  1  1  1  0  \n",
       "S5  1  0  1  1  1  1  1  0  0  1  \n",
       "S6  0  1  1  1  1  0  0  1  1  0  \n",
       "S7  1  1  0  0  1  1  1  0  0  0  \n",
       "S8  1  1  1  1  0  1  1  1  1  1  \n",
       "S9  1  1  1  1  1  0  1  1  1  0  \n",
       "S10 0  0  1  1  1  0  0  1  0  1  \n",
       "S11 1  1  1  1  0  1  1  0  1  0  \n",
       "S12 1  1  0  0  1  1  1  0  0  0  \n",
       "S13 0  1  0  1  1  0  0  0  1  1  \n",
       "S14 1  1  1  1  1  1  1  1  0  0  \n",
       "S15 1  1  1  1  0  0  1  1  1  1  \n",
       "S16 1  0  1  1  1  0  1  0  1  0  \n",
       "S17 1  1  1  1  0  1  1  1  0  1  \n",
       "S18 1  1  1  1  1  1  1  0  1  0  \n",
       "S19 0  1  1  1  1  0  0  0  0  0  \n",
       "S20 1  1  0  1  1  1  1  1  1  1  \n",
       "S21 1  1  1  1  1  1  1  1  1  0  \n",
       "S22 1  1  1  0  1  0  1  0  0  1  \n",
       "S23 1  0  1  1  1  1  1  1  0  0  \n",
       "S24 1  1  1  1  0  1  1  1  1  0  \n",
       "S25 1  1  1  1  1  1  1  1  1  0  "
      ]
     },
     "metadata": {},
     "output_type": "display_data"
    }
   ],
   "source": [
    "# Importo la tabella dicotomica\n",
    "datiDichot <- readEXCEl(\"EsameDic.xlsx\")\n",
    "datiDichot"
   ]
  },
  {
   "cell_type": "code",
   "execution_count": 435,
   "metadata": {
    "collapsed": true
   },
   "outputs": [],
   "source": [
    "#' Modifica la dimensione dei grafici\n",
    "#'\n",
    "#' @param width Larghezza dei grafici\n",
    "#' @param height Altezza dei grafici\n",
    "#' @examples\n",
    "#' width <- 7\n",
    "#' height <- 5\n",
    "#' sizePlot(width, height)\n",
    "sizePlot <- function(width, height) {\n",
    "    options(repr.plot.width = width, repr.plot.height = height)\n",
    "}\n",
    "\n",
    "#' Stima le difficoltà degli esercizi senza porre vincoli sul valore del discriminante\n",
    "#'\n",
    "#' @param items Tabella dicotomica avente una riga per studente e una colonna per esercizio\n",
    "#' @return Vettore di difficoltà stimate\n",
    "#' @examples\n",
    "#' items <- readEXCEl(\"file.xlsx\")\n",
    "#' estimateDifficultiesDichotFreeDiscrim(items)\n",
    "estimateDifficultiesDichotFreeDiscrim <- function(items) {\n",
    "    param <- rasch(items)\n",
    "    tab <- coef(param)\n",
    "    array(tab[,\"Dffclt\"])\n",
    "}\n",
    "\n",
    "#' Stima le difficoltà degli esercizi ponendo il discriminante ad 1\n",
    "#'\n",
    "#' @param items Tabella dicotomica avente una riga per studente e una colonna per esercizio\n",
    "#' @return Vettore di difficoltà stimate\n",
    "#' @examples\n",
    "#' items <- readEXCEl(\"file.xlsx\")\n",
    "#' estimateDifficultiesDichotOneDiscrim(items)\n",
    "estimateDifficultiesDichotOneDiscrim <- function(items) {\n",
    "    param <- rasch(items, constraint = cbind(length(difficulties) + 1, 1))\n",
    "    tab <- coef(param)\n",
    "    array(tab[,\"Dffclt\"])\n",
    "}\n",
    "\n",
    "#' Genera un grafico per mostrare il livello di difficoltà di ciascun esercizio \n",
    "#'\n",
    "#' @param items Tabella dicotomica avente una riga per studente e una colonna per esercizio\n",
    "#' @param diff Vettore di difficoltà\n",
    "#' @param color Colore del grafico, di default è rosso\n",
    "#' @examples\n",
    "#' items <- readEXCEl(\"file.xlsx\")\n",
    "#' diff <- estimateDifficultiesDichotOneDiscrim(items)\n",
    "#' plotDifficultiesDichot(items, diff)\n",
    "plotDifficultiesDichot <- function(items, diff, color = \"red\") {\n",
    "    nItems <- length(diff)\n",
    "    plot(diff,xlim=c(1,nItems),ylim=c(-5,5),type=\"b\",main=\"Difficulties plot\",xlab=\"Items\",ylab=\"Difficulty\",xaxt=\"n\",col=color,pch=16,lwd=2)\n",
    "    axis(1, at=1:nItems, labels=names(items))\n",
    "    par(new = TRUE)\n",
    "    plot(diff + 4.7, type = \"h\", xlim = c(1,nItems),ylim = c(0,10), xaxt='n', yaxt = \"n\", xlab = \"\", ylab = \"\", lty = 2)\n",
    "}\n",
    "\n",
    "#' Stima le abilità degli studenti\n",
    "#'\n",
    "#' @param items Tabella dicotomica avente una riga per studente e una colonna per esercizio\n",
    "#' @return Vettore di abilità stimate\n",
    "#' @examples\n",
    "#' items <- readEXCEl(\"file.xlsx\")\n",
    "#' estimateAbilitiesDichot(items)\n",
    "estimateAbilitiesDichot <- function(items) {\n",
    "    info <- irt.0p(items) # <---------------------------------------------------- DA CAMBIARE\n",
    "    info <- data.frame(info)\n",
    "    info$theta0\n",
    "}\n",
    "\n",
    "#' Genera un istogramma per mostrare il livello di abilità degli studenti e la relativa quantità\n",
    "#'\n",
    "#' @param theta Vettore di abilità\n",
    "#' @examples\n",
    "#' items <- readEXCEl(\"file.xlsx\")\n",
    "#' abil <- estimateAbilitiesDichot(items)\n",
    "#' plotDifficultiesDichot(abil)\n",
    "plotAbilitiesDichot <- function(abil) {\n",
    "    hist(abil,main=\"Ability histogram\",xlab=\"Ability\",ylab=\"Students\",breaks=seq(-3,3,by=0.5),xlim=c(-3,3),col=\"royalblue3\")\n",
    "    axis(1, at=seq(-3, 3, by=0.5), labels=seq(-3, 3, by=0.5))        \n",
    "}"
   ]
  },
  {
   "cell_type": "code",
   "execution_count": 436,
   "metadata": {
    "collapsed": true
   },
   "outputs": [],
   "source": [
    "#' Attraverso la tecnica di bootstrapping seleziona randomicamente n righe dalla matrice dicotomica, questa funzione è utlile \n",
    "#' se si dispone di pochi soggetti perchè in caso di una scarsa quantità di osservazioni lo stimatore potrebbe non covergere\n",
    "#'\n",
    "#' @param items Tabella dicotomica avente una riga per studente e una colonna per esercizio\n",
    "#' @param n Numero di estrazioni\n",
    "#' @return Data frame di difficoltà stimate dalla tabella generata dalle estrazioni casuali\n",
    "#' @examples\n",
    "#' items <- readEXCEl(\"file.xlsx\")\n",
    "#' bootstrapping(items)\n",
    "bootstrapping <- function(items, n = 500) {\n",
    "    idxs <- sample(1:nrow(items), n, replace = TRUE)\n",
    "    items[idxs,]\n",
    "}"
   ]
  },
  {
   "cell_type": "code",
   "execution_count": 520,
   "metadata": {
    "scrolled": false
   },
   "outputs": [
    {
     "data": {
      "image/png": "[encoded data removed]",
      "text/plain": [
       "Plot with title \"Difficulties plot\""
      ]
     },
     "metadata": {},
     "output_type": "display_data"
    }
   ],
   "source": [
    "# Modifico la dimensione dei grafici\n",
    "width <- 7\n",
    "height <- 5\n",
    "sizePlot(width, height)\n",
    "\n",
    "# Effettuo il bootstrapping\n",
    "numExtractions <- 700\n",
    "bottDatiDichot <- bootstrapping(datiDichot, numExtractions)\n",
    "\n",
    "# Stimo le difficoltà con entrambi i metodi\n",
    "difficDichotF <- estimateDifficultiesDichotFreeDiscrim(bottDatiDichot)\n",
    "difficDichotO <- estimateDifficultiesDichotOneDiscrim(bottDatiDichot)\n",
    "\n",
    "# Visualizzo e confronto i grafici relativi alle difficoltà stimate con entrambi i metodi\n",
    "plotDifficultiesDichot(datiDichot, difficDichotF)\n",
    "par(new = TRUE)\n",
    "plotDifficultiesDichot(datiDichot, difficDichotO, color = \"blue\")\n",
    "legend(1, 10, legend=c(\"Difficoltà con discriminante non vincolato\", \"Difficoltà con discriminante vincolato ad 1\"), col=c(\"red\", \"blue\"), lty=1, cex=1, lwd=2, pch=16)"
   ]
  },
  {
   "cell_type": "code",
   "execution_count": 522,
   "metadata": {},
   "outputs": [
    {
     "data": {
      "image/png": "[encoded data removed]",
      "text/plain": [
       "Plot with title \"Ability histogram\""
      ]
     },
     "metadata": {},
     "output_type": "display_data"
    }
   ],
   "source": [
    "# Stimo le abilità e visualizzo il relativo grafico\n",
    "abil   <- estimateAbilitiesDichot(datiDichot)\n",
    "plotAbilitiesDichot(abil)"
   ]
  },
  {
   "cell_type": "code",
   "execution_count": 443,
   "metadata": {
    "collapsed": true
   },
   "outputs": [],
   "source": [
    "#' Calcola la probabilità che uno studente risolva correttamente un esercizio\n",
    "#'\n",
    "#' @param ability Abilità dello studente\n",
    "#' @param difficulty Difficoltà dell'esercizio\n",
    "#' @return Probabilità di rispondere correttamente, compresa tra 0 e 1\n",
    "#' @examples\n",
    "#' ability <- 2\n",
    "#' difficulty <- 1\n",
    "#' pl1(ability, difficulty)\n",
    "pl1 <- function(ability, difficulty) {\n",
    "    exp(ability - difficulty) / (1 + exp(ability - difficulty))\n",
    "}\n",
    "\n",
    "#' Determina la probabilità per ogni studente di risolvere correttamente ogni esercizio\n",
    "#'\n",
    "#' @param items Tabella dicotomica avente una riga per studente e una colonna per esercizio\n",
    "#' @param diff Vettore di difficoltà\n",
    "#' @param abil Vettore di abilità\n",
    "#' @return Data frame di probabilità\n",
    "#' @examples\n",
    "#' items <- readEXCEl(\"file.xlsx\")\n",
    "#' diff <- estimateDifficultiesDichotFreeDiscrim(items)\n",
    "#' abil <- estimateAbilitiesDichot(items)\n",
    "#' calcProbabilites(items, diff, abil)\n",
    "calcProbabilites <- function(items, diff, abil) {   \n",
    "    probDf <- items\n",
    "    namesCol <- names(probDf)\n",
    "    namesRow <- row.names(probDf)\n",
    "    j <- 1\n",
    "    for (row in namesRow) {\n",
    "        i <- 1\n",
    "        for (col in namesCol) {\n",
    "            prob <- pl1(abil[j],diff[i])\n",
    "            probDf[row,col] <- prob          \n",
    "            i <- i + 1\n",
    "        }\n",
    "        j <- j + 1\n",
    "    }\n",
    "    probDf\n",
    "}\n",
    "\n",
    "\n",
    "#' Migliora la lettura della tabella delle probabilità per l'utente\n",
    "#'\n",
    "#' @param df Data frame di probabilità, output della funzione calcProbabilites\n",
    "#' @return Data frame di probabilità da 0 a 100\n",
    "#' @examples\n",
    "#' items <- readEXCEl(\"file.xlsx\")\n",
    "#' diff <- estimateDifficultiesDichotFreeDiscrim(items)\n",
    "#' abil <- estimateAbilitiesDichot(items)\n",
    "#' dfProb <- calcProbabilites(items, diff, abil)\n",
    "#' showProbabilities(dfProb)\n",
    "showProbabilities <- function(df){\n",
    "    aux <- trunc(df*100)\n",
    "    aux <- data.frame(lapply(aux, function(p) paste(p, \"%\")))\n",
    "    row.names(aux) <- row.names(df)\n",
    "    aux\n",
    "}"
   ]
  },
  {
   "cell_type": "code",
   "execution_count": 524,
   "metadata": {},
   "outputs": [
    {
     "data": {
      "text/html": [
       "<table>\n",
       "<thead><tr><th></th><th scope=col>e1</th><th scope=col>e2</th><th scope=col>e3</th><th scope=col>e4</th><th scope=col>e5</th><th scope=col>e6</th><th scope=col>e7</th><th scope=col>e8</th><th scope=col>e9</th><th scope=col>e10</th></tr></thead>\n",
       "<tbody>\n",
       "\t<tr><th scope=row>S1</th><td>99 %</td><td>98 %</td><td>99 %</td><td>99 %</td><td>93 %</td><td>89 %</td><td>99 %</td><td>89 %</td><td>78 %</td><td>37 %</td></tr>\n",
       "\t<tr><th scope=row>S2</th><td>99 %</td><td>96 %</td><td>98 %</td><td>99 %</td><td>86 %</td><td>79 %</td><td>99 %</td><td>78 %</td><td>60 %</td><td>20 %</td></tr>\n",
       "\t<tr><th scope=row>S3</th><td>99 %</td><td>99 %</td><td>99 %</td><td>99 %</td><td>96 %</td><td>93 %</td><td>99 %</td><td>93 %</td><td>85 %</td><td>50 %</td></tr>\n",
       "\t<tr><th scope=row>S4</th><td>99 %</td><td>99 %</td><td>99 %</td><td>99 %</td><td>98 %</td><td>97 %</td><td>99 %</td><td>96 %</td><td>93 %</td><td>69 %</td></tr>\n",
       "\t<tr><th scope=row>S5</th><td>99 %</td><td>98 %</td><td>99 %</td><td>99 %</td><td>93 %</td><td>89 %</td><td>99 %</td><td>89 %</td><td>78 %</td><td>37 %</td></tr>\n",
       "\t<tr><th scope=row>S6</th><td>99 %</td><td>97 %</td><td>99 %</td><td>99 %</td><td>90 %</td><td>85 %</td><td>99 %</td><td>84 %</td><td>69 %</td><td>27 %</td></tr>\n",
       "\t<tr><th scope=row>S7</th><td>99 %</td><td>96 %</td><td>98 %</td><td>99 %</td><td>86 %</td><td>79 %</td><td>99 %</td><td>78 %</td><td>60 %</td><td>20 %</td></tr>\n",
       "\t<tr><th scope=row>S8</th><td>99 %</td><td>99 %</td><td>99 %</td><td>99 %</td><td>98 %</td><td>97 %</td><td>99 %</td><td>96 %</td><td>93 %</td><td>69 %</td></tr>\n",
       "\t<tr><th scope=row>S9</th><td>99 %</td><td>99 %</td><td>99 %</td><td>99 %</td><td>96 %</td><td>93 %</td><td>99 %</td><td>93 %</td><td>85 %</td><td>50 %</td></tr>\n",
       "\t<tr><th scope=row>S10</th><td>99 %</td><td>96 %</td><td>98 %</td><td>99 %</td><td>86 %</td><td>79 %</td><td>99 %</td><td>78 %</td><td>60 %</td><td>20 %</td></tr>\n",
       "\t<tr><th scope=row>S11</th><td>99 %</td><td>98 %</td><td>99 %</td><td>99 %</td><td>93 %</td><td>89 %</td><td>99 %</td><td>89 %</td><td>78 %</td><td>37 %</td></tr>\n",
       "\t<tr><th scope=row>S12</th><td>99 %</td><td>96 %</td><td>98 %</td><td>99 %</td><td>86 %</td><td>79 %</td><td>99 %</td><td>78 %</td><td>60 %</td><td>20 %</td></tr>\n",
       "\t<tr><th scope=row>S13</th><td>99 %</td><td>96 %</td><td>98 %</td><td>99 %</td><td>86 %</td><td>79 %</td><td>99 %</td><td>78 %</td><td>60 %</td><td>20 %</td></tr>\n",
       "\t<tr><th scope=row>S14</th><td>99 %</td><td>99 %</td><td>99 %</td><td>99 %</td><td>96 %</td><td>93 %</td><td>99 %</td><td>93 %</td><td>85 %</td><td>50 %</td></tr>\n",
       "\t<tr><th scope=row>S15</th><td>99 %</td><td>99 %</td><td>99 %</td><td>99 %</td><td>96 %</td><td>93 %</td><td>99 %</td><td>93 %</td><td>85 %</td><td>50 %</td></tr>\n",
       "\t<tr><th scope=row>S16</th><td>99 %</td><td>97 %</td><td>99 %</td><td>99 %</td><td>90 %</td><td>85 %</td><td>99 %</td><td>84 %</td><td>69 %</td><td>27 %</td></tr>\n",
       "\t<tr><th scope=row>S17</th><td>99 %</td><td>99 %</td><td>99 %</td><td>99 %</td><td>96 %</td><td>93 %</td><td>99 %</td><td>93 %</td><td>85 %</td><td>50 %</td></tr>\n",
       "\t<tr><th scope=row>S18</th><td>99 %</td><td>99 %</td><td>99 %</td><td>99 %</td><td>96 %</td><td>93 %</td><td>99 %</td><td>93 %</td><td>85 %</td><td>50 %</td></tr>\n",
       "\t<tr><th scope=row>S19</th><td>98 %</td><td>94 %</td><td>98 %</td><td>99 %</td><td>80 %</td><td>71 %</td><td>98 %</td><td>70 %</td><td>50 %</td><td>14 %</td></tr>\n",
       "\t<tr><th scope=row>S20</th><td>99 %</td><td>99 %</td><td>99 %</td><td>99 %</td><td>98 %</td><td>97 %</td><td>99 %</td><td>96 %</td><td>93 %</td><td>69 %</td></tr>\n",
       "\t<tr><th scope=row>S21</th><td>99 %</td><td>99 %</td><td>99 %</td><td>99 %</td><td>98 %</td><td>97 %</td><td>99 %</td><td>96 %</td><td>93 %</td><td>69 %</td></tr>\n",
       "\t<tr><th scope=row>S22</th><td>99 %</td><td>97 %</td><td>99 %</td><td>99 %</td><td>90 %</td><td>85 %</td><td>99 %</td><td>84 %</td><td>69 %</td><td>27 %</td></tr>\n",
       "\t<tr><th scope=row>S23</th><td>99 %</td><td>98 %</td><td>99 %</td><td>99 %</td><td>93 %</td><td>89 %</td><td>99 %</td><td>89 %</td><td>78 %</td><td>37 %</td></tr>\n",
       "\t<tr><th scope=row>S24</th><td>99 %</td><td>99 %</td><td>99 %</td><td>99 %</td><td>96 %</td><td>93 %</td><td>99 %</td><td>93 %</td><td>85 %</td><td>50 %</td></tr>\n",
       "\t<tr><th scope=row>S25</th><td>99 %</td><td>99 %</td><td>99 %</td><td>99 %</td><td>98 %</td><td>97 %</td><td>99 %</td><td>96 %</td><td>93 %</td><td>69 %</td></tr>\n",
       "</tbody>\n",
       "</table>\n"
      ],
      "text/latex": [
       "\\begin{tabular}{r|llllllllll}\n",
       "  & e1 & e2 & e3 & e4 & e5 & e6 & e7 & e8 & e9 & e10\\\\\n",
       "\\hline\n",
       "\tS1 & 99 \\% & 98 \\% & 99 \\% & 99 \\% & 93 \\% & 89 \\% & 99 \\% & 89 \\% & 78 \\% & 37 \\%\\\\\n",
       "\tS2 & 99 \\% & 96 \\% & 98 \\% & 99 \\% & 86 \\% & 79 \\% & 99 \\% & 78 \\% & 60 \\% & 20 \\%\\\\\n",
       "\tS3 & 99 \\% & 99 \\% & 99 \\% & 99 \\% & 96 \\% & 93 \\% & 99 \\% & 93 \\% & 85 \\% & 50 \\%\\\\\n",
       "\tS4 & 99 \\% & 99 \\% & 99 \\% & 99 \\% & 98 \\% & 97 \\% & 99 \\% & 96 \\% & 93 \\% & 69 \\%\\\\\n",
       "\tS5 & 99 \\% & 98 \\% & 99 \\% & 99 \\% & 93 \\% & 89 \\% & 99 \\% & 89 \\% & 78 \\% & 37 \\%\\\\\n",
       "\tS6 & 99 \\% & 97 \\% & 99 \\% & 99 \\% & 90 \\% & 85 \\% & 99 \\% & 84 \\% & 69 \\% & 27 \\%\\\\\n",
       "\tS7 & 99 \\% & 96 \\% & 98 \\% & 99 \\% & 86 \\% & 79 \\% & 99 \\% & 78 \\% & 60 \\% & 20 \\%\\\\\n",
       "\tS8 & 99 \\% & 99 \\% & 99 \\% & 99 \\% & 98 \\% & 97 \\% & 99 \\% & 96 \\% & 93 \\% & 69 \\%\\\\\n",
       "\tS9 & 99 \\% & 99 \\% & 99 \\% & 99 \\% & 96 \\% & 93 \\% & 99 \\% & 93 \\% & 85 \\% & 50 \\%\\\\\n",
       "\tS10 & 99 \\% & 96 \\% & 98 \\% & 99 \\% & 86 \\% & 79 \\% & 99 \\% & 78 \\% & 60 \\% & 20 \\%\\\\\n",
       "\tS11 & 99 \\% & 98 \\% & 99 \\% & 99 \\% & 93 \\% & 89 \\% & 99 \\% & 89 \\% & 78 \\% & 37 \\%\\\\\n",
       "\tS12 & 99 \\% & 96 \\% & 98 \\% & 99 \\% & 86 \\% & 79 \\% & 99 \\% & 78 \\% & 60 \\% & 20 \\%\\\\\n",
       "\tS13 & 99 \\% & 96 \\% & 98 \\% & 99 \\% & 86 \\% & 79 \\% & 99 \\% & 78 \\% & 60 \\% & 20 \\%\\\\\n",
       "\tS14 & 99 \\% & 99 \\% & 99 \\% & 99 \\% & 96 \\% & 93 \\% & 99 \\% & 93 \\% & 85 \\% & 50 \\%\\\\\n",
       "\tS15 & 99 \\% & 99 \\% & 99 \\% & 99 \\% & 96 \\% & 93 \\% & 99 \\% & 93 \\% & 85 \\% & 50 \\%\\\\\n",
       "\tS16 & 99 \\% & 97 \\% & 99 \\% & 99 \\% & 90 \\% & 85 \\% & 99 \\% & 84 \\% & 69 \\% & 27 \\%\\\\\n",
       "\tS17 & 99 \\% & 99 \\% & 99 \\% & 99 \\% & 96 \\% & 93 \\% & 99 \\% & 93 \\% & 85 \\% & 50 \\%\\\\\n",
       "\tS18 & 99 \\% & 99 \\% & 99 \\% & 99 \\% & 96 \\% & 93 \\% & 99 \\% & 93 \\% & 85 \\% & 50 \\%\\\\\n",
       "\tS19 & 98 \\% & 94 \\% & 98 \\% & 99 \\% & 80 \\% & 71 \\% & 98 \\% & 70 \\% & 50 \\% & 14 \\%\\\\\n",
       "\tS20 & 99 \\% & 99 \\% & 99 \\% & 99 \\% & 98 \\% & 97 \\% & 99 \\% & 96 \\% & 93 \\% & 69 \\%\\\\\n",
       "\tS21 & 99 \\% & 99 \\% & 99 \\% & 99 \\% & 98 \\% & 97 \\% & 99 \\% & 96 \\% & 93 \\% & 69 \\%\\\\\n",
       "\tS22 & 99 \\% & 97 \\% & 99 \\% & 99 \\% & 90 \\% & 85 \\% & 99 \\% & 84 \\% & 69 \\% & 27 \\%\\\\\n",
       "\tS23 & 99 \\% & 98 \\% & 99 \\% & 99 \\% & 93 \\% & 89 \\% & 99 \\% & 89 \\% & 78 \\% & 37 \\%\\\\\n",
       "\tS24 & 99 \\% & 99 \\% & 99 \\% & 99 \\% & 96 \\% & 93 \\% & 99 \\% & 93 \\% & 85 \\% & 50 \\%\\\\\n",
       "\tS25 & 99 \\% & 99 \\% & 99 \\% & 99 \\% & 98 \\% & 97 \\% & 99 \\% & 96 \\% & 93 \\% & 69 \\%\\\\\n",
       "\\end{tabular}\n"
      ],
      "text/markdown": [
       "\n",
       "| <!--/--> | e1 | e2 | e3 | e4 | e5 | e6 | e7 | e8 | e9 | e10 | \n",
       "|---|---|---|---|---|---|---|---|---|---|---|---|---|---|---|---|---|---|---|---|---|---|---|---|---|\n",
       "| S1 | 99 % | 98 % | 99 % | 99 % | 93 % | 89 % | 99 % | 89 % | 78 % | 37 % | \n",
       "| S2 | 99 % | 96 % | 98 % | 99 % | 86 % | 79 % | 99 % | 78 % | 60 % | 20 % | \n",
       "| S3 | 99 % | 99 % | 99 % | 99 % | 96 % | 93 % | 99 % | 93 % | 85 % | 50 % | \n",
       "| S4 | 99 % | 99 % | 99 % | 99 % | 98 % | 97 % | 99 % | 96 % | 93 % | 69 % | \n",
       "| S5 | 99 % | 98 % | 99 % | 99 % | 93 % | 89 % | 99 % | 89 % | 78 % | 37 % | \n",
       "| S6 | 99 % | 97 % | 99 % | 99 % | 90 % | 85 % | 99 % | 84 % | 69 % | 27 % | \n",
       "| S7 | 99 % | 96 % | 98 % | 99 % | 86 % | 79 % | 99 % | 78 % | 60 % | 20 % | \n",
       "| S8 | 99 % | 99 % | 99 % | 99 % | 98 % | 97 % | 99 % | 96 % | 93 % | 69 % | \n",
       "| S9 | 99 % | 99 % | 99 % | 99 % | 96 % | 93 % | 99 % | 93 % | 85 % | 50 % | \n",
       "| S10 | 99 % | 96 % | 98 % | 99 % | 86 % | 79 % | 99 % | 78 % | 60 % | 20 % | \n",
       "| S11 | 99 % | 98 % | 99 % | 99 % | 93 % | 89 % | 99 % | 89 % | 78 % | 37 % | \n",
       "| S12 | 99 % | 96 % | 98 % | 99 % | 86 % | 79 % | 99 % | 78 % | 60 % | 20 % | \n",
       "| S13 | 99 % | 96 % | 98 % | 99 % | 86 % | 79 % | 99 % | 78 % | 60 % | 20 % | \n",
       "| S14 | 99 % | 99 % | 99 % | 99 % | 96 % | 93 % | 99 % | 93 % | 85 % | 50 % | \n",
       "| S15 | 99 % | 99 % | 99 % | 99 % | 96 % | 93 % | 99 % | 93 % | 85 % | 50 % | \n",
       "| S16 | 99 % | 97 % | 99 % | 99 % | 90 % | 85 % | 99 % | 84 % | 69 % | 27 % | \n",
       "| S17 | 99 % | 99 % | 99 % | 99 % | 96 % | 93 % | 99 % | 93 % | 85 % | 50 % | \n",
       "| S18 | 99 % | 99 % | 99 % | 99 % | 96 % | 93 % | 99 % | 93 % | 85 % | 50 % | \n",
       "| S19 | 98 % | 94 % | 98 % | 99 % | 80 % | 71 % | 98 % | 70 % | 50 % | 14 % | \n",
       "| S20 | 99 % | 99 % | 99 % | 99 % | 98 % | 97 % | 99 % | 96 % | 93 % | 69 % | \n",
       "| S21 | 99 % | 99 % | 99 % | 99 % | 98 % | 97 % | 99 % | 96 % | 93 % | 69 % | \n",
       "| S22 | 99 % | 97 % | 99 % | 99 % | 90 % | 85 % | 99 % | 84 % | 69 % | 27 % | \n",
       "| S23 | 99 % | 98 % | 99 % | 99 % | 93 % | 89 % | 99 % | 89 % | 78 % | 37 % | \n",
       "| S24 | 99 % | 99 % | 99 % | 99 % | 96 % | 93 % | 99 % | 93 % | 85 % | 50 % | \n",
       "| S25 | 99 % | 99 % | 99 % | 99 % | 98 % | 97 % | 99 % | 96 % | 93 % | 69 % | \n",
       "\n",
       "\n"
      ],
      "text/plain": [
       "    e1   e2   e3   e4   e5   e6   e7   e8   e9   e10 \n",
       "S1  99 % 98 % 99 % 99 % 93 % 89 % 99 % 89 % 78 % 37 %\n",
       "S2  99 % 96 % 98 % 99 % 86 % 79 % 99 % 78 % 60 % 20 %\n",
       "S3  99 % 99 % 99 % 99 % 96 % 93 % 99 % 93 % 85 % 50 %\n",
       "S4  99 % 99 % 99 % 99 % 98 % 97 % 99 % 96 % 93 % 69 %\n",
       "S5  99 % 98 % 99 % 99 % 93 % 89 % 99 % 89 % 78 % 37 %\n",
       "S6  99 % 97 % 99 % 99 % 90 % 85 % 99 % 84 % 69 % 27 %\n",
       "S7  99 % 96 % 98 % 99 % 86 % 79 % 99 % 78 % 60 % 20 %\n",
       "S8  99 % 99 % 99 % 99 % 98 % 97 % 99 % 96 % 93 % 69 %\n",
       "S9  99 % 99 % 99 % 99 % 96 % 93 % 99 % 93 % 85 % 50 %\n",
       "S10 99 % 96 % 98 % 99 % 86 % 79 % 99 % 78 % 60 % 20 %\n",
       "S11 99 % 98 % 99 % 99 % 93 % 89 % 99 % 89 % 78 % 37 %\n",
       "S12 99 % 96 % 98 % 99 % 86 % 79 % 99 % 78 % 60 % 20 %\n",
       "S13 99 % 96 % 98 % 99 % 86 % 79 % 99 % 78 % 60 % 20 %\n",
       "S14 99 % 99 % 99 % 99 % 96 % 93 % 99 % 93 % 85 % 50 %\n",
       "S15 99 % 99 % 99 % 99 % 96 % 93 % 99 % 93 % 85 % 50 %\n",
       "S16 99 % 97 % 99 % 99 % 90 % 85 % 99 % 84 % 69 % 27 %\n",
       "S17 99 % 99 % 99 % 99 % 96 % 93 % 99 % 93 % 85 % 50 %\n",
       "S18 99 % 99 % 99 % 99 % 96 % 93 % 99 % 93 % 85 % 50 %\n",
       "S19 98 % 94 % 98 % 99 % 80 % 71 % 98 % 70 % 50 % 14 %\n",
       "S20 99 % 99 % 99 % 99 % 98 % 97 % 99 % 96 % 93 % 69 %\n",
       "S21 99 % 99 % 99 % 99 % 98 % 97 % 99 % 96 % 93 % 69 %\n",
       "S22 99 % 97 % 99 % 99 % 90 % 85 % 99 % 84 % 69 % 27 %\n",
       "S23 99 % 98 % 99 % 99 % 93 % 89 % 99 % 89 % 78 % 37 %\n",
       "S24 99 % 99 % 99 % 99 % 96 % 93 % 99 % 93 % 85 % 50 %\n",
       "S25 99 % 99 % 99 % 99 % 98 % 97 % 99 % 96 % 93 % 69 %"
      ]
     },
     "metadata": {},
     "output_type": "display_data"
    }
   ],
   "source": [
    "# Calcolo la tabella di probabilità che ogni studente risponda correttamente ad ogni test\n",
    "dfP <- calcProbabilites(datiDichot, difficDichot, abil)\n",
    "\n",
    "# Visualizzo la tabella più semplicemente\n",
    "showProbabilities(dfP)"
   ]
  },
  {
   "cell_type": "code",
   "execution_count": 525,
   "metadata": {
    "collapsed": true
   },
   "outputs": [],
   "source": [
    "#' Genera una tabella dicotomica\n",
    "#'\n",
    "#' @param diff vettore di difficoltà scelte\n",
    "#' @param abil vettore di abilità scelte\n",
    "#' @return La tabella dicotomica generata\n",
    "#' @examples\n",
    "#' numItems <- 10\n",
    "#' numStudents <- 30\n",
    "#' diffInit <- rnorm(numItems)\n",
    "#' abil <- rnorm(numStudents)\n",
    "#' generateDichot(diffInit, abil)\n",
    "generateDichot <- function(diff, abil) {\n",
    "    items <- data.frame(matrix(0, ncol = length(diff), nrow = length(abil)))\n",
    "    prob <- calcProbabilites(items, diff, abil)\n",
    "\n",
    "    namesCol  <- names(items)\n",
    "    namesRow  <- row.names(items)\n",
    "    for (row in namesRow) {\n",
    "        for (col in namesCol) {\n",
    "            items[row,col] <- rbinom(1, 1, prob[row,col])         \n",
    "        }\n",
    "    }\n",
    "    \n",
    "    items\n",
    "}\n",
    "\n",
    "#' Valuta la bontà del mio stimatore misurando lo scostamento tra le difficoltà passate per argomento\n",
    "#'\n",
    "#' @param diff1 vettore di difficoltà \n",
    "#' @param diff2 vettore di difficoltà \n",
    "#' @return Data frame con le difficoltà passate per argomento e lo scostamento rilevato\n",
    "#' @examples\n",
    "#' numItems <- 10\n",
    "#' numStudents <- 30\n",
    "#' bootStrapVal <- 10\n",
    "#' diffInit <- rnorm(numItems)\n",
    "#' abil <- rnorm(numStudents)\n",
    "#' genDic <- generateDichot(diffInit, abil)\n",
    "#' genDicBoot <- bootstrapping(genDic, numStudents * bootStrapVal)\n",
    "#' diffEstim <- estimateDifficultiesDichotFreeDiscrim(genDicBoot)\n",
    "#' validationWithDifference(diffInit, diffEstim)\n",
    "validationWithDifference <- function(diff1, diff2) { \n",
    "    scost <- abs(unlist(lapply(diff1 - diff2 , round, 2)))\n",
    "    compare <- data.frame(diff1, diff2, scost)   \n",
    "    colnames(compare) <- c(\"Difficoltà 1\",\"Difficoltà 2\", \"Scostamento\")\n",
    "    compare\n",
    "}\n",
    "\n",
    "#' Valuta la bontà del mio stimatore confrontando graficamente le difficoltà passate per argomento\n",
    "#'\n",
    "#' @param diff1 vettore di difficoltà \n",
    "#' @param diff2 vettore di difficoltà \n",
    "#' @examples\n",
    "#' numItems <- 10\n",
    "#' numStudents <- 30\n",
    "#' bootStrapVal <- 10\n",
    "#' diffInit <- rnorm(numItems)\n",
    "#' abil <- rnorm(numStudents)\n",
    "#' genDic <- generateDichot(diff, abil)\n",
    "#' genDicBoot <- bootstrapping(genDic, numStudents * bootStrapVal)\n",
    "#' diffEstim <- estimateDifficultiesDichotFreeDiscrim(genDicBoot)\n",
    "#' validationWithPlot(diffInit, diffEstim)\n",
    "validationWithPlot <- function(diff1, diff2) {\n",
    "    plot(diff1,xlim=c(1,length(diff1)),ylim=c(-4,4),type=\"b\",main=\"Comparison plot\",xlab=\"Items\",ylab=\"Difficulty\",xaxt=\"n\",col=\"red\",pch=16,lwd=2)\n",
    "    axis(1, at = 1:length(diff1), labels = 1:length(diff1))\n",
    "    par(new = TRUE)\n",
    "    plot(diff2, type = \"b\", xlim = c(1,length(diff2)),ylim = c(-4,4), xaxt='n', yaxt = \"n\", xlab = \"\", ylab = \"\", col = \"blue\", pch=16, lwd=2)\n",
    "    legend(1, 3, legend=c(\"Difficoltà 1\", \"Difficoltà 2\"), col=c(\"red\", \"blue\"), lty=1, cex=1, lwd=2, pch=16)\n",
    "}\n",
    "\n",
    "#' Valuta la bontà del mio stimatore calcolando il coefficiente di correlazione lineare\n",
    "#'\n",
    "#' @param diff1 vettore di difficoltà \n",
    "#' @param diff2 vettore di difficoltà \n",
    "#' @return Valore numerico compreso tra -1 e 1: se si avvicina a -1 i dati sono correlati negativamente, se si avvicina ad 1 \n",
    "#' i dati sono correlati positivamente e se è un valore vicino a 0 allora non vi è alcun tipo di correlazione lineare\n",
    "#' @examples\n",
    "#' numItems <- 10\n",
    "#' numStudents <- 30\n",
    "#' bootStrapVal <- 10\n",
    "#' diffInit <- rnorm(numItems)\n",
    "#' abil <- rnorm(numStudents)\n",
    "#' genDic <- generateDichot(diff, abil)\n",
    "#' genDicBoot <- bootstrapping(genDic, numStudents * bootStrapVal)\n",
    "#' diffEstim <- estimateDifficultiesDichotFreeDiscrim(genDicBoot)\n",
    "#' validationWithCor(diffInit, diffEstim)\n",
    "validationWithCor <- function(diff1, diff2) {\n",
    "    cor(diff1, diff2)\n",
    "}"
   ]
  },
  {
   "cell_type": "code",
   "execution_count": 531,
   "metadata": {},
   "outputs": [],
   "source": [
    "# Definisco il numero di items, il numero di studenti ed quante estrazioni effettuare rispetto al numero di studenti\n",
    "numItems <- 10\n",
    "numStudents <- 40 \n",
    "bootStrapVal <- 15\n",
    "\n",
    "# Genero randomicamente difficolà e abilità\n",
    "diff <- rnorm(numItems)\n",
    "abil <- rnorm(numStudents)\n",
    "\n",
    "# Genero la tabella dicotomica e vi applico il bootstrapping\n",
    "genDic <- generateDichot(diff, abil)\n",
    "genDicBoot <- bootstrapping(genDic, numStudents * bootStrapVal)\n",
    "\n",
    "# Stimo le difficoltà con entrambi i metodi\n",
    "esDiffO <- estimateDifficultiesDichotOneDiscrim(genDic)\n",
    "esDiffF <- estimateDifficultiesDichotFreeDiscrim(genDic)"
   ]
  },
  {
   "cell_type": "code",
   "execution_count": 535,
   "metadata": {
    "scrolled": false
   },
   "outputs": [
    {
     "data": {
      "text/html": [
       "<table>\n",
       "<thead><tr><th scope=col>Difficoltà 1</th><th scope=col>Difficoltà 2</th><th scope=col>Scostamento</th></tr></thead>\n",
       "<tbody>\n",
       "\t<tr><td>-0.55696983</td><td>-0.57634134</td><td>0.02       </td></tr>\n",
       "\t<tr><td>-0.13019571</td><td>-0.18764663</td><td>0.06       </td></tr>\n",
       "\t<tr><td> 0.12731031</td><td> 0.01159023</td><td>0.12       </td></tr>\n",
       "\t<tr><td>-0.03164476</td><td>-0.28556261</td><td>0.25       </td></tr>\n",
       "\t<tr><td>-0.33587580</td><td>-0.57631528</td><td>0.24       </td></tr>\n",
       "\t<tr><td> 1.86561664</td><td> 1.46368008</td><td>0.40       </td></tr>\n",
       "\t<tr><td> 0.28235478</td><td>-0.73352412</td><td>1.02       </td></tr>\n",
       "\t<tr><td> 0.46047473</td><td> 0.32772767</td><td>0.13       </td></tr>\n",
       "\t<tr><td>-2.26400157</td><td>-2.37093548</td><td>0.11       </td></tr>\n",
       "\t<tr><td> 2.62241187</td><td> 1.46341423</td><td>1.16       </td></tr>\n",
       "</tbody>\n",
       "</table>\n"
      ],
      "text/latex": [
       "\\begin{tabular}{r|lll}\n",
       " Difficoltà 1 & Difficoltà 2 & Scostamento\\\\\n",
       "\\hline\n",
       "\t -0.55696983 & -0.57634134 & 0.02       \\\\\n",
       "\t -0.13019571 & -0.18764663 & 0.06       \\\\\n",
       "\t  0.12731031 &  0.01159023 & 0.12       \\\\\n",
       "\t -0.03164476 & -0.28556261 & 0.25       \\\\\n",
       "\t -0.33587580 & -0.57631528 & 0.24       \\\\\n",
       "\t  1.86561664 &  1.46368008 & 0.40       \\\\\n",
       "\t  0.28235478 & -0.73352412 & 1.02       \\\\\n",
       "\t  0.46047473 &  0.32772767 & 0.13       \\\\\n",
       "\t -2.26400157 & -2.37093548 & 0.11       \\\\\n",
       "\t  2.62241187 &  1.46341423 & 1.16       \\\\\n",
       "\\end{tabular}\n"
      ],
      "text/markdown": [
       "\n",
       "Difficoltà 1 | Difficoltà 2 | Scostamento | \n",
       "|---|---|---|---|---|---|---|---|---|---|\n",
       "| -0.55696983 | -0.57634134 | 0.02        | \n",
       "| -0.13019571 | -0.18764663 | 0.06        | \n",
       "|  0.12731031 |  0.01159023 | 0.12        | \n",
       "| -0.03164476 | -0.28556261 | 0.25        | \n",
       "| -0.33587580 | -0.57631528 | 0.24        | \n",
       "|  1.86561664 |  1.46368008 | 0.40        | \n",
       "|  0.28235478 | -0.73352412 | 1.02        | \n",
       "|  0.46047473 |  0.32772767 | 0.13        | \n",
       "| -2.26400157 | -2.37093548 | 0.11        | \n",
       "|  2.62241187 |  1.46341423 | 1.16        | \n",
       "\n",
       "\n"
      ],
      "text/plain": [
       "   Difficoltà 1 Difficoltà 2 Scostamento\n",
       "1  -0.55696983  -0.57634134  0.02       \n",
       "2  -0.13019571  -0.18764663  0.06       \n",
       "3   0.12731031   0.01159023  0.12       \n",
       "4  -0.03164476  -0.28556261  0.25       \n",
       "5  -0.33587580  -0.57631528  0.24       \n",
       "6   1.86561664   1.46368008  0.40       \n",
       "7   0.28235478  -0.73352412  1.02       \n",
       "8   0.46047473   0.32772767  0.13       \n",
       "9  -2.26400157  -2.37093548  0.11       \n",
       "10  2.62241187   1.46341423  1.16       "
      ]
     },
     "metadata": {},
     "output_type": "display_data"
    },
    {
     "data": {
      "text/html": [
       "'Coefficiente di correlazione lineare: 0.959848134894924'"
      ],
      "text/latex": [
       "'Coefficiente di correlazione lineare: 0.959848134894924'"
      ],
      "text/markdown": [
       "'Coefficiente di correlazione lineare: 0.959848134894924'"
      ],
      "text/plain": [
       "[1] \"Coefficiente di correlazione lineare: 0.959848134894924\""
      ]
     },
     "metadata": {},
     "output_type": "display_data"
    },
    {
     "data": {
      "image/png": "[encoded data removed]",
      "text/plain": [
       "Plot with title \"Comparison plot\""
      ]
     },
     "metadata": {},
     "output_type": "display_data"
    }
   ],
   "source": [
    "# Confronto le difficoltà iniziali e quelle stimate fissando il discriminante ad 1\n",
    "validationWithDifference(diff, esDiffO)\n",
    "validationWithPlot(diff, esDiffO)\n",
    "paste(\"Coefficiente di correlazione lineare:\",validationWithCor(diff, esDiffO))"
   ]
  },
  {
   "cell_type": "code",
   "execution_count": 536,
   "metadata": {},
   "outputs": [
    {
     "data": {
      "text/html": [
       "<table>\n",
       "<thead><tr><th scope=col>Difficoltà 1</th><th scope=col>Difficoltà 2</th><th scope=col>Scostamento</th></tr></thead>\n",
       "<tbody>\n",
       "\t<tr><td>-0.55696983</td><td>-0.2358703 </td><td>0.32       </td></tr>\n",
       "\t<tr><td>-0.13019571</td><td> 0.2092851 </td><td>0.34       </td></tr>\n",
       "\t<tr><td> 0.12731031</td><td> 0.4367999 </td><td>0.31       </td></tr>\n",
       "\t<tr><td>-0.03164476</td><td> 0.0974592 </td><td>0.13       </td></tr>\n",
       "\t<tr><td>-0.33587580</td><td>-0.2359471 </td><td>0.10       </td></tr>\n",
       "\t<tr><td> 1.86561664</td><td> 2.0883806 </td><td>0.22       </td></tr>\n",
       "\t<tr><td> 0.28235478</td><td> 0.7967764 </td><td>0.51       </td></tr>\n",
       "\t<tr><td> 0.46047473</td><td> 0.7967801 </td><td>0.34       </td></tr>\n",
       "\t<tr><td>-2.26400157</td><td>-2.3166980 </td><td>0.05       </td></tr>\n",
       "\t<tr><td> 2.62241187</td><td> 2.0882877 </td><td>0.53       </td></tr>\n",
       "</tbody>\n",
       "</table>\n"
      ],
      "text/latex": [
       "\\begin{tabular}{r|lll}\n",
       " Difficoltà 1 & Difficoltà 2 & Scostamento\\\\\n",
       "\\hline\n",
       "\t -0.55696983 & -0.2358703  & 0.32       \\\\\n",
       "\t -0.13019571 &  0.2092851  & 0.34       \\\\\n",
       "\t  0.12731031 &  0.4367999  & 0.31       \\\\\n",
       "\t -0.03164476 &  0.0974592  & 0.13       \\\\\n",
       "\t -0.33587580 & -0.2359471  & 0.10       \\\\\n",
       "\t  1.86561664 &  2.0883806  & 0.22       \\\\\n",
       "\t  0.28235478 &  0.7967764  & 0.51       \\\\\n",
       "\t  0.46047473 &  0.7967801  & 0.34       \\\\\n",
       "\t -2.26400157 & -2.3166980  & 0.05       \\\\\n",
       "\t  2.62241187 &  2.0882877  & 0.53       \\\\\n",
       "\\end{tabular}\n"
      ],
      "text/markdown": [
       "\n",
       "Difficoltà 1 | Difficoltà 2 | Scostamento | \n",
       "|---|---|---|---|---|---|---|---|---|---|\n",
       "| -0.55696983 | -0.2358703  | 0.32        | \n",
       "| -0.13019571 |  0.2092851  | 0.34        | \n",
       "|  0.12731031 |  0.4367999  | 0.31        | \n",
       "| -0.03164476 |  0.0974592  | 0.13        | \n",
       "| -0.33587580 | -0.2359471  | 0.10        | \n",
       "|  1.86561664 |  2.0883806  | 0.22        | \n",
       "|  0.28235478 |  0.7967764  | 0.51        | \n",
       "|  0.46047473 |  0.7967801  | 0.34        | \n",
       "| -2.26400157 | -2.3166980  | 0.05        | \n",
       "|  2.62241187 |  2.0882877  | 0.53        | \n",
       "\n",
       "\n"
      ],
      "text/plain": [
       "   Difficoltà 1 Difficoltà 2 Scostamento\n",
       "1  -0.55696983  -0.2358703   0.32       \n",
       "2  -0.13019571   0.2092851   0.34       \n",
       "3   0.12731031   0.4367999   0.31       \n",
       "4  -0.03164476   0.0974592   0.13       \n",
       "5  -0.33587580  -0.2359471   0.10       \n",
       "6   1.86561664   2.0883806   0.22       \n",
       "7   0.28235478   0.7967764   0.51       \n",
       "8   0.46047473   0.7967801   0.34       \n",
       "9  -2.26400157  -2.3166980   0.05       \n",
       "10  2.62241187   2.0882877   0.53       "
      ]
     },
     "metadata": {},
     "output_type": "display_data"
    },
    {
     "data": {
      "text/html": [
       "'Coefficiente di correlazione lineare: 0.975579743682003'"
      ],
      "text/latex": [
       "'Coefficiente di correlazione lineare: 0.975579743682003'"
      ],
      "text/markdown": [
       "'Coefficiente di correlazione lineare: 0.975579743682003'"
      ],
      "text/plain": [
       "[1] \"Coefficiente di correlazione lineare: 0.975579743682003\""
      ]
     },
     "metadata": {},
     "output_type": "display_data"
    },
    {
     "data": {
      "image/png": "[encoded data removed]",
      "text/plain": [
       "Plot with title \"Comparison plot\""
      ]
     },
     "metadata": {},
     "output_type": "display_data"
    }
   ],
   "source": [
    "# Confronto le difficoltà iniziali e quelle stimate senza fissare il discriminante\n",
    "validationWithDifference(diff, esDiffF)\n",
    "validationWithPlot(diff, esDiffF)\n",
    "paste(\"Coefficiente di correlazione lineare:\",validationWithCor(diff, esDiffF))"
   ]
  },
  {
   "cell_type": "code",
   "execution_count": 537,
   "metadata": {},
   "outputs": [
    {
     "data": {
      "text/html": [
       "<table>\n",
       "<thead><tr><th scope=col>Difficoltà 1</th><th scope=col>Difficoltà 2</th><th scope=col>Scostamento</th></tr></thead>\n",
       "<tbody>\n",
       "\t<tr><td>-0.2358703 </td><td>-0.57634134</td><td>0.34       </td></tr>\n",
       "\t<tr><td> 0.2092851 </td><td>-0.18764663</td><td>0.40       </td></tr>\n",
       "\t<tr><td> 0.4367999 </td><td> 0.01159023</td><td>0.43       </td></tr>\n",
       "\t<tr><td> 0.0974592 </td><td>-0.28556261</td><td>0.38       </td></tr>\n",
       "\t<tr><td>-0.2359471 </td><td>-0.57631528</td><td>0.34       </td></tr>\n",
       "\t<tr><td> 2.0883806 </td><td> 1.46368008</td><td>0.62       </td></tr>\n",
       "\t<tr><td> 0.7967764 </td><td>-0.73352412</td><td>1.53       </td></tr>\n",
       "\t<tr><td> 0.7967801 </td><td> 0.32772767</td><td>0.47       </td></tr>\n",
       "\t<tr><td>-2.3166980 </td><td>-2.37093548</td><td>0.05       </td></tr>\n",
       "\t<tr><td> 2.0882877 </td><td> 1.46341423</td><td>0.62       </td></tr>\n",
       "</tbody>\n",
       "</table>\n"
      ],
      "text/latex": [
       "\\begin{tabular}{r|lll}\n",
       " Difficoltà 1 & Difficoltà 2 & Scostamento\\\\\n",
       "\\hline\n",
       "\t -0.2358703  & -0.57634134 & 0.34       \\\\\n",
       "\t  0.2092851  & -0.18764663 & 0.40       \\\\\n",
       "\t  0.4367999  &  0.01159023 & 0.43       \\\\\n",
       "\t  0.0974592  & -0.28556261 & 0.38       \\\\\n",
       "\t -0.2359471  & -0.57631528 & 0.34       \\\\\n",
       "\t  2.0883806  &  1.46368008 & 0.62       \\\\\n",
       "\t  0.7967764  & -0.73352412 & 1.53       \\\\\n",
       "\t  0.7967801  &  0.32772767 & 0.47       \\\\\n",
       "\t -2.3166980  & -2.37093548 & 0.05       \\\\\n",
       "\t  2.0882877  &  1.46341423 & 0.62       \\\\\n",
       "\\end{tabular}\n"
      ],
      "text/markdown": [
       "\n",
       "Difficoltà 1 | Difficoltà 2 | Scostamento | \n",
       "|---|---|---|---|---|---|---|---|---|---|\n",
       "| -0.2358703  | -0.57634134 | 0.34        | \n",
       "|  0.2092851  | -0.18764663 | 0.40        | \n",
       "|  0.4367999  |  0.01159023 | 0.43        | \n",
       "|  0.0974592  | -0.28556261 | 0.38        | \n",
       "| -0.2359471  | -0.57631528 | 0.34        | \n",
       "|  2.0883806  |  1.46368008 | 0.62        | \n",
       "|  0.7967764  | -0.73352412 | 1.53        | \n",
       "|  0.7967801  |  0.32772767 | 0.47        | \n",
       "| -2.3166980  | -2.37093548 | 0.05        | \n",
       "|  2.0882877  |  1.46341423 | 0.62        | \n",
       "\n",
       "\n"
      ],
      "text/plain": [
       "   Difficoltà 1 Difficoltà 2 Scostamento\n",
       "1  -0.2358703   -0.57634134  0.34       \n",
       "2   0.2092851   -0.18764663  0.40       \n",
       "3   0.4367999    0.01159023  0.43       \n",
       "4   0.0974592   -0.28556261  0.38       \n",
       "5  -0.2359471   -0.57631528  0.34       \n",
       "6   2.0883806    1.46368008  0.62       \n",
       "7   0.7967764   -0.73352412  1.53       \n",
       "8   0.7967801    0.32772767  0.47       \n",
       "9  -2.3166980   -2.37093548  0.05       \n",
       "10  2.0882877    1.46341423  0.62       "
      ]
     },
     "metadata": {},
     "output_type": "display_data"
    },
    {
     "data": {
      "text/html": [
       "'Coefficiente di correlazione lineare: 0.953789844059772'"
      ],
      "text/latex": [
       "'Coefficiente di correlazione lineare: 0.953789844059772'"
      ],
      "text/markdown": [
       "'Coefficiente di correlazione lineare: 0.953789844059772'"
      ],
      "text/plain": [
       "[1] \"Coefficiente di correlazione lineare: 0.953789844059772\""
      ]
     },
     "metadata": {},
     "output_type": "display_data"
    },
    {
     "data": {
      "image/png": "[encoded data removed]",
      "text/plain": [
       "Plot with title \"Comparison plot\""
      ]
     },
     "metadata": {},
     "output_type": "display_data"
    }
   ],
   "source": [
    "# Confronto le difficoltà stimate fissando il discriminante ad 1 con quelle stimate senza fissarlo\n",
    "validationWithDifference(esDiffF, esDiffO)\n",
    "validationWithPlot(esDiffF, esDiffO)\n",
    "paste(\"Coefficiente di correlazione lineare:\",validationWithCor(esDiffF, esDiffO))"
   ]
  }
 ],
 "metadata": {
  "kernelspec": {
   "display_name": "R",
   "language": "R",
   "name": "ir"
  },
  "language_info": {
   "codemirror_mode": "r",
   "file_extension": ".r",
   "mimetype": "text/x-r-source",
   "name": "R",
   "pygments_lexer": "r",
   "version": "3.4.1"
  }
 },
 "nbformat": 4,
 "nbformat_minor": 2
}
