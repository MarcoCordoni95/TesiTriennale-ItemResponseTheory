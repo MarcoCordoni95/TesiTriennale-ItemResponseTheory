{
 "cells": [
  {
   "cell_type": "markdown",
   "metadata": {},
   "source": [
    "<center> \n",
    "    <font face=\"Baskerville Old Face\">\n",
    "        <font size=\"6\"> <h1> Uno strumento di analisi statistica delle prove d'esame di programmazione</h1> </font>\n",
    "        <font size=\"3\"> <h2> Progetto di tesi triennale in informatica - Università statale di Milano</h2> </font>          \n",
    "        <font size=\"3\"> <h3> Marco Cordoni </h3> </font>     \n",
    "    </font>\n",
    "</center>"
   ]
  },
  {
   "cell_type": "code",
   "execution_count": 1,
   "metadata": {},
   "outputs": [
    {
     "name": "stderr",
     "output_type": "stream",
     "text": [
      "Warning message:\n",
      "\"package 'readxl' was built under R version 3.4.2\"Warning message:\n",
      "\"package 'ltm' was built under R version 3.4.2\"Loading required package: MASS\n",
      "Loading required package: msm\n",
      "Loading required package: polycor\n"
     ]
    }
   ],
   "source": [
    "# importo le funzioni definite nel file IrtFunctions.r\n",
    "source(\"IrtFunctions.r\")"
   ]
  },
  {
   "cell_type": "markdown",
   "metadata": {},
   "source": [
    "<center> \n",
    "    <font face=\"Baskerville Old Face\">\n",
    "        <font size=\"3\"> <h2> Esempio di uso di stimatori e confronto grafico per le difficoltà</h2> </font>          \n",
    "    </font>\n",
    "</center>"
   ]
  },
  {
   "cell_type": "code",
   "execution_count": 2,
   "metadata": {
    "scrolled": false
   },
   "outputs": [
    {
     "data": {
      "image/png": "[encoded data removed]",
      "text/plain": [
       "Plot with title \"Difficulties plot\""
      ]
     },
     "metadata": {},
     "output_type": "display_data"
    },
    {
     "data": {
      "image/png": "[encoded data removed]",
      "text/plain": [
       "Plot with title \"Ability histogram\""
      ]
     },
     "metadata": {},
     "output_type": "display_data"
    }
   ],
   "source": [
    "# Modifico la dimensione dei grafici\n",
    "width <- 7\n",
    "height <- 5\n",
    "sizePlot(width, height)\n",
    "\n",
    "# Definisco il numero di items, il numero di studenti ed quante estrazioni effettuare rispetto al numero di studenti\n",
    "numItems <- 10\n",
    "numStudents <- 35 \n",
    "bootStrapVal <- 15\n",
    "\n",
    "# Genero randomicamente difficolà e abilità\n",
    "diff <- rnorm(numItems)\n",
    "abil <- rnorm(numStudents)\n",
    "\n",
    "# Genero i dati\n",
    "datiDichot <- generateDichot(diff, abil)\n",
    "\n",
    "# Bootstrapping\n",
    "numExtractions <- bootStrapVal * numStudents\n",
    "bottDatiDichot <- bootstrapping(datiDichot, numExtractions)\n",
    "\n",
    "# Stimo le difficoltà con entrambi i metodi\n",
    "difficDichotF <- estimateDifficultiesDichotFreeDiscrim(bottDatiDichot)\n",
    "difficDichotO <- estimateDifficultiesDichotOneDiscrim(bottDatiDichot)\n",
    "\n",
    "# Visualizzo e confronto i grafici relativi alle difficoltà stimate con entrambi i metodi e le difficoltà iniziali\n",
    "plotDifficultiesDichot(datiDichot, difficDichotF)\n",
    "par(new = TRUE)\n",
    "plotDifficultiesDichot(datiDichot, difficDichotO, color = \"blue\")\n",
    "par(new = TRUE)\n",
    "plotDifficultiesDichot(datiDichot, diff, color = \"green\")\n",
    "legend(1, 10, legend=c(\"Difficoltà con discriminante non vincolato\", \"Difficoltà con discriminante vincolato ad 1\", \"Difficoltà originali\"), col=c(\"red\", \"blue\", \"green\"), lty=1, cex=1, lwd=2, pch=16)\n",
    "\n",
    "# Stimo le abilità e visualizzo il relativo grafico\n",
    "abil <- estimateAbilitiesDichot(datiDichot)\n",
    "plotAbilitiesDichot(abil, start = -3, end = 2, by = 0.5)"
   ]
  },
  {
   "cell_type": "markdown",
   "metadata": {},
   "source": [
    "<center> <font size=\"10\" face=\"Baskerville Old Face\"> One-parameter logistic (1PL) </font> </center> \n",
    "<br>\n",
    "<font size=\"5\">\n",
    "    \\begin{equation} \n",
    "    p(x_j = 1 | \\theta_i, \\beta_j) = \\frac{\\mathrm{e}^{(\\theta_i - \\beta_j)}}\n",
    "                                      {1 + \\mathrm{e}^{(\\theta_i - \\beta_j)}}\n",
    "    \\end{equation}\n",
    "</font>\n",
    "<br>"
   ]
  },
  {
   "cell_type": "code",
   "execution_count": 3,
   "metadata": {},
   "outputs": [
    {
     "data": {
      "text/html": [
       "<table>\n",
       "<thead><tr><th scope=col>X1</th><th scope=col>X2</th><th scope=col>X3</th><th scope=col>X4</th><th scope=col>X5</th><th scope=col>X6</th><th scope=col>X7</th><th scope=col>X8</th><th scope=col>X9</th><th scope=col>X10</th></tr></thead>\n",
       "<tbody>\n",
       "\t<tr><td>35 %</td><td>69 %</td><td>60 %</td><td>26 %</td><td>49 %</td><td>35 %</td><td>73 %</td><td>34 %</td><td>62 %</td><td>67 %</td></tr>\n",
       "\t<tr><td>23 %</td><td>54 %</td><td>45 %</td><td>16 %</td><td>34 %</td><td>23 %</td><td>60 %</td><td>22 %</td><td>46 %</td><td>53 %</td></tr>\n",
       "\t<tr><td>13 %</td><td>37 %</td><td>29 %</td><td>8 % </td><td>20 %</td><td>13 %</td><td>43 %</td><td>12 %</td><td>30 %</td><td>36 %</td></tr>\n",
       "\t<tr><td>9 % </td><td>28 %</td><td>21 %</td><td>6 % </td><td>14 %</td><td>9 % </td><td>33 %</td><td>8 % </td><td>22 %</td><td>27 %</td></tr>\n",
       "\t<tr><td>59 %</td><td>85 %</td><td>80 %</td><td>47 %</td><td>71 %</td><td>59 %</td><td>87 %</td><td>58 %</td><td>81 %</td><td>84 %</td></tr>\n",
       "\t<tr><td>67 %</td><td>89 %</td><td>85 %</td><td>57 %</td><td>78 %</td><td>67 %</td><td>91 %</td><td>66 %</td><td>86 %</td><td>88 %</td></tr>\n",
       "\t<tr><td>35 %</td><td>69 %</td><td>60 %</td><td>26 %</td><td>49 %</td><td>35 %</td><td>73 %</td><td>34 %</td><td>62 %</td><td>67 %</td></tr>\n",
       "\t<tr><td>23 %</td><td>54 %</td><td>45 %</td><td>16 %</td><td>34 %</td><td>23 %</td><td>60 %</td><td>22 %</td><td>46 %</td><td>53 %</td></tr>\n",
       "\t<tr><td>43 %</td><td>75 %</td><td>67 %</td><td>32 %</td><td>56 %</td><td>43 %</td><td>79 %</td><td>42 %</td><td>69 %</td><td>73 %</td></tr>\n",
       "\t<tr><td>50 %</td><td>80 %</td><td>74 %</td><td>39 %</td><td>64 %</td><td>50 %</td><td>83 %</td><td>50 %</td><td>75 %</td><td>79 %</td></tr>\n",
       "\t<tr><td>59 %</td><td>85 %</td><td>80 %</td><td>47 %</td><td>71 %</td><td>59 %</td><td>87 %</td><td>58 %</td><td>81 %</td><td>84 %</td></tr>\n",
       "\t<tr><td>35 %</td><td>69 %</td><td>60 %</td><td>26 %</td><td>49 %</td><td>35 %</td><td>73 %</td><td>34 %</td><td>62 %</td><td>67 %</td></tr>\n",
       "\t<tr><td>17 %</td><td>46 %</td><td>37 %</td><td>12 %</td><td>27 %</td><td>17 %</td><td>52 %</td><td>17 %</td><td>38 %</td><td>44 %</td></tr>\n",
       "\t<tr><td>23 %</td><td>54 %</td><td>45 %</td><td>16 %</td><td>34 %</td><td>23 %</td><td>60 %</td><td>22 %</td><td>46 %</td><td>53 %</td></tr>\n",
       "\t<tr><td>50 %</td><td>80 %</td><td>74 %</td><td>39 %</td><td>64 %</td><td>50 %</td><td>83 %</td><td>50 %</td><td>75 %</td><td>79 %</td></tr>\n",
       "\t<tr><td>43 %</td><td>75 %</td><td>67 %</td><td>32 %</td><td>56 %</td><td>43 %</td><td>79 %</td><td>42 %</td><td>69 %</td><td>73 %</td></tr>\n",
       "\t<tr><td>17 %</td><td>46 %</td><td>37 %</td><td>12 %</td><td>27 %</td><td>17 %</td><td>52 %</td><td>17 %</td><td>38 %</td><td>44 %</td></tr>\n",
       "\t<tr><td>17 %</td><td>46 %</td><td>37 %</td><td>12 %</td><td>27 %</td><td>17 %</td><td>52 %</td><td>17 %</td><td>38 %</td><td>44 %</td></tr>\n",
       "\t<tr><td>35 %</td><td>69 %</td><td>60 %</td><td>26 %</td><td>49 %</td><td>35 %</td><td>73 %</td><td>34 %</td><td>62 %</td><td>67 %</td></tr>\n",
       "\t<tr><td>43 %</td><td>75 %</td><td>67 %</td><td>32 %</td><td>56 %</td><td>43 %</td><td>79 %</td><td>42 %</td><td>69 %</td><td>73 %</td></tr>\n",
       "\t<tr><td>50 %</td><td>80 %</td><td>74 %</td><td>39 %</td><td>64 %</td><td>50 %</td><td>83 %</td><td>50 %</td><td>75 %</td><td>79 %</td></tr>\n",
       "\t<tr><td>59 %</td><td>85 %</td><td>80 %</td><td>47 %</td><td>71 %</td><td>59 %</td><td>87 %</td><td>58 %</td><td>81 %</td><td>84 %</td></tr>\n",
       "\t<tr><td>17 %</td><td>46 %</td><td>37 %</td><td>12 %</td><td>27 %</td><td>17 %</td><td>52 %</td><td>17 %</td><td>38 %</td><td>44 %</td></tr>\n",
       "\t<tr><td>35 %</td><td>69 %</td><td>60 %</td><td>26 %</td><td>49 %</td><td>35 %</td><td>73 %</td><td>34 %</td><td>62 %</td><td>67 %</td></tr>\n",
       "\t<tr><td>50 %</td><td>80 %</td><td>74 %</td><td>39 %</td><td>64 %</td><td>50 %</td><td>83 %</td><td>50 %</td><td>75 %</td><td>79 %</td></tr>\n",
       "\t<tr><td>35 %</td><td>69 %</td><td>60 %</td><td>26 %</td><td>49 %</td><td>35 %</td><td>73 %</td><td>34 %</td><td>62 %</td><td>67 %</td></tr>\n",
       "\t<tr><td>23 %</td><td>54 %</td><td>45 %</td><td>16 %</td><td>34 %</td><td>23 %</td><td>60 %</td><td>22 %</td><td>46 %</td><td>53 %</td></tr>\n",
       "\t<tr><td>67 %</td><td>89 %</td><td>85 %</td><td>57 %</td><td>78 %</td><td>67 %</td><td>91 %</td><td>66 %</td><td>86 %</td><td>88 %</td></tr>\n",
       "\t<tr><td>29 %</td><td>62 %</td><td>53 %</td><td>20 %</td><td>41 %</td><td>29 %</td><td>67 %</td><td>28 %</td><td>54 %</td><td>60 %</td></tr>\n",
       "\t<tr><td>59 %</td><td>85 %</td><td>80 %</td><td>47 %</td><td>71 %</td><td>59 %</td><td>87 %</td><td>58 %</td><td>81 %</td><td>84 %</td></tr>\n",
       "\t<tr><td>17 %</td><td>46 %</td><td>37 %</td><td>12 %</td><td>27 %</td><td>17 %</td><td>52 %</td><td>17 %</td><td>38 %</td><td>44 %</td></tr>\n",
       "\t<tr><td>67 %</td><td>89 %</td><td>85 %</td><td>57 %</td><td>78 %</td><td>67 %</td><td>91 %</td><td>66 %</td><td>86 %</td><td>88 %</td></tr>\n",
       "\t<tr><td>59 %</td><td>85 %</td><td>80 %</td><td>47 %</td><td>71 %</td><td>59 %</td><td>87 %</td><td>58 %</td><td>81 %</td><td>84 %</td></tr>\n",
       "\t<tr><td>35 %</td><td>69 %</td><td>60 %</td><td>26 %</td><td>49 %</td><td>35 %</td><td>73 %</td><td>34 %</td><td>62 %</td><td>67 %</td></tr>\n",
       "\t<tr><td>43 %</td><td>75 %</td><td>67 %</td><td>32 %</td><td>56 %</td><td>43 %</td><td>79 %</td><td>42 %</td><td>69 %</td><td>73 %</td></tr>\n",
       "</tbody>\n",
       "</table>\n"
      ],
      "text/latex": [
       "\\begin{tabular}{r|llllllllll}\n",
       " X1 & X2 & X3 & X4 & X5 & X6 & X7 & X8 & X9 & X10\\\\\n",
       "\\hline\n",
       "\t 35 \\% & 69 \\% & 60 \\% & 26 \\% & 49 \\% & 35 \\% & 73 \\% & 34 \\% & 62 \\% & 67 \\%\\\\\n",
       "\t 23 \\% & 54 \\% & 45 \\% & 16 \\% & 34 \\% & 23 \\% & 60 \\% & 22 \\% & 46 \\% & 53 \\%\\\\\n",
       "\t 13 \\% & 37 \\% & 29 \\% & 8 \\%  & 20 \\% & 13 \\% & 43 \\% & 12 \\% & 30 \\% & 36 \\%\\\\\n",
       "\t 9 \\%  & 28 \\% & 21 \\% & 6 \\%  & 14 \\% & 9 \\%  & 33 \\% & 8 \\%  & 22 \\% & 27 \\%\\\\\n",
       "\t 59 \\% & 85 \\% & 80 \\% & 47 \\% & 71 \\% & 59 \\% & 87 \\% & 58 \\% & 81 \\% & 84 \\%\\\\\n",
       "\t 67 \\% & 89 \\% & 85 \\% & 57 \\% & 78 \\% & 67 \\% & 91 \\% & 66 \\% & 86 \\% & 88 \\%\\\\\n",
       "\t 35 \\% & 69 \\% & 60 \\% & 26 \\% & 49 \\% & 35 \\% & 73 \\% & 34 \\% & 62 \\% & 67 \\%\\\\\n",
       "\t 23 \\% & 54 \\% & 45 \\% & 16 \\% & 34 \\% & 23 \\% & 60 \\% & 22 \\% & 46 \\% & 53 \\%\\\\\n",
       "\t 43 \\% & 75 \\% & 67 \\% & 32 \\% & 56 \\% & 43 \\% & 79 \\% & 42 \\% & 69 \\% & 73 \\%\\\\\n",
       "\t 50 \\% & 80 \\% & 74 \\% & 39 \\% & 64 \\% & 50 \\% & 83 \\% & 50 \\% & 75 \\% & 79 \\%\\\\\n",
       "\t 59 \\% & 85 \\% & 80 \\% & 47 \\% & 71 \\% & 59 \\% & 87 \\% & 58 \\% & 81 \\% & 84 \\%\\\\\n",
       "\t 35 \\% & 69 \\% & 60 \\% & 26 \\% & 49 \\% & 35 \\% & 73 \\% & 34 \\% & 62 \\% & 67 \\%\\\\\n",
       "\t 17 \\% & 46 \\% & 37 \\% & 12 \\% & 27 \\% & 17 \\% & 52 \\% & 17 \\% & 38 \\% & 44 \\%\\\\\n",
       "\t 23 \\% & 54 \\% & 45 \\% & 16 \\% & 34 \\% & 23 \\% & 60 \\% & 22 \\% & 46 \\% & 53 \\%\\\\\n",
       "\t 50 \\% & 80 \\% & 74 \\% & 39 \\% & 64 \\% & 50 \\% & 83 \\% & 50 \\% & 75 \\% & 79 \\%\\\\\n",
       "\t 43 \\% & 75 \\% & 67 \\% & 32 \\% & 56 \\% & 43 \\% & 79 \\% & 42 \\% & 69 \\% & 73 \\%\\\\\n",
       "\t 17 \\% & 46 \\% & 37 \\% & 12 \\% & 27 \\% & 17 \\% & 52 \\% & 17 \\% & 38 \\% & 44 \\%\\\\\n",
       "\t 17 \\% & 46 \\% & 37 \\% & 12 \\% & 27 \\% & 17 \\% & 52 \\% & 17 \\% & 38 \\% & 44 \\%\\\\\n",
       "\t 35 \\% & 69 \\% & 60 \\% & 26 \\% & 49 \\% & 35 \\% & 73 \\% & 34 \\% & 62 \\% & 67 \\%\\\\\n",
       "\t 43 \\% & 75 \\% & 67 \\% & 32 \\% & 56 \\% & 43 \\% & 79 \\% & 42 \\% & 69 \\% & 73 \\%\\\\\n",
       "\t 50 \\% & 80 \\% & 74 \\% & 39 \\% & 64 \\% & 50 \\% & 83 \\% & 50 \\% & 75 \\% & 79 \\%\\\\\n",
       "\t 59 \\% & 85 \\% & 80 \\% & 47 \\% & 71 \\% & 59 \\% & 87 \\% & 58 \\% & 81 \\% & 84 \\%\\\\\n",
       "\t 17 \\% & 46 \\% & 37 \\% & 12 \\% & 27 \\% & 17 \\% & 52 \\% & 17 \\% & 38 \\% & 44 \\%\\\\\n",
       "\t 35 \\% & 69 \\% & 60 \\% & 26 \\% & 49 \\% & 35 \\% & 73 \\% & 34 \\% & 62 \\% & 67 \\%\\\\\n",
       "\t 50 \\% & 80 \\% & 74 \\% & 39 \\% & 64 \\% & 50 \\% & 83 \\% & 50 \\% & 75 \\% & 79 \\%\\\\\n",
       "\t 35 \\% & 69 \\% & 60 \\% & 26 \\% & 49 \\% & 35 \\% & 73 \\% & 34 \\% & 62 \\% & 67 \\%\\\\\n",
       "\t 23 \\% & 54 \\% & 45 \\% & 16 \\% & 34 \\% & 23 \\% & 60 \\% & 22 \\% & 46 \\% & 53 \\%\\\\\n",
       "\t 67 \\% & 89 \\% & 85 \\% & 57 \\% & 78 \\% & 67 \\% & 91 \\% & 66 \\% & 86 \\% & 88 \\%\\\\\n",
       "\t 29 \\% & 62 \\% & 53 \\% & 20 \\% & 41 \\% & 29 \\% & 67 \\% & 28 \\% & 54 \\% & 60 \\%\\\\\n",
       "\t 59 \\% & 85 \\% & 80 \\% & 47 \\% & 71 \\% & 59 \\% & 87 \\% & 58 \\% & 81 \\% & 84 \\%\\\\\n",
       "\t 17 \\% & 46 \\% & 37 \\% & 12 \\% & 27 \\% & 17 \\% & 52 \\% & 17 \\% & 38 \\% & 44 \\%\\\\\n",
       "\t 67 \\% & 89 \\% & 85 \\% & 57 \\% & 78 \\% & 67 \\% & 91 \\% & 66 \\% & 86 \\% & 88 \\%\\\\\n",
       "\t 59 \\% & 85 \\% & 80 \\% & 47 \\% & 71 \\% & 59 \\% & 87 \\% & 58 \\% & 81 \\% & 84 \\%\\\\\n",
       "\t 35 \\% & 69 \\% & 60 \\% & 26 \\% & 49 \\% & 35 \\% & 73 \\% & 34 \\% & 62 \\% & 67 \\%\\\\\n",
       "\t 43 \\% & 75 \\% & 67 \\% & 32 \\% & 56 \\% & 43 \\% & 79 \\% & 42 \\% & 69 \\% & 73 \\%\\\\\n",
       "\\end{tabular}\n"
      ],
      "text/markdown": [
       "\n",
       "X1 | X2 | X3 | X4 | X5 | X6 | X7 | X8 | X9 | X10 | \n",
       "|---|---|---|---|---|---|---|---|---|---|---|---|---|---|---|---|---|---|---|---|---|---|---|---|---|---|---|---|---|---|---|---|---|---|---|\n",
       "| 35 % | 69 % | 60 % | 26 % | 49 % | 35 % | 73 % | 34 % | 62 % | 67 % | \n",
       "| 23 % | 54 % | 45 % | 16 % | 34 % | 23 % | 60 % | 22 % | 46 % | 53 % | \n",
       "| 13 % | 37 % | 29 % | 8 %  | 20 % | 13 % | 43 % | 12 % | 30 % | 36 % | \n",
       "| 9 %  | 28 % | 21 % | 6 %  | 14 % | 9 %  | 33 % | 8 %  | 22 % | 27 % | \n",
       "| 59 % | 85 % | 80 % | 47 % | 71 % | 59 % | 87 % | 58 % | 81 % | 84 % | \n",
       "| 67 % | 89 % | 85 % | 57 % | 78 % | 67 % | 91 % | 66 % | 86 % | 88 % | \n",
       "| 35 % | 69 % | 60 % | 26 % | 49 % | 35 % | 73 % | 34 % | 62 % | 67 % | \n",
       "| 23 % | 54 % | 45 % | 16 % | 34 % | 23 % | 60 % | 22 % | 46 % | 53 % | \n",
       "| 43 % | 75 % | 67 % | 32 % | 56 % | 43 % | 79 % | 42 % | 69 % | 73 % | \n",
       "| 50 % | 80 % | 74 % | 39 % | 64 % | 50 % | 83 % | 50 % | 75 % | 79 % | \n",
       "| 59 % | 85 % | 80 % | 47 % | 71 % | 59 % | 87 % | 58 % | 81 % | 84 % | \n",
       "| 35 % | 69 % | 60 % | 26 % | 49 % | 35 % | 73 % | 34 % | 62 % | 67 % | \n",
       "| 17 % | 46 % | 37 % | 12 % | 27 % | 17 % | 52 % | 17 % | 38 % | 44 % | \n",
       "| 23 % | 54 % | 45 % | 16 % | 34 % | 23 % | 60 % | 22 % | 46 % | 53 % | \n",
       "| 50 % | 80 % | 74 % | 39 % | 64 % | 50 % | 83 % | 50 % | 75 % | 79 % | \n",
       "| 43 % | 75 % | 67 % | 32 % | 56 % | 43 % | 79 % | 42 % | 69 % | 73 % | \n",
       "| 17 % | 46 % | 37 % | 12 % | 27 % | 17 % | 52 % | 17 % | 38 % | 44 % | \n",
       "| 17 % | 46 % | 37 % | 12 % | 27 % | 17 % | 52 % | 17 % | 38 % | 44 % | \n",
       "| 35 % | 69 % | 60 % | 26 % | 49 % | 35 % | 73 % | 34 % | 62 % | 67 % | \n",
       "| 43 % | 75 % | 67 % | 32 % | 56 % | 43 % | 79 % | 42 % | 69 % | 73 % | \n",
       "| 50 % | 80 % | 74 % | 39 % | 64 % | 50 % | 83 % | 50 % | 75 % | 79 % | \n",
       "| 59 % | 85 % | 80 % | 47 % | 71 % | 59 % | 87 % | 58 % | 81 % | 84 % | \n",
       "| 17 % | 46 % | 37 % | 12 % | 27 % | 17 % | 52 % | 17 % | 38 % | 44 % | \n",
       "| 35 % | 69 % | 60 % | 26 % | 49 % | 35 % | 73 % | 34 % | 62 % | 67 % | \n",
       "| 50 % | 80 % | 74 % | 39 % | 64 % | 50 % | 83 % | 50 % | 75 % | 79 % | \n",
       "| 35 % | 69 % | 60 % | 26 % | 49 % | 35 % | 73 % | 34 % | 62 % | 67 % | \n",
       "| 23 % | 54 % | 45 % | 16 % | 34 % | 23 % | 60 % | 22 % | 46 % | 53 % | \n",
       "| 67 % | 89 % | 85 % | 57 % | 78 % | 67 % | 91 % | 66 % | 86 % | 88 % | \n",
       "| 29 % | 62 % | 53 % | 20 % | 41 % | 29 % | 67 % | 28 % | 54 % | 60 % | \n",
       "| 59 % | 85 % | 80 % | 47 % | 71 % | 59 % | 87 % | 58 % | 81 % | 84 % | \n",
       "| 17 % | 46 % | 37 % | 12 % | 27 % | 17 % | 52 % | 17 % | 38 % | 44 % | \n",
       "| 67 % | 89 % | 85 % | 57 % | 78 % | 67 % | 91 % | 66 % | 86 % | 88 % | \n",
       "| 59 % | 85 % | 80 % | 47 % | 71 % | 59 % | 87 % | 58 % | 81 % | 84 % | \n",
       "| 35 % | 69 % | 60 % | 26 % | 49 % | 35 % | 73 % | 34 % | 62 % | 67 % | \n",
       "| 43 % | 75 % | 67 % | 32 % | 56 % | 43 % | 79 % | 42 % | 69 % | 73 % | \n",
       "\n",
       "\n"
      ],
      "text/plain": [
       "   X1   X2   X3   X4   X5   X6   X7   X8   X9   X10 \n",
       "1  35 % 69 % 60 % 26 % 49 % 35 % 73 % 34 % 62 % 67 %\n",
       "2  23 % 54 % 45 % 16 % 34 % 23 % 60 % 22 % 46 % 53 %\n",
       "3  13 % 37 % 29 % 8 %  20 % 13 % 43 % 12 % 30 % 36 %\n",
       "4  9 %  28 % 21 % 6 %  14 % 9 %  33 % 8 %  22 % 27 %\n",
       "5  59 % 85 % 80 % 47 % 71 % 59 % 87 % 58 % 81 % 84 %\n",
       "6  67 % 89 % 85 % 57 % 78 % 67 % 91 % 66 % 86 % 88 %\n",
       "7  35 % 69 % 60 % 26 % 49 % 35 % 73 % 34 % 62 % 67 %\n",
       "8  23 % 54 % 45 % 16 % 34 % 23 % 60 % 22 % 46 % 53 %\n",
       "9  43 % 75 % 67 % 32 % 56 % 43 % 79 % 42 % 69 % 73 %\n",
       "10 50 % 80 % 74 % 39 % 64 % 50 % 83 % 50 % 75 % 79 %\n",
       "11 59 % 85 % 80 % 47 % 71 % 59 % 87 % 58 % 81 % 84 %\n",
       "12 35 % 69 % 60 % 26 % 49 % 35 % 73 % 34 % 62 % 67 %\n",
       "13 17 % 46 % 37 % 12 % 27 % 17 % 52 % 17 % 38 % 44 %\n",
       "14 23 % 54 % 45 % 16 % 34 % 23 % 60 % 22 % 46 % 53 %\n",
       "15 50 % 80 % 74 % 39 % 64 % 50 % 83 % 50 % 75 % 79 %\n",
       "16 43 % 75 % 67 % 32 % 56 % 43 % 79 % 42 % 69 % 73 %\n",
       "17 17 % 46 % 37 % 12 % 27 % 17 % 52 % 17 % 38 % 44 %\n",
       "18 17 % 46 % 37 % 12 % 27 % 17 % 52 % 17 % 38 % 44 %\n",
       "19 35 % 69 % 60 % 26 % 49 % 35 % 73 % 34 % 62 % 67 %\n",
       "20 43 % 75 % 67 % 32 % 56 % 43 % 79 % 42 % 69 % 73 %\n",
       "21 50 % 80 % 74 % 39 % 64 % 50 % 83 % 50 % 75 % 79 %\n",
       "22 59 % 85 % 80 % 47 % 71 % 59 % 87 % 58 % 81 % 84 %\n",
       "23 17 % 46 % 37 % 12 % 27 % 17 % 52 % 17 % 38 % 44 %\n",
       "24 35 % 69 % 60 % 26 % 49 % 35 % 73 % 34 % 62 % 67 %\n",
       "25 50 % 80 % 74 % 39 % 64 % 50 % 83 % 50 % 75 % 79 %\n",
       "26 35 % 69 % 60 % 26 % 49 % 35 % 73 % 34 % 62 % 67 %\n",
       "27 23 % 54 % 45 % 16 % 34 % 23 % 60 % 22 % 46 % 53 %\n",
       "28 67 % 89 % 85 % 57 % 78 % 67 % 91 % 66 % 86 % 88 %\n",
       "29 29 % 62 % 53 % 20 % 41 % 29 % 67 % 28 % 54 % 60 %\n",
       "30 59 % 85 % 80 % 47 % 71 % 59 % 87 % 58 % 81 % 84 %\n",
       "31 17 % 46 % 37 % 12 % 27 % 17 % 52 % 17 % 38 % 44 %\n",
       "32 67 % 89 % 85 % 57 % 78 % 67 % 91 % 66 % 86 % 88 %\n",
       "33 59 % 85 % 80 % 47 % 71 % 59 % 87 % 58 % 81 % 84 %\n",
       "34 35 % 69 % 60 % 26 % 49 % 35 % 73 % 34 % 62 % 67 %\n",
       "35 43 % 75 % 67 % 32 % 56 % 43 % 79 % 42 % 69 % 73 %"
      ]
     },
     "metadata": {},
     "output_type": "display_data"
    }
   ],
   "source": [
    "# Calcolo la tabella di probabilità che ogni studente risponda correttamente ad ogni test usando il discriminante non vincolato\n",
    "dfProb <- calcProbabilites(items = datiDichot, diff = difficDichotF, abil = abil)\n",
    "\n",
    "# Visualizzo la tabella più semplicemente\n",
    "showProbabilities(df = dfProb)"
   ]
  },
  {
   "cell_type": "markdown",
   "metadata": {},
   "source": [
    "<center> \n",
    "    <font face=\"Baskerville Old Face\">\n",
    "        <font size=\"3\"> <h2> Gestione dei dati assenti (NA)</h2> </font>          \n",
    "    </font>\n",
    "</center>"
   ]
  },
  {
   "cell_type": "code",
   "execution_count": 4,
   "metadata": {
    "collapsed": true
   },
   "outputs": [],
   "source": [
    "# Definisco la probabilità di rimpiazzare gli 0 con NA\n",
    "prob <- 0.2\n",
    "\n",
    "# Applico il rimpiazzamento dei valori 0 in NA e il bootsrapping\n",
    "datiDichotNA <- replaceRandomZeroWithNA(datiDichot, prob)\n",
    "datiDichotNABoot <- bootstrapping(datiDichotNA, numStudents * bootStrapVal)"
   ]
  },
  {
   "cell_type": "code",
   "execution_count": 5,
   "metadata": {},
   "outputs": [
    {
     "data": {
      "image/png": "[encoded data removed]",
      "text/plain": [
       "Plot with title \"Difficulties plot\""
      ]
     },
     "metadata": {},
     "output_type": "display_data"
    }
   ],
   "source": [
    "# Eseguo la stima rimuovendo gli NA prima della computazione\n",
    "estDiffNULL <- estimateDifficultiesDichotOneDiscrim(datiDichotNABoot, forNA = NULL)\n",
    "\n",
    "# Eseguo la stima sostituendo gli NA con 0 \n",
    "estDiffZero <- estimateDifficultiesDichotOneDiscrim(replaceNaWithZero(datiDichotNABoot))\n",
    "\n",
    "# Confronto i grafici relativi alle difficoltà stimate nei 2 modi con i valori reali\n",
    "plotDifficultiesDichot(datiDichot, estDiffNULL)\n",
    "par(new = TRUE)\n",
    "plotDifficultiesDichot(datiDichot, estDiffZero, color = \"blue\")\n",
    "par(new = TRUE)\n",
    "plotDifficultiesDichot(datiDichot, diff, color = \"green\")\n",
    "legend(1, 10, legend=c(\"Difficoltà stimate rimuovendo gli NA\", \"Difficoltà stimate sostituendo i NA con 0\", \"Difficoltà originali\"), col=c(\"red\", \"blue\", \"green\"), lty=1, cex=1, lwd=2, pch=16)"
   ]
  },
  {
   "cell_type": "code",
   "execution_count": 9,
   "metadata": {
    "collapsed": true
   },
   "outputs": [],
   "source": [
    "#' Produce una matrice dicotomica definendo la condizione per cui un esercizio viene definito come passato(1) oppure no(0)\n",
    "#' @param session Sessione considerata\n",
    "#' @param vote Stringa che indica come valutare gli esercizi\n",
    "#' @param maxError Se scelto il criterio \"errors\", questo campo indica il massimo numero di errori commettibili\n",
    "#' @param percTestCaseOk Se scelto il criterio \"testCase\", questo campo indica la percentuale di test case che devono \n",
    "#' essere corretti rispetto al totale\n",
    "#' @param keepNA Paramatreo booleano per indicare se indicare con NA i voti in cui gli studenti non hanno raggiunto la votazione\n",
    "#' precedente al paramentro di valutazione indicato (es. evaluateSource(session, vote = \"compiles\", keepNA = TRUE), i voti\n",
    "#' NA riguarderanno gli studenti che non hanno raggiunto lo step precedente, cioè l'upload)\n",
    "#' @return Data frame dicotomico, possiede una riga per studente e una colonna per esercizio, nelle intersezioni vi sono i \n",
    "#' risultati delle valutazioni sulla base delle specifiche inserite\n",
    "#' @examples\n",
    "#' sourceData <- \"data.R\"      \n",
    "#' source(sourceData)\n",
    "#' numSessions <- 5\n",
    "#' session <- sessions[numSessions]\n",
    "#' vote <- \"testCase\"\n",
    "#' p <- 0.5\n",
    "#' evaluateSource(session, vote, percTestCaseOk = p)             \n",
    "evaluateSource <- function(session, vote, maxError, percTestCaseOk, keepNA = FALSE) {      \n",
    "    results <- get(paste(\"results_\", session, sep = \"\"))\n",
    "    \n",
    "    if(vote == \"uploaded\")\n",
    "        results[,,vote]\n",
    "    else if(vote == \"compiles\"){\n",
    "        dfC <- results[,,vote]\n",
    "        dfU <- results[,,\"uploaded\"]\n",
    "        \n",
    "        if(keepNA)\n",
    "            dfC[dfU == 0] <- NA   \n",
    "        dfC\n",
    "    }\n",
    "    else if(vote == \"errors\"){\n",
    "        df <- results[,,vote]\n",
    "        df[df <= maxError] <- 1 \n",
    "        df[df > maxError] <- 0\n",
    "        \n",
    "        if(!keepNA)\n",
    "            df[is.na(df)] <- 0            \n",
    "        df\n",
    "    }\n",
    "    else if(vote == \"testCase\"){\n",
    "        cases <- get(paste(\"cases_\", session, sep = \"\"))\n",
    "        df <- results[,,\"oks\"]\n",
    "        df <- t((t(df)) / c(cases)) \n",
    "        df[df >= percTestCaseOk] <- 1\n",
    "        df[df < percTestCaseOk] <- 0\n",
    "        \n",
    "        if(!keepNA)\n",
    "            df[is.na(df)] <- 0     \n",
    "        df\n",
    "    }        \n",
    "}"
   ]
  },
  {
   "cell_type": "code",
   "execution_count": 10,
   "metadata": {
    "collapsed": true
   },
   "outputs": [],
   "source": [
    "sourceData <- \"data.R\"\n",
    "source(sourceData)\n",
    "bootstrapVal <- 10"
   ]
  },
  {
   "cell_type": "markdown",
   "metadata": {},
   "source": [
    "<font face=\"Baskerville Old Face\">\n",
    "    <font size=\"5\"> \n",
    "    \n",
    "Di seguito andrò ad analizzare i risultati delle sessioni. <br><br>\n",
    "\n",
    "Per tale analisi ho scelto di considerate un esercizio superato solo se passa almeno il 50% dei test case ad esso associati, ho fatto questa assunzione perchè in esame non sono ritenuti generalmente corretti gli esercizi solo perchè è stato effettuato il loro upload, compilano o semplicemente perchè non presentano errori di esecuzione.<br><br>\n",
    "\n",
    "In ogni tabella dicotomica provvederò ad eliminare le colonne totalmente uniformi o quasi al fine di permettere la convergenza dell'algoritmo di stima.\n",
    "    </font>\n",
    "</font>"
   ]
  },
  {
   "cell_type": "code",
   "execution_count": 11,
   "metadata": {
    "scrolled": false
   },
   "outputs": [
    {
     "data": {
      "image/png": "[encoded data removed]",
      "text/plain": [
       "Plot with title \"Esame del 170216\""
      ]
     },
     "metadata": {},
     "output_type": "display_data"
    }
   ],
   "source": [
    "numSessions <- 2\n",
    "session <- sessions[numSessions]\n",
    "evalWithTestCase <- evaluateSource(session, vote = \"testCase\", percTestCaseOk = 0.5)\n",
    "nStud <- nrow(evalWithTestCase)\n",
    "\n",
    "evalWithTestCase <- evalWithTestCase[,c(3:6)]\n",
    "\n",
    "diffTestCase <- estimateDifficultiesDichotOneDiscrim(bootstrapping(evalWithTestCase, n = bootstrapVal * nStud))\n",
    "plotDifficultiesDichot(evalWithTestCase, diffTestCase, name = paste(\"Esame del\",session))"
   ]
  },
  {
   "cell_type": "markdown",
   "metadata": {},
   "source": [
    "<font face=\"Baskerville Old Face\">\n",
    "    <font size=\"5\"> \n",
    "Possiamo notare un andamento crescente delle difficoltà, potremmo presuppore che il professore assegni gli esercizi in esame mostrando prima quelli più semplici e veloci da superare e lasciando per ultimi quelli che richiedo più tempo e impegno.\n",
    "    </font>\n",
    "</font>"
   ]
  },
  {
   "cell_type": "code",
   "execution_count": 41,
   "metadata": {
    "collapsed": true
   },
   "outputs": [],
   "source": [
    "numSessions <- 6 \n",
    "session <- sessions[numSessions]\n",
    "\n",
    "evalWithUpload   <- evaluateSource(session, vote = \"uploaded\")\n",
    "evalWithCompiles <- evaluateSource(session, vote = \"compiles\")\n",
    "evalWithErrors   <- evaluateSource(session, vote = \"errors\", maxError = 2)\n",
    "evalWithTestCase <- evaluateSource(session, vote = \"testCase\", percTestCaseOk = 0.5)\n",
    "\n",
    "nStud <- nrow(evalWithTestCase)\n",
    "\n",
    "diffUpload   <- estimateDifficultiesDichotOneDiscrim(bootstrapping(evalWithUpload,   n = bootstrapVal * nStud))\n",
    "diffCompiles <- estimateDifficultiesDichotOneDiscrim(bootstrapping(evalWithCompiles, n = bootstrapVal * nStud))\n",
    "diffErrors   <- estimateDifficultiesDichotOneDiscrim(bootstrapping(evalWithErrors,   n = bootstrapVal * nStud))\n",
    "diffTestCase <- estimateDifficultiesDichotOneDiscrim(bootstrapping(evalWithTestCase, n = bootstrapVal * nStud))"
   ]
  },
  {
   "cell_type": "markdown",
   "metadata": {},
   "source": [
    "<font face=\"Baskerville Old Face\">\n",
    "    <font size=\"5\"> \n",
    "Visualizzo e confronto i grafici relativi alle difficoltà stimate tenendo conto: se è stato effettuato l'upload, se compila, se sono stati commessi meno di 2 errori di esecuzione e se almeno il 50% dei test case sono corretti\n",
    "    </font>\n",
    "</font>"
   ]
  },
  {
   "cell_type": "code",
   "execution_count": 42,
   "metadata": {},
   "outputs": [
    {
     "data": {
      "image/png": "[encoded data removed]",
      "text/plain": [
       "Plot with title \"\""
      ]
     },
     "metadata": {},
     "output_type": "display_data"
    }
   ],
   "source": [
    "plotDifficultiesDichot(evalWithUpload, diffUpload, color = \"red\", name = session)\n",
    "par(new = TRUE)\n",
    "plotDifficultiesDichot(evalWithCompiles, diffCompiles, color = \"blue\", name = \"\")\n",
    "par(new = TRUE)\n",
    "plotDifficultiesDichot(evalWithErrors, diffErrors, color = \"green\", name = \"\")\n",
    "par(new = TRUE)\n",
    "plotDifficultiesDichot(evalWithTestCase, diffTestCase, color = \"black\", name = \"\")\n",
    "legend(1, 10, legend=c(\"Upload\", \"Compilazione\", \"Non più di 2 errori di esecuzione\", \"50% di test case corretti\"), col=c(\"red\", \"blue\", \"green\", \"black\"), lty=1, cex=1, lwd=2, pch=16)"
   ]
  },
  {
   "cell_type": "markdown",
   "metadata": {},
   "source": [
    "<font face=\"Baskerville Old Face\">\n",
    "    <font size=\"4\"> \n",
    "L'elevato numero di studenti (46) permette di avere una buona fiducia nei dati ottenuti<br><br>\n",
    "\n",
    "Dal grafico si possono trarre diverse conclusioni: \n",
    "<ul>\n",
    "   <li>Le stime legate all'upload, compilazione ed errori in esecuzione coincidono quasi sempre, da ciò deduciamo che gli \n",
    "       studenti che consegnano gli esercizi lo fanno solo nel caso compilino e abbiano pochi errori di esecuzione o nessuno</li>\n",
    "   <li>Le difficoltà hanno un andamento crescente, quindi il professore potrebbe aver assegnato gli esercizi considerando\n",
    "       che gli studenti avrebbero dovuto impegnarsi maggiormente negli ultimi</li>\n",
    "   <li>Nella fase iniziale la stima per test case si discosta abbastanza dalle altre, sovrapponendosi ad essi successivamente,\n",
    "       questo potrebbe essere indicativo del fatto che gli studenti all'inizio erano meno abili, forse a causa di spiegazioni \n",
    "       poco chiare da parte del professore</li>\n",
    "</ul>\n",
    "    </font>\n",
    "</font>"
   ]
  },
  {
   "cell_type": "code",
   "execution_count": 13,
   "metadata": {},
   "outputs": [
    {
     "data": {
      "image/png": "[encoded data removed]",
      "text/plain": [
       "Plot with title \"\""
      ]
     },
     "metadata": {},
     "output_type": "display_data"
    }
   ],
   "source": [
    "numSessions <- 7\n",
    "session <- sessions[numSessions]\n",
    "\n",
    "evalWithErrors   <- evaluateSource(session, vote = \"errors\", maxError = 2)\n",
    "evalWithTestCase <- evaluateSource(session, vote = \"testCase\", percTestCaseOk = 0.5)\n",
    "\n",
    "nStud <- nrow(evalWithTestCase)\n",
    "\n",
    "diffErrors   <- estimateDifficultiesDichotOneDiscrim(bootstrapping(evalWithErrors,   n = bootstrapVal * nStud))\n",
    "diffTestCase <- estimateDifficultiesDichotOneDiscrim(bootstrapping(evalWithTestCase, n = bootstrapVal * nStud))\n",
    "\n",
    "plotDifficultiesDichot(evalWithErrors, diffErrors, color = \"green\", name = session)\n",
    "par(new = TRUE)\n",
    "plotDifficultiesDichot(evalWithTestCase, diffTestCase, color = \"black\", name = \"\")\n",
    "legend(1, 10, legend=c(\"Meno di 2 errori di esecuzione\", \"50% di test case corretti\"), col=c(\"green\", \"black\"), lty=1, cex=1, lwd=2, pch=16)"
   ]
  },
  {
   "cell_type": "markdown",
   "metadata": {},
   "source": [
    "<font face=\"Baskerville Old Face\">\n",
    "    <font size=\"5\"> \n",
    "Anche nel laboratorio 2 si può notare una sovrapposizione tra le stime considerando la presenza di meno di 2 errori di \n",
    "esecuzione e il raggiungimento di almeno il 50% di test case corretti ma a differenza del precedente grafico questo non ha un andamento particolarmente crescente, anzi, è quasi sempre fisso su una difficoltà medio-alta, da ciò possiamo dedurre che gli studenti hanno avuto particolari difficoltà in tutto gli esercizi, scontrandoci con l'ipotesi formulata al punto precedente sul crescente livello di difficoltà pensato dal professore all'interno dei laboratori\n",
    "    </font>\n",
    "</font>"
   ]
  },
  {
   "cell_type": "code",
   "execution_count": 14,
   "metadata": {
    "scrolled": false
   },
   "outputs": [
    {
     "data": {
      "image/png": "[encoded data removed]",
      "text/plain": [
       "Plot with title \"laboratorio_03\""
      ]
     },
     "metadata": {},
     "output_type": "display_data"
    }
   ],
   "source": [
    "numSessions <- 8\n",
    "session <- sessions[numSessions]\n",
    "evalWithTestCase <- evaluateSource(session, vote = \"testCase\", percTestCaseOk = 0.5)\n",
    "nStud <- nrow(evalWithTestCase)\n",
    "\n",
    "evalWithTestCase <- evalWithTestCase[,-c(5)]\n",
    "\n",
    "diffTestCase <- estimateDifficultiesDichotOneDiscrim(bootstrapping(evalWithTestCase, n = bootstrapVal * nStud))\n",
    "\n",
    "plotDifficultiesDichot(evalWithTestCase, diffTestCase, color = \"black\", name = session)\n",
    "legend(1, 10, legend=c(\"50% di test case corretti\"), col=c(\"black\"), lty=1, cex=1, lwd=2, pch=16)"
   ]
  },
  {
   "cell_type": "markdown",
   "metadata": {},
   "source": [
    "<font face=\"Baskerville Old Face\">\n",
    "    <font size=\"5\"> \n",
    "Nel laboratorio 3 notiamo che la difficoltà stimata si assesta per tutti gli esercizi su un livello medio-basso \n",
    "con una leggere crescita verso gli ultimi\n",
    "    </font>\n",
    "</font>"
   ]
  },
  {
   "cell_type": "code",
   "execution_count": 15,
   "metadata": {},
   "outputs": [
    {
     "data": {
      "image/png": "[encoded data removed]",
      "text/plain": [
       "Plot with title \"laboratorio_05\""
      ]
     },
     "metadata": {},
     "output_type": "display_data"
    }
   ],
   "source": [
    "numSessions <- 10\n",
    "session <- sessions[numSessions]\n",
    "evalWithTestCase <- evaluateSource(session, vote = \"testCase\", percTestCaseOk = 0.5)\n",
    "nStud <- nrow(evalWithTestCase)\n",
    "\n",
    "# Rimuovo la colonna 6 perchè a causa della scarsità di studentiche hanno passato i test l'algoritmo non convergerebbe\n",
    "evalWithTestCase <- evalWithTestCase[,-c(6)]\n",
    "\n",
    "diffTestCase <- estimateDifficultiesDichotOneDiscrim(bootstrapping(evalWithTestCase, n = bootstrapVal * nStud))\n",
    "\n",
    "plotDifficultiesDichot(evalWithTestCase, diffTestCase, color = \"black\", name = session)\n",
    "legend(1, 10, legend=c(\"50% di test case corretti\"), col=c(\"black\"), lty=1, cex=1, lwd=2, pch=16)"
   ]
  },
  {
   "cell_type": "markdown",
   "metadata": {},
   "source": [
    "<font face=\"Baskerville Old Face\">\n",
    "    <font size=\"5\"> \n",
    "Nel laboratorio 5 notiamo che la difficoltà stimata ha un andamento costante per quasi tutti gli esercizi   \n",
    "    </font>\n",
    "</font>"
   ]
  },
  {
   "cell_type": "code",
   "execution_count": 16,
   "metadata": {},
   "outputs": [
    {
     "data": {
      "image/png": "[encoded data removed]",
      "text/plain": [
       "Plot with title \"laboratorio_06\""
      ]
     },
     "metadata": {},
     "output_type": "display_data"
    }
   ],
   "source": [
    "numSessions <- 11\n",
    "session <- sessions[numSessions]\n",
    "evalWithTestCase <- evaluateSource(session, vote = \"testCase\", percTestCaseOk = 0.5)\n",
    "nStud <- nrow(evalWithTestCase)\n",
    "\n",
    "evalWithTestCase <- evalWithTestCase[,-c(9,11)]\n",
    "\n",
    "diffTestCase <- estimateDifficultiesDichotOneDiscrim(bootstrapping(evalWithTestCase, n = bootstrapVal * nStud))\n",
    "\n",
    "plotDifficultiesDichot(evalWithTestCase, diffTestCase, color = \"black\", name = session)\n",
    "legend(1, 10, legend=c(\"50% di test case corretti\"), col=c(\"black\"), lty=1, cex=1, lwd=2, pch=16)"
   ]
  },
  {
   "cell_type": "markdown",
   "metadata": {},
   "source": [
    "<font face=\"Baskerville Old Face\">\n",
    "    <font size=\"5\"> \n",
    "Nel laboratorio 6 notiamo che la difficoltà stimata ha un andamento crescente con qualche diminuzione ma non abbastanza significativa da negare l'esistenza di un aumento di difficoltà in relazione al numero dell'esercizio\n",
    "    </font>\n",
    "</font>"
   ]
  }
 ],
 "metadata": {
  "kernelspec": {
   "display_name": "R",
   "language": "R",
   "name": "ir"
  },
  "language_info": {
   "codemirror_mode": "r",
   "file_extension": ".r",
   "mimetype": "text/x-r-source",
   "name": "R",
   "pygments_lexer": "r",
   "version": "3.4.1"
  }
 },
 "nbformat": 4,
 "nbformat_minor": 2
}
